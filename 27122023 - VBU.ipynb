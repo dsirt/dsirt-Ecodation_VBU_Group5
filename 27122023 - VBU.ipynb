{
 "cells": [
  {
   "cell_type": "code",
   "execution_count": 1,
   "id": "46625057",
   "metadata": {},
   "outputs": [],
   "source": [
    "#PLOTLY"
   ]
  },
  {
   "cell_type": "code",
   "execution_count": 2,
   "id": "9b66d1b8",
   "metadata": {},
   "outputs": [],
   "source": [
    "import numpy as np\n",
    "import pandas as pd\n",
    "import plotly.graph_objects as go\n",
    "import plotly.offline as po\n",
    "from plotly.offline import download_plotlyjs, init_notebook_mode, plot, iplot\n",
    "import matplotlib.pyplot as plt\n",
    "import dash\n",
    "import plotly.express as px\n",
    "import random\n",
    "import plotly.figure_factory as ff"
   ]
  },
  {
   "cell_type": "code",
   "execution_count": 3,
   "id": "ffa162bc",
   "metadata": {},
   "outputs": [],
   "source": [
    "#Scatter (Saçılım) Grafiği"
   ]
  },
  {
   "cell_type": "code",
   "execution_count": 5,
   "id": "9a94da90",
   "metadata": {},
   "outputs": [
    {
     "data": {
      "application/vnd.plotly.v1+json": {
       "config": {
        "linkText": "Export to plot.ly",
        "plotlyServerURL": "https://plot.ly",
        "showLink": false
       },
       "data": [
        {
         "mode": "markers",
         "type": "scatter",
         "x": [
          16,
          11,
          39,
          43,
          59,
          80,
          83,
          22,
          36,
          79,
          29,
          69,
          34,
          99,
          91,
          96,
          24,
          83,
          84,
          71,
          30,
          87,
          31,
          20,
          9,
          32,
          33,
          24,
          72,
          90,
          73,
          25,
          73,
          7,
          52,
          36,
          20,
          89,
          65,
          99,
          19,
          36,
          60,
          61,
          67,
          79,
          30,
          48,
          70,
          62
         ],
         "y": [
          73,
          18,
          12,
          42,
          86,
          76,
          15,
          83,
          46,
          53,
          10,
          32,
          86,
          9,
          51,
          39,
          65,
          78,
          15,
          44,
          64,
          39,
          97,
          52,
          99,
          45,
          15,
          43,
          68,
          1,
          48,
          34,
          47,
          86,
          62,
          4,
          58,
          1,
          54,
          37,
          72,
          47,
          16,
          63,
          28,
          24,
          65,
          94,
          98,
          31
         ]
        }
       ],
       "layout": {
        "template": {
         "data": {
          "bar": [
           {
            "error_x": {
             "color": "#2a3f5f"
            },
            "error_y": {
             "color": "#2a3f5f"
            },
            "marker": {
             "line": {
              "color": "#E5ECF6",
              "width": 0.5
             },
             "pattern": {
              "fillmode": "overlay",
              "size": 10,
              "solidity": 0.2
             }
            },
            "type": "bar"
           }
          ],
          "barpolar": [
           {
            "marker": {
             "line": {
              "color": "#E5ECF6",
              "width": 0.5
             },
             "pattern": {
              "fillmode": "overlay",
              "size": 10,
              "solidity": 0.2
             }
            },
            "type": "barpolar"
           }
          ],
          "carpet": [
           {
            "aaxis": {
             "endlinecolor": "#2a3f5f",
             "gridcolor": "white",
             "linecolor": "white",
             "minorgridcolor": "white",
             "startlinecolor": "#2a3f5f"
            },
            "baxis": {
             "endlinecolor": "#2a3f5f",
             "gridcolor": "white",
             "linecolor": "white",
             "minorgridcolor": "white",
             "startlinecolor": "#2a3f5f"
            },
            "type": "carpet"
           }
          ],
          "choropleth": [
           {
            "colorbar": {
             "outlinewidth": 0,
             "ticks": ""
            },
            "type": "choropleth"
           }
          ],
          "contour": [
           {
            "colorbar": {
             "outlinewidth": 0,
             "ticks": ""
            },
            "colorscale": [
             [
              0,
              "#0d0887"
             ],
             [
              0.1111111111111111,
              "#46039f"
             ],
             [
              0.2222222222222222,
              "#7201a8"
             ],
             [
              0.3333333333333333,
              "#9c179e"
             ],
             [
              0.4444444444444444,
              "#bd3786"
             ],
             [
              0.5555555555555556,
              "#d8576b"
             ],
             [
              0.6666666666666666,
              "#ed7953"
             ],
             [
              0.7777777777777778,
              "#fb9f3a"
             ],
             [
              0.8888888888888888,
              "#fdca26"
             ],
             [
              1,
              "#f0f921"
             ]
            ],
            "type": "contour"
           }
          ],
          "contourcarpet": [
           {
            "colorbar": {
             "outlinewidth": 0,
             "ticks": ""
            },
            "type": "contourcarpet"
           }
          ],
          "heatmap": [
           {
            "colorbar": {
             "outlinewidth": 0,
             "ticks": ""
            },
            "colorscale": [
             [
              0,
              "#0d0887"
             ],
             [
              0.1111111111111111,
              "#46039f"
             ],
             [
              0.2222222222222222,
              "#7201a8"
             ],
             [
              0.3333333333333333,
              "#9c179e"
             ],
             [
              0.4444444444444444,
              "#bd3786"
             ],
             [
              0.5555555555555556,
              "#d8576b"
             ],
             [
              0.6666666666666666,
              "#ed7953"
             ],
             [
              0.7777777777777778,
              "#fb9f3a"
             ],
             [
              0.8888888888888888,
              "#fdca26"
             ],
             [
              1,
              "#f0f921"
             ]
            ],
            "type": "heatmap"
           }
          ],
          "heatmapgl": [
           {
            "colorbar": {
             "outlinewidth": 0,
             "ticks": ""
            },
            "colorscale": [
             [
              0,
              "#0d0887"
             ],
             [
              0.1111111111111111,
              "#46039f"
             ],
             [
              0.2222222222222222,
              "#7201a8"
             ],
             [
              0.3333333333333333,
              "#9c179e"
             ],
             [
              0.4444444444444444,
              "#bd3786"
             ],
             [
              0.5555555555555556,
              "#d8576b"
             ],
             [
              0.6666666666666666,
              "#ed7953"
             ],
             [
              0.7777777777777778,
              "#fb9f3a"
             ],
             [
              0.8888888888888888,
              "#fdca26"
             ],
             [
              1,
              "#f0f921"
             ]
            ],
            "type": "heatmapgl"
           }
          ],
          "histogram": [
           {
            "marker": {
             "pattern": {
              "fillmode": "overlay",
              "size": 10,
              "solidity": 0.2
             }
            },
            "type": "histogram"
           }
          ],
          "histogram2d": [
           {
            "colorbar": {
             "outlinewidth": 0,
             "ticks": ""
            },
            "colorscale": [
             [
              0,
              "#0d0887"
             ],
             [
              0.1111111111111111,
              "#46039f"
             ],
             [
              0.2222222222222222,
              "#7201a8"
             ],
             [
              0.3333333333333333,
              "#9c179e"
             ],
             [
              0.4444444444444444,
              "#bd3786"
             ],
             [
              0.5555555555555556,
              "#d8576b"
             ],
             [
              0.6666666666666666,
              "#ed7953"
             ],
             [
              0.7777777777777778,
              "#fb9f3a"
             ],
             [
              0.8888888888888888,
              "#fdca26"
             ],
             [
              1,
              "#f0f921"
             ]
            ],
            "type": "histogram2d"
           }
          ],
          "histogram2dcontour": [
           {
            "colorbar": {
             "outlinewidth": 0,
             "ticks": ""
            },
            "colorscale": [
             [
              0,
              "#0d0887"
             ],
             [
              0.1111111111111111,
              "#46039f"
             ],
             [
              0.2222222222222222,
              "#7201a8"
             ],
             [
              0.3333333333333333,
              "#9c179e"
             ],
             [
              0.4444444444444444,
              "#bd3786"
             ],
             [
              0.5555555555555556,
              "#d8576b"
             ],
             [
              0.6666666666666666,
              "#ed7953"
             ],
             [
              0.7777777777777778,
              "#fb9f3a"
             ],
             [
              0.8888888888888888,
              "#fdca26"
             ],
             [
              1,
              "#f0f921"
             ]
            ],
            "type": "histogram2dcontour"
           }
          ],
          "mesh3d": [
           {
            "colorbar": {
             "outlinewidth": 0,
             "ticks": ""
            },
            "type": "mesh3d"
           }
          ],
          "parcoords": [
           {
            "line": {
             "colorbar": {
              "outlinewidth": 0,
              "ticks": ""
             }
            },
            "type": "parcoords"
           }
          ],
          "pie": [
           {
            "automargin": true,
            "type": "pie"
           }
          ],
          "scatter": [
           {
            "fillpattern": {
             "fillmode": "overlay",
             "size": 10,
             "solidity": 0.2
            },
            "type": "scatter"
           }
          ],
          "scatter3d": [
           {
            "line": {
             "colorbar": {
              "outlinewidth": 0,
              "ticks": ""
             }
            },
            "marker": {
             "colorbar": {
              "outlinewidth": 0,
              "ticks": ""
             }
            },
            "type": "scatter3d"
           }
          ],
          "scattercarpet": [
           {
            "marker": {
             "colorbar": {
              "outlinewidth": 0,
              "ticks": ""
             }
            },
            "type": "scattercarpet"
           }
          ],
          "scattergeo": [
           {
            "marker": {
             "colorbar": {
              "outlinewidth": 0,
              "ticks": ""
             }
            },
            "type": "scattergeo"
           }
          ],
          "scattergl": [
           {
            "marker": {
             "colorbar": {
              "outlinewidth": 0,
              "ticks": ""
             }
            },
            "type": "scattergl"
           }
          ],
          "scattermapbox": [
           {
            "marker": {
             "colorbar": {
              "outlinewidth": 0,
              "ticks": ""
             }
            },
            "type": "scattermapbox"
           }
          ],
          "scatterpolar": [
           {
            "marker": {
             "colorbar": {
              "outlinewidth": 0,
              "ticks": ""
             }
            },
            "type": "scatterpolar"
           }
          ],
          "scatterpolargl": [
           {
            "marker": {
             "colorbar": {
              "outlinewidth": 0,
              "ticks": ""
             }
            },
            "type": "scatterpolargl"
           }
          ],
          "scatterternary": [
           {
            "marker": {
             "colorbar": {
              "outlinewidth": 0,
              "ticks": ""
             }
            },
            "type": "scatterternary"
           }
          ],
          "surface": [
           {
            "colorbar": {
             "outlinewidth": 0,
             "ticks": ""
            },
            "colorscale": [
             [
              0,
              "#0d0887"
             ],
             [
              0.1111111111111111,
              "#46039f"
             ],
             [
              0.2222222222222222,
              "#7201a8"
             ],
             [
              0.3333333333333333,
              "#9c179e"
             ],
             [
              0.4444444444444444,
              "#bd3786"
             ],
             [
              0.5555555555555556,
              "#d8576b"
             ],
             [
              0.6666666666666666,
              "#ed7953"
             ],
             [
              0.7777777777777778,
              "#fb9f3a"
             ],
             [
              0.8888888888888888,
              "#fdca26"
             ],
             [
              1,
              "#f0f921"
             ]
            ],
            "type": "surface"
           }
          ],
          "table": [
           {
            "cells": {
             "fill": {
              "color": "#EBF0F8"
             },
             "line": {
              "color": "white"
             }
            },
            "header": {
             "fill": {
              "color": "#C8D4E3"
             },
             "line": {
              "color": "white"
             }
            },
            "type": "table"
           }
          ]
         },
         "layout": {
          "annotationdefaults": {
           "arrowcolor": "#2a3f5f",
           "arrowhead": 0,
           "arrowwidth": 1
          },
          "autotypenumbers": "strict",
          "coloraxis": {
           "colorbar": {
            "outlinewidth": 0,
            "ticks": ""
           }
          },
          "colorscale": {
           "diverging": [
            [
             0,
             "#8e0152"
            ],
            [
             0.1,
             "#c51b7d"
            ],
            [
             0.2,
             "#de77ae"
            ],
            [
             0.3,
             "#f1b6da"
            ],
            [
             0.4,
             "#fde0ef"
            ],
            [
             0.5,
             "#f7f7f7"
            ],
            [
             0.6,
             "#e6f5d0"
            ],
            [
             0.7,
             "#b8e186"
            ],
            [
             0.8,
             "#7fbc41"
            ],
            [
             0.9,
             "#4d9221"
            ],
            [
             1,
             "#276419"
            ]
           ],
           "sequential": [
            [
             0,
             "#0d0887"
            ],
            [
             0.1111111111111111,
             "#46039f"
            ],
            [
             0.2222222222222222,
             "#7201a8"
            ],
            [
             0.3333333333333333,
             "#9c179e"
            ],
            [
             0.4444444444444444,
             "#bd3786"
            ],
            [
             0.5555555555555556,
             "#d8576b"
            ],
            [
             0.6666666666666666,
             "#ed7953"
            ],
            [
             0.7777777777777778,
             "#fb9f3a"
            ],
            [
             0.8888888888888888,
             "#fdca26"
            ],
            [
             1,
             "#f0f921"
            ]
           ],
           "sequentialminus": [
            [
             0,
             "#0d0887"
            ],
            [
             0.1111111111111111,
             "#46039f"
            ],
            [
             0.2222222222222222,
             "#7201a8"
            ],
            [
             0.3333333333333333,
             "#9c179e"
            ],
            [
             0.4444444444444444,
             "#bd3786"
            ],
            [
             0.5555555555555556,
             "#d8576b"
            ],
            [
             0.6666666666666666,
             "#ed7953"
            ],
            [
             0.7777777777777778,
             "#fb9f3a"
            ],
            [
             0.8888888888888888,
             "#fdca26"
            ],
            [
             1,
             "#f0f921"
            ]
           ]
          },
          "colorway": [
           "#636efa",
           "#EF553B",
           "#00cc96",
           "#ab63fa",
           "#FFA15A",
           "#19d3f3",
           "#FF6692",
           "#B6E880",
           "#FF97FF",
           "#FECB52"
          ],
          "font": {
           "color": "#2a3f5f"
          },
          "geo": {
           "bgcolor": "white",
           "lakecolor": "white",
           "landcolor": "#E5ECF6",
           "showlakes": true,
           "showland": true,
           "subunitcolor": "white"
          },
          "hoverlabel": {
           "align": "left"
          },
          "hovermode": "closest",
          "mapbox": {
           "style": "light"
          },
          "paper_bgcolor": "white",
          "plot_bgcolor": "#E5ECF6",
          "polar": {
           "angularaxis": {
            "gridcolor": "white",
            "linecolor": "white",
            "ticks": ""
           },
           "bgcolor": "#E5ECF6",
           "radialaxis": {
            "gridcolor": "white",
            "linecolor": "white",
            "ticks": ""
           }
          },
          "scene": {
           "xaxis": {
            "backgroundcolor": "#E5ECF6",
            "gridcolor": "white",
            "gridwidth": 2,
            "linecolor": "white",
            "showbackground": true,
            "ticks": "",
            "zerolinecolor": "white"
           },
           "yaxis": {
            "backgroundcolor": "#E5ECF6",
            "gridcolor": "white",
            "gridwidth": 2,
            "linecolor": "white",
            "showbackground": true,
            "ticks": "",
            "zerolinecolor": "white"
           },
           "zaxis": {
            "backgroundcolor": "#E5ECF6",
            "gridcolor": "white",
            "gridwidth": 2,
            "linecolor": "white",
            "showbackground": true,
            "ticks": "",
            "zerolinecolor": "white"
           }
          },
          "shapedefaults": {
           "line": {
            "color": "#2a3f5f"
           }
          },
          "ternary": {
           "aaxis": {
            "gridcolor": "white",
            "linecolor": "white",
            "ticks": ""
           },
           "baxis": {
            "gridcolor": "white",
            "linecolor": "white",
            "ticks": ""
           },
           "bgcolor": "#E5ECF6",
           "caxis": {
            "gridcolor": "white",
            "linecolor": "white",
            "ticks": ""
           }
          },
          "title": {
           "x": 0.05
          },
          "xaxis": {
           "automargin": true,
           "gridcolor": "white",
           "linecolor": "white",
           "ticks": "",
           "title": {
            "standoff": 15
           },
           "zerolinecolor": "white",
           "zerolinewidth": 2
          },
          "yaxis": {
           "automargin": true,
           "gridcolor": "white",
           "linecolor": "white",
           "ticks": "",
           "title": {
            "standoff": 15
           },
           "zerolinecolor": "white",
           "zerolinewidth": 2
          }
         }
        },
        "xaxis": {
         "showgrid": false,
         "showline": false
        },
        "yaxis": {
         "showgrid": false,
         "showline": false
        }
       }
      },
      "text/html": [
       "<div>                            <div id=\"fa4ed54e-dd73-4e5e-a303-454c0871a274\" class=\"plotly-graph-div\" style=\"height:525px; width:100%;\"></div>            <script type=\"text/javascript\">                require([\"plotly\"], function(Plotly) {                    window.PLOTLYENV=window.PLOTLYENV || {};                                    if (document.getElementById(\"fa4ed54e-dd73-4e5e-a303-454c0871a274\")) {                    Plotly.newPlot(                        \"fa4ed54e-dd73-4e5e-a303-454c0871a274\",                        [{\"mode\":\"markers\",\"x\":[16,11,39,43,59,80,83,22,36,79,29,69,34,99,91,96,24,83,84,71,30,87,31,20,9,32,33,24,72,90,73,25,73,7,52,36,20,89,65,99,19,36,60,61,67,79,30,48,70,62],\"y\":[73,18,12,42,86,76,15,83,46,53,10,32,86,9,51,39,65,78,15,44,64,39,97,52,99,45,15,43,68,1,48,34,47,86,62,4,58,1,54,37,72,47,16,63,28,24,65,94,98,31],\"type\":\"scatter\"}],                        {\"template\":{\"data\":{\"barpolar\":[{\"marker\":{\"line\":{\"color\":\"#E5ECF6\",\"width\":0.5},\"pattern\":{\"fillmode\":\"overlay\",\"size\":10,\"solidity\":0.2}},\"type\":\"barpolar\"}],\"bar\":[{\"error_x\":{\"color\":\"#2a3f5f\"},\"error_y\":{\"color\":\"#2a3f5f\"},\"marker\":{\"line\":{\"color\":\"#E5ECF6\",\"width\":0.5},\"pattern\":{\"fillmode\":\"overlay\",\"size\":10,\"solidity\":0.2}},\"type\":\"bar\"}],\"carpet\":[{\"aaxis\":{\"endlinecolor\":\"#2a3f5f\",\"gridcolor\":\"white\",\"linecolor\":\"white\",\"minorgridcolor\":\"white\",\"startlinecolor\":\"#2a3f5f\"},\"baxis\":{\"endlinecolor\":\"#2a3f5f\",\"gridcolor\":\"white\",\"linecolor\":\"white\",\"minorgridcolor\":\"white\",\"startlinecolor\":\"#2a3f5f\"},\"type\":\"carpet\"}],\"choropleth\":[{\"colorbar\":{\"outlinewidth\":0,\"ticks\":\"\"},\"type\":\"choropleth\"}],\"contourcarpet\":[{\"colorbar\":{\"outlinewidth\":0,\"ticks\":\"\"},\"type\":\"contourcarpet\"}],\"contour\":[{\"colorbar\":{\"outlinewidth\":0,\"ticks\":\"\"},\"colorscale\":[[0.0,\"#0d0887\"],[0.1111111111111111,\"#46039f\"],[0.2222222222222222,\"#7201a8\"],[0.3333333333333333,\"#9c179e\"],[0.4444444444444444,\"#bd3786\"],[0.5555555555555556,\"#d8576b\"],[0.6666666666666666,\"#ed7953\"],[0.7777777777777778,\"#fb9f3a\"],[0.8888888888888888,\"#fdca26\"],[1.0,\"#f0f921\"]],\"type\":\"contour\"}],\"heatmapgl\":[{\"colorbar\":{\"outlinewidth\":0,\"ticks\":\"\"},\"colorscale\":[[0.0,\"#0d0887\"],[0.1111111111111111,\"#46039f\"],[0.2222222222222222,\"#7201a8\"],[0.3333333333333333,\"#9c179e\"],[0.4444444444444444,\"#bd3786\"],[0.5555555555555556,\"#d8576b\"],[0.6666666666666666,\"#ed7953\"],[0.7777777777777778,\"#fb9f3a\"],[0.8888888888888888,\"#fdca26\"],[1.0,\"#f0f921\"]],\"type\":\"heatmapgl\"}],\"heatmap\":[{\"colorbar\":{\"outlinewidth\":0,\"ticks\":\"\"},\"colorscale\":[[0.0,\"#0d0887\"],[0.1111111111111111,\"#46039f\"],[0.2222222222222222,\"#7201a8\"],[0.3333333333333333,\"#9c179e\"],[0.4444444444444444,\"#bd3786\"],[0.5555555555555556,\"#d8576b\"],[0.6666666666666666,\"#ed7953\"],[0.7777777777777778,\"#fb9f3a\"],[0.8888888888888888,\"#fdca26\"],[1.0,\"#f0f921\"]],\"type\":\"heatmap\"}],\"histogram2dcontour\":[{\"colorbar\":{\"outlinewidth\":0,\"ticks\":\"\"},\"colorscale\":[[0.0,\"#0d0887\"],[0.1111111111111111,\"#46039f\"],[0.2222222222222222,\"#7201a8\"],[0.3333333333333333,\"#9c179e\"],[0.4444444444444444,\"#bd3786\"],[0.5555555555555556,\"#d8576b\"],[0.6666666666666666,\"#ed7953\"],[0.7777777777777778,\"#fb9f3a\"],[0.8888888888888888,\"#fdca26\"],[1.0,\"#f0f921\"]],\"type\":\"histogram2dcontour\"}],\"histogram2d\":[{\"colorbar\":{\"outlinewidth\":0,\"ticks\":\"\"},\"colorscale\":[[0.0,\"#0d0887\"],[0.1111111111111111,\"#46039f\"],[0.2222222222222222,\"#7201a8\"],[0.3333333333333333,\"#9c179e\"],[0.4444444444444444,\"#bd3786\"],[0.5555555555555556,\"#d8576b\"],[0.6666666666666666,\"#ed7953\"],[0.7777777777777778,\"#fb9f3a\"],[0.8888888888888888,\"#fdca26\"],[1.0,\"#f0f921\"]],\"type\":\"histogram2d\"}],\"histogram\":[{\"marker\":{\"pattern\":{\"fillmode\":\"overlay\",\"size\":10,\"solidity\":0.2}},\"type\":\"histogram\"}],\"mesh3d\":[{\"colorbar\":{\"outlinewidth\":0,\"ticks\":\"\"},\"type\":\"mesh3d\"}],\"parcoords\":[{\"line\":{\"colorbar\":{\"outlinewidth\":0,\"ticks\":\"\"}},\"type\":\"parcoords\"}],\"pie\":[{\"automargin\":true,\"type\":\"pie\"}],\"scatter3d\":[{\"line\":{\"colorbar\":{\"outlinewidth\":0,\"ticks\":\"\"}},\"marker\":{\"colorbar\":{\"outlinewidth\":0,\"ticks\":\"\"}},\"type\":\"scatter3d\"}],\"scattercarpet\":[{\"marker\":{\"colorbar\":{\"outlinewidth\":0,\"ticks\":\"\"}},\"type\":\"scattercarpet\"}],\"scattergeo\":[{\"marker\":{\"colorbar\":{\"outlinewidth\":0,\"ticks\":\"\"}},\"type\":\"scattergeo\"}],\"scattergl\":[{\"marker\":{\"colorbar\":{\"outlinewidth\":0,\"ticks\":\"\"}},\"type\":\"scattergl\"}],\"scattermapbox\":[{\"marker\":{\"colorbar\":{\"outlinewidth\":0,\"ticks\":\"\"}},\"type\":\"scattermapbox\"}],\"scatterpolargl\":[{\"marker\":{\"colorbar\":{\"outlinewidth\":0,\"ticks\":\"\"}},\"type\":\"scatterpolargl\"}],\"scatterpolar\":[{\"marker\":{\"colorbar\":{\"outlinewidth\":0,\"ticks\":\"\"}},\"type\":\"scatterpolar\"}],\"scatter\":[{\"fillpattern\":{\"fillmode\":\"overlay\",\"size\":10,\"solidity\":0.2},\"type\":\"scatter\"}],\"scatterternary\":[{\"marker\":{\"colorbar\":{\"outlinewidth\":0,\"ticks\":\"\"}},\"type\":\"scatterternary\"}],\"surface\":[{\"colorbar\":{\"outlinewidth\":0,\"ticks\":\"\"},\"colorscale\":[[0.0,\"#0d0887\"],[0.1111111111111111,\"#46039f\"],[0.2222222222222222,\"#7201a8\"],[0.3333333333333333,\"#9c179e\"],[0.4444444444444444,\"#bd3786\"],[0.5555555555555556,\"#d8576b\"],[0.6666666666666666,\"#ed7953\"],[0.7777777777777778,\"#fb9f3a\"],[0.8888888888888888,\"#fdca26\"],[1.0,\"#f0f921\"]],\"type\":\"surface\"}],\"table\":[{\"cells\":{\"fill\":{\"color\":\"#EBF0F8\"},\"line\":{\"color\":\"white\"}},\"header\":{\"fill\":{\"color\":\"#C8D4E3\"},\"line\":{\"color\":\"white\"}},\"type\":\"table\"}]},\"layout\":{\"annotationdefaults\":{\"arrowcolor\":\"#2a3f5f\",\"arrowhead\":0,\"arrowwidth\":1},\"autotypenumbers\":\"strict\",\"coloraxis\":{\"colorbar\":{\"outlinewidth\":0,\"ticks\":\"\"}},\"colorscale\":{\"diverging\":[[0,\"#8e0152\"],[0.1,\"#c51b7d\"],[0.2,\"#de77ae\"],[0.3,\"#f1b6da\"],[0.4,\"#fde0ef\"],[0.5,\"#f7f7f7\"],[0.6,\"#e6f5d0\"],[0.7,\"#b8e186\"],[0.8,\"#7fbc41\"],[0.9,\"#4d9221\"],[1,\"#276419\"]],\"sequential\":[[0.0,\"#0d0887\"],[0.1111111111111111,\"#46039f\"],[0.2222222222222222,\"#7201a8\"],[0.3333333333333333,\"#9c179e\"],[0.4444444444444444,\"#bd3786\"],[0.5555555555555556,\"#d8576b\"],[0.6666666666666666,\"#ed7953\"],[0.7777777777777778,\"#fb9f3a\"],[0.8888888888888888,\"#fdca26\"],[1.0,\"#f0f921\"]],\"sequentialminus\":[[0.0,\"#0d0887\"],[0.1111111111111111,\"#46039f\"],[0.2222222222222222,\"#7201a8\"],[0.3333333333333333,\"#9c179e\"],[0.4444444444444444,\"#bd3786\"],[0.5555555555555556,\"#d8576b\"],[0.6666666666666666,\"#ed7953\"],[0.7777777777777778,\"#fb9f3a\"],[0.8888888888888888,\"#fdca26\"],[1.0,\"#f0f921\"]]},\"colorway\":[\"#636efa\",\"#EF553B\",\"#00cc96\",\"#ab63fa\",\"#FFA15A\",\"#19d3f3\",\"#FF6692\",\"#B6E880\",\"#FF97FF\",\"#FECB52\"],\"font\":{\"color\":\"#2a3f5f\"},\"geo\":{\"bgcolor\":\"white\",\"lakecolor\":\"white\",\"landcolor\":\"#E5ECF6\",\"showlakes\":true,\"showland\":true,\"subunitcolor\":\"white\"},\"hoverlabel\":{\"align\":\"left\"},\"hovermode\":\"closest\",\"mapbox\":{\"style\":\"light\"},\"paper_bgcolor\":\"white\",\"plot_bgcolor\":\"#E5ECF6\",\"polar\":{\"angularaxis\":{\"gridcolor\":\"white\",\"linecolor\":\"white\",\"ticks\":\"\"},\"bgcolor\":\"#E5ECF6\",\"radialaxis\":{\"gridcolor\":\"white\",\"linecolor\":\"white\",\"ticks\":\"\"}},\"scene\":{\"xaxis\":{\"backgroundcolor\":\"#E5ECF6\",\"gridcolor\":\"white\",\"gridwidth\":2,\"linecolor\":\"white\",\"showbackground\":true,\"ticks\":\"\",\"zerolinecolor\":\"white\"},\"yaxis\":{\"backgroundcolor\":\"#E5ECF6\",\"gridcolor\":\"white\",\"gridwidth\":2,\"linecolor\":\"white\",\"showbackground\":true,\"ticks\":\"\",\"zerolinecolor\":\"white\"},\"zaxis\":{\"backgroundcolor\":\"#E5ECF6\",\"gridcolor\":\"white\",\"gridwidth\":2,\"linecolor\":\"white\",\"showbackground\":true,\"ticks\":\"\",\"zerolinecolor\":\"white\"}},\"shapedefaults\":{\"line\":{\"color\":\"#2a3f5f\"}},\"ternary\":{\"aaxis\":{\"gridcolor\":\"white\",\"linecolor\":\"white\",\"ticks\":\"\"},\"baxis\":{\"gridcolor\":\"white\",\"linecolor\":\"white\",\"ticks\":\"\"},\"bgcolor\":\"#E5ECF6\",\"caxis\":{\"gridcolor\":\"white\",\"linecolor\":\"white\",\"ticks\":\"\"}},\"title\":{\"x\":0.05},\"xaxis\":{\"automargin\":true,\"gridcolor\":\"white\",\"linecolor\":\"white\",\"ticks\":\"\",\"title\":{\"standoff\":15},\"zerolinecolor\":\"white\",\"zerolinewidth\":2},\"yaxis\":{\"automargin\":true,\"gridcolor\":\"white\",\"linecolor\":\"white\",\"ticks\":\"\",\"title\":{\"standoff\":15},\"zerolinecolor\":\"white\",\"zerolinewidth\":2}}},\"xaxis\":{\"showgrid\":false,\"showline\":false},\"yaxis\":{\"showgrid\":false,\"showline\":false}},                        {\"responsive\": true}                    ).then(function(){\n",
       "                            \n",
       "var gd = document.getElementById('fa4ed54e-dd73-4e5e-a303-454c0871a274');\n",
       "var x = new MutationObserver(function (mutations, observer) {{\n",
       "        var display = window.getComputedStyle(gd).display;\n",
       "        if (!display || display === 'none') {{\n",
       "            console.log([gd, 'removed!']);\n",
       "            Plotly.purge(gd);\n",
       "            observer.disconnect();\n",
       "        }}\n",
       "}});\n",
       "\n",
       "// Listen for the removal of the full notebook cells\n",
       "var notebookContainer = gd.closest('#notebook-container');\n",
       "if (notebookContainer) {{\n",
       "    x.observe(notebookContainer, {childList: true});\n",
       "}}\n",
       "\n",
       "// Listen for the clearing of the current output cell\n",
       "var outputEl = gd.closest('.output');\n",
       "if (outputEl) {{\n",
       "    x.observe(outputEl, {childList: true});\n",
       "}}\n",
       "\n",
       "                        })                };                });            </script>        </div>"
      ]
     },
     "metadata": {},
     "output_type": "display_data"
    }
   ],
   "source": [
    "random_x = np.random.randint(1, 100, 50)\n",
    "random_y = np.random.randint(1, 100, 50)\n",
    "\n",
    "data = [go.Scatter(\n",
    "                   x = random_x, \n",
    "                   y = random_y, \n",
    "                   mode = 'markers'\n",
    "                  )\n",
    "       ]\n",
    "\n",
    "layout = go.Layout(\n",
    "                   xaxis = dict(showgrid = False, \n",
    "                                showline = False,\n",
    "                               ),\n",
    "                   yaxis = dict(showgrid = False, \n",
    "                                showline = False,\n",
    "                               ),\n",
    "                   )\n",
    "\n",
    "fig = go.Figure(data = data, layout = layout)\n",
    "iplot(fig)"
   ]
  },
  {
   "cell_type": "code",
   "execution_count": 6,
   "id": "42525bee",
   "metadata": {},
   "outputs": [
    {
     "data": {
      "application/vnd.plotly.v1+json": {
       "config": {
        "linkText": "Export to plot.ly",
        "plotlyServerURL": "https://plot.ly",
        "showLink": false
       },
       "data": [
        {
         "marker": {
          "color": "#F4D03F",
          "line": {
           "color": "#0E8700",
           "width": 1
          },
          "size": 7,
          "symbol": "circle"
         },
         "mode": "markers",
         "type": "scatter",
         "x": [
          0,
          1.0101010101010102,
          2.0202020202020203,
          3.0303030303030303,
          4.040404040404041,
          5.050505050505051,
          6.0606060606060606,
          7.070707070707071,
          8.080808080808081,
          9.090909090909092,
          10.101010101010102,
          11.111111111111112,
          12.121212121212121,
          13.131313131313131,
          14.141414141414142,
          15.151515151515152,
          16.161616161616163,
          17.171717171717173,
          18.181818181818183,
          19.191919191919194,
          20.202020202020204,
          21.212121212121215,
          22.222222222222225,
          23.232323232323235,
          24.242424242424242,
          25.252525252525253,
          26.262626262626263,
          27.272727272727273,
          28.282828282828284,
          29.292929292929294,
          30.303030303030305,
          31.313131313131315,
          32.323232323232325,
          33.333333333333336,
          34.343434343434346,
          35.35353535353536,
          36.36363636363637,
          37.37373737373738,
          38.38383838383839,
          39.3939393939394,
          40.40404040404041,
          41.41414141414142,
          42.42424242424243,
          43.43434343434344,
          44.44444444444445,
          45.45454545454546,
          46.46464646464647,
          47.47474747474748,
          48.484848484848484,
          49.494949494949495,
          50.505050505050505,
          51.515151515151516,
          52.525252525252526,
          53.535353535353536,
          54.54545454545455,
          55.55555555555556,
          56.56565656565657,
          57.57575757575758,
          58.58585858585859,
          59.5959595959596,
          60.60606060606061,
          61.61616161616162,
          62.62626262626263,
          63.63636363636364,
          64.64646464646465,
          65.65656565656566,
          66.66666666666667,
          67.67676767676768,
          68.68686868686869,
          69.6969696969697,
          70.70707070707071,
          71.71717171717172,
          72.72727272727273,
          73.73737373737374,
          74.74747474747475,
          75.75757575757576,
          76.76767676767678,
          77.77777777777779,
          78.7878787878788,
          79.7979797979798,
          80.80808080808082,
          81.81818181818183,
          82.82828282828284,
          83.83838383838385,
          84.84848484848486,
          85.85858585858587,
          86.86868686868688,
          87.87878787878789,
          88.8888888888889,
          89.89898989898991,
          90.90909090909092,
          91.91919191919193,
          92.92929292929294,
          93.93939393939395,
          94.94949494949496,
          95.95959595959597,
          96.96969696969697,
          97.97979797979798,
          98.98989898989899,
          100
         ],
         "y": [
          0.5030583939342247,
          1.3157964631407884,
          -0.6444212958349244,
          -0.24888407866928577,
          0.0471183063790345,
          0.21132433650750043,
          -1.269254061899103,
          0.19359595827636195,
          0.7518450658875268,
          -0.5129672699679071,
          -0.2939738423333086,
          0.060653687409946144,
          1.7928507680145838,
          0.6584482637169541,
          -0.8242175232492074,
          1.4027948510624382,
          0.1901676793053906,
          0.19565036819177406,
          -0.6964594225094661,
          -0.8345203656211095,
          -1.347056649306536,
          1.179507898234953,
          -0.3451172897395423,
          0.4750104444175132,
          0.6712404630326108,
          1.0785785455871681,
          0.44628806795305537,
          0.26409882925686134,
          -0.25710821962074837,
          0.42856215019660143,
          -0.19613130055063915,
          0.6228371217708987,
          -0.0023271726946362354,
          0.16709298459096092,
          0.9051726945905721,
          1.0151839671094216,
          -0.3920268018756174,
          0.14890741162714707,
          -0.18480423325865097,
          -0.20124795239265963,
          0.4144194772541745,
          -0.07374709758439002,
          0.5039421157624555,
          0.9337396033605669,
          1.4298908273823565,
          0.8300514288851809,
          1.7012313409166275,
          -1.3376992528075664,
          1.1134593629788223,
          0.056936855532333575,
          -3.565628427164243,
          0.8208239155502514,
          0.37728315242188865,
          0.48326348081983206,
          1.200164691973127,
          0.19636992948692725,
          -0.5021712779152455,
          0.43518642370627897,
          0.5060692843417037,
          1.28853771501245,
          -1.2010032355682962,
          -2.6625427496503726,
          0.3599836641067804,
          0.5381697033137368,
          0.4946284282298873,
          -0.15015793570685254,
          1.5320080932735456,
          -0.9063994148381446,
          -1.4504754737469194,
          -0.5205013024642543,
          -0.12729712269249613,
          1.35180529756234,
          0.22752532744103213,
          1.533224027863157,
          1.0260560876154572,
          0.22898590047749395,
          0.3413196536180771,
          2.1049419993370946,
          -0.5595065002248822,
          -1.1324156134570293,
          0.6245483906051379,
          0.6807561645228073,
          -0.8943745642226022,
          0.16795452902580504,
          0.5839638216088668,
          -0.25963397520934,
          -0.09905210006479465,
          -0.6696124225095571,
          0.390923259810189,
          -1.5431545414161294,
          -0.8974049564911528,
          -0.653475897152831,
          0.3499347210566189,
          -0.14798580429344324,
          -0.6657528425276317,
          0.008665979139376362,
          -1.2044290387755678,
          1.0265726978325393,
          -0.259502546239869,
          1.3345514550526456
         ]
        },
        {
         "marker": {
          "color": "#A9DFBF",
          "line": {
           "color": "#0E8700",
           "width": 1
          },
          "size": 7,
          "symbol": "circle"
         },
         "mode": "markers",
         "type": "scatter",
         "x": [
          0,
          1.0101010101010102,
          2.0202020202020203,
          3.0303030303030303,
          4.040404040404041,
          5.050505050505051,
          6.0606060606060606,
          7.070707070707071,
          8.080808080808081,
          9.090909090909092,
          10.101010101010102,
          11.111111111111112,
          12.121212121212121,
          13.131313131313131,
          14.141414141414142,
          15.151515151515152,
          16.161616161616163,
          17.171717171717173,
          18.181818181818183,
          19.191919191919194,
          20.202020202020204,
          21.212121212121215,
          22.222222222222225,
          23.232323232323235,
          24.242424242424242,
          25.252525252525253,
          26.262626262626263,
          27.272727272727273,
          28.282828282828284,
          29.292929292929294,
          30.303030303030305,
          31.313131313131315,
          32.323232323232325,
          33.333333333333336,
          34.343434343434346,
          35.35353535353536,
          36.36363636363637,
          37.37373737373738,
          38.38383838383839,
          39.3939393939394,
          40.40404040404041,
          41.41414141414142,
          42.42424242424243,
          43.43434343434344,
          44.44444444444445,
          45.45454545454546,
          46.46464646464647,
          47.47474747474748,
          48.484848484848484,
          49.494949494949495,
          50.505050505050505,
          51.515151515151516,
          52.525252525252526,
          53.535353535353536,
          54.54545454545455,
          55.55555555555556,
          56.56565656565657,
          57.57575757575758,
          58.58585858585859,
          59.5959595959596,
          60.60606060606061,
          61.61616161616162,
          62.62626262626263,
          63.63636363636364,
          64.64646464646465,
          65.65656565656566,
          66.66666666666667,
          67.67676767676768,
          68.68686868686869,
          69.6969696969697,
          70.70707070707071,
          71.71717171717172,
          72.72727272727273,
          73.73737373737374,
          74.74747474747475,
          75.75757575757576,
          76.76767676767678,
          77.77777777777779,
          78.7878787878788,
          79.7979797979798,
          80.80808080808082,
          81.81818181818183,
          82.82828282828284,
          83.83838383838385,
          84.84848484848486,
          85.85858585858587,
          86.86868686868688,
          87.87878787878789,
          88.8888888888889,
          89.89898989898991,
          90.90909090909092,
          91.91919191919193,
          92.92929292929294,
          93.93939393939395,
          94.94949494949496,
          95.95959595959597,
          96.96969696969697,
          97.97979797979798,
          98.98989898989899,
          100
         ],
         "y": [
          -4.496941606065775,
          -3.6842035368592114,
          -5.644421295834924,
          -5.248884078669286,
          -4.952881693620966,
          -4.7886756634925,
          -6.269254061899103,
          -4.806404041723638,
          -4.248154934112473,
          -5.512967269967907,
          -5.293973842333308,
          -4.939346312590054,
          -3.207149231985416,
          -4.341551736283046,
          -5.8242175232492075,
          -3.5972051489375616,
          -4.80983232069461,
          -4.8043496318082255,
          -5.6964594225094665,
          -5.83452036562111,
          -6.347056649306536,
          -3.820492101765047,
          -5.345117289739543,
          -4.524989555582486,
          -4.3287595369673895,
          -3.921421454412832,
          -4.553711932046944,
          -4.735901170743139,
          -5.257108219620749,
          -4.571437849803399,
          -5.196131300550639,
          -4.377162878229101,
          -5.002327172694637,
          -4.832907015409039,
          -4.094827305409428,
          -3.9848160328905786,
          -5.392026801875617,
          -4.851092588372853,
          -5.184804233258651,
          -5.201247952392659,
          -4.5855805227458255,
          -5.07374709758439,
          -4.496057884237544,
          -4.066260396639433,
          -3.5701091726176433,
          -4.169948571114819,
          -3.2987686590833727,
          -6.337699252807567,
          -3.8865406370211777,
          -4.943063144467667,
          -8.565628427164242,
          -4.1791760844497485,
          -4.622716847578111,
          -4.516736519180168,
          -3.799835308026873,
          -4.803630070513073,
          -5.502171277915245,
          -4.564813576293721,
          -4.493930715658296,
          -3.71146228498755,
          -6.2010032355682965,
          -7.662542749650372,
          -4.64001633589322,
          -4.461830296686263,
          -4.505371571770112,
          -5.1501579357068525,
          -3.4679919067264544,
          -5.906399414838145,
          -6.45047547374692,
          -5.520501302464254,
          -5.127297122692496,
          -3.64819470243766,
          -4.7724746725589675,
          -3.466775972136843,
          -3.973943912384543,
          -4.771014099522506,
          -4.658680346381923,
          -2.8950580006629054,
          -5.559506500224883,
          -6.132415613457029,
          -4.375451609394862,
          -4.3192438354771925,
          -5.894374564222602,
          -4.832045470974195,
          -4.416036178391133,
          -5.25963397520934,
          -5.099052100064795,
          -5.669612422509557,
          -4.609076740189811,
          -6.543154541416129,
          -5.897404956491153,
          -5.653475897152831,
          -4.650065278943381,
          -5.147985804293444,
          -5.665752842527632,
          -4.991334020860624,
          -6.204429038775568,
          -3.973427302167461,
          -5.259502546239869,
          -3.6654485449473544
         ]
        }
       ],
       "layout": {
        "template": {
         "data": {
          "bar": [
           {
            "error_x": {
             "color": "#2a3f5f"
            },
            "error_y": {
             "color": "#2a3f5f"
            },
            "marker": {
             "line": {
              "color": "#E5ECF6",
              "width": 0.5
             },
             "pattern": {
              "fillmode": "overlay",
              "size": 10,
              "solidity": 0.2
             }
            },
            "type": "bar"
           }
          ],
          "barpolar": [
           {
            "marker": {
             "line": {
              "color": "#E5ECF6",
              "width": 0.5
             },
             "pattern": {
              "fillmode": "overlay",
              "size": 10,
              "solidity": 0.2
             }
            },
            "type": "barpolar"
           }
          ],
          "carpet": [
           {
            "aaxis": {
             "endlinecolor": "#2a3f5f",
             "gridcolor": "white",
             "linecolor": "white",
             "minorgridcolor": "white",
             "startlinecolor": "#2a3f5f"
            },
            "baxis": {
             "endlinecolor": "#2a3f5f",
             "gridcolor": "white",
             "linecolor": "white",
             "minorgridcolor": "white",
             "startlinecolor": "#2a3f5f"
            },
            "type": "carpet"
           }
          ],
          "choropleth": [
           {
            "colorbar": {
             "outlinewidth": 0,
             "ticks": ""
            },
            "type": "choropleth"
           }
          ],
          "contour": [
           {
            "colorbar": {
             "outlinewidth": 0,
             "ticks": ""
            },
            "colorscale": [
             [
              0,
              "#0d0887"
             ],
             [
              0.1111111111111111,
              "#46039f"
             ],
             [
              0.2222222222222222,
              "#7201a8"
             ],
             [
              0.3333333333333333,
              "#9c179e"
             ],
             [
              0.4444444444444444,
              "#bd3786"
             ],
             [
              0.5555555555555556,
              "#d8576b"
             ],
             [
              0.6666666666666666,
              "#ed7953"
             ],
             [
              0.7777777777777778,
              "#fb9f3a"
             ],
             [
              0.8888888888888888,
              "#fdca26"
             ],
             [
              1,
              "#f0f921"
             ]
            ],
            "type": "contour"
           }
          ],
          "contourcarpet": [
           {
            "colorbar": {
             "outlinewidth": 0,
             "ticks": ""
            },
            "type": "contourcarpet"
           }
          ],
          "heatmap": [
           {
            "colorbar": {
             "outlinewidth": 0,
             "ticks": ""
            },
            "colorscale": [
             [
              0,
              "#0d0887"
             ],
             [
              0.1111111111111111,
              "#46039f"
             ],
             [
              0.2222222222222222,
              "#7201a8"
             ],
             [
              0.3333333333333333,
              "#9c179e"
             ],
             [
              0.4444444444444444,
              "#bd3786"
             ],
             [
              0.5555555555555556,
              "#d8576b"
             ],
             [
              0.6666666666666666,
              "#ed7953"
             ],
             [
              0.7777777777777778,
              "#fb9f3a"
             ],
             [
              0.8888888888888888,
              "#fdca26"
             ],
             [
              1,
              "#f0f921"
             ]
            ],
            "type": "heatmap"
           }
          ],
          "heatmapgl": [
           {
            "colorbar": {
             "outlinewidth": 0,
             "ticks": ""
            },
            "colorscale": [
             [
              0,
              "#0d0887"
             ],
             [
              0.1111111111111111,
              "#46039f"
             ],
             [
              0.2222222222222222,
              "#7201a8"
             ],
             [
              0.3333333333333333,
              "#9c179e"
             ],
             [
              0.4444444444444444,
              "#bd3786"
             ],
             [
              0.5555555555555556,
              "#d8576b"
             ],
             [
              0.6666666666666666,
              "#ed7953"
             ],
             [
              0.7777777777777778,
              "#fb9f3a"
             ],
             [
              0.8888888888888888,
              "#fdca26"
             ],
             [
              1,
              "#f0f921"
             ]
            ],
            "type": "heatmapgl"
           }
          ],
          "histogram": [
           {
            "marker": {
             "pattern": {
              "fillmode": "overlay",
              "size": 10,
              "solidity": 0.2
             }
            },
            "type": "histogram"
           }
          ],
          "histogram2d": [
           {
            "colorbar": {
             "outlinewidth": 0,
             "ticks": ""
            },
            "colorscale": [
             [
              0,
              "#0d0887"
             ],
             [
              0.1111111111111111,
              "#46039f"
             ],
             [
              0.2222222222222222,
              "#7201a8"
             ],
             [
              0.3333333333333333,
              "#9c179e"
             ],
             [
              0.4444444444444444,
              "#bd3786"
             ],
             [
              0.5555555555555556,
              "#d8576b"
             ],
             [
              0.6666666666666666,
              "#ed7953"
             ],
             [
              0.7777777777777778,
              "#fb9f3a"
             ],
             [
              0.8888888888888888,
              "#fdca26"
             ],
             [
              1,
              "#f0f921"
             ]
            ],
            "type": "histogram2d"
           }
          ],
          "histogram2dcontour": [
           {
            "colorbar": {
             "outlinewidth": 0,
             "ticks": ""
            },
            "colorscale": [
             [
              0,
              "#0d0887"
             ],
             [
              0.1111111111111111,
              "#46039f"
             ],
             [
              0.2222222222222222,
              "#7201a8"
             ],
             [
              0.3333333333333333,
              "#9c179e"
             ],
             [
              0.4444444444444444,
              "#bd3786"
             ],
             [
              0.5555555555555556,
              "#d8576b"
             ],
             [
              0.6666666666666666,
              "#ed7953"
             ],
             [
              0.7777777777777778,
              "#fb9f3a"
             ],
             [
              0.8888888888888888,
              "#fdca26"
             ],
             [
              1,
              "#f0f921"
             ]
            ],
            "type": "histogram2dcontour"
           }
          ],
          "mesh3d": [
           {
            "colorbar": {
             "outlinewidth": 0,
             "ticks": ""
            },
            "type": "mesh3d"
           }
          ],
          "parcoords": [
           {
            "line": {
             "colorbar": {
              "outlinewidth": 0,
              "ticks": ""
             }
            },
            "type": "parcoords"
           }
          ],
          "pie": [
           {
            "automargin": true,
            "type": "pie"
           }
          ],
          "scatter": [
           {
            "fillpattern": {
             "fillmode": "overlay",
             "size": 10,
             "solidity": 0.2
            },
            "type": "scatter"
           }
          ],
          "scatter3d": [
           {
            "line": {
             "colorbar": {
              "outlinewidth": 0,
              "ticks": ""
             }
            },
            "marker": {
             "colorbar": {
              "outlinewidth": 0,
              "ticks": ""
             }
            },
            "type": "scatter3d"
           }
          ],
          "scattercarpet": [
           {
            "marker": {
             "colorbar": {
              "outlinewidth": 0,
              "ticks": ""
             }
            },
            "type": "scattercarpet"
           }
          ],
          "scattergeo": [
           {
            "marker": {
             "colorbar": {
              "outlinewidth": 0,
              "ticks": ""
             }
            },
            "type": "scattergeo"
           }
          ],
          "scattergl": [
           {
            "marker": {
             "colorbar": {
              "outlinewidth": 0,
              "ticks": ""
             }
            },
            "type": "scattergl"
           }
          ],
          "scattermapbox": [
           {
            "marker": {
             "colorbar": {
              "outlinewidth": 0,
              "ticks": ""
             }
            },
            "type": "scattermapbox"
           }
          ],
          "scatterpolar": [
           {
            "marker": {
             "colorbar": {
              "outlinewidth": 0,
              "ticks": ""
             }
            },
            "type": "scatterpolar"
           }
          ],
          "scatterpolargl": [
           {
            "marker": {
             "colorbar": {
              "outlinewidth": 0,
              "ticks": ""
             }
            },
            "type": "scatterpolargl"
           }
          ],
          "scatterternary": [
           {
            "marker": {
             "colorbar": {
              "outlinewidth": 0,
              "ticks": ""
             }
            },
            "type": "scatterternary"
           }
          ],
          "surface": [
           {
            "colorbar": {
             "outlinewidth": 0,
             "ticks": ""
            },
            "colorscale": [
             [
              0,
              "#0d0887"
             ],
             [
              0.1111111111111111,
              "#46039f"
             ],
             [
              0.2222222222222222,
              "#7201a8"
             ],
             [
              0.3333333333333333,
              "#9c179e"
             ],
             [
              0.4444444444444444,
              "#bd3786"
             ],
             [
              0.5555555555555556,
              "#d8576b"
             ],
             [
              0.6666666666666666,
              "#ed7953"
             ],
             [
              0.7777777777777778,
              "#fb9f3a"
             ],
             [
              0.8888888888888888,
              "#fdca26"
             ],
             [
              1,
              "#f0f921"
             ]
            ],
            "type": "surface"
           }
          ],
          "table": [
           {
            "cells": {
             "fill": {
              "color": "#EBF0F8"
             },
             "line": {
              "color": "white"
             }
            },
            "header": {
             "fill": {
              "color": "#C8D4E3"
             },
             "line": {
              "color": "white"
             }
            },
            "type": "table"
           }
          ]
         },
         "layout": {
          "annotationdefaults": {
           "arrowcolor": "#2a3f5f",
           "arrowhead": 0,
           "arrowwidth": 1
          },
          "autotypenumbers": "strict",
          "coloraxis": {
           "colorbar": {
            "outlinewidth": 0,
            "ticks": ""
           }
          },
          "colorscale": {
           "diverging": [
            [
             0,
             "#8e0152"
            ],
            [
             0.1,
             "#c51b7d"
            ],
            [
             0.2,
             "#de77ae"
            ],
            [
             0.3,
             "#f1b6da"
            ],
            [
             0.4,
             "#fde0ef"
            ],
            [
             0.5,
             "#f7f7f7"
            ],
            [
             0.6,
             "#e6f5d0"
            ],
            [
             0.7,
             "#b8e186"
            ],
            [
             0.8,
             "#7fbc41"
            ],
            [
             0.9,
             "#4d9221"
            ],
            [
             1,
             "#276419"
            ]
           ],
           "sequential": [
            [
             0,
             "#0d0887"
            ],
            [
             0.1111111111111111,
             "#46039f"
            ],
            [
             0.2222222222222222,
             "#7201a8"
            ],
            [
             0.3333333333333333,
             "#9c179e"
            ],
            [
             0.4444444444444444,
             "#bd3786"
            ],
            [
             0.5555555555555556,
             "#d8576b"
            ],
            [
             0.6666666666666666,
             "#ed7953"
            ],
            [
             0.7777777777777778,
             "#fb9f3a"
            ],
            [
             0.8888888888888888,
             "#fdca26"
            ],
            [
             1,
             "#f0f921"
            ]
           ],
           "sequentialminus": [
            [
             0,
             "#0d0887"
            ],
            [
             0.1111111111111111,
             "#46039f"
            ],
            [
             0.2222222222222222,
             "#7201a8"
            ],
            [
             0.3333333333333333,
             "#9c179e"
            ],
            [
             0.4444444444444444,
             "#bd3786"
            ],
            [
             0.5555555555555556,
             "#d8576b"
            ],
            [
             0.6666666666666666,
             "#ed7953"
            ],
            [
             0.7777777777777778,
             "#fb9f3a"
            ],
            [
             0.8888888888888888,
             "#fdca26"
            ],
            [
             1,
             "#f0f921"
            ]
           ]
          },
          "colorway": [
           "#636efa",
           "#EF553B",
           "#00cc96",
           "#ab63fa",
           "#FFA15A",
           "#19d3f3",
           "#FF6692",
           "#B6E880",
           "#FF97FF",
           "#FECB52"
          ],
          "font": {
           "color": "#2a3f5f"
          },
          "geo": {
           "bgcolor": "white",
           "lakecolor": "white",
           "landcolor": "#E5ECF6",
           "showlakes": true,
           "showland": true,
           "subunitcolor": "white"
          },
          "hoverlabel": {
           "align": "left"
          },
          "hovermode": "closest",
          "mapbox": {
           "style": "light"
          },
          "paper_bgcolor": "white",
          "plot_bgcolor": "#E5ECF6",
          "polar": {
           "angularaxis": {
            "gridcolor": "white",
            "linecolor": "white",
            "ticks": ""
           },
           "bgcolor": "#E5ECF6",
           "radialaxis": {
            "gridcolor": "white",
            "linecolor": "white",
            "ticks": ""
           }
          },
          "scene": {
           "xaxis": {
            "backgroundcolor": "#E5ECF6",
            "gridcolor": "white",
            "gridwidth": 2,
            "linecolor": "white",
            "showbackground": true,
            "ticks": "",
            "zerolinecolor": "white"
           },
           "yaxis": {
            "backgroundcolor": "#E5ECF6",
            "gridcolor": "white",
            "gridwidth": 2,
            "linecolor": "white",
            "showbackground": true,
            "ticks": "",
            "zerolinecolor": "white"
           },
           "zaxis": {
            "backgroundcolor": "#E5ECF6",
            "gridcolor": "white",
            "gridwidth": 2,
            "linecolor": "white",
            "showbackground": true,
            "ticks": "",
            "zerolinecolor": "white"
           }
          },
          "shapedefaults": {
           "line": {
            "color": "#2a3f5f"
           }
          },
          "ternary": {
           "aaxis": {
            "gridcolor": "white",
            "linecolor": "white",
            "ticks": ""
           },
           "baxis": {
            "gridcolor": "white",
            "linecolor": "white",
            "ticks": ""
           },
           "bgcolor": "#E5ECF6",
           "caxis": {
            "gridcolor": "white",
            "linecolor": "white",
            "ticks": ""
           }
          },
          "title": {
           "x": 0.05
          },
          "xaxis": {
           "automargin": true,
           "gridcolor": "white",
           "linecolor": "white",
           "ticks": "",
           "title": {
            "standoff": 15
           },
           "zerolinecolor": "white",
           "zerolinewidth": 2
          },
          "yaxis": {
           "automargin": true,
           "gridcolor": "white",
           "linecolor": "white",
           "ticks": "",
           "title": {
            "standoff": 15
           },
           "zerolinecolor": "white",
           "zerolinewidth": 2
          }
         }
        },
        "xaxis": {
         "showgrid": false,
         "showline": false
        },
        "yaxis": {
         "showgrid": false,
         "showline": false
        }
       }
      },
      "text/html": [
       "<div>                            <div id=\"44869903-7afe-4d3e-a088-f139ab2fd741\" class=\"plotly-graph-div\" style=\"height:525px; width:100%;\"></div>            <script type=\"text/javascript\">                require([\"plotly\"], function(Plotly) {                    window.PLOTLYENV=window.PLOTLYENV || {};                                    if (document.getElementById(\"44869903-7afe-4d3e-a088-f139ab2fd741\")) {                    Plotly.newPlot(                        \"44869903-7afe-4d3e-a088-f139ab2fd741\",                        [{\"marker\":{\"color\":\"#F4D03F\",\"line\":{\"color\":\"#0E8700\",\"width\":1},\"size\":7,\"symbol\":\"circle\"},\"mode\":\"markers\",\"x\":[0.0,1.0101010101010102,2.0202020202020203,3.0303030303030303,4.040404040404041,5.050505050505051,6.0606060606060606,7.070707070707071,8.080808080808081,9.090909090909092,10.101010101010102,11.111111111111112,12.121212121212121,13.131313131313131,14.141414141414142,15.151515151515152,16.161616161616163,17.171717171717173,18.181818181818183,19.191919191919194,20.202020202020204,21.212121212121215,22.222222222222225,23.232323232323235,24.242424242424242,25.252525252525253,26.262626262626263,27.272727272727273,28.282828282828284,29.292929292929294,30.303030303030305,31.313131313131315,32.323232323232325,33.333333333333336,34.343434343434346,35.35353535353536,36.36363636363637,37.37373737373738,38.38383838383839,39.3939393939394,40.40404040404041,41.41414141414142,42.42424242424243,43.43434343434344,44.44444444444445,45.45454545454546,46.46464646464647,47.47474747474748,48.484848484848484,49.494949494949495,50.505050505050505,51.515151515151516,52.525252525252526,53.535353535353536,54.54545454545455,55.55555555555556,56.56565656565657,57.57575757575758,58.58585858585859,59.5959595959596,60.60606060606061,61.61616161616162,62.62626262626263,63.63636363636364,64.64646464646465,65.65656565656566,66.66666666666667,67.67676767676768,68.68686868686869,69.6969696969697,70.70707070707071,71.71717171717172,72.72727272727273,73.73737373737374,74.74747474747475,75.75757575757576,76.76767676767678,77.77777777777779,78.7878787878788,79.7979797979798,80.80808080808082,81.81818181818183,82.82828282828284,83.83838383838385,84.84848484848486,85.85858585858587,86.86868686868688,87.87878787878789,88.8888888888889,89.89898989898991,90.90909090909092,91.91919191919193,92.92929292929294,93.93939393939395,94.94949494949496,95.95959595959597,96.96969696969697,97.97979797979798,98.98989898989899,100.0],\"y\":[0.5030583939342247,1.3157964631407884,-0.6444212958349244,-0.24888407866928577,0.0471183063790345,0.21132433650750043,-1.269254061899103,0.19359595827636195,0.7518450658875268,-0.5129672699679071,-0.2939738423333086,0.060653687409946144,1.7928507680145838,0.6584482637169541,-0.8242175232492074,1.4027948510624382,0.1901676793053906,0.19565036819177406,-0.6964594225094661,-0.8345203656211095,-1.347056649306536,1.179507898234953,-0.3451172897395423,0.4750104444175132,0.6712404630326108,1.0785785455871681,0.44628806795305537,0.26409882925686134,-0.25710821962074837,0.42856215019660143,-0.19613130055063915,0.6228371217708987,-0.0023271726946362354,0.16709298459096092,0.9051726945905721,1.0151839671094216,-0.3920268018756174,0.14890741162714707,-0.18480423325865097,-0.20124795239265963,0.4144194772541745,-0.07374709758439002,0.5039421157624555,0.9337396033605669,1.4298908273823565,0.8300514288851809,1.7012313409166275,-1.3376992528075664,1.1134593629788223,0.056936855532333575,-3.565628427164243,0.8208239155502514,0.37728315242188865,0.48326348081983206,1.200164691973127,0.19636992948692725,-0.5021712779152455,0.43518642370627897,0.5060692843417037,1.28853771501245,-1.2010032355682962,-2.6625427496503726,0.3599836641067804,0.5381697033137368,0.4946284282298873,-0.15015793570685254,1.5320080932735456,-0.9063994148381446,-1.4504754737469194,-0.5205013024642543,-0.12729712269249613,1.35180529756234,0.22752532744103213,1.533224027863157,1.0260560876154572,0.22898590047749395,0.3413196536180771,2.1049419993370946,-0.5595065002248822,-1.1324156134570293,0.6245483906051379,0.6807561645228073,-0.8943745642226022,0.16795452902580504,0.5839638216088668,-0.25963397520934,-0.09905210006479465,-0.6696124225095571,0.390923259810189,-1.5431545414161294,-0.8974049564911528,-0.653475897152831,0.3499347210566189,-0.14798580429344324,-0.6657528425276317,0.008665979139376362,-1.2044290387755678,1.0265726978325393,-0.259502546239869,1.3345514550526456],\"type\":\"scatter\"},{\"marker\":{\"color\":\"#A9DFBF\",\"line\":{\"color\":\"#0E8700\",\"width\":1},\"size\":7,\"symbol\":\"circle\"},\"mode\":\"markers\",\"x\":[0.0,1.0101010101010102,2.0202020202020203,3.0303030303030303,4.040404040404041,5.050505050505051,6.0606060606060606,7.070707070707071,8.080808080808081,9.090909090909092,10.101010101010102,11.111111111111112,12.121212121212121,13.131313131313131,14.141414141414142,15.151515151515152,16.161616161616163,17.171717171717173,18.181818181818183,19.191919191919194,20.202020202020204,21.212121212121215,22.222222222222225,23.232323232323235,24.242424242424242,25.252525252525253,26.262626262626263,27.272727272727273,28.282828282828284,29.292929292929294,30.303030303030305,31.313131313131315,32.323232323232325,33.333333333333336,34.343434343434346,35.35353535353536,36.36363636363637,37.37373737373738,38.38383838383839,39.3939393939394,40.40404040404041,41.41414141414142,42.42424242424243,43.43434343434344,44.44444444444445,45.45454545454546,46.46464646464647,47.47474747474748,48.484848484848484,49.494949494949495,50.505050505050505,51.515151515151516,52.525252525252526,53.535353535353536,54.54545454545455,55.55555555555556,56.56565656565657,57.57575757575758,58.58585858585859,59.5959595959596,60.60606060606061,61.61616161616162,62.62626262626263,63.63636363636364,64.64646464646465,65.65656565656566,66.66666666666667,67.67676767676768,68.68686868686869,69.6969696969697,70.70707070707071,71.71717171717172,72.72727272727273,73.73737373737374,74.74747474747475,75.75757575757576,76.76767676767678,77.77777777777779,78.7878787878788,79.7979797979798,80.80808080808082,81.81818181818183,82.82828282828284,83.83838383838385,84.84848484848486,85.85858585858587,86.86868686868688,87.87878787878789,88.8888888888889,89.89898989898991,90.90909090909092,91.91919191919193,92.92929292929294,93.93939393939395,94.94949494949496,95.95959595959597,96.96969696969697,97.97979797979798,98.98989898989899,100.0],\"y\":[-4.496941606065775,-3.6842035368592114,-5.644421295834924,-5.248884078669286,-4.952881693620966,-4.7886756634925,-6.269254061899103,-4.806404041723638,-4.248154934112473,-5.512967269967907,-5.293973842333308,-4.939346312590054,-3.207149231985416,-4.341551736283046,-5.8242175232492075,-3.5972051489375616,-4.80983232069461,-4.8043496318082255,-5.6964594225094665,-5.83452036562111,-6.347056649306536,-3.820492101765047,-5.345117289739543,-4.524989555582486,-4.3287595369673895,-3.921421454412832,-4.553711932046944,-4.735901170743139,-5.257108219620749,-4.571437849803399,-5.196131300550639,-4.377162878229101,-5.002327172694637,-4.832907015409039,-4.094827305409428,-3.9848160328905786,-5.392026801875617,-4.851092588372853,-5.184804233258651,-5.201247952392659,-4.5855805227458255,-5.07374709758439,-4.496057884237544,-4.066260396639433,-3.5701091726176433,-4.169948571114819,-3.2987686590833727,-6.337699252807567,-3.8865406370211777,-4.943063144467667,-8.565628427164242,-4.1791760844497485,-4.622716847578111,-4.516736519180168,-3.799835308026873,-4.803630070513073,-5.502171277915245,-4.564813576293721,-4.493930715658296,-3.71146228498755,-6.2010032355682965,-7.662542749650372,-4.64001633589322,-4.461830296686263,-4.505371571770112,-5.1501579357068525,-3.4679919067264544,-5.906399414838145,-6.45047547374692,-5.520501302464254,-5.127297122692496,-3.64819470243766,-4.7724746725589675,-3.466775972136843,-3.973943912384543,-4.771014099522506,-4.658680346381923,-2.8950580006629054,-5.559506500224883,-6.132415613457029,-4.375451609394862,-4.3192438354771925,-5.894374564222602,-4.832045470974195,-4.416036178391133,-5.25963397520934,-5.099052100064795,-5.669612422509557,-4.609076740189811,-6.543154541416129,-5.897404956491153,-5.653475897152831,-4.650065278943381,-5.147985804293444,-5.665752842527632,-4.991334020860624,-6.204429038775568,-3.973427302167461,-5.259502546239869,-3.6654485449473544],\"type\":\"scatter\"}],                        {\"template\":{\"data\":{\"barpolar\":[{\"marker\":{\"line\":{\"color\":\"#E5ECF6\",\"width\":0.5},\"pattern\":{\"fillmode\":\"overlay\",\"size\":10,\"solidity\":0.2}},\"type\":\"barpolar\"}],\"bar\":[{\"error_x\":{\"color\":\"#2a3f5f\"},\"error_y\":{\"color\":\"#2a3f5f\"},\"marker\":{\"line\":{\"color\":\"#E5ECF6\",\"width\":0.5},\"pattern\":{\"fillmode\":\"overlay\",\"size\":10,\"solidity\":0.2}},\"type\":\"bar\"}],\"carpet\":[{\"aaxis\":{\"endlinecolor\":\"#2a3f5f\",\"gridcolor\":\"white\",\"linecolor\":\"white\",\"minorgridcolor\":\"white\",\"startlinecolor\":\"#2a3f5f\"},\"baxis\":{\"endlinecolor\":\"#2a3f5f\",\"gridcolor\":\"white\",\"linecolor\":\"white\",\"minorgridcolor\":\"white\",\"startlinecolor\":\"#2a3f5f\"},\"type\":\"carpet\"}],\"choropleth\":[{\"colorbar\":{\"outlinewidth\":0,\"ticks\":\"\"},\"type\":\"choropleth\"}],\"contourcarpet\":[{\"colorbar\":{\"outlinewidth\":0,\"ticks\":\"\"},\"type\":\"contourcarpet\"}],\"contour\":[{\"colorbar\":{\"outlinewidth\":0,\"ticks\":\"\"},\"colorscale\":[[0.0,\"#0d0887\"],[0.1111111111111111,\"#46039f\"],[0.2222222222222222,\"#7201a8\"],[0.3333333333333333,\"#9c179e\"],[0.4444444444444444,\"#bd3786\"],[0.5555555555555556,\"#d8576b\"],[0.6666666666666666,\"#ed7953\"],[0.7777777777777778,\"#fb9f3a\"],[0.8888888888888888,\"#fdca26\"],[1.0,\"#f0f921\"]],\"type\":\"contour\"}],\"heatmapgl\":[{\"colorbar\":{\"outlinewidth\":0,\"ticks\":\"\"},\"colorscale\":[[0.0,\"#0d0887\"],[0.1111111111111111,\"#46039f\"],[0.2222222222222222,\"#7201a8\"],[0.3333333333333333,\"#9c179e\"],[0.4444444444444444,\"#bd3786\"],[0.5555555555555556,\"#d8576b\"],[0.6666666666666666,\"#ed7953\"],[0.7777777777777778,\"#fb9f3a\"],[0.8888888888888888,\"#fdca26\"],[1.0,\"#f0f921\"]],\"type\":\"heatmapgl\"}],\"heatmap\":[{\"colorbar\":{\"outlinewidth\":0,\"ticks\":\"\"},\"colorscale\":[[0.0,\"#0d0887\"],[0.1111111111111111,\"#46039f\"],[0.2222222222222222,\"#7201a8\"],[0.3333333333333333,\"#9c179e\"],[0.4444444444444444,\"#bd3786\"],[0.5555555555555556,\"#d8576b\"],[0.6666666666666666,\"#ed7953\"],[0.7777777777777778,\"#fb9f3a\"],[0.8888888888888888,\"#fdca26\"],[1.0,\"#f0f921\"]],\"type\":\"heatmap\"}],\"histogram2dcontour\":[{\"colorbar\":{\"outlinewidth\":0,\"ticks\":\"\"},\"colorscale\":[[0.0,\"#0d0887\"],[0.1111111111111111,\"#46039f\"],[0.2222222222222222,\"#7201a8\"],[0.3333333333333333,\"#9c179e\"],[0.4444444444444444,\"#bd3786\"],[0.5555555555555556,\"#d8576b\"],[0.6666666666666666,\"#ed7953\"],[0.7777777777777778,\"#fb9f3a\"],[0.8888888888888888,\"#fdca26\"],[1.0,\"#f0f921\"]],\"type\":\"histogram2dcontour\"}],\"histogram2d\":[{\"colorbar\":{\"outlinewidth\":0,\"ticks\":\"\"},\"colorscale\":[[0.0,\"#0d0887\"],[0.1111111111111111,\"#46039f\"],[0.2222222222222222,\"#7201a8\"],[0.3333333333333333,\"#9c179e\"],[0.4444444444444444,\"#bd3786\"],[0.5555555555555556,\"#d8576b\"],[0.6666666666666666,\"#ed7953\"],[0.7777777777777778,\"#fb9f3a\"],[0.8888888888888888,\"#fdca26\"],[1.0,\"#f0f921\"]],\"type\":\"histogram2d\"}],\"histogram\":[{\"marker\":{\"pattern\":{\"fillmode\":\"overlay\",\"size\":10,\"solidity\":0.2}},\"type\":\"histogram\"}],\"mesh3d\":[{\"colorbar\":{\"outlinewidth\":0,\"ticks\":\"\"},\"type\":\"mesh3d\"}],\"parcoords\":[{\"line\":{\"colorbar\":{\"outlinewidth\":0,\"ticks\":\"\"}},\"type\":\"parcoords\"}],\"pie\":[{\"automargin\":true,\"type\":\"pie\"}],\"scatter3d\":[{\"line\":{\"colorbar\":{\"outlinewidth\":0,\"ticks\":\"\"}},\"marker\":{\"colorbar\":{\"outlinewidth\":0,\"ticks\":\"\"}},\"type\":\"scatter3d\"}],\"scattercarpet\":[{\"marker\":{\"colorbar\":{\"outlinewidth\":0,\"ticks\":\"\"}},\"type\":\"scattercarpet\"}],\"scattergeo\":[{\"marker\":{\"colorbar\":{\"outlinewidth\":0,\"ticks\":\"\"}},\"type\":\"scattergeo\"}],\"scattergl\":[{\"marker\":{\"colorbar\":{\"outlinewidth\":0,\"ticks\":\"\"}},\"type\":\"scattergl\"}],\"scattermapbox\":[{\"marker\":{\"colorbar\":{\"outlinewidth\":0,\"ticks\":\"\"}},\"type\":\"scattermapbox\"}],\"scatterpolargl\":[{\"marker\":{\"colorbar\":{\"outlinewidth\":0,\"ticks\":\"\"}},\"type\":\"scatterpolargl\"}],\"scatterpolar\":[{\"marker\":{\"colorbar\":{\"outlinewidth\":0,\"ticks\":\"\"}},\"type\":\"scatterpolar\"}],\"scatter\":[{\"fillpattern\":{\"fillmode\":\"overlay\",\"size\":10,\"solidity\":0.2},\"type\":\"scatter\"}],\"scatterternary\":[{\"marker\":{\"colorbar\":{\"outlinewidth\":0,\"ticks\":\"\"}},\"type\":\"scatterternary\"}],\"surface\":[{\"colorbar\":{\"outlinewidth\":0,\"ticks\":\"\"},\"colorscale\":[[0.0,\"#0d0887\"],[0.1111111111111111,\"#46039f\"],[0.2222222222222222,\"#7201a8\"],[0.3333333333333333,\"#9c179e\"],[0.4444444444444444,\"#bd3786\"],[0.5555555555555556,\"#d8576b\"],[0.6666666666666666,\"#ed7953\"],[0.7777777777777778,\"#fb9f3a\"],[0.8888888888888888,\"#fdca26\"],[1.0,\"#f0f921\"]],\"type\":\"surface\"}],\"table\":[{\"cells\":{\"fill\":{\"color\":\"#EBF0F8\"},\"line\":{\"color\":\"white\"}},\"header\":{\"fill\":{\"color\":\"#C8D4E3\"},\"line\":{\"color\":\"white\"}},\"type\":\"table\"}]},\"layout\":{\"annotationdefaults\":{\"arrowcolor\":\"#2a3f5f\",\"arrowhead\":0,\"arrowwidth\":1},\"autotypenumbers\":\"strict\",\"coloraxis\":{\"colorbar\":{\"outlinewidth\":0,\"ticks\":\"\"}},\"colorscale\":{\"diverging\":[[0,\"#8e0152\"],[0.1,\"#c51b7d\"],[0.2,\"#de77ae\"],[0.3,\"#f1b6da\"],[0.4,\"#fde0ef\"],[0.5,\"#f7f7f7\"],[0.6,\"#e6f5d0\"],[0.7,\"#b8e186\"],[0.8,\"#7fbc41\"],[0.9,\"#4d9221\"],[1,\"#276419\"]],\"sequential\":[[0.0,\"#0d0887\"],[0.1111111111111111,\"#46039f\"],[0.2222222222222222,\"#7201a8\"],[0.3333333333333333,\"#9c179e\"],[0.4444444444444444,\"#bd3786\"],[0.5555555555555556,\"#d8576b\"],[0.6666666666666666,\"#ed7953\"],[0.7777777777777778,\"#fb9f3a\"],[0.8888888888888888,\"#fdca26\"],[1.0,\"#f0f921\"]],\"sequentialminus\":[[0.0,\"#0d0887\"],[0.1111111111111111,\"#46039f\"],[0.2222222222222222,\"#7201a8\"],[0.3333333333333333,\"#9c179e\"],[0.4444444444444444,\"#bd3786\"],[0.5555555555555556,\"#d8576b\"],[0.6666666666666666,\"#ed7953\"],[0.7777777777777778,\"#fb9f3a\"],[0.8888888888888888,\"#fdca26\"],[1.0,\"#f0f921\"]]},\"colorway\":[\"#636efa\",\"#EF553B\",\"#00cc96\",\"#ab63fa\",\"#FFA15A\",\"#19d3f3\",\"#FF6692\",\"#B6E880\",\"#FF97FF\",\"#FECB52\"],\"font\":{\"color\":\"#2a3f5f\"},\"geo\":{\"bgcolor\":\"white\",\"lakecolor\":\"white\",\"landcolor\":\"#E5ECF6\",\"showlakes\":true,\"showland\":true,\"subunitcolor\":\"white\"},\"hoverlabel\":{\"align\":\"left\"},\"hovermode\":\"closest\",\"mapbox\":{\"style\":\"light\"},\"paper_bgcolor\":\"white\",\"plot_bgcolor\":\"#E5ECF6\",\"polar\":{\"angularaxis\":{\"gridcolor\":\"white\",\"linecolor\":\"white\",\"ticks\":\"\"},\"bgcolor\":\"#E5ECF6\",\"radialaxis\":{\"gridcolor\":\"white\",\"linecolor\":\"white\",\"ticks\":\"\"}},\"scene\":{\"xaxis\":{\"backgroundcolor\":\"#E5ECF6\",\"gridcolor\":\"white\",\"gridwidth\":2,\"linecolor\":\"white\",\"showbackground\":true,\"ticks\":\"\",\"zerolinecolor\":\"white\"},\"yaxis\":{\"backgroundcolor\":\"#E5ECF6\",\"gridcolor\":\"white\",\"gridwidth\":2,\"linecolor\":\"white\",\"showbackground\":true,\"ticks\":\"\",\"zerolinecolor\":\"white\"},\"zaxis\":{\"backgroundcolor\":\"#E5ECF6\",\"gridcolor\":\"white\",\"gridwidth\":2,\"linecolor\":\"white\",\"showbackground\":true,\"ticks\":\"\",\"zerolinecolor\":\"white\"}},\"shapedefaults\":{\"line\":{\"color\":\"#2a3f5f\"}},\"ternary\":{\"aaxis\":{\"gridcolor\":\"white\",\"linecolor\":\"white\",\"ticks\":\"\"},\"baxis\":{\"gridcolor\":\"white\",\"linecolor\":\"white\",\"ticks\":\"\"},\"bgcolor\":\"#E5ECF6\",\"caxis\":{\"gridcolor\":\"white\",\"linecolor\":\"white\",\"ticks\":\"\"}},\"title\":{\"x\":0.05},\"xaxis\":{\"automargin\":true,\"gridcolor\":\"white\",\"linecolor\":\"white\",\"ticks\":\"\",\"title\":{\"standoff\":15},\"zerolinecolor\":\"white\",\"zerolinewidth\":2},\"yaxis\":{\"automargin\":true,\"gridcolor\":\"white\",\"linecolor\":\"white\",\"ticks\":\"\",\"title\":{\"standoff\":15},\"zerolinecolor\":\"white\",\"zerolinewidth\":2}}},\"xaxis\":{\"showgrid\":false,\"showline\":false},\"yaxis\":{\"showgrid\":false,\"showline\":false}},                        {\"responsive\": true}                    ).then(function(){\n",
       "                            \n",
       "var gd = document.getElementById('44869903-7afe-4d3e-a088-f139ab2fd741');\n",
       "var x = new MutationObserver(function (mutations, observer) {{\n",
       "        var display = window.getComputedStyle(gd).display;\n",
       "        if (!display || display === 'none') {{\n",
       "            console.log([gd, 'removed!']);\n",
       "            Plotly.purge(gd);\n",
       "            observer.disconnect();\n",
       "        }}\n",
       "}});\n",
       "\n",
       "// Listen for the removal of the full notebook cells\n",
       "var notebookContainer = gd.closest('#notebook-container');\n",
       "if (notebookContainer) {{\n",
       "    x.observe(notebookContainer, {childList: true});\n",
       "}}\n",
       "\n",
       "// Listen for the clearing of the current output cell\n",
       "var outputEl = gd.closest('.output');\n",
       "if (outputEl) {{\n",
       "    x.observe(outputEl, {childList: true});\n",
       "}}\n",
       "\n",
       "                        })                };                });            </script>        </div>"
      ]
     },
     "metadata": {},
     "output_type": "display_data"
    }
   ],
   "source": [
    "#Multiple Data\n",
    "x_values = np.linspace(0, 100, 100)\n",
    "y_values = np.random.randn(100)\n",
    "\n",
    "trace0 = go.Scatter(\n",
    "                    x = x_values,\n",
    "                    y = y_values,\n",
    "                    mode = 'markers',\n",
    "                    marker = dict(\n",
    "                                  size = 7,\n",
    "                                  color = '#F4D03F',\n",
    "                                  symbol = 'circle',\n",
    "                                  line = dict(width = 1, color = '#0E8700')\n",
    "                    )\n",
    "                    \n",
    ")\n",
    "\n",
    "trace1 = go.Scatter(\n",
    "                    x = x_values,\n",
    "                    y = y_values - 5,\n",
    "                    mode = 'markers',\n",
    "                    marker = dict(\n",
    "                                  size = 7,\n",
    "                                  color = '#A9DFBF',\n",
    "                                  symbol = 'circle',\n",
    "                                  line = dict(width = 1, color = '#0E8700')\n",
    "                    )\n",
    "                    \n",
    ")\n",
    "\n",
    "data = [trace0, trace1]\n",
    "\n",
    "layout = go.Layout(\n",
    "                   xaxis = dict(showgrid = False, \n",
    "                                showline = False,\n",
    "                               ),\n",
    "                   yaxis = dict(showgrid = False, \n",
    "                                showline = False,\n",
    "                               ),\n",
    "                  )\n",
    "\n",
    "fig = go.Figure(data = data, layout = layout)\n",
    "iplot(fig)"
   ]
  },
  {
   "cell_type": "code",
   "execution_count": 7,
   "id": "0314f662",
   "metadata": {},
   "outputs": [
    {
     "data": {
      "text/html": [
       "<div>\n",
       "<style scoped>\n",
       "    .dataframe tbody tr th:only-of-type {\n",
       "        vertical-align: middle;\n",
       "    }\n",
       "\n",
       "    .dataframe tbody tr th {\n",
       "        vertical-align: top;\n",
       "    }\n",
       "\n",
       "    .dataframe thead th {\n",
       "        text-align: right;\n",
       "    }\n",
       "</style>\n",
       "<table border=\"1\" class=\"dataframe\">\n",
       "  <thead>\n",
       "    <tr style=\"text-align: right;\">\n",
       "      <th></th>\n",
       "      <th>age</th>\n",
       "      <th>sex</th>\n",
       "      <th>bmi</th>\n",
       "      <th>children</th>\n",
       "      <th>smoker</th>\n",
       "      <th>region</th>\n",
       "      <th>expenses</th>\n",
       "    </tr>\n",
       "  </thead>\n",
       "  <tbody>\n",
       "    <tr>\n",
       "      <th>0</th>\n",
       "      <td>19</td>\n",
       "      <td>female</td>\n",
       "      <td>27.9</td>\n",
       "      <td>0</td>\n",
       "      <td>yes</td>\n",
       "      <td>southwest</td>\n",
       "      <td>16884.92</td>\n",
       "    </tr>\n",
       "    <tr>\n",
       "      <th>1</th>\n",
       "      <td>18</td>\n",
       "      <td>male</td>\n",
       "      <td>33.8</td>\n",
       "      <td>1</td>\n",
       "      <td>no</td>\n",
       "      <td>southeast</td>\n",
       "      <td>1725.55</td>\n",
       "    </tr>\n",
       "    <tr>\n",
       "      <th>2</th>\n",
       "      <td>28</td>\n",
       "      <td>male</td>\n",
       "      <td>33.0</td>\n",
       "      <td>3</td>\n",
       "      <td>no</td>\n",
       "      <td>southeast</td>\n",
       "      <td>4449.46</td>\n",
       "    </tr>\n",
       "    <tr>\n",
       "      <th>3</th>\n",
       "      <td>33</td>\n",
       "      <td>male</td>\n",
       "      <td>22.7</td>\n",
       "      <td>0</td>\n",
       "      <td>no</td>\n",
       "      <td>northwest</td>\n",
       "      <td>21984.47</td>\n",
       "    </tr>\n",
       "    <tr>\n",
       "      <th>4</th>\n",
       "      <td>32</td>\n",
       "      <td>male</td>\n",
       "      <td>28.9</td>\n",
       "      <td>0</td>\n",
       "      <td>no</td>\n",
       "      <td>northwest</td>\n",
       "      <td>3866.86</td>\n",
       "    </tr>\n",
       "    <tr>\n",
       "      <th>5</th>\n",
       "      <td>31</td>\n",
       "      <td>female</td>\n",
       "      <td>25.7</td>\n",
       "      <td>0</td>\n",
       "      <td>no</td>\n",
       "      <td>southeast</td>\n",
       "      <td>3756.62</td>\n",
       "    </tr>\n",
       "    <tr>\n",
       "      <th>6</th>\n",
       "      <td>46</td>\n",
       "      <td>female</td>\n",
       "      <td>33.4</td>\n",
       "      <td>1</td>\n",
       "      <td>no</td>\n",
       "      <td>southeast</td>\n",
       "      <td>8240.59</td>\n",
       "    </tr>\n",
       "    <tr>\n",
       "      <th>7</th>\n",
       "      <td>37</td>\n",
       "      <td>female</td>\n",
       "      <td>27.7</td>\n",
       "      <td>3</td>\n",
       "      <td>no</td>\n",
       "      <td>northwest</td>\n",
       "      <td>7281.51</td>\n",
       "    </tr>\n",
       "    <tr>\n",
       "      <th>8</th>\n",
       "      <td>37</td>\n",
       "      <td>male</td>\n",
       "      <td>29.8</td>\n",
       "      <td>2</td>\n",
       "      <td>no</td>\n",
       "      <td>northeast</td>\n",
       "      <td>6406.41</td>\n",
       "    </tr>\n",
       "    <tr>\n",
       "      <th>9</th>\n",
       "      <td>60</td>\n",
       "      <td>female</td>\n",
       "      <td>25.8</td>\n",
       "      <td>0</td>\n",
       "      <td>no</td>\n",
       "      <td>northwest</td>\n",
       "      <td>28923.14</td>\n",
       "    </tr>\n",
       "  </tbody>\n",
       "</table>\n",
       "</div>"
      ],
      "text/plain": [
       "   age     sex   bmi  children smoker     region  expenses\n",
       "0   19  female  27.9         0    yes  southwest  16884.92\n",
       "1   18    male  33.8         1     no  southeast   1725.55\n",
       "2   28    male  33.0         3     no  southeast   4449.46\n",
       "3   33    male  22.7         0     no  northwest  21984.47\n",
       "4   32    male  28.9         0     no  northwest   3866.86\n",
       "5   31  female  25.7         0     no  southeast   3756.62\n",
       "6   46  female  33.4         1     no  southeast   8240.59\n",
       "7   37  female  27.7         3     no  northwest   7281.51\n",
       "8   37    male  29.8         2     no  northeast   6406.41\n",
       "9   60  female  25.8         0     no  northwest  28923.14"
      ]
     },
     "execution_count": 7,
     "metadata": {},
     "output_type": "execute_result"
    }
   ],
   "source": [
    "insurance = pd.read_csv('mydata/insurance.csv')\n",
    "insurance.head(10)"
   ]
  },
  {
   "cell_type": "code",
   "execution_count": 8,
   "id": "da98bcb8",
   "metadata": {},
   "outputs": [
    {
     "data": {
      "application/vnd.plotly.v1+json": {
       "config": {
        "linkText": "Export to plot.ly",
        "plotlyServerURL": "https://plot.ly",
        "showLink": false
       },
       "data": [
        {
         "marker": {
          "color": "#4ED700",
          "line": {
           "color": "#0E8700",
           "width": 1
          },
          "size": 7,
          "symbol": "circle"
         },
         "mode": "markers",
         "type": "scatter",
         "x": [
          27.9,
          33.8,
          33,
          22.7,
          28.9,
          25.7,
          33.4,
          27.7,
          29.8,
          25.8,
          26.2,
          26.3,
          34.4,
          39.8,
          42.1,
          24.6,
          30.8,
          23.8,
          40.3,
          35.3,
          36,
          32.4,
          34.1,
          31.9,
          28,
          27.7,
          23.1,
          32.8,
          17.4,
          36.3,
          35.6,
          26.3,
          28.6,
          28.3,
          36.4,
          20.4,
          33,
          20.8,
          36.7,
          39.9,
          26.6,
          36.6,
          21.8,
          30.8,
          37.1,
          37.3,
          38.7,
          34.8,
          24.5,
          35.2,
          35.6,
          33.6,
          28,
          34.4,
          28.7,
          37,
          31.8,
          31.7,
          22.9,
          37.3,
          27.4,
          33.7,
          24.7,
          25.9,
          22.4,
          28.9,
          39.1,
          26.3,
          36.2,
          24,
          24.8,
          28.5,
          28.1,
          32,
          27.4,
          34,
          29.6,
          35.5,
          39.8,
          33,
          26.9,
          38.3,
          37.6,
          41.2,
          34.8,
          22.9,
          31.2,
          27.2,
          27.7,
          27,
          39.5,
          24.8,
          29.8,
          34.8,
          31.3,
          37.6,
          30.8,
          38.3,
          20,
          19.3,
          31.6,
          25.5,
          30.1,
          29.9,
          27.5,
          28,
          28.4,
          30.9,
          27.9,
          35.1,
          33.6,
          29.7,
          30.8,
          35.7,
          32.2,
          28.6,
          49.1,
          27.9,
          27.2,
          23.4,
          37.1,
          23.8,
          29,
          31.4,
          33.9,
          28.8,
          28.3,
          37.4,
          17.8,
          34.7,
          26.5,
          22,
          35.9,
          25.6,
          28.8,
          28.1,
          34.1,
          25.2,
          31.9,
          36,
          22.4,
          32.5,
          25.3,
          29.7,
          28.7,
          38.8,
          30.5,
          37.7,
          37.4,
          28.4,
          24.1,
          29.7,
          37.1,
          23.4,
          25.5,
          39.5,
          24.4,
          25.2,
          35.5,
          27.8,
          26.6,
          36.9,
          39.6,
          29.8,
          29.6,
          28.2,
          37,
          33.2,
          31.8,
          18.9,
          41.5,
          30.3,
          16,
          34.8,
          33.3,
          37.7,
          27.8,
          29.2,
          28.9,
          33.2,
          28.6,
          38.3,
          20,
          26.4,
          30.7,
          41.9,
          29.9,
          30.9,
          32.2,
          32.1,
          31.6,
          26.2,
          25.7,
          26.6,
          34.4,
          30.6,
          32.8,
          28.6,
          18.1,
          39.3,
          32.1,
          32.2,
          24,
          36.1,
          22.3,
          28.9,
          26.4,
          27.7,
          31.8,
          41.2,
          33,
          30.9,
          28.5,
          26.7,
          30.9,
          37.1,
          26.6,
          23.1,
          29.9,
          23.2,
          33.7,
          33.3,
          30.8,
          34.8,
          24.6,
          33.9,
          38.1,
          41.9,
          31.6,
          25.5,
          36.2,
          27.8,
          17.8,
          27.5,
          24.5,
          22.2,
          26.7,
          38.4,
          29.1,
          38.1,
          36.7,
          22.1,
          26.8,
          35.3,
          27.7,
          30,
          38.1,
          35.9,
          20.9,
          29,
          17.3,
          32.2,
          34.2,
          30.3,
          31.8,
          25.4,
          33.6,
          40.2,
          24.4,
          31.9,
          25.2,
          26.8,
          24.3,
          37,
          38.1,
          42.4,
          19.8,
          32.4,
          30.2,
          25.8,
          29.4,
          34.2,
          37.1,
          27.5,
          27.6,
          26.6,
          20.6,
          24.3,
          31.8,
          21.6,
          28.1,
          40.6,
          27.6,
          32.4,
          31.2,
          26.6,
          48.1,
          26.2,
          36.8,
          26.4,
          33.4,
          29.6,
          45.5,
          28.8,
          26.8,
          23,
          27.7,
          25.4,
          34.4,
          28.9,
          27.6,
          22.6,
          37.5,
          33,
          38,
          33.3,
          27.5,
          33.3,
          34.9,
          33.1,
          26.6,
          24.7,
          36,
          35.9,
          31.4,
          33.3,
          32.2,
          32.8,
          27.6,
          37.3,
          25.3,
          29.6,
          30.8,
          40.9,
          27.2,
          34.1,
          23.2,
          36.5,
          33.8,
          36.7,
          36.4,
          27.4,
          31.2,
          28.8,
          35.7,
          34.5,
          25.7,
          27.6,
          32.3,
          27.7,
          27.6,
          30,
          27.6,
          36.8,
          41.5,
          29.3,
          35.8,
          33.3,
          29.9,
          27.8,
          23.2,
          25.6,
          27.7,
          35.2,
          38.3,
          27.6,
          43.9,
          29.8,
          41.9,
          20.8,
          32.3,
          30.5,
          21.7,
          26.4,
          21.9,
          30.8,
          32.3,
          25,
          32,
          30.4,
          21.1,
          22.2,
          33.2,
          32.9,
          33.3,
          28.3,
          24.9,
          40.2,
          30.1,
          31.5,
          18,
          30.7,
          33,
          43.3,
          22.1,
          34.4,
          39.1,
          25.4,
          22.6,
          30.2,
          35.6,
          37.4,
          31.4,
          31.4,
          32.3,
          19.9,
          34.4,
          31,
          25.6,
          38.2,
          20.6,
          47.5,
          33,
          32.3,
          20.4,
          38.4,
          24.3,
          23.6,
          21.1,
          30,
          17.5,
          20.2,
          17.2,
          23.9,
          35.2,
          35.6,
          34.1,
          22.6,
          39.2,
          27,
          33.9,
          35.9,
          32.8,
          30.6,
          30.2,
          24.3,
          27.3,
          29.2,
          16.8,
          30.4,
          33.1,
          20.2,
          26.9,
          30.5,
          28.6,
          33.1,
          31.7,
          28.9,
          46.8,
          29.5,
          32.7,
          33.5,
          43,
          36.5,
          26.7,
          33.1,
          29.6,
          25.7,
          29.6,
          38.6,
          29.6,
          24.1,
          23.4,
          29.7,
          46.5,
          37.4,
          30.1,
          30.5,
          39.6,
          33,
          36.6,
          30,
          38.1,
          25.9,
          25.2,
          28.4,
          28.7,
          33.8,
          24.3,
          24.1,
          32.7,
          30.1,
          29.8,
          33.3,
          25.1,
          28.3,
          28.5,
          35.6,
          36.9,
          32.6,
          41.3,
          37.5,
          31.4,
          39.5,
          34.3,
          31.1,
          21.5,
          28.7,
          38.1,
          31.2,
          32.9,
          25.1,
          25.1,
          43.4,
          25.7,
          27.9,
          23.6,
          28.7,
          24,
          39.2,
          34.4,
          26,
          23.2,
          30.3,
          28.9,
          30.9,
          31.4,
          23.8,
          25.3,
          28.7,
          32.1,
          33.7,
          22.4,
          30.4,
          28.3,
          35.7,
          35.3,
          30.5,
          31,
          30.9,
          27.4,
          44.2,
          33.9,
          37.7,
          26.1,
          33.9,
          30.6,
          25.8,
          39.4,
          25.5,
          42.1,
          31.7,
          29.7,
          36.2,
          40.5,
          28,
          38.9,
          30.2,
          28.1,
          31.4,
          38,
          31.8,
          36.3,
          47.4,
          30.2,
          25.8,
          35.4,
          46.7,
          28.6,
          46.2,
          30.8,
          28.9,
          21.4,
          31.7,
          41.3,
          23.8,
          33.4,
          34.2,
          34.1,
          35.5,
          20,
          32.7,
          30.5,
          44.8,
          32.1,
          30.5,
          40.6,
          30.6,
          31.9,
          40.6,
          29.1,
          37.3,
          43.1,
          36.9,
          34.3,
          27.2,
          26.8,
          38.1,
          30.2,
          23.5,
          25.5,
          30.6,
          45.4,
          23.7,
          20.7,
          28.3,
          20.2,
          30.2,
          35.9,
          30.7,
          29,
          19.6,
          31.1,
          21.9,
          40.3,
          33.7,
          29.5,
          33.3,
          32.6,
          37.5,
          39.2,
          31.6,
          25.3,
          39.1,
          28.3,
          34.1,
          25.2,
          23.7,
          27,
          37.8,
          29.4,
          34.8,
          33.2,
          19,
          33,
          36.6,
          28.6,
          25.6,
          33.1,
          37.1,
          31.4,
          34.1,
          21.3,
          33.5,
          28.8,
          26,
          28.9,
          42.5,
          38,
          39,
          36.1,
          29.3,
          35.5,
          22.7,
          39.7,
          38.2,
          24.5,
          38.1,
          26.4,
          33.7,
          42.4,
          28.3,
          33.9,
          35,
          35.3,
          30.8,
          26.2,
          23.4,
          28.5,
          33,
          42.7,
          39.6,
          31.1,
          36.3,
          35.2,
          25.3,
          42.4,
          33.2,
          35.9,
          28.8,
          46.5,
          24,
          31.5,
          33.7,
          23,
          38.1,
          28.7,
          32.8,
          32,
          29.8,
          31.6,
          31.2,
          29.7,
          31,
          43.9,
          21.4,
          40.8,
          31.4,
          36.1,
          23.2,
          17.4,
          20.3,
          35.3,
          24.3,
          18.5,
          26.4,
          26.1,
          41.7,
          24.1,
          31.1,
          27.4,
          36.2,
          32.4,
          23.7,
          34.8,
          40.2,
          32.3,
          35.8,
          33.7,
          39.3,
          34.9,
          44.7,
          41.5,
          26.4,
          29.5,
          32.9,
          38.1,
          28.7,
          30.5,
          27.7,
          35.2,
          23.5,
          30.7,
          40.5,
          22.6,
          28.9,
          22.6,
          24.3,
          36.7,
          33.4,
          40.7,
          36.6,
          37.4,
          35.4,
          27.1,
          39.1,
          28.4,
          21.8,
          40.3,
          36.1,
          24.4,
          21.4,
          30.1,
          27.3,
          32.1,
          34.8,
          38.4,
          23.7,
          31.7,
          35.5,
          24,
          29.2,
          34.1,
          26.6,
          26.4,
          30.1,
          27,
          21.8,
          36,
          30.9,
          26.4,
          29,
          37.9,
          22.8,
          33.6,
          27.6,
          22.8,
          27.8,
          37.4,
          38.2,
          34.6,
          35.2,
          27.1,
          26,
          25.2,
          31.8,
          32.3,
          29,
          39.7,
          19.5,
          36.1,
          26.7,
          36.5,
          28.9,
          34.2,
          33.3,
          32.3,
          39.8,
          34.3,
          28.9,
          24.4,
          41.1,
          36,
          27.6,
          29.3,
          27.7,
          37,
          36.9,
          22.5,
          29.9,
          41.8,
          27.6,
          23.2,
          20.9,
          31.9,
          28.5,
          44.2,
          22.9,
          33.1,
          24.8,
          26.2,
          36,
          22.3,
          42.2,
          26.5,
          35.8,
          41.4,
          36.6,
          30.1,
          25.8,
          30.8,
          42.9,
          21,
          22.5,
          34.4,
          31.5,
          24.2,
          37.1,
          26.1,
          35.5,
          33.7,
          17.7,
          31.1,
          29.8,
          24.3,
          31.8,
          31.8,
          28,
          30.8,
          21.9,
          33.1,
          25.8,
          23.8,
          34.4,
          33.8,
          36,
          31.5,
          28.3,
          23.5,
          31.4,
          31.1,
          24.7,
          32.8,
          29.8,
          30.5,
          32.5,
          34.2,
          50.4,
          24.1,
          32.8,
          30.8,
          32.3,
          35.5,
          23.8,
          23.8,
          29.6,
          33.1,
          24.1,
          32.2,
          28.1,
          47.6,
          28,
          33.5,
          19.9,
          25.4,
          29.9,
          37.3,
          43.7,
          23.7,
          24.3,
          36.2,
          29.5,
          24.9,
          30.1,
          21.9,
          28.1,
          27.1,
          33.4,
          28.8,
          29.5,
          34.8,
          27.4,
          22.1,
          37.1,
          26.7,
          28.9,
          29,
          30,
          39.5,
          33.6,
          26.9,
          29,
          24,
          38.9,
          32.1,
          44,
          20,
          25.6,
          40.3,
          22.5,
          22.5,
          40.9,
          27.3,
          36.9,
          35.1,
          29.4,
          32.6,
          32.3,
          39.8,
          24.6,
          28.3,
          31.7,
          26.7,
          27.5,
          24.6,
          34,
          26.9,
          22.9,
          28.2,
          34.2,
          25,
          33.2,
          31,
          35.8,
          23.2,
          32.1,
          23.4,
          20.1,
          39.2,
          34.2,
          46.5,
          32.5,
          25.8,
          35.3,
          37.2,
          27.5,
          29.7,
          24.2,
          26.2,
          29.5,
          23.2,
          46.1,
          40.2,
          22.6,
          39.9,
          35.8,
          35.8,
          34.2,
          31.3,
          29.7,
          18.3,
          42.9,
          28.4,
          30.2,
          27.8,
          39.5,
          30.8,
          26.8,
          35,
          36.7,
          39.6,
          25.9,
          35.2,
          24.8,
          36.8,
          27.1,
          24.8,
          25.4,
          25.7,
          34.3,
          28.2,
          23.6,
          20.2,
          40.5,
          35.4,
          22.9,
          40.2,
          29.2,
          40,
          29.9,
          25.5,
          21.4,
          25.9,
          30.6,
          30.1,
          25.8,
          30.1,
          27.6,
          34.7,
          20.5,
          19.8,
          27.8,
          31.6,
          28.3,
          20,
          23.3,
          34.1,
          36.9,
          36.3,
          26.9,
          23,
          32.7,
          25.8,
          29.6,
          19.2,
          31.7,
          29.3,
          28.2,
          25,
          27.7,
          22.8,
          20.1,
          33.3,
          32.3,
          27.6,
          25.5,
          24.6,
          34.2,
          35.8,
          32.7,
          37,
          31,
          36.1,
          23.3,
          45.3,
          34.6,
          26,
          18.7,
          31.6,
          17.3,
          23.7,
          35.2,
          27.9,
          21.6,
          38.4,
          23,
          37.1,
          30.5,
          28.9,
          27.3,
          28,
          23.1,
          30.7,
          25.8,
          35.2,
          24.7,
          25.1,
          52.6,
          22.5,
          30.9,
          37,
          26.4,
          29.8,
          29.8,
          21.5,
          27.6,
          28.9,
          31.8,
          39.5,
          33.8,
          32,
          27.9,
          41.1,
          28.6,
          25.6,
          25.3,
          37.3,
          42.7,
          21.7,
          31.9,
          37.1,
          31.4,
          31.3,
          28.9,
          18.3,
          29.6,
          32,
          26,
          31.7,
          33.7,
          21.8,
          27.8,
          20,
          31.5,
          30.5,
          18.3,
          29,
          31.5,
          47.7,
          22.1,
          36.2,
          29.8,
          32.7,
          30.4,
          33.7,
          31.4,
          35,
          33.8,
          30.9,
          34,
          19.1,
          28.6,
          38.9,
          36.1,
          29.8,
          31.2,
          29.9,
          26.2,
          30,
          20.4,
          32.3,
          38.4,
          25.9,
          26.3,
          24.5,
          32.7,
          29.6,
          33.3,
          35.8,
          20,
          31.4,
          38.2,
          36.9,
          32.4,
          42.8,
          25.1,
          29.9,
          35.9,
          32.8,
          18.6,
          23.9,
          45.9,
          40.3,
          18.3,
          33.8,
          28.1,
          25,
          22.2,
          30.3,
          32.5,
          37.1,
          32.6,
          24.9,
          32.3,
          32.3,
          32.8,
          32.8,
          31.9,
          21.5,
          34.1,
          30.3,
          36.5,
          32.6,
          35.8,
          27.9,
          22.1,
          44.9,
          23.2,
          30.6,
          41.1,
          34.6,
          42.1,
          38.8,
          28.2,
          28.3,
          26.1,
          40.4,
          24.6,
          35.2,
          34.1,
          27.4,
          26.7,
          41.9,
          29.3,
          32.1,
          27.1,
          24.1,
          27.4,
          34.9,
          29.8,
          41.3,
          29.9,
          30.3,
          27.4,
          28.5,
          23.6,
          35.6,
          32.7,
          25.3,
          28,
          32.8,
          21.8,
          32.4,
          36.6,
          21.8,
          27.9,
          30,
          33.6,
          29.4,
          25.8,
          24.3,
          40.4,
          32.1,
          32.3,
          27.3,
          17.9,
          34.8,
          33.4,
          25.6,
          37.1,
          30.9,
          34.1,
          21.5,
          33.3,
          31.3,
          39.1,
          25.1,
          37.3,
          34.6,
          30.2,
          21.9,
          25,
          25.3,
          24.4,
          23.9,
          39.8,
          16.8,
          37.2,
          34.4,
          30.3,
          34.5,
          21.8,
          24.6,
          23.3,
          27.8,
          31.1,
          21.7,
          28.2,
          22.7,
          42.1,
          41.8,
          37,
          21.3,
          33.1,
          33.3,
          24.3,
          25.7,
          29.4,
          39.8,
          33.6,
          29.8,
          19.8,
          27.3,
          29.3,
          27.7,
          37.9,
          36.4,
          27.6,
          37.7,
          23.2,
          20.5,
          37.1,
          28.1,
          29.9,
          33.3,
          23.8,
          30.5,
          31.1,
          33.3,
          27.5,
          33.9,
          34.5,
          25.5,
          27.6,
          27.1,
          23.7,
          30.4,
          29.7,
          29.9,
          26.8,
          33.3,
          27.6,
          21.7,
          30,
          36.3,
          24.3,
          17.3,
          25.9,
          39.4,
          34.3,
          20,
          34.9,
          23.2,
          25.7,
          25.2,
          22,
          26.1,
          26.5,
          27.5,
          25.7,
          30.4,
          30.9,
          20.8,
          27.8,
          24.6,
          27.7,
          21.9,
          28.1,
          30.2,
          32.2,
          26.3,
          26.7,
          42.9,
          34.7,
          23.7,
          28.3,
          20.6,
          53.1,
          39.7,
          26.3,
          31.1,
          26.7,
          38.8,
          40.4,
          25.9,
          33.5,
          32.9,
          30,
          24.2,
          38.6,
          25.7,
          33.4,
          44.7,
          31,
          31.9,
          36.9,
          25.8,
          29.1
         ],
         "y": [
          16884.92,
          1725.55,
          4449.46,
          21984.47,
          3866.86,
          3756.62,
          8240.59,
          7281.51,
          6406.41,
          28923.14,
          2721.32,
          27808.73,
          1826.84,
          11090.72,
          39611.76,
          1837.24,
          10797.34,
          2395.17,
          10602.39,
          36837.47,
          13228.85,
          4149.74,
          1137.01,
          37701.88,
          6203.9,
          14001.13,
          14451.84,
          12268.63,
          2775.19,
          38711,
          35585.58,
          2198.19,
          4687.8,
          13770.1,
          51194.56,
          1625.43,
          15612.19,
          2302.3,
          39774.28,
          48173.36,
          3046.06,
          4949.76,
          6272.48,
          6313.76,
          6079.67,
          20630.28,
          3393.36,
          3556.92,
          12629.9,
          38709.18,
          2211.13,
          3579.83,
          23568.27,
          37742.58,
          8059.68,
          47496.49,
          13607.37,
          34303.17,
          23244.79,
          5989.52,
          8606.22,
          4504.66,
          30166.62,
          4133.64,
          14711.74,
          1743.21,
          14235.07,
          6389.38,
          5920.1,
          17663.14,
          16577.78,
          6799.46,
          11741.73,
          11946.63,
          7726.85,
          11356.66,
          3947.41,
          1532.47,
          2755.02,
          6571.02,
          4441.21,
          7935.29,
          37165.16,
          11033.66,
          39836.52,
          21098.55,
          43578.94,
          11073.18,
          8026.67,
          11082.58,
          2026.97,
          10942.13,
          30184.94,
          5729.01,
          47291.06,
          3766.88,
          12105.32,
          10226.28,
          22412.65,
          15820.7,
          6186.13,
          3645.09,
          21344.85,
          30942.19,
          5003.85,
          17560.38,
          2331.52,
          3877.3,
          2867.12,
          47055.53,
          10825.25,
          11881.36,
          4646.76,
          2404.73,
          11488.32,
          30260,
          11381.33,
          19107.78,
          8601.33,
          6686.43,
          7740.34,
          1705.62,
          2257.48,
          39556.49,
          10115.01,
          3385.4,
          17081.08,
          9634.54,
          32734.19,
          6082.41,
          12815.44,
          13616.36,
          11163.57,
          1632.56,
          2457.21,
          2155.68,
          1261.44,
          2045.69,
          27322.73,
          2166.73,
          27375.9,
          3490.55,
          18972.5,
          18157.88,
          20745.99,
          5138.26,
          40720.55,
          9877.61,
          10959.69,
          1842.52,
          5125.22,
          7789.64,
          6334.34,
          19964.75,
          7077.19,
          6948.7,
          21223.68,
          15518.18,
          36950.26,
          19749.38,
          21348.71,
          36149.48,
          10450.55,
          5152.13,
          5028.15,
          10407.09,
          4830.63,
          6128.8,
          2719.28,
          4827.9,
          13405.39,
          8116.68,
          1694.8,
          5246.05,
          2855.44,
          48824.45,
          6455.86,
          10436.1,
          8823.28,
          8538.29,
          11735.88,
          1631.82,
          4005.42,
          7419.48,
          7731.43,
          43753.34,
          3981.98,
          5325.65,
          6775.96,
          4922.92,
          12557.61,
          4883.87,
          2137.65,
          12044.34,
          1137.47,
          1639.56,
          5649.72,
          8516.83,
          9644.25,
          14901.52,
          2130.68,
          8871.15,
          13012.21,
          37133.9,
          7147.11,
          4337.74,
          11743.3,
          20984.09,
          13880.95,
          6610.11,
          1980.07,
          8162.72,
          3537.7,
          5002.78,
          8520.03,
          7371.77,
          10355.64,
          2483.74,
          3392.98,
          25081.77,
          5012.47,
          10564.88,
          5253.52,
          34779.62,
          19515.54,
          11987.17,
          2689.5,
          24227.34,
          7358.18,
          9225.26,
          7443.64,
          14001.29,
          1727.79,
          12333.83,
          6710.19,
          19444.27,
          1615.77,
          4463.21,
          17352.68,
          7152.67,
          38511.63,
          5354.07,
          35160.13,
          7196.87,
          29523.17,
          24476.48,
          12648.7,
          1986.93,
          1832.09,
          4040.56,
          12829.46,
          47305.31,
          44260.75,
          4260.74,
          41097.16,
          13047.33,
          43921.18,
          5400.98,
          11520.1,
          33750.29,
          11837.16,
          17085.27,
          24869.84,
          36219.41,
          20463,
          46151.12,
          17179.52,
          14590.63,
          7441.05,
          9282.48,
          1719.44,
          42856.84,
          7265.7,
          9617.66,
          2523.17,
          9715.84,
          2803.7,
          2150.47,
          12928.79,
          9855.13,
          22331.57,
          48549.18,
          4237.13,
          11879.1,
          9625.92,
          7742.11,
          9432.93,
          14256.19,
          47896.79,
          25992.82,
          3172.02,
          20277.81,
          42112.24,
          2156.75,
          3906.13,
          1704.57,
          16297.85,
          21978.68,
          38746.36,
          9249.5,
          6746.74,
          24873.38,
          12265.51,
          4349.46,
          12646.21,
          19442.35,
          20177.67,
          4151.03,
          11944.59,
          7749.16,
          8444.47,
          1737.38,
          42124.52,
          8124.41,
          34838.87,
          9722.77,
          8835.26,
          10435.07,
          7421.19,
          4667.61,
          4894.75,
          24671.66,
          35491.64,
          11566.3,
          2866.09,
          6600.21,
          3561.89,
          42760.5,
          47928.03,
          9144.57,
          48517.56,
          24393.62,
          13429.04,
          11658.38,
          19144.58,
          13822.8,
          12142.58,
          13937.67,
          41919.1,
          8232.64,
          18955.22,
          13352.1,
          13217.09,
          13981.85,
          10977.21,
          6184.3,
          4890,
          8334.46,
          5478.04,
          1635.73,
          11830.61,
          8932.08,
          3554.2,
          12404.88,
          14133.04,
          24603.05,
          8944.12,
          9620.33,
          1837.28,
          1607.51,
          10043.25,
          4751.07,
          13844.51,
          2597.78,
          3180.51,
          9778.35,
          13430.27,
          8017.06,
          8116.27,
          3481.87,
          13415.04,
          12029.29,
          7639.42,
          36085.22,
          1391.53,
          18033.97,
          21659.93,
          38126.25,
          16455.71,
          27000.98,
          15006.58,
          42303.69,
          20781.49,
          5846.92,
          8302.54,
          1261.86,
          11856.41,
          30284.64,
          3176.82,
          4618.08,
          10736.87,
          2138.07,
          8964.06,
          9290.14,
          9411.01,
          7526.71,
          8522,
          16586.5,
          14988.43,
          1631.67,
          9264.8,
          8083.92,
          14692.67,
          10269.46,
          3260.2,
          11396.9,
          4185.1,
          8539.67,
          6652.53,
          4074.45,
          1621.34,
          19594.81,
          14455.64,
          5080.1,
          2134.9,
          7345.73,
          9140.95,
          18608.26,
          14418.28,
          28950.47,
          46889.26,
          46599.11,
          39125.33,
          2727.4,
          8968.33,
          9788.87,
          6555.07,
          7323.73,
          3167.46,
          18804.75,
          23082.96,
          4906.41,
          5969.72,
          12638.2,
          4243.59,
          13919.82,
          2254.8,
          5926.85,
          12592.53,
          2897.32,
          4738.27,
          37079.37,
          1149.4,
          28287.9,
          26109.33,
          7345.08,
          12731,
          11454.02,
          5910.94,
          4762.33,
          7512.27,
          4032.24,
          1969.61,
          1769.53,
          4686.39,
          21797,
          11881.97,
          11840.78,
          10601.41,
          7682.67,
          10381.48,
          22144.03,
          15230.32,
          11165.42,
          1632.04,
          19521.97,
          13224.69,
          12643.38,
          23288.93,
          2201.1,
          2497.04,
          2203.47,
          1744.47,
          20878.78,
          25382.3,
          28868.66,
          35147.53,
          2534.39,
          1534.3,
          1824.29,
          15555.19,
          9304.7,
          1622.19,
          9880.07,
          9563.03,
          4347.02,
          12475.35,
          1253.94,
          48885.14,
          10461.98,
          1748.77,
          24513.09,
          2196.47,
          12574.05,
          17942.11,
          1967.02,
          4931.65,
          8027.97,
          8211.1,
          13470.86,
          36197.7,
          6837.37,
          22218.11,
          32548.34,
          5974.38,
          6796.86,
          2643.27,
          3077.1,
          3044.21,
          11455.28,
          11763,
          2498.41,
          9361.33,
          1256.3,
          21082.16,
          11362.76,
          27724.29,
          8413.46,
          5240.77,
          3857.76,
          25656.58,
          3994.18,
          9866.3,
          5397.62,
          38245.59,
          11482.63,
          24059.68,
          9861.03,
          8342.91,
          1708,
          48675.52,
          14043.48,
          12925.89,
          19214.71,
          13831.12,
          6067.13,
          5972.38,
          8825.09,
          8233.1,
          27346.04,
          6196.45,
          3056.39,
          13887.2,
          63770.43,
          10231.5,
          23807.24,
          3268.85,
          11538.42,
          3213.62,
          45863.21,
          13390.56,
          3972.92,
          12957.12,
          11187.66,
          17878.9,
          3847.67,
          8334.59,
          3935.18,
          39983.43,
          1646.43,
          9193.84,
          10923.93,
          2494.02,
          9058.73,
          2801.26,
          2128.43,
          6373.56,
          7256.72,
          11552.9,
          45702.02,
          3761.29,
          2219.45,
          4753.64,
          31620,
          13224.06,
          12222.9,
          1665,
          58571.07,
          9724.53,
          3206.49,
          12913.99,
          1639.56,
          6356.27,
          17626.24,
          1242.82,
          4779.6,
          3861.21,
          43943.88,
          13635.64,
          5976.83,
          11842.44,
          8428.07,
          2566.47,
          15359.1,
          5709.16,
          8823.99,
          7640.31,
          5594.85,
          7441.5,
          33471.97,
          1633.04,
          9174.14,
          11070.54,
          16085.13,
          17468.98,
          9283.56,
          3558.62,
          25678.78,
          4435.09,
          39241.44,
          8547.69,
          6571.54,
          2207.7,
          6753.04,
          1880.07,
          42969.85,
          11658.12,
          23306.55,
          34439.86,
          10713.64,
          3659.35,
          40182.25,
          9182.17,
          34617.84,
          12129.61,
          3736.46,
          6748.59,
          11326.71,
          11365.95,
          42983.46,
          10085.85,
          1977.82,
          3366.67,
          7173.36,
          9391.35,
          14410.93,
          2709.11,
          24915.05,
          20149.32,
          12949.16,
          6666.24,
          32787.46,
          13143.86,
          4466.62,
          18806.15,
          10141.14,
          6123.57,
          8252.28,
          1712.23,
          12430.95,
          9800.89,
          10579.71,
          8280.62,
          8527.53,
          12244.53,
          24667.42,
          3410.32,
          4058.71,
          26392.26,
          14394.4,
          6435.62,
          22192.44,
          5148.55,
          1136.4,
          27037.91,
          42560.43,
          8703.46,
          40003.33,
          45710.21,
          6500.24,
          4837.58,
          3943.6,
          4399.73,
          6185.32,
          46200.99,
          7222.79,
          12485.8,
          46130.53,
          12363.55,
          10156.78,
          2585.27,
          1242.26,
          40103.89,
          9863.47,
          4766.02,
          11244.38,
          7729.65,
          5438.75,
          26236.58,
          34806.47,
          2104.11,
          8068.19,
          2362.23,
          2352.97,
          3578,
          3201.25,
          29186.48,
          40273.65,
          10976.25,
          3500.61,
          2020.55,
          9541.7,
          9504.31,
          5385.34,
          8930.93,
          5375.04,
          44400.41,
          10264.44,
          6113.23,
          5469.01,
          1727.54,
          10107.22,
          8310.84,
          1984.45,
          2457.5,
          12146.97,
          9566.99,
          13112.6,
          10848.13,
          12231.61,
          9875.68,
          11264.54,
          12979.36,
          1263.25,
          10106.13,
          40932.43,
          6664.69,
          16657.72,
          2217.6,
          6781.35,
          19362,
          10065.41,
          4234.93,
          9447.25,
          14007.22,
          9583.89,
          40419.02,
          3484.33,
          36189.1,
          44585.46,
          8604.48,
          18246.5,
          43254.42,
          3757.84,
          8827.21,
          9910.36,
          11737.85,
          1627.28,
          8556.91,
          3062.51,
          19539.24,
          1906.36,
          14210.54,
          11833.78,
          17128.43,
          5031.27,
          7985.82,
          23065.42,
          5428.73,
          36307.8,
          3925.76,
          2416.96,
          19040.88,
          3070.81,
          9095.07,
          11842.62,
          8062.76,
          7050.64,
          14319.03,
          6933.24,
          27941.29,
          11150.78,
          12797.21,
          17748.51,
          7261.74,
          10560.49,
          6986.7,
          7448.4,
          5934.38,
          9869.81,
          18259.22,
          1146.8,
          9386.16,
          24520.26,
          4350.51,
          6414.18,
          12741.17,
          1917.32,
          5209.58,
          13457.96,
          5662.23,
          1252.41,
          2731.91,
          21195.82,
          7209.49,
          18310.74,
          4266.17,
          4719.52,
          11848.14,
          17904.53,
          7046.72,
          14313.85,
          2103.08,
          38792.69,
          1815.88,
          7731.86,
          28476.73,
          2136.88,
          1131.51,
          3309.79,
          9414.92,
          6360.99,
          11013.71,
          4428.89,
          5584.31,
          1877.93,
          2842.76,
          3597.6,
          23401.31,
          55135.4,
          7445.92,
          2680.95,
          1621.88,
          8219.2,
          12523.6,
          16069.08,
          43813.87,
          20773.63,
          39597.41,
          6117.49,
          13393.76,
          5266.37,
          4719.74,
          11743.93,
          5377.46,
          7160.33,
          4402.23,
          11657.72,
          6402.29,
          12622.18,
          1526.31,
          12323.94,
          36021.01,
          27533.91,
          10072.06,
          45008.96,
          9872.7,
          2438.06,
          2974.13,
          10601.63,
          37270.15,
          14119.62,
          42111.66,
          11729.68,
          24106.91,
          1875.34,
          40974.16,
          15817.99,
          18218.16,
          10965.45,
          46113.51,
          7151.09,
          12269.69,
          5458.05,
          8782.47,
          6600.36,
          1141.45,
          11576.13,
          13129.6,
          4391.65,
          8457.82,
          3392.37,
          5966.89,
          6849.03,
          8891.14,
          2690.11,
          26140.36,
          6653.79,
          6282.24,
          6311.95,
          3443.06,
          2789.06,
          2585.85,
          46255.11,
          4877.98,
          19719.69,
          27218.44,
          5272.18,
          1682.6,
          11945.13,
          29330.98,
          7243.81,
          10422.92,
          44202.65,
          13555,
          13063.88,
          19798.05,
          2221.56,
          1634.57,
          2117.34,
          8688.86,
          48673.56,
          4661.29,
          8125.78,
          12644.59,
          4564.19,
          4846.92,
          7633.72,
          15170.07,
          17496.31,
          2639.04,
          33732.69,
          14382.71,
          7626.99,
          5257.51,
          2473.33,
          21774.32,
          35069.37,
          13041.92,
          5245.23,
          13451.12,
          13462.52,
          5488.26,
          4320.41,
          6250.44,
          25333.33,
          2913.57,
          12032.33,
          13470.8,
          6289.75,
          2927.06,
          6238.3,
          10096.97,
          7348.14,
          4673.39,
          12233.83,
          32108.66,
          8965.8,
          2304,
          9487.64,
          1121.87,
          9549.57,
          2217.47,
          1628.47,
          12982.87,
          11674.13,
          7160.09,
          39047.29,
          6358.78,
          19933.46,
          11534.87,
          47462.89,
          4527.18,
          38998.55,
          20009.63,
          3875.73,
          41999.52,
          12609.89,
          41034.22,
          28468.92,
          2730.11,
          3353.28,
          14474.68,
          9500.57,
          26467.1,
          4746.34,
          23967.38,
          7518.03,
          3279.87,
          8596.83,
          10702.64,
          4992.38,
          2527.82,
          1759.34,
          2322.62,
          16138.76,
          7804.16,
          2902.91,
          9704.67,
          4889.04,
          25517.11,
          4500.34,
          19199.94,
          16796.41,
          4915.06,
          7624.63,
          8410.05,
          28340.19,
          4518.83,
          14571.89,
          3378.91,
          7144.86,
          10118.42,
          5484.47,
          16420.49,
          7986.48,
          7418.52,
          13887.97,
          6551.75,
          5267.82,
          17361.77,
          34472.84,
          1972.95,
          21232.18,
          8627.54,
          4433.39,
          4438.26,
          24915.22,
          23241.47,
          9957.72,
          8269.04,
          18767.74,
          36580.28,
          8765.25,
          5383.54,
          12124.99,
          2709.24,
          3987.93,
          12495.29,
          26018.95,
          8798.59,
          35595.59,
          42211.14,
          1711.03,
          8569.86,
          2020.18,
          16450.89,
          21595.38,
          9850.43,
          6877.98,
          21677.28,
          44423.8,
          4137.52,
          13747.87,
          12950.07,
          12094.48,
          37484.45,
          39725.52,
          2250.84,
          22493.66,
          20234.85,
          1704.7,
          33475.82,
          3161.45,
          11394.07,
          21880.82,
          7325.05,
          44501.4,
          3594.17,
          39727.61,
          8023.14,
          14394.56,
          9288.03,
          25309.49,
          3353.47,
          10594.5,
          8277.52,
          17929.3,
          2480.98,
          4462.72,
          1981.58,
          11554.22,
          48970.25,
          6548.2,
          5708.87,
          7045.5,
          8978.19,
          5757.41,
          14349.85,
          10928.85,
          39871.7,
          13974.46,
          1909.53,
          12096.65,
          13204.29,
          4562.84,
          8551.35,
          2102.26,
          34672.15,
          15161.53,
          11884.05,
          4454.4,
          5855.9,
          4076.5,
          15019.76,
          19023.26,
          10796.35,
          11353.23,
          9748.91,
          10577.09,
          41676.08,
          11286.54,
          3591.48,
          33907.55,
          11299.34,
          4561.19,
          44641.2,
          1674.63,
          23045.57,
          3227.12,
          16776.3,
          11253.42,
          3471.41,
          11363.28,
          20420.6,
          10338.93,
          8988.16,
          10493.95,
          2904.09,
          8605.36,
          11512.41,
          41949.24,
          24180.93,
          5312.17,
          2396.1,
          10807.49,
          9222.4,
          36124.57,
          38282.75,
          5693.43,
          34166.27,
          8347.16,
          46661.44,
          18903.49,
          40904.2,
          14254.61,
          10214.64,
          5836.52,
          14358.36,
          1728.9,
          8582.3,
          3693.43,
          20709.02,
          9991.04,
          19673.34,
          11085.59,
          7623.52,
          3176.29,
          3704.35,
          36898.73,
          9048.03,
          7954.52,
          27117.99,
          6338.08,
          9630.4,
          11289.11,
          52590.83,
          2261.57,
          10791.96,
          5979.73,
          2203.74,
          12235.84,
          40941.29,
          5630.46,
          11015.17,
          7228.22,
          39722.75,
          14426.07,
          2459.72,
          3989.84,
          7727.25,
          5124.19,
          18963.17,
          2200.83,
          7153.55,
          5227.99,
          10982.5,
          4529.48,
          4670.64,
          6112.35,
          17178.68,
          22478.6,
          11093.62,
          6457.84,
          4433.92,
          2154.36,
          23887.66,
          6496.89,
          2899.49,
          19350.37,
          7650.77,
          2850.68,
          2632.99,
          9447.38,
          18328.24,
          8603.82,
          37465.34,
          13844.8,
          21771.34,
          13126.68,
          5327.4,
          13725.47,
          13019.16,
          8671.19,
          4134.08,
          18838.7,
          33307.55,
          5699.84,
          6393.6,
          4934.71,
          6198.75,
          8733.23,
          2055.32,
          9964.06,
          18223.45,
          5116.5,
          36910.61,
          38415.47,
          20296.86,
          12347.17,
          5373.36,
          23563.02,
          1702.46,
          10806.84,
          3956.07,
          12890.06,
          5415.66,
          4058.12,
          41661.6,
          7537.16,
          4718.2,
          6593.51,
          8442.67,
          26125.67,
          6858.48,
          4795.66,
          6640.54,
          7162.01,
          10594.23,
          11938.26,
          60021.4,
          20167.34,
          12479.71,
          11345.52,
          8515.76,
          2699.57,
          14449.85,
          12224.35,
          6985.51,
          3238.44,
          47269.85,
          49577.66,
          4296.27,
          3171.61,
          1135.94,
          5615.37,
          9101.8,
          6059.17,
          1633.96,
          37607.53,
          18648.42,
          1241.57,
          16232.85,
          15828.82,
          4415.16,
          6474.01,
          11436.74,
          11305.93,
          30063.58,
          10197.77,
          4544.23,
          3277.16,
          6770.19,
          7337.75,
          10370.91,
          26926.51,
          10704.47,
          34254.05,
          1880.49,
          8615.3,
          3292.53,
          3021.81,
          14478.33,
          4747.05,
          17043.34,
          10959.33,
          2741.95,
          4357.04,
          22462.04,
          4189.11,
          8283.68,
          24535.7,
          14283.46,
          1720.35,
          47403.88,
          8534.67,
          3732.63,
          5472.45,
          38344.57,
          7147.47,
          7133.9,
          34828.65,
          1515.34,
          9301.89,
          11931.13,
          1964.78,
          1708.93,
          4340.44,
          5261.47,
          2710.83,
          62592.87,
          46718.16,
          3208.79,
          37829.72,
          21259.38,
          2464.62,
          16115.3,
          21472.48,
          33900.65,
          6875.96,
          6940.91,
          4571.41,
          4536.26,
          36397.58,
          18765.88,
          11272.33,
          1731.68,
          1163.46,
          19496.72,
          7201.7,
          5425.02,
          28101.33,
          12981.35,
          43896.38,
          4239.89,
          13143.34,
          7050.02,
          9377.9,
          22395.74,
          10325.21,
          12629.17,
          10795.94,
          11411.69,
          10600.55,
          2205.98,
          1629.83,
          2007.95,
          29141.36
         ]
        }
       ],
       "layout": {
        "template": {
         "data": {
          "bar": [
           {
            "error_x": {
             "color": "#2a3f5f"
            },
            "error_y": {
             "color": "#2a3f5f"
            },
            "marker": {
             "line": {
              "color": "#E5ECF6",
              "width": 0.5
             },
             "pattern": {
              "fillmode": "overlay",
              "size": 10,
              "solidity": 0.2
             }
            },
            "type": "bar"
           }
          ],
          "barpolar": [
           {
            "marker": {
             "line": {
              "color": "#E5ECF6",
              "width": 0.5
             },
             "pattern": {
              "fillmode": "overlay",
              "size": 10,
              "solidity": 0.2
             }
            },
            "type": "barpolar"
           }
          ],
          "carpet": [
           {
            "aaxis": {
             "endlinecolor": "#2a3f5f",
             "gridcolor": "white",
             "linecolor": "white",
             "minorgridcolor": "white",
             "startlinecolor": "#2a3f5f"
            },
            "baxis": {
             "endlinecolor": "#2a3f5f",
             "gridcolor": "white",
             "linecolor": "white",
             "minorgridcolor": "white",
             "startlinecolor": "#2a3f5f"
            },
            "type": "carpet"
           }
          ],
          "choropleth": [
           {
            "colorbar": {
             "outlinewidth": 0,
             "ticks": ""
            },
            "type": "choropleth"
           }
          ],
          "contour": [
           {
            "colorbar": {
             "outlinewidth": 0,
             "ticks": ""
            },
            "colorscale": [
             [
              0,
              "#0d0887"
             ],
             [
              0.1111111111111111,
              "#46039f"
             ],
             [
              0.2222222222222222,
              "#7201a8"
             ],
             [
              0.3333333333333333,
              "#9c179e"
             ],
             [
              0.4444444444444444,
              "#bd3786"
             ],
             [
              0.5555555555555556,
              "#d8576b"
             ],
             [
              0.6666666666666666,
              "#ed7953"
             ],
             [
              0.7777777777777778,
              "#fb9f3a"
             ],
             [
              0.8888888888888888,
              "#fdca26"
             ],
             [
              1,
              "#f0f921"
             ]
            ],
            "type": "contour"
           }
          ],
          "contourcarpet": [
           {
            "colorbar": {
             "outlinewidth": 0,
             "ticks": ""
            },
            "type": "contourcarpet"
           }
          ],
          "heatmap": [
           {
            "colorbar": {
             "outlinewidth": 0,
             "ticks": ""
            },
            "colorscale": [
             [
              0,
              "#0d0887"
             ],
             [
              0.1111111111111111,
              "#46039f"
             ],
             [
              0.2222222222222222,
              "#7201a8"
             ],
             [
              0.3333333333333333,
              "#9c179e"
             ],
             [
              0.4444444444444444,
              "#bd3786"
             ],
             [
              0.5555555555555556,
              "#d8576b"
             ],
             [
              0.6666666666666666,
              "#ed7953"
             ],
             [
              0.7777777777777778,
              "#fb9f3a"
             ],
             [
              0.8888888888888888,
              "#fdca26"
             ],
             [
              1,
              "#f0f921"
             ]
            ],
            "type": "heatmap"
           }
          ],
          "heatmapgl": [
           {
            "colorbar": {
             "outlinewidth": 0,
             "ticks": ""
            },
            "colorscale": [
             [
              0,
              "#0d0887"
             ],
             [
              0.1111111111111111,
              "#46039f"
             ],
             [
              0.2222222222222222,
              "#7201a8"
             ],
             [
              0.3333333333333333,
              "#9c179e"
             ],
             [
              0.4444444444444444,
              "#bd3786"
             ],
             [
              0.5555555555555556,
              "#d8576b"
             ],
             [
              0.6666666666666666,
              "#ed7953"
             ],
             [
              0.7777777777777778,
              "#fb9f3a"
             ],
             [
              0.8888888888888888,
              "#fdca26"
             ],
             [
              1,
              "#f0f921"
             ]
            ],
            "type": "heatmapgl"
           }
          ],
          "histogram": [
           {
            "marker": {
             "pattern": {
              "fillmode": "overlay",
              "size": 10,
              "solidity": 0.2
             }
            },
            "type": "histogram"
           }
          ],
          "histogram2d": [
           {
            "colorbar": {
             "outlinewidth": 0,
             "ticks": ""
            },
            "colorscale": [
             [
              0,
              "#0d0887"
             ],
             [
              0.1111111111111111,
              "#46039f"
             ],
             [
              0.2222222222222222,
              "#7201a8"
             ],
             [
              0.3333333333333333,
              "#9c179e"
             ],
             [
              0.4444444444444444,
              "#bd3786"
             ],
             [
              0.5555555555555556,
              "#d8576b"
             ],
             [
              0.6666666666666666,
              "#ed7953"
             ],
             [
              0.7777777777777778,
              "#fb9f3a"
             ],
             [
              0.8888888888888888,
              "#fdca26"
             ],
             [
              1,
              "#f0f921"
             ]
            ],
            "type": "histogram2d"
           }
          ],
          "histogram2dcontour": [
           {
            "colorbar": {
             "outlinewidth": 0,
             "ticks": ""
            },
            "colorscale": [
             [
              0,
              "#0d0887"
             ],
             [
              0.1111111111111111,
              "#46039f"
             ],
             [
              0.2222222222222222,
              "#7201a8"
             ],
             [
              0.3333333333333333,
              "#9c179e"
             ],
             [
              0.4444444444444444,
              "#bd3786"
             ],
             [
              0.5555555555555556,
              "#d8576b"
             ],
             [
              0.6666666666666666,
              "#ed7953"
             ],
             [
              0.7777777777777778,
              "#fb9f3a"
             ],
             [
              0.8888888888888888,
              "#fdca26"
             ],
             [
              1,
              "#f0f921"
             ]
            ],
            "type": "histogram2dcontour"
           }
          ],
          "mesh3d": [
           {
            "colorbar": {
             "outlinewidth": 0,
             "ticks": ""
            },
            "type": "mesh3d"
           }
          ],
          "parcoords": [
           {
            "line": {
             "colorbar": {
              "outlinewidth": 0,
              "ticks": ""
             }
            },
            "type": "parcoords"
           }
          ],
          "pie": [
           {
            "automargin": true,
            "type": "pie"
           }
          ],
          "scatter": [
           {
            "fillpattern": {
             "fillmode": "overlay",
             "size": 10,
             "solidity": 0.2
            },
            "type": "scatter"
           }
          ],
          "scatter3d": [
           {
            "line": {
             "colorbar": {
              "outlinewidth": 0,
              "ticks": ""
             }
            },
            "marker": {
             "colorbar": {
              "outlinewidth": 0,
              "ticks": ""
             }
            },
            "type": "scatter3d"
           }
          ],
          "scattercarpet": [
           {
            "marker": {
             "colorbar": {
              "outlinewidth": 0,
              "ticks": ""
             }
            },
            "type": "scattercarpet"
           }
          ],
          "scattergeo": [
           {
            "marker": {
             "colorbar": {
              "outlinewidth": 0,
              "ticks": ""
             }
            },
            "type": "scattergeo"
           }
          ],
          "scattergl": [
           {
            "marker": {
             "colorbar": {
              "outlinewidth": 0,
              "ticks": ""
             }
            },
            "type": "scattergl"
           }
          ],
          "scattermapbox": [
           {
            "marker": {
             "colorbar": {
              "outlinewidth": 0,
              "ticks": ""
             }
            },
            "type": "scattermapbox"
           }
          ],
          "scatterpolar": [
           {
            "marker": {
             "colorbar": {
              "outlinewidth": 0,
              "ticks": ""
             }
            },
            "type": "scatterpolar"
           }
          ],
          "scatterpolargl": [
           {
            "marker": {
             "colorbar": {
              "outlinewidth": 0,
              "ticks": ""
             }
            },
            "type": "scatterpolargl"
           }
          ],
          "scatterternary": [
           {
            "marker": {
             "colorbar": {
              "outlinewidth": 0,
              "ticks": ""
             }
            },
            "type": "scatterternary"
           }
          ],
          "surface": [
           {
            "colorbar": {
             "outlinewidth": 0,
             "ticks": ""
            },
            "colorscale": [
             [
              0,
              "#0d0887"
             ],
             [
              0.1111111111111111,
              "#46039f"
             ],
             [
              0.2222222222222222,
              "#7201a8"
             ],
             [
              0.3333333333333333,
              "#9c179e"
             ],
             [
              0.4444444444444444,
              "#bd3786"
             ],
             [
              0.5555555555555556,
              "#d8576b"
             ],
             [
              0.6666666666666666,
              "#ed7953"
             ],
             [
              0.7777777777777778,
              "#fb9f3a"
             ],
             [
              0.8888888888888888,
              "#fdca26"
             ],
             [
              1,
              "#f0f921"
             ]
            ],
            "type": "surface"
           }
          ],
          "table": [
           {
            "cells": {
             "fill": {
              "color": "#EBF0F8"
             },
             "line": {
              "color": "white"
             }
            },
            "header": {
             "fill": {
              "color": "#C8D4E3"
             },
             "line": {
              "color": "white"
             }
            },
            "type": "table"
           }
          ]
         },
         "layout": {
          "annotationdefaults": {
           "arrowcolor": "#2a3f5f",
           "arrowhead": 0,
           "arrowwidth": 1
          },
          "autotypenumbers": "strict",
          "coloraxis": {
           "colorbar": {
            "outlinewidth": 0,
            "ticks": ""
           }
          },
          "colorscale": {
           "diverging": [
            [
             0,
             "#8e0152"
            ],
            [
             0.1,
             "#c51b7d"
            ],
            [
             0.2,
             "#de77ae"
            ],
            [
             0.3,
             "#f1b6da"
            ],
            [
             0.4,
             "#fde0ef"
            ],
            [
             0.5,
             "#f7f7f7"
            ],
            [
             0.6,
             "#e6f5d0"
            ],
            [
             0.7,
             "#b8e186"
            ],
            [
             0.8,
             "#7fbc41"
            ],
            [
             0.9,
             "#4d9221"
            ],
            [
             1,
             "#276419"
            ]
           ],
           "sequential": [
            [
             0,
             "#0d0887"
            ],
            [
             0.1111111111111111,
             "#46039f"
            ],
            [
             0.2222222222222222,
             "#7201a8"
            ],
            [
             0.3333333333333333,
             "#9c179e"
            ],
            [
             0.4444444444444444,
             "#bd3786"
            ],
            [
             0.5555555555555556,
             "#d8576b"
            ],
            [
             0.6666666666666666,
             "#ed7953"
            ],
            [
             0.7777777777777778,
             "#fb9f3a"
            ],
            [
             0.8888888888888888,
             "#fdca26"
            ],
            [
             1,
             "#f0f921"
            ]
           ],
           "sequentialminus": [
            [
             0,
             "#0d0887"
            ],
            [
             0.1111111111111111,
             "#46039f"
            ],
            [
             0.2222222222222222,
             "#7201a8"
            ],
            [
             0.3333333333333333,
             "#9c179e"
            ],
            [
             0.4444444444444444,
             "#bd3786"
            ],
            [
             0.5555555555555556,
             "#d8576b"
            ],
            [
             0.6666666666666666,
             "#ed7953"
            ],
            [
             0.7777777777777778,
             "#fb9f3a"
            ],
            [
             0.8888888888888888,
             "#fdca26"
            ],
            [
             1,
             "#f0f921"
            ]
           ]
          },
          "colorway": [
           "#636efa",
           "#EF553B",
           "#00cc96",
           "#ab63fa",
           "#FFA15A",
           "#19d3f3",
           "#FF6692",
           "#B6E880",
           "#FF97FF",
           "#FECB52"
          ],
          "font": {
           "color": "#2a3f5f"
          },
          "geo": {
           "bgcolor": "white",
           "lakecolor": "white",
           "landcolor": "#E5ECF6",
           "showlakes": true,
           "showland": true,
           "subunitcolor": "white"
          },
          "hoverlabel": {
           "align": "left"
          },
          "hovermode": "closest",
          "mapbox": {
           "style": "light"
          },
          "paper_bgcolor": "white",
          "plot_bgcolor": "#E5ECF6",
          "polar": {
           "angularaxis": {
            "gridcolor": "white",
            "linecolor": "white",
            "ticks": ""
           },
           "bgcolor": "#E5ECF6",
           "radialaxis": {
            "gridcolor": "white",
            "linecolor": "white",
            "ticks": ""
           }
          },
          "scene": {
           "xaxis": {
            "backgroundcolor": "#E5ECF6",
            "gridcolor": "white",
            "gridwidth": 2,
            "linecolor": "white",
            "showbackground": true,
            "ticks": "",
            "zerolinecolor": "white"
           },
           "yaxis": {
            "backgroundcolor": "#E5ECF6",
            "gridcolor": "white",
            "gridwidth": 2,
            "linecolor": "white",
            "showbackground": true,
            "ticks": "",
            "zerolinecolor": "white"
           },
           "zaxis": {
            "backgroundcolor": "#E5ECF6",
            "gridcolor": "white",
            "gridwidth": 2,
            "linecolor": "white",
            "showbackground": true,
            "ticks": "",
            "zerolinecolor": "white"
           }
          },
          "shapedefaults": {
           "line": {
            "color": "#2a3f5f"
           }
          },
          "ternary": {
           "aaxis": {
            "gridcolor": "white",
            "linecolor": "white",
            "ticks": ""
           },
           "baxis": {
            "gridcolor": "white",
            "linecolor": "white",
            "ticks": ""
           },
           "bgcolor": "#E5ECF6",
           "caxis": {
            "gridcolor": "white",
            "linecolor": "white",
            "ticks": ""
           }
          },
          "title": {
           "x": 0.05
          },
          "xaxis": {
           "automargin": true,
           "gridcolor": "white",
           "linecolor": "white",
           "ticks": "",
           "title": {
            "standoff": 15
           },
           "zerolinecolor": "white",
           "zerolinewidth": 2
          },
          "yaxis": {
           "automargin": true,
           "gridcolor": "white",
           "linecolor": "white",
           "ticks": "",
           "title": {
            "standoff": 15
           },
           "zerolinecolor": "white",
           "zerolinewidth": 2
          }
         }
        },
        "title": {
         "text": "Insurance"
        },
        "xaxis": {
         "showgrid": false,
         "showline": false,
         "title": {
          "text": "BMI"
         }
        },
        "yaxis": {
         "showgrid": false,
         "showline": false,
         "title": {
          "text": "Expenses"
         }
        }
       }
      },
      "text/html": [
       "<div>                            <div id=\"aa79c20a-2ad7-4c85-91cc-029294b71ca5\" class=\"plotly-graph-div\" style=\"height:525px; width:100%;\"></div>            <script type=\"text/javascript\">                require([\"plotly\"], function(Plotly) {                    window.PLOTLYENV=window.PLOTLYENV || {};                                    if (document.getElementById(\"aa79c20a-2ad7-4c85-91cc-029294b71ca5\")) {                    Plotly.newPlot(                        \"aa79c20a-2ad7-4c85-91cc-029294b71ca5\",                        [{\"marker\":{\"color\":\"#4ED700\",\"line\":{\"color\":\"#0E8700\",\"width\":1},\"size\":7,\"symbol\":\"circle\"},\"mode\":\"markers\",\"x\":[27.9,33.8,33.0,22.7,28.9,25.7,33.4,27.7,29.8,25.8,26.2,26.3,34.4,39.8,42.1,24.6,30.8,23.8,40.3,35.3,36.0,32.4,34.1,31.9,28.0,27.7,23.1,32.8,17.4,36.3,35.6,26.3,28.6,28.3,36.4,20.4,33.0,20.8,36.7,39.9,26.6,36.6,21.8,30.8,37.1,37.3,38.7,34.8,24.5,35.2,35.6,33.6,28.0,34.4,28.7,37.0,31.8,31.7,22.9,37.3,27.4,33.7,24.7,25.9,22.4,28.9,39.1,26.3,36.2,24.0,24.8,28.5,28.1,32.0,27.4,34.0,29.6,35.5,39.8,33.0,26.9,38.3,37.6,41.2,34.8,22.9,31.2,27.2,27.7,27.0,39.5,24.8,29.8,34.8,31.3,37.6,30.8,38.3,20.0,19.3,31.6,25.5,30.1,29.9,27.5,28.0,28.4,30.9,27.9,35.1,33.6,29.7,30.8,35.7,32.2,28.6,49.1,27.9,27.2,23.4,37.1,23.8,29.0,31.4,33.9,28.8,28.3,37.4,17.8,34.7,26.5,22.0,35.9,25.6,28.8,28.1,34.1,25.2,31.9,36.0,22.4,32.5,25.3,29.7,28.7,38.8,30.5,37.7,37.4,28.4,24.1,29.7,37.1,23.4,25.5,39.5,24.4,25.2,35.5,27.8,26.6,36.9,39.6,29.8,29.6,28.2,37.0,33.2,31.8,18.9,41.5,30.3,16.0,34.8,33.3,37.7,27.8,29.2,28.9,33.2,28.6,38.3,20.0,26.4,30.7,41.9,29.9,30.9,32.2,32.1,31.6,26.2,25.7,26.6,34.4,30.6,32.8,28.6,18.1,39.3,32.1,32.2,24.0,36.1,22.3,28.9,26.4,27.7,31.8,41.2,33.0,30.9,28.5,26.7,30.9,37.1,26.6,23.1,29.9,23.2,33.7,33.3,30.8,34.8,24.6,33.9,38.1,41.9,31.6,25.5,36.2,27.8,17.8,27.5,24.5,22.2,26.7,38.4,29.1,38.1,36.7,22.1,26.8,35.3,27.7,30.0,38.1,35.9,20.9,29.0,17.3,32.2,34.2,30.3,31.8,25.4,33.6,40.2,24.4,31.9,25.2,26.8,24.3,37.0,38.1,42.4,19.8,32.4,30.2,25.8,29.4,34.2,37.1,27.5,27.6,26.6,20.6,24.3,31.8,21.6,28.1,40.6,27.6,32.4,31.2,26.6,48.1,26.2,36.8,26.4,33.4,29.6,45.5,28.8,26.8,23.0,27.7,25.4,34.4,28.9,27.6,22.6,37.5,33.0,38.0,33.3,27.5,33.3,34.9,33.1,26.6,24.7,36.0,35.9,31.4,33.3,32.2,32.8,27.6,37.3,25.3,29.6,30.8,40.9,27.2,34.1,23.2,36.5,33.8,36.7,36.4,27.4,31.2,28.8,35.7,34.5,25.7,27.6,32.3,27.7,27.6,30.0,27.6,36.8,41.5,29.3,35.8,33.3,29.9,27.8,23.2,25.6,27.7,35.2,38.3,27.6,43.9,29.8,41.9,20.8,32.3,30.5,21.7,26.4,21.9,30.8,32.3,25.0,32.0,30.4,21.1,22.2,33.2,32.9,33.3,28.3,24.9,40.2,30.1,31.5,18.0,30.7,33.0,43.3,22.1,34.4,39.1,25.4,22.6,30.2,35.6,37.4,31.4,31.4,32.3,19.9,34.4,31.0,25.6,38.2,20.6,47.5,33.0,32.3,20.4,38.4,24.3,23.6,21.1,30.0,17.5,20.2,17.2,23.9,35.2,35.6,34.1,22.6,39.2,27.0,33.9,35.9,32.8,30.6,30.2,24.3,27.3,29.2,16.8,30.4,33.1,20.2,26.9,30.5,28.6,33.1,31.7,28.9,46.8,29.5,32.7,33.5,43.0,36.5,26.7,33.1,29.6,25.7,29.6,38.6,29.6,24.1,23.4,29.7,46.5,37.4,30.1,30.5,39.6,33.0,36.6,30.0,38.1,25.9,25.2,28.4,28.7,33.8,24.3,24.1,32.7,30.1,29.8,33.3,25.1,28.3,28.5,35.6,36.9,32.6,41.3,37.5,31.4,39.5,34.3,31.1,21.5,28.7,38.1,31.2,32.9,25.1,25.1,43.4,25.7,27.9,23.6,28.7,24.0,39.2,34.4,26.0,23.2,30.3,28.9,30.9,31.4,23.8,25.3,28.7,32.1,33.7,22.4,30.4,28.3,35.7,35.3,30.5,31.0,30.9,27.4,44.2,33.9,37.7,26.1,33.9,30.6,25.8,39.4,25.5,42.1,31.7,29.7,36.2,40.5,28.0,38.9,30.2,28.1,31.4,38.0,31.8,36.3,47.4,30.2,25.8,35.4,46.7,28.6,46.2,30.8,28.9,21.4,31.7,41.3,23.8,33.4,34.2,34.1,35.5,20.0,32.7,30.5,44.8,32.1,30.5,40.6,30.6,31.9,40.6,29.1,37.3,43.1,36.9,34.3,27.2,26.8,38.1,30.2,23.5,25.5,30.6,45.4,23.7,20.7,28.3,20.2,30.2,35.9,30.7,29.0,19.6,31.1,21.9,40.3,33.7,29.5,33.3,32.6,37.5,39.2,31.6,25.3,39.1,28.3,34.1,25.2,23.7,27.0,37.8,29.4,34.8,33.2,19.0,33.0,36.6,28.6,25.6,33.1,37.1,31.4,34.1,21.3,33.5,28.8,26.0,28.9,42.5,38.0,39.0,36.1,29.3,35.5,22.7,39.7,38.2,24.5,38.1,26.4,33.7,42.4,28.3,33.9,35.0,35.3,30.8,26.2,23.4,28.5,33.0,42.7,39.6,31.1,36.3,35.2,25.3,42.4,33.2,35.9,28.8,46.5,24.0,31.5,33.7,23.0,38.1,28.7,32.8,32.0,29.8,31.6,31.2,29.7,31.0,43.9,21.4,40.8,31.4,36.1,23.2,17.4,20.3,35.3,24.3,18.5,26.4,26.1,41.7,24.1,31.1,27.4,36.2,32.4,23.7,34.8,40.2,32.3,35.8,33.7,39.3,34.9,44.7,41.5,26.4,29.5,32.9,38.1,28.7,30.5,27.7,35.2,23.5,30.7,40.5,22.6,28.9,22.6,24.3,36.7,33.4,40.7,36.6,37.4,35.4,27.1,39.1,28.4,21.8,40.3,36.1,24.4,21.4,30.1,27.3,32.1,34.8,38.4,23.7,31.7,35.5,24.0,29.2,34.1,26.6,26.4,30.1,27.0,21.8,36.0,30.9,26.4,29.0,37.9,22.8,33.6,27.6,22.8,27.8,37.4,38.2,34.6,35.2,27.1,26.0,25.2,31.8,32.3,29.0,39.7,19.5,36.1,26.7,36.5,28.9,34.2,33.3,32.3,39.8,34.3,28.9,24.4,41.1,36.0,27.6,29.3,27.7,37.0,36.9,22.5,29.9,41.8,27.6,23.2,20.9,31.9,28.5,44.2,22.9,33.1,24.8,26.2,36.0,22.3,42.2,26.5,35.8,41.4,36.6,30.1,25.8,30.8,42.9,21.0,22.5,34.4,31.5,24.2,37.1,26.1,35.5,33.7,17.7,31.1,29.8,24.3,31.8,31.8,28.0,30.8,21.9,33.1,25.8,23.8,34.4,33.8,36.0,31.5,28.3,23.5,31.4,31.1,24.7,32.8,29.8,30.5,32.5,34.2,50.4,24.1,32.8,30.8,32.3,35.5,23.8,23.8,29.6,33.1,24.1,32.2,28.1,47.6,28.0,33.5,19.9,25.4,29.9,37.3,43.7,23.7,24.3,36.2,29.5,24.9,30.1,21.9,28.1,27.1,33.4,28.8,29.5,34.8,27.4,22.1,37.1,26.7,28.9,29.0,30.0,39.5,33.6,26.9,29.0,24.0,38.9,32.1,44.0,20.0,25.6,40.3,22.5,22.5,40.9,27.3,36.9,35.1,29.4,32.6,32.3,39.8,24.6,28.3,31.7,26.7,27.5,24.6,34.0,26.9,22.9,28.2,34.2,25.0,33.2,31.0,35.8,23.2,32.1,23.4,20.1,39.2,34.2,46.5,32.5,25.8,35.3,37.2,27.5,29.7,24.2,26.2,29.5,23.2,46.1,40.2,22.6,39.9,35.8,35.8,34.2,31.3,29.7,18.3,42.9,28.4,30.2,27.8,39.5,30.8,26.8,35.0,36.7,39.6,25.9,35.2,24.8,36.8,27.1,24.8,25.4,25.7,34.3,28.2,23.6,20.2,40.5,35.4,22.9,40.2,29.2,40.0,29.9,25.5,21.4,25.9,30.6,30.1,25.8,30.1,27.6,34.7,20.5,19.8,27.8,31.6,28.3,20.0,23.3,34.1,36.9,36.3,26.9,23.0,32.7,25.8,29.6,19.2,31.7,29.3,28.2,25.0,27.7,22.8,20.1,33.3,32.3,27.6,25.5,24.6,34.2,35.8,32.7,37.0,31.0,36.1,23.3,45.3,34.6,26.0,18.7,31.6,17.3,23.7,35.2,27.9,21.6,38.4,23.0,37.1,30.5,28.9,27.3,28.0,23.1,30.7,25.8,35.2,24.7,25.1,52.6,22.5,30.9,37.0,26.4,29.8,29.8,21.5,27.6,28.9,31.8,39.5,33.8,32.0,27.9,41.1,28.6,25.6,25.3,37.3,42.7,21.7,31.9,37.1,31.4,31.3,28.9,18.3,29.6,32.0,26.0,31.7,33.7,21.8,27.8,20.0,31.5,30.5,18.3,29.0,31.5,47.7,22.1,36.2,29.8,32.7,30.4,33.7,31.4,35.0,33.8,30.9,34.0,19.1,28.6,38.9,36.1,29.8,31.2,29.9,26.2,30.0,20.4,32.3,38.4,25.9,26.3,24.5,32.7,29.6,33.3,35.8,20.0,31.4,38.2,36.9,32.4,42.8,25.1,29.9,35.9,32.8,18.6,23.9,45.9,40.3,18.3,33.8,28.1,25.0,22.2,30.3,32.5,37.1,32.6,24.9,32.3,32.3,32.8,32.8,31.9,21.5,34.1,30.3,36.5,32.6,35.8,27.9,22.1,44.9,23.2,30.6,41.1,34.6,42.1,38.8,28.2,28.3,26.1,40.4,24.6,35.2,34.1,27.4,26.7,41.9,29.3,32.1,27.1,24.1,27.4,34.9,29.8,41.3,29.9,30.3,27.4,28.5,23.6,35.6,32.7,25.3,28.0,32.8,21.8,32.4,36.6,21.8,27.9,30.0,33.6,29.4,25.8,24.3,40.4,32.1,32.3,27.3,17.9,34.8,33.4,25.6,37.1,30.9,34.1,21.5,33.3,31.3,39.1,25.1,37.3,34.6,30.2,21.9,25.0,25.3,24.4,23.9,39.8,16.8,37.2,34.4,30.3,34.5,21.8,24.6,23.3,27.8,31.1,21.7,28.2,22.7,42.1,41.8,37.0,21.3,33.1,33.3,24.3,25.7,29.4,39.8,33.6,29.8,19.8,27.3,29.3,27.7,37.9,36.4,27.6,37.7,23.2,20.5,37.1,28.1,29.9,33.3,23.8,30.5,31.1,33.3,27.5,33.9,34.5,25.5,27.6,27.1,23.7,30.4,29.7,29.9,26.8,33.3,27.6,21.7,30.0,36.3,24.3,17.3,25.9,39.4,34.3,20.0,34.9,23.2,25.7,25.2,22.0,26.1,26.5,27.5,25.7,30.4,30.9,20.8,27.8,24.6,27.7,21.9,28.1,30.2,32.2,26.3,26.7,42.9,34.7,23.7,28.3,20.6,53.1,39.7,26.3,31.1,26.7,38.8,40.4,25.9,33.5,32.9,30.0,24.2,38.6,25.7,33.4,44.7,31.0,31.9,36.9,25.8,29.1],\"y\":[16884.92,1725.55,4449.46,21984.47,3866.86,3756.62,8240.59,7281.51,6406.41,28923.14,2721.32,27808.73,1826.84,11090.72,39611.76,1837.24,10797.34,2395.17,10602.39,36837.47,13228.85,4149.74,1137.01,37701.88,6203.9,14001.13,14451.84,12268.63,2775.19,38711.0,35585.58,2198.19,4687.8,13770.1,51194.56,1625.43,15612.19,2302.3,39774.28,48173.36,3046.06,4949.76,6272.48,6313.76,6079.67,20630.28,3393.36,3556.92,12629.9,38709.18,2211.13,3579.83,23568.27,37742.58,8059.68,47496.49,13607.37,34303.17,23244.79,5989.52,8606.22,4504.66,30166.62,4133.64,14711.74,1743.21,14235.07,6389.38,5920.1,17663.14,16577.78,6799.46,11741.73,11946.63,7726.85,11356.66,3947.41,1532.47,2755.02,6571.02,4441.21,7935.29,37165.16,11033.66,39836.52,21098.55,43578.94,11073.18,8026.67,11082.58,2026.97,10942.13,30184.94,5729.01,47291.06,3766.88,12105.32,10226.28,22412.65,15820.7,6186.13,3645.09,21344.85,30942.19,5003.85,17560.38,2331.52,3877.3,2867.12,47055.53,10825.25,11881.36,4646.76,2404.73,11488.32,30260.0,11381.33,19107.78,8601.33,6686.43,7740.34,1705.62,2257.48,39556.49,10115.01,3385.4,17081.08,9634.54,32734.19,6082.41,12815.44,13616.36,11163.57,1632.56,2457.21,2155.68,1261.44,2045.69,27322.73,2166.73,27375.9,3490.55,18972.5,18157.88,20745.99,5138.26,40720.55,9877.61,10959.69,1842.52,5125.22,7789.64,6334.34,19964.75,7077.19,6948.7,21223.68,15518.18,36950.26,19749.38,21348.71,36149.48,10450.55,5152.13,5028.15,10407.09,4830.63,6128.8,2719.28,4827.9,13405.39,8116.68,1694.8,5246.05,2855.44,48824.45,6455.86,10436.1,8823.28,8538.29,11735.88,1631.82,4005.42,7419.48,7731.43,43753.34,3981.98,5325.65,6775.96,4922.92,12557.61,4883.87,2137.65,12044.34,1137.47,1639.56,5649.72,8516.83,9644.25,14901.52,2130.68,8871.15,13012.21,37133.9,7147.11,4337.74,11743.3,20984.09,13880.95,6610.11,1980.07,8162.72,3537.7,5002.78,8520.03,7371.77,10355.64,2483.74,3392.98,25081.77,5012.47,10564.88,5253.52,34779.62,19515.54,11987.17,2689.5,24227.34,7358.18,9225.26,7443.64,14001.29,1727.79,12333.83,6710.19,19444.27,1615.77,4463.21,17352.68,7152.67,38511.63,5354.07,35160.13,7196.87,29523.17,24476.48,12648.7,1986.93,1832.09,4040.56,12829.46,47305.31,44260.75,4260.74,41097.16,13047.33,43921.18,5400.98,11520.1,33750.29,11837.16,17085.27,24869.84,36219.41,20463.0,46151.12,17179.52,14590.63,7441.05,9282.48,1719.44,42856.84,7265.7,9617.66,2523.17,9715.84,2803.7,2150.47,12928.79,9855.13,22331.57,48549.18,4237.13,11879.1,9625.92,7742.11,9432.93,14256.19,47896.79,25992.82,3172.02,20277.81,42112.24,2156.75,3906.13,1704.57,16297.85,21978.68,38746.36,9249.5,6746.74,24873.38,12265.51,4349.46,12646.21,19442.35,20177.67,4151.03,11944.59,7749.16,8444.47,1737.38,42124.52,8124.41,34838.87,9722.77,8835.26,10435.07,7421.19,4667.61,4894.75,24671.66,35491.64,11566.3,2866.09,6600.21,3561.89,42760.5,47928.03,9144.57,48517.56,24393.62,13429.04,11658.38,19144.58,13822.8,12142.58,13937.67,41919.1,8232.64,18955.22,13352.1,13217.09,13981.85,10977.21,6184.3,4890.0,8334.46,5478.04,1635.73,11830.61,8932.08,3554.2,12404.88,14133.04,24603.05,8944.12,9620.33,1837.28,1607.51,10043.25,4751.07,13844.51,2597.78,3180.51,9778.35,13430.27,8017.06,8116.27,3481.87,13415.04,12029.29,7639.42,36085.22,1391.53,18033.97,21659.93,38126.25,16455.71,27000.98,15006.58,42303.69,20781.49,5846.92,8302.54,1261.86,11856.41,30284.64,3176.82,4618.08,10736.87,2138.07,8964.06,9290.14,9411.01,7526.71,8522.0,16586.5,14988.43,1631.67,9264.8,8083.92,14692.67,10269.46,3260.2,11396.9,4185.1,8539.67,6652.53,4074.45,1621.34,19594.81,14455.64,5080.1,2134.9,7345.73,9140.95,18608.26,14418.28,28950.47,46889.26,46599.11,39125.33,2727.4,8968.33,9788.87,6555.07,7323.73,3167.46,18804.75,23082.96,4906.41,5969.72,12638.2,4243.59,13919.82,2254.8,5926.85,12592.53,2897.32,4738.27,37079.37,1149.4,28287.9,26109.33,7345.08,12731.0,11454.02,5910.94,4762.33,7512.27,4032.24,1969.61,1769.53,4686.39,21797.0,11881.97,11840.78,10601.41,7682.67,10381.48,22144.03,15230.32,11165.42,1632.04,19521.97,13224.69,12643.38,23288.93,2201.1,2497.04,2203.47,1744.47,20878.78,25382.3,28868.66,35147.53,2534.39,1534.3,1824.29,15555.19,9304.7,1622.19,9880.07,9563.03,4347.02,12475.35,1253.94,48885.14,10461.98,1748.77,24513.09,2196.47,12574.05,17942.11,1967.02,4931.65,8027.97,8211.1,13470.86,36197.7,6837.37,22218.11,32548.34,5974.38,6796.86,2643.27,3077.1,3044.21,11455.28,11763.0,2498.41,9361.33,1256.3,21082.16,11362.76,27724.29,8413.46,5240.77,3857.76,25656.58,3994.18,9866.3,5397.62,38245.59,11482.63,24059.68,9861.03,8342.91,1708.0,48675.52,14043.48,12925.89,19214.71,13831.12,6067.13,5972.38,8825.09,8233.1,27346.04,6196.45,3056.39,13887.2,63770.43,10231.5,23807.24,3268.85,11538.42,3213.62,45863.21,13390.56,3972.92,12957.12,11187.66,17878.9,3847.67,8334.59,3935.18,39983.43,1646.43,9193.84,10923.93,2494.02,9058.73,2801.26,2128.43,6373.56,7256.72,11552.9,45702.02,3761.29,2219.45,4753.64,31620.0,13224.06,12222.9,1665.0,58571.07,9724.53,3206.49,12913.99,1639.56,6356.27,17626.24,1242.82,4779.6,3861.21,43943.88,13635.64,5976.83,11842.44,8428.07,2566.47,15359.1,5709.16,8823.99,7640.31,5594.85,7441.5,33471.97,1633.04,9174.14,11070.54,16085.13,17468.98,9283.56,3558.62,25678.78,4435.09,39241.44,8547.69,6571.54,2207.7,6753.04,1880.07,42969.85,11658.12,23306.55,34439.86,10713.64,3659.35,40182.25,9182.17,34617.84,12129.61,3736.46,6748.59,11326.71,11365.95,42983.46,10085.85,1977.82,3366.67,7173.36,9391.35,14410.93,2709.11,24915.05,20149.32,12949.16,6666.24,32787.46,13143.86,4466.62,18806.15,10141.14,6123.57,8252.28,1712.23,12430.95,9800.89,10579.71,8280.62,8527.53,12244.53,24667.42,3410.32,4058.71,26392.26,14394.4,6435.62,22192.44,5148.55,1136.4,27037.91,42560.43,8703.46,40003.33,45710.21,6500.24,4837.58,3943.6,4399.73,6185.32,46200.99,7222.79,12485.8,46130.53,12363.55,10156.78,2585.27,1242.26,40103.89,9863.47,4766.02,11244.38,7729.65,5438.75,26236.58,34806.47,2104.11,8068.19,2362.23,2352.97,3578.0,3201.25,29186.48,40273.65,10976.25,3500.61,2020.55,9541.7,9504.31,5385.34,8930.93,5375.04,44400.41,10264.44,6113.23,5469.01,1727.54,10107.22,8310.84,1984.45,2457.5,12146.97,9566.99,13112.6,10848.13,12231.61,9875.68,11264.54,12979.36,1263.25,10106.13,40932.43,6664.69,16657.72,2217.6,6781.35,19362.0,10065.41,4234.93,9447.25,14007.22,9583.89,40419.02,3484.33,36189.1,44585.46,8604.48,18246.5,43254.42,3757.84,8827.21,9910.36,11737.85,1627.28,8556.91,3062.51,19539.24,1906.36,14210.54,11833.78,17128.43,5031.27,7985.82,23065.42,5428.73,36307.8,3925.76,2416.96,19040.88,3070.81,9095.07,11842.62,8062.76,7050.64,14319.03,6933.24,27941.29,11150.78,12797.21,17748.51,7261.74,10560.49,6986.7,7448.4,5934.38,9869.81,18259.22,1146.8,9386.16,24520.26,4350.51,6414.18,12741.17,1917.32,5209.58,13457.96,5662.23,1252.41,2731.91,21195.82,7209.49,18310.74,4266.17,4719.52,11848.14,17904.53,7046.72,14313.85,2103.08,38792.69,1815.88,7731.86,28476.73,2136.88,1131.51,3309.79,9414.92,6360.99,11013.71,4428.89,5584.31,1877.93,2842.76,3597.6,23401.31,55135.4,7445.92,2680.95,1621.88,8219.2,12523.6,16069.08,43813.87,20773.63,39597.41,6117.49,13393.76,5266.37,4719.74,11743.93,5377.46,7160.33,4402.23,11657.72,6402.29,12622.18,1526.31,12323.94,36021.01,27533.91,10072.06,45008.96,9872.7,2438.06,2974.13,10601.63,37270.15,14119.62,42111.66,11729.68,24106.91,1875.34,40974.16,15817.99,18218.16,10965.45,46113.51,7151.09,12269.69,5458.05,8782.47,6600.36,1141.45,11576.13,13129.6,4391.65,8457.82,3392.37,5966.89,6849.03,8891.14,2690.11,26140.36,6653.79,6282.24,6311.95,3443.06,2789.06,2585.85,46255.11,4877.98,19719.69,27218.44,5272.18,1682.6,11945.13,29330.98,7243.81,10422.92,44202.65,13555.0,13063.88,19798.05,2221.56,1634.57,2117.34,8688.86,48673.56,4661.29,8125.78,12644.59,4564.19,4846.92,7633.72,15170.07,17496.31,2639.04,33732.69,14382.71,7626.99,5257.51,2473.33,21774.32,35069.37,13041.92,5245.23,13451.12,13462.52,5488.26,4320.41,6250.44,25333.33,2913.57,12032.33,13470.8,6289.75,2927.06,6238.3,10096.97,7348.14,4673.39,12233.83,32108.66,8965.8,2304.0,9487.64,1121.87,9549.57,2217.47,1628.47,12982.87,11674.13,7160.09,39047.29,6358.78,19933.46,11534.87,47462.89,4527.18,38998.55,20009.63,3875.73,41999.52,12609.89,41034.22,28468.92,2730.11,3353.28,14474.68,9500.57,26467.1,4746.34,23967.38,7518.03,3279.87,8596.83,10702.64,4992.38,2527.82,1759.34,2322.62,16138.76,7804.16,2902.91,9704.67,4889.04,25517.11,4500.34,19199.94,16796.41,4915.06,7624.63,8410.05,28340.19,4518.83,14571.89,3378.91,7144.86,10118.42,5484.47,16420.49,7986.48,7418.52,13887.97,6551.75,5267.82,17361.77,34472.84,1972.95,21232.18,8627.54,4433.39,4438.26,24915.22,23241.47,9957.72,8269.04,18767.74,36580.28,8765.25,5383.54,12124.99,2709.24,3987.93,12495.29,26018.95,8798.59,35595.59,42211.14,1711.03,8569.86,2020.18,16450.89,21595.38,9850.43,6877.98,21677.28,44423.8,4137.52,13747.87,12950.07,12094.48,37484.45,39725.52,2250.84,22493.66,20234.85,1704.7,33475.82,3161.45,11394.07,21880.82,7325.05,44501.4,3594.17,39727.61,8023.14,14394.56,9288.03,25309.49,3353.47,10594.5,8277.52,17929.3,2480.98,4462.72,1981.58,11554.22,48970.25,6548.2,5708.87,7045.5,8978.19,5757.41,14349.85,10928.85,39871.7,13974.46,1909.53,12096.65,13204.29,4562.84,8551.35,2102.26,34672.15,15161.53,11884.05,4454.4,5855.9,4076.5,15019.76,19023.26,10796.35,11353.23,9748.91,10577.09,41676.08,11286.54,3591.48,33907.55,11299.34,4561.19,44641.2,1674.63,23045.57,3227.12,16776.3,11253.42,3471.41,11363.28,20420.6,10338.93,8988.16,10493.95,2904.09,8605.36,11512.41,41949.24,24180.93,5312.17,2396.1,10807.49,9222.4,36124.57,38282.75,5693.43,34166.27,8347.16,46661.44,18903.49,40904.2,14254.61,10214.64,5836.52,14358.36,1728.9,8582.3,3693.43,20709.02,9991.04,19673.34,11085.59,7623.52,3176.29,3704.35,36898.73,9048.03,7954.52,27117.99,6338.08,9630.4,11289.11,52590.83,2261.57,10791.96,5979.73,2203.74,12235.84,40941.29,5630.46,11015.17,7228.22,39722.75,14426.07,2459.72,3989.84,7727.25,5124.19,18963.17,2200.83,7153.55,5227.99,10982.5,4529.48,4670.64,6112.35,17178.68,22478.6,11093.62,6457.84,4433.92,2154.36,23887.66,6496.89,2899.49,19350.37,7650.77,2850.68,2632.99,9447.38,18328.24,8603.82,37465.34,13844.8,21771.34,13126.68,5327.4,13725.47,13019.16,8671.19,4134.08,18838.7,33307.55,5699.84,6393.6,4934.71,6198.75,8733.23,2055.32,9964.06,18223.45,5116.5,36910.61,38415.47,20296.86,12347.17,5373.36,23563.02,1702.46,10806.84,3956.07,12890.06,5415.66,4058.12,41661.6,7537.16,4718.2,6593.51,8442.67,26125.67,6858.48,4795.66,6640.54,7162.01,10594.23,11938.26,60021.4,20167.34,12479.71,11345.52,8515.76,2699.57,14449.85,12224.35,6985.51,3238.44,47269.85,49577.66,4296.27,3171.61,1135.94,5615.37,9101.8,6059.17,1633.96,37607.53,18648.42,1241.57,16232.85,15828.82,4415.16,6474.01,11436.74,11305.93,30063.58,10197.77,4544.23,3277.16,6770.19,7337.75,10370.91,26926.51,10704.47,34254.05,1880.49,8615.3,3292.53,3021.81,14478.33,4747.05,17043.34,10959.33,2741.95,4357.04,22462.04,4189.11,8283.68,24535.7,14283.46,1720.35,47403.88,8534.67,3732.63,5472.45,38344.57,7147.47,7133.9,34828.65,1515.34,9301.89,11931.13,1964.78,1708.93,4340.44,5261.47,2710.83,62592.87,46718.16,3208.79,37829.72,21259.38,2464.62,16115.3,21472.48,33900.65,6875.96,6940.91,4571.41,4536.26,36397.58,18765.88,11272.33,1731.68,1163.46,19496.72,7201.7,5425.02,28101.33,12981.35,43896.38,4239.89,13143.34,7050.02,9377.9,22395.74,10325.21,12629.17,10795.94,11411.69,10600.55,2205.98,1629.83,2007.95,29141.36],\"type\":\"scatter\"}],                        {\"template\":{\"data\":{\"barpolar\":[{\"marker\":{\"line\":{\"color\":\"#E5ECF6\",\"width\":0.5},\"pattern\":{\"fillmode\":\"overlay\",\"size\":10,\"solidity\":0.2}},\"type\":\"barpolar\"}],\"bar\":[{\"error_x\":{\"color\":\"#2a3f5f\"},\"error_y\":{\"color\":\"#2a3f5f\"},\"marker\":{\"line\":{\"color\":\"#E5ECF6\",\"width\":0.5},\"pattern\":{\"fillmode\":\"overlay\",\"size\":10,\"solidity\":0.2}},\"type\":\"bar\"}],\"carpet\":[{\"aaxis\":{\"endlinecolor\":\"#2a3f5f\",\"gridcolor\":\"white\",\"linecolor\":\"white\",\"minorgridcolor\":\"white\",\"startlinecolor\":\"#2a3f5f\"},\"baxis\":{\"endlinecolor\":\"#2a3f5f\",\"gridcolor\":\"white\",\"linecolor\":\"white\",\"minorgridcolor\":\"white\",\"startlinecolor\":\"#2a3f5f\"},\"type\":\"carpet\"}],\"choropleth\":[{\"colorbar\":{\"outlinewidth\":0,\"ticks\":\"\"},\"type\":\"choropleth\"}],\"contourcarpet\":[{\"colorbar\":{\"outlinewidth\":0,\"ticks\":\"\"},\"type\":\"contourcarpet\"}],\"contour\":[{\"colorbar\":{\"outlinewidth\":0,\"ticks\":\"\"},\"colorscale\":[[0.0,\"#0d0887\"],[0.1111111111111111,\"#46039f\"],[0.2222222222222222,\"#7201a8\"],[0.3333333333333333,\"#9c179e\"],[0.4444444444444444,\"#bd3786\"],[0.5555555555555556,\"#d8576b\"],[0.6666666666666666,\"#ed7953\"],[0.7777777777777778,\"#fb9f3a\"],[0.8888888888888888,\"#fdca26\"],[1.0,\"#f0f921\"]],\"type\":\"contour\"}],\"heatmapgl\":[{\"colorbar\":{\"outlinewidth\":0,\"ticks\":\"\"},\"colorscale\":[[0.0,\"#0d0887\"],[0.1111111111111111,\"#46039f\"],[0.2222222222222222,\"#7201a8\"],[0.3333333333333333,\"#9c179e\"],[0.4444444444444444,\"#bd3786\"],[0.5555555555555556,\"#d8576b\"],[0.6666666666666666,\"#ed7953\"],[0.7777777777777778,\"#fb9f3a\"],[0.8888888888888888,\"#fdca26\"],[1.0,\"#f0f921\"]],\"type\":\"heatmapgl\"}],\"heatmap\":[{\"colorbar\":{\"outlinewidth\":0,\"ticks\":\"\"},\"colorscale\":[[0.0,\"#0d0887\"],[0.1111111111111111,\"#46039f\"],[0.2222222222222222,\"#7201a8\"],[0.3333333333333333,\"#9c179e\"],[0.4444444444444444,\"#bd3786\"],[0.5555555555555556,\"#d8576b\"],[0.6666666666666666,\"#ed7953\"],[0.7777777777777778,\"#fb9f3a\"],[0.8888888888888888,\"#fdca26\"],[1.0,\"#f0f921\"]],\"type\":\"heatmap\"}],\"histogram2dcontour\":[{\"colorbar\":{\"outlinewidth\":0,\"ticks\":\"\"},\"colorscale\":[[0.0,\"#0d0887\"],[0.1111111111111111,\"#46039f\"],[0.2222222222222222,\"#7201a8\"],[0.3333333333333333,\"#9c179e\"],[0.4444444444444444,\"#bd3786\"],[0.5555555555555556,\"#d8576b\"],[0.6666666666666666,\"#ed7953\"],[0.7777777777777778,\"#fb9f3a\"],[0.8888888888888888,\"#fdca26\"],[1.0,\"#f0f921\"]],\"type\":\"histogram2dcontour\"}],\"histogram2d\":[{\"colorbar\":{\"outlinewidth\":0,\"ticks\":\"\"},\"colorscale\":[[0.0,\"#0d0887\"],[0.1111111111111111,\"#46039f\"],[0.2222222222222222,\"#7201a8\"],[0.3333333333333333,\"#9c179e\"],[0.4444444444444444,\"#bd3786\"],[0.5555555555555556,\"#d8576b\"],[0.6666666666666666,\"#ed7953\"],[0.7777777777777778,\"#fb9f3a\"],[0.8888888888888888,\"#fdca26\"],[1.0,\"#f0f921\"]],\"type\":\"histogram2d\"}],\"histogram\":[{\"marker\":{\"pattern\":{\"fillmode\":\"overlay\",\"size\":10,\"solidity\":0.2}},\"type\":\"histogram\"}],\"mesh3d\":[{\"colorbar\":{\"outlinewidth\":0,\"ticks\":\"\"},\"type\":\"mesh3d\"}],\"parcoords\":[{\"line\":{\"colorbar\":{\"outlinewidth\":0,\"ticks\":\"\"}},\"type\":\"parcoords\"}],\"pie\":[{\"automargin\":true,\"type\":\"pie\"}],\"scatter3d\":[{\"line\":{\"colorbar\":{\"outlinewidth\":0,\"ticks\":\"\"}},\"marker\":{\"colorbar\":{\"outlinewidth\":0,\"ticks\":\"\"}},\"type\":\"scatter3d\"}],\"scattercarpet\":[{\"marker\":{\"colorbar\":{\"outlinewidth\":0,\"ticks\":\"\"}},\"type\":\"scattercarpet\"}],\"scattergeo\":[{\"marker\":{\"colorbar\":{\"outlinewidth\":0,\"ticks\":\"\"}},\"type\":\"scattergeo\"}],\"scattergl\":[{\"marker\":{\"colorbar\":{\"outlinewidth\":0,\"ticks\":\"\"}},\"type\":\"scattergl\"}],\"scattermapbox\":[{\"marker\":{\"colorbar\":{\"outlinewidth\":0,\"ticks\":\"\"}},\"type\":\"scattermapbox\"}],\"scatterpolargl\":[{\"marker\":{\"colorbar\":{\"outlinewidth\":0,\"ticks\":\"\"}},\"type\":\"scatterpolargl\"}],\"scatterpolar\":[{\"marker\":{\"colorbar\":{\"outlinewidth\":0,\"ticks\":\"\"}},\"type\":\"scatterpolar\"}],\"scatter\":[{\"fillpattern\":{\"fillmode\":\"overlay\",\"size\":10,\"solidity\":0.2},\"type\":\"scatter\"}],\"scatterternary\":[{\"marker\":{\"colorbar\":{\"outlinewidth\":0,\"ticks\":\"\"}},\"type\":\"scatterternary\"}],\"surface\":[{\"colorbar\":{\"outlinewidth\":0,\"ticks\":\"\"},\"colorscale\":[[0.0,\"#0d0887\"],[0.1111111111111111,\"#46039f\"],[0.2222222222222222,\"#7201a8\"],[0.3333333333333333,\"#9c179e\"],[0.4444444444444444,\"#bd3786\"],[0.5555555555555556,\"#d8576b\"],[0.6666666666666666,\"#ed7953\"],[0.7777777777777778,\"#fb9f3a\"],[0.8888888888888888,\"#fdca26\"],[1.0,\"#f0f921\"]],\"type\":\"surface\"}],\"table\":[{\"cells\":{\"fill\":{\"color\":\"#EBF0F8\"},\"line\":{\"color\":\"white\"}},\"header\":{\"fill\":{\"color\":\"#C8D4E3\"},\"line\":{\"color\":\"white\"}},\"type\":\"table\"}]},\"layout\":{\"annotationdefaults\":{\"arrowcolor\":\"#2a3f5f\",\"arrowhead\":0,\"arrowwidth\":1},\"autotypenumbers\":\"strict\",\"coloraxis\":{\"colorbar\":{\"outlinewidth\":0,\"ticks\":\"\"}},\"colorscale\":{\"diverging\":[[0,\"#8e0152\"],[0.1,\"#c51b7d\"],[0.2,\"#de77ae\"],[0.3,\"#f1b6da\"],[0.4,\"#fde0ef\"],[0.5,\"#f7f7f7\"],[0.6,\"#e6f5d0\"],[0.7,\"#b8e186\"],[0.8,\"#7fbc41\"],[0.9,\"#4d9221\"],[1,\"#276419\"]],\"sequential\":[[0.0,\"#0d0887\"],[0.1111111111111111,\"#46039f\"],[0.2222222222222222,\"#7201a8\"],[0.3333333333333333,\"#9c179e\"],[0.4444444444444444,\"#bd3786\"],[0.5555555555555556,\"#d8576b\"],[0.6666666666666666,\"#ed7953\"],[0.7777777777777778,\"#fb9f3a\"],[0.8888888888888888,\"#fdca26\"],[1.0,\"#f0f921\"]],\"sequentialminus\":[[0.0,\"#0d0887\"],[0.1111111111111111,\"#46039f\"],[0.2222222222222222,\"#7201a8\"],[0.3333333333333333,\"#9c179e\"],[0.4444444444444444,\"#bd3786\"],[0.5555555555555556,\"#d8576b\"],[0.6666666666666666,\"#ed7953\"],[0.7777777777777778,\"#fb9f3a\"],[0.8888888888888888,\"#fdca26\"],[1.0,\"#f0f921\"]]},\"colorway\":[\"#636efa\",\"#EF553B\",\"#00cc96\",\"#ab63fa\",\"#FFA15A\",\"#19d3f3\",\"#FF6692\",\"#B6E880\",\"#FF97FF\",\"#FECB52\"],\"font\":{\"color\":\"#2a3f5f\"},\"geo\":{\"bgcolor\":\"white\",\"lakecolor\":\"white\",\"landcolor\":\"#E5ECF6\",\"showlakes\":true,\"showland\":true,\"subunitcolor\":\"white\"},\"hoverlabel\":{\"align\":\"left\"},\"hovermode\":\"closest\",\"mapbox\":{\"style\":\"light\"},\"paper_bgcolor\":\"white\",\"plot_bgcolor\":\"#E5ECF6\",\"polar\":{\"angularaxis\":{\"gridcolor\":\"white\",\"linecolor\":\"white\",\"ticks\":\"\"},\"bgcolor\":\"#E5ECF6\",\"radialaxis\":{\"gridcolor\":\"white\",\"linecolor\":\"white\",\"ticks\":\"\"}},\"scene\":{\"xaxis\":{\"backgroundcolor\":\"#E5ECF6\",\"gridcolor\":\"white\",\"gridwidth\":2,\"linecolor\":\"white\",\"showbackground\":true,\"ticks\":\"\",\"zerolinecolor\":\"white\"},\"yaxis\":{\"backgroundcolor\":\"#E5ECF6\",\"gridcolor\":\"white\",\"gridwidth\":2,\"linecolor\":\"white\",\"showbackground\":true,\"ticks\":\"\",\"zerolinecolor\":\"white\"},\"zaxis\":{\"backgroundcolor\":\"#E5ECF6\",\"gridcolor\":\"white\",\"gridwidth\":2,\"linecolor\":\"white\",\"showbackground\":true,\"ticks\":\"\",\"zerolinecolor\":\"white\"}},\"shapedefaults\":{\"line\":{\"color\":\"#2a3f5f\"}},\"ternary\":{\"aaxis\":{\"gridcolor\":\"white\",\"linecolor\":\"white\",\"ticks\":\"\"},\"baxis\":{\"gridcolor\":\"white\",\"linecolor\":\"white\",\"ticks\":\"\"},\"bgcolor\":\"#E5ECF6\",\"caxis\":{\"gridcolor\":\"white\",\"linecolor\":\"white\",\"ticks\":\"\"}},\"title\":{\"x\":0.05},\"xaxis\":{\"automargin\":true,\"gridcolor\":\"white\",\"linecolor\":\"white\",\"ticks\":\"\",\"title\":{\"standoff\":15},\"zerolinecolor\":\"white\",\"zerolinewidth\":2},\"yaxis\":{\"automargin\":true,\"gridcolor\":\"white\",\"linecolor\":\"white\",\"ticks\":\"\",\"title\":{\"standoff\":15},\"zerolinecolor\":\"white\",\"zerolinewidth\":2}}},\"title\":{\"text\":\"Insurance\"},\"xaxis\":{\"showgrid\":false,\"showline\":false,\"title\":{\"text\":\"BMI\"}},\"yaxis\":{\"showgrid\":false,\"showline\":false,\"title\":{\"text\":\"Expenses\"}}},                        {\"responsive\": true}                    ).then(function(){\n",
       "                            \n",
       "var gd = document.getElementById('aa79c20a-2ad7-4c85-91cc-029294b71ca5');\n",
       "var x = new MutationObserver(function (mutations, observer) {{\n",
       "        var display = window.getComputedStyle(gd).display;\n",
       "        if (!display || display === 'none') {{\n",
       "            console.log([gd, 'removed!']);\n",
       "            Plotly.purge(gd);\n",
       "            observer.disconnect();\n",
       "        }}\n",
       "}});\n",
       "\n",
       "// Listen for the removal of the full notebook cells\n",
       "var notebookContainer = gd.closest('#notebook-container');\n",
       "if (notebookContainer) {{\n",
       "    x.observe(notebookContainer, {childList: true});\n",
       "}}\n",
       "\n",
       "// Listen for the clearing of the current output cell\n",
       "var outputEl = gd.closest('.output');\n",
       "if (outputEl) {{\n",
       "    x.observe(outputEl, {childList: true});\n",
       "}}\n",
       "\n",
       "                        })                };                });            </script>        </div>"
      ]
     },
     "metadata": {},
     "output_type": "display_data"
    }
   ],
   "source": [
    "data = [go.Scatter(\n",
    "                    x = insurance.bmi,\n",
    "                    y = insurance.expenses,\n",
    "                    mode = 'markers',\n",
    "                    marker = dict(size = 7, \n",
    "                                  color = '#4ED700',\n",
    "                                  symbol = 'circle',\n",
    "                                  line = dict(width = 1, color = '#0E8700')\n",
    "                                 )\n",
    ")]\n",
    "\n",
    "layout = go.Layout(\n",
    "                    title = 'Insurance',\n",
    "                    xaxis = dict(title = 'BMI', showgrid = False, showline = False),\n",
    "                    yaxis = dict(title = 'Expenses', showgrid = False, showline = False),\n",
    "                  )\n",
    "\n",
    "fig = go.Figure(data = data, layout = layout)\n",
    "iplot(fig)"
   ]
  },
  {
   "cell_type": "code",
   "execution_count": 11,
   "id": "affd9194",
   "metadata": {},
   "outputs": [
    {
     "data": {
      "application/vnd.plotly.v1+json": {
       "config": {
        "linkText": "Export to plot.ly",
        "plotlyServerURL": "https://plot.ly",
        "showLink": false
       },
       "data": [
        {
         "marker": {
          "color": "#F39C12",
          "line": {
           "width": 1
          },
          "size": 7,
          "symbol": "circle"
         },
         "mode": "markers",
         "name": "Smoker",
         "type": "scatter",
         "x": [
          27.9,
          26.3,
          42.1,
          35.3,
          31.9,
          36.3,
          35.6,
          36.4,
          36.7,
          39.9,
          35.2,
          28,
          34.4,
          37,
          31.7,
          22.9,
          22.4,
          24,
          24.8,
          37.6,
          34.8,
          22.9,
          31.2,
          29.8,
          31.3,
          20,
          19.3,
          29.9,
          28,
          35.1,
          27.9,
          31.4,
          28.3,
          17.8,
          25.3,
          28.7,
          30.5,
          23.4,
          24.4,
          25.2,
          35.5,
          26.6,
          36.9,
          37.7,
          41.9,
          36.1,
          27.7,
          34.8,
          24.6,
          22.2,
          29.1,
          36.7,
          27.7,
          17.3,
          32.2,
          34.2,
          31.8,
          33.6,
          31.9,
          26.8,
          24.3,
          37,
          42.4,
          19.8,
          34.2,
          28.1,
          40.6,
          36.8,
          45.5,
          27.7,
          25.4,
          34.4,
          22.6,
          36,
          31.4,
          30.8,
          36.5,
          33.8,
          36.4,
          27.4,
          32.3,
          21.7,
          32.9,
          28.3,
          24.9,
          40.2,
          18,
          30.7,
          20.2,
          17.2,
          22.6,
          27,
          33.9,
          35.9,
          32.8,
          33.5,
          26.7,
          30,
          28.4,
          25.1,
          28.3,
          28.5,
          38.1,
          25.7,
          34.4,
          23.2,
          30.3,
          28.3,
          26.1,
          42.1,
          47.4,
          25.8,
          46.2,
          34.1,
          40.6,
          38.1,
          30.2,
          21.9,
          28.3,
          23.7,
          37.8,
          36.6,
          25.6,
          33.1,
          34.1,
          33.5,
          39,
          26.4,
          28.3,
          25.3,
          23,
          38.1,
          32.8,
          32,
          43.9,
          31.4,
          35.3,
          31.1,
          35.8,
          38.1,
          39.1,
          21.8,
          24.4,
          38.4,
          31.7,
          35.5,
          29.2,
          34.1,
          26.4,
          27.8,
          38.2,
          27.1,
          28.9,
          24.4,
          27.6,
          20.9,
          28.5,
          24.8,
          42.2,
          26.1,
          35.5,
          31.8,
          28,
          30.8,
          32.8,
          29.8,
          32.5,
          30.8,
          35.5,
          23.8,
          33.1,
          24.1,
          47.6,
          37.1,
          28.9,
          29,
          26.9,
          38.9,
          20,
          40.9,
          24.6,
          31.7,
          26.9,
          22.9,
          34.2,
          29.7,
          42.9,
          30.2,
          27.8,
          30.8,
          35,
          24.8,
          22.9,
          25.9,
          20.5,
          20,
          23,
          32.7,
          28.2,
          20.1,
          31,
          36.1,
          26,
          23.7,
          35.2,
          21.6,
          37.1,
          30.5,
          28,
          30.7,
          24.7,
          52.6,
          30.9,
          29.8,
          41.1,
          37.1,
          31.7,
          18.3,
          36.2,
          30.4,
          35,
          19.1,
          38.4,
          25.9,
          33.3,
          35.8,
          31.4,
          36.9,
          42.8,
          32.5,
          32.8,
          32.6,
          44.9,
          27.4,
          26.7,
          24.1,
          29.8,
          28.5,
          35.6,
          25.3,
          30,
          27.3,
          33.4,
          25.6,
          34.6,
          24.4,
          34.5,
          21.8,
          41.8,
          37,
          33.6,
          29.8,
          27.3,
          23.8,
          31.1,
          27.1,
          29.9,
          27.6,
          21.7,
          36.3,
          39.4,
          34.9,
          30.4,
          30.9,
          27.8,
          24.6,
          21.9,
          28.1,
          30.2,
          34.7,
          23.7,
          26.7,
          40.4,
          29.1
         ],
         "y": [
          16884.92,
          27808.73,
          39611.76,
          36837.47,
          37701.88,
          38711,
          35585.58,
          51194.56,
          39774.28,
          48173.36,
          38709.18,
          23568.27,
          37742.58,
          47496.49,
          34303.17,
          23244.79,
          14711.74,
          17663.14,
          16577.78,
          37165.16,
          39836.52,
          21098.55,
          43578.94,
          30184.94,
          47291.06,
          22412.65,
          15820.7,
          30942.19,
          17560.38,
          47055.53,
          19107.78,
          39556.49,
          17081.08,
          32734.19,
          18972.5,
          20745.99,
          40720.55,
          19964.75,
          21223.68,
          15518.18,
          36950.26,
          21348.71,
          36149.48,
          48824.45,
          43753.34,
          37133.9,
          20984.09,
          34779.62,
          19515.54,
          19444.27,
          17352.68,
          38511.63,
          29523.17,
          12829.46,
          47305.31,
          44260.75,
          41097.16,
          43921.18,
          33750.29,
          17085.27,
          24869.84,
          36219.41,
          46151.12,
          17179.52,
          42856.84,
          22331.57,
          48549.18,
          47896.79,
          42112.24,
          16297.85,
          21978.68,
          38746.36,
          24873.38,
          42124.52,
          34838.87,
          35491.64,
          42760.5,
          47928.03,
          48517.56,
          24393.62,
          41919.1,
          13844.51,
          36085.22,
          18033.97,
          21659.93,
          38126.25,
          15006.58,
          42303.69,
          19594.81,
          14455.64,
          18608.26,
          28950.47,
          46889.26,
          46599.11,
          39125.33,
          37079.37,
          26109.33,
          22144.03,
          19521.97,
          25382.3,
          28868.66,
          35147.53,
          48885.14,
          17942.11,
          36197.7,
          22218.11,
          32548.34,
          21082.16,
          38245.59,
          48675.52,
          63770.43,
          23807.24,
          45863.21,
          39983.43,
          45702.02,
          58571.07,
          43943.88,
          15359.1,
          17468.98,
          25678.78,
          39241.44,
          42969.85,
          23306.55,
          34439.86,
          40182.25,
          34617.84,
          42983.46,
          20149.32,
          32787.46,
          24667.42,
          27037.91,
          42560.43,
          40003.33,
          45710.21,
          46200.99,
          46130.53,
          40103.89,
          34806.47,
          40273.65,
          44400.41,
          40932.43,
          16657.72,
          19362,
          40419.02,
          36189.1,
          44585.46,
          18246.5,
          43254.42,
          19539.24,
          23065.42,
          36307.8,
          19040.88,
          17748.51,
          18259.22,
          24520.26,
          21195.82,
          18310.74,
          17904.53,
          38792.69,
          23401.31,
          55135.4,
          43813.87,
          20773.63,
          39597.41,
          36021.01,
          27533.91,
          45008.96,
          37270.15,
          42111.66,
          24106.91,
          40974.16,
          15817.99,
          46113.51,
          46255.11,
          19719.69,
          27218.44,
          29330.98,
          44202.65,
          19798.05,
          48673.56,
          17496.31,
          33732.69,
          21774.32,
          35069.37,
          39047.29,
          19933.46,
          47462.89,
          38998.55,
          20009.63,
          41999.52,
          41034.22,
          23967.38,
          16138.76,
          19199.94,
          14571.89,
          16420.49,
          17361.77,
          34472.84,
          24915.22,
          18767.74,
          35595.59,
          42211.14,
          16450.89,
          21677.28,
          44423.8,
          13747.87,
          37484.45,
          39725.52,
          20234.85,
          33475.82,
          21880.82,
          44501.4,
          39727.61,
          25309.49,
          48970.25,
          39871.7,
          34672.15,
          19023.26,
          41676.08,
          33907.55,
          44641.2,
          16776.3,
          41949.24,
          24180.93,
          36124.57,
          38282.75,
          34166.27,
          46661.44,
          40904.2,
          36898.73,
          52590.83,
          40941.29,
          39722.75,
          17178.68,
          22478.6,
          23887.66,
          19350.37,
          18328.24,
          37465.34,
          21771.34,
          33307.55,
          18223.45,
          38415.47,
          20296.86,
          41661.6,
          26125.67,
          60021.4,
          20167.34,
          47269.85,
          49577.66,
          37607.53,
          18648.42,
          16232.85,
          26926.51,
          34254.05,
          17043.34,
          22462.04,
          24535.7,
          14283.46,
          47403.88,
          38344.57,
          34828.65,
          62592.87,
          46718.16,
          37829.72,
          21259.38,
          16115.3,
          21472.48,
          33900.65,
          36397.58,
          18765.88,
          28101.33,
          43896.38,
          29141.36
         ]
        },
        {
         "marker": {
          "color": "#8BC34A",
          "line": {
           "width": 1
          },
          "size": 7,
          "symbol": "circle"
         },
         "mode": "markers",
         "name": "Non-Smoker",
         "type": "scatter",
         "x": [
          33.8,
          33,
          22.7,
          28.9,
          25.7,
          33.4,
          27.7,
          29.8,
          25.8,
          26.2,
          34.4,
          39.8,
          24.6,
          30.8,
          23.8,
          40.3,
          36,
          32.4,
          34.1,
          28,
          27.7,
          23.1,
          32.8,
          17.4,
          26.3,
          28.6,
          28.3,
          20.4,
          33,
          20.8,
          26.6,
          36.6,
          21.8,
          30.8,
          37.1,
          37.3,
          38.7,
          34.8,
          24.5,
          35.6,
          33.6,
          28.7,
          31.8,
          37.3,
          27.4,
          33.7,
          24.7,
          25.9,
          28.9,
          39.1,
          26.3,
          36.2,
          28.5,
          28.1,
          32,
          27.4,
          34,
          29.6,
          35.5,
          39.8,
          33,
          26.9,
          38.3,
          41.2,
          27.2,
          27.7,
          27,
          39.5,
          24.8,
          34.8,
          37.6,
          30.8,
          38.3,
          31.6,
          25.5,
          30.1,
          27.5,
          28.4,
          30.9,
          27.9,
          33.6,
          29.7,
          30.8,
          35.7,
          32.2,
          28.6,
          49.1,
          27.2,
          23.4,
          37.1,
          23.8,
          29,
          33.9,
          28.8,
          37.4,
          34.7,
          26.5,
          22,
          35.9,
          25.6,
          28.8,
          28.1,
          34.1,
          25.2,
          31.9,
          36,
          22.4,
          32.5,
          29.7,
          38.8,
          37.7,
          37.4,
          28.4,
          24.1,
          29.7,
          37.1,
          25.5,
          39.5,
          27.8,
          39.6,
          29.8,
          29.6,
          28.2,
          37,
          33.2,
          31.8,
          18.9,
          41.5,
          30.3,
          16,
          34.8,
          33.3,
          27.8,
          29.2,
          28.9,
          33.2,
          28.6,
          38.3,
          20,
          26.4,
          30.7,
          29.9,
          30.9,
          32.2,
          32.1,
          31.6,
          26.2,
          25.7,
          26.6,
          34.4,
          30.6,
          32.8,
          28.6,
          18.1,
          39.3,
          32.1,
          32.2,
          24,
          22.3,
          28.9,
          26.4,
          31.8,
          41.2,
          33,
          30.9,
          28.5,
          26.7,
          30.9,
          37.1,
          26.6,
          23.1,
          29.9,
          23.2,
          33.7,
          33.3,
          30.8,
          33.9,
          38.1,
          41.9,
          31.6,
          25.5,
          36.2,
          27.8,
          17.8,
          27.5,
          24.5,
          26.7,
          38.4,
          38.1,
          22.1,
          26.8,
          35.3,
          30,
          38.1,
          35.9,
          20.9,
          29,
          30.3,
          25.4,
          40.2,
          24.4,
          25.2,
          38.1,
          32.4,
          30.2,
          25.8,
          29.4,
          37.1,
          27.5,
          27.6,
          26.6,
          20.6,
          24.3,
          31.8,
          21.6,
          27.6,
          32.4,
          31.2,
          26.6,
          48.1,
          26.2,
          26.4,
          33.4,
          29.6,
          28.8,
          26.8,
          23,
          28.9,
          27.6,
          37.5,
          33,
          38,
          33.3,
          27.5,
          33.3,
          34.9,
          33.1,
          26.6,
          24.7,
          35.9,
          33.3,
          32.2,
          32.8,
          27.6,
          37.3,
          25.3,
          29.6,
          40.9,
          27.2,
          34.1,
          23.2,
          36.7,
          31.2,
          28.8,
          35.7,
          34.5,
          25.7,
          27.6,
          27.7,
          27.6,
          30,
          27.6,
          36.8,
          41.5,
          29.3,
          35.8,
          33.3,
          29.9,
          27.8,
          23.2,
          25.6,
          27.7,
          35.2,
          38.3,
          27.6,
          43.9,
          29.8,
          41.9,
          20.8,
          32.3,
          30.5,
          26.4,
          21.9,
          30.8,
          32.3,
          25,
          32,
          30.4,
          21.1,
          22.2,
          33.2,
          33.3,
          30.1,
          31.5,
          33,
          43.3,
          22.1,
          34.4,
          39.1,
          25.4,
          22.6,
          30.2,
          35.6,
          37.4,
          31.4,
          31.4,
          32.3,
          19.9,
          34.4,
          31,
          25.6,
          38.2,
          20.6,
          47.5,
          33,
          32.3,
          20.4,
          38.4,
          24.3,
          23.6,
          21.1,
          30,
          17.5,
          23.9,
          35.2,
          35.6,
          34.1,
          39.2,
          30.6,
          30.2,
          24.3,
          27.3,
          29.2,
          16.8,
          30.4,
          33.1,
          20.2,
          26.9,
          30.5,
          28.6,
          33.1,
          31.7,
          28.9,
          46.8,
          29.5,
          32.7,
          43,
          36.5,
          33.1,
          29.6,
          25.7,
          29.6,
          38.6,
          29.6,
          24.1,
          23.4,
          29.7,
          46.5,
          37.4,
          30.1,
          30.5,
          39.6,
          33,
          36.6,
          38.1,
          25.9,
          25.2,
          28.7,
          33.8,
          24.3,
          24.1,
          32.7,
          30.1,
          29.8,
          33.3,
          35.6,
          36.9,
          32.6,
          41.3,
          37.5,
          31.4,
          39.5,
          34.3,
          31.1,
          21.5,
          28.7,
          31.2,
          32.9,
          25.1,
          25.1,
          43.4,
          27.9,
          23.6,
          28.7,
          24,
          39.2,
          26,
          28.9,
          30.9,
          31.4,
          23.8,
          25.3,
          28.7,
          32.1,
          33.7,
          22.4,
          30.4,
          35.7,
          35.3,
          30.5,
          31,
          30.9,
          27.4,
          44.2,
          33.9,
          37.7,
          33.9,
          30.6,
          25.8,
          39.4,
          25.5,
          31.7,
          29.7,
          36.2,
          40.5,
          28,
          38.9,
          30.2,
          28.1,
          31.4,
          38,
          31.8,
          36.3,
          30.2,
          35.4,
          46.7,
          28.6,
          30.8,
          28.9,
          21.4,
          31.7,
          41.3,
          23.8,
          33.4,
          34.2,
          35.5,
          20,
          32.7,
          30.5,
          44.8,
          32.1,
          30.5,
          40.6,
          30.6,
          31.9,
          29.1,
          37.3,
          43.1,
          36.9,
          34.3,
          27.2,
          26.8,
          30.2,
          23.5,
          25.5,
          30.6,
          45.4,
          23.7,
          20.7,
          28.3,
          20.2,
          35.9,
          30.7,
          29,
          19.6,
          31.1,
          40.3,
          33.7,
          29.5,
          33.3,
          32.6,
          37.5,
          39.2,
          31.6,
          25.3,
          39.1,
          34.1,
          25.2,
          27,
          29.4,
          34.8,
          33.2,
          19,
          33,
          28.6,
          37.1,
          31.4,
          21.3,
          28.8,
          26,
          28.9,
          42.5,
          38,
          36.1,
          29.3,
          35.5,
          22.7,
          39.7,
          38.2,
          24.5,
          38.1,
          33.7,
          42.4,
          33.9,
          35,
          35.3,
          30.8,
          26.2,
          23.4,
          28.5,
          33,
          42.7,
          39.6,
          31.1,
          36.3,
          35.2,
          42.4,
          33.2,
          35.9,
          28.8,
          46.5,
          24,
          31.5,
          33.7,
          28.7,
          29.8,
          31.6,
          31.2,
          29.7,
          31,
          21.4,
          40.8,
          36.1,
          23.2,
          17.4,
          20.3,
          24.3,
          18.5,
          26.4,
          26.1,
          41.7,
          24.1,
          27.4,
          36.2,
          32.4,
          23.7,
          34.8,
          40.2,
          32.3,
          33.7,
          39.3,
          34.9,
          44.7,
          41.5,
          26.4,
          29.5,
          32.9,
          28.7,
          30.5,
          27.7,
          35.2,
          23.5,
          30.7,
          40.5,
          22.6,
          28.9,
          22.6,
          24.3,
          36.7,
          33.4,
          40.7,
          36.6,
          37.4,
          35.4,
          27.1,
          28.4,
          40.3,
          36.1,
          21.4,
          30.1,
          27.3,
          32.1,
          34.8,
          23.7,
          24,
          26.6,
          26.4,
          30.1,
          27,
          21.8,
          36,
          30.9,
          29,
          37.9,
          22.8,
          33.6,
          27.6,
          22.8,
          37.4,
          34.6,
          35.2,
          26,
          25.2,
          31.8,
          32.3,
          29,
          39.7,
          19.5,
          36.1,
          26.7,
          36.5,
          34.2,
          33.3,
          32.3,
          39.8,
          34.3,
          28.9,
          41.1,
          36,
          29.3,
          27.7,
          37,
          36.9,
          22.5,
          29.9,
          41.8,
          27.6,
          23.2,
          31.9,
          44.2,
          22.9,
          33.1,
          26.2,
          36,
          22.3,
          26.5,
          35.8,
          41.4,
          36.6,
          30.1,
          25.8,
          30.8,
          42.9,
          21,
          22.5,
          34.4,
          31.5,
          24.2,
          37.1,
          33.7,
          17.7,
          31.1,
          29.8,
          24.3,
          31.8,
          21.9,
          33.1,
          25.8,
          23.8,
          34.4,
          33.8,
          36,
          31.5,
          28.3,
          23.5,
          31.4,
          31.1,
          24.7,
          30.5,
          34.2,
          50.4,
          24.1,
          32.8,
          32.3,
          23.8,
          29.6,
          32.2,
          28.1,
          28,
          33.5,
          19.9,
          25.4,
          29.9,
          37.3,
          43.7,
          23.7,
          24.3,
          36.2,
          29.5,
          24.9,
          30.1,
          21.9,
          28.1,
          27.1,
          33.4,
          28.8,
          29.5,
          34.8,
          27.4,
          22.1,
          26.7,
          30,
          39.5,
          33.6,
          29,
          24,
          32.1,
          44,
          25.6,
          40.3,
          22.5,
          22.5,
          27.3,
          36.9,
          35.1,
          29.4,
          32.6,
          32.3,
          39.8,
          28.3,
          26.7,
          27.5,
          24.6,
          34,
          28.2,
          34.2,
          25,
          33.2,
          31,
          35.8,
          23.2,
          32.1,
          23.4,
          20.1,
          39.2,
          34.2,
          46.5,
          32.5,
          25.8,
          35.3,
          37.2,
          27.5,
          29.7,
          24.2,
          26.2,
          29.5,
          23.2,
          46.1,
          40.2,
          22.6,
          39.9,
          35.8,
          35.8,
          31.3,
          18.3,
          28.4,
          39.5,
          26.8,
          36.7,
          39.6,
          25.9,
          35.2,
          24.8,
          36.8,
          27.1,
          25.4,
          25.7,
          34.3,
          28.2,
          23.6,
          20.2,
          40.5,
          35.4,
          40.2,
          29.2,
          40,
          29.9,
          25.5,
          21.4,
          30.6,
          30.1,
          25.8,
          30.1,
          27.6,
          34.7,
          19.8,
          27.8,
          31.6,
          28.3,
          23.3,
          34.1,
          36.9,
          36.3,
          26.9,
          25.8,
          29.6,
          19.2,
          31.7,
          29.3,
          25,
          27.7,
          22.8,
          33.3,
          32.3,
          27.6,
          25.5,
          24.6,
          34.2,
          35.8,
          32.7,
          37,
          23.3,
          45.3,
          34.6,
          18.7,
          31.6,
          17.3,
          27.9,
          38.4,
          23,
          28.9,
          27.3,
          23.1,
          25.8,
          35.2,
          25.1,
          22.5,
          37,
          26.4,
          29.8,
          21.5,
          27.6,
          28.9,
          31.8,
          39.5,
          33.8,
          32,
          27.9,
          28.6,
          25.6,
          25.3,
          37.3,
          42.7,
          21.7,
          31.9,
          31.4,
          31.3,
          28.9,
          18.3,
          29.6,
          32,
          26,
          33.7,
          21.8,
          27.8,
          20,
          31.5,
          30.5,
          29,
          31.5,
          47.7,
          22.1,
          29.8,
          32.7,
          33.7,
          31.4,
          33.8,
          30.9,
          34,
          28.6,
          38.9,
          36.1,
          29.8,
          31.2,
          29.9,
          26.2,
          30,
          20.4,
          32.3,
          26.3,
          24.5,
          32.7,
          29.6,
          20,
          38.2,
          32.4,
          25.1,
          29.9,
          35.9,
          32.8,
          18.6,
          23.9,
          45.9,
          40.3,
          18.3,
          33.8,
          28.1,
          25,
          22.2,
          30.3,
          37.1,
          32.6,
          24.9,
          32.3,
          32.3,
          32.8,
          31.9,
          21.5,
          34.1,
          30.3,
          36.5,
          35.8,
          27.9,
          22.1,
          23.2,
          30.6,
          41.1,
          34.6,
          42.1,
          38.8,
          28.2,
          28.3,
          26.1,
          40.4,
          24.6,
          35.2,
          34.1,
          41.9,
          29.3,
          32.1,
          27.1,
          27.4,
          34.9,
          41.3,
          29.9,
          30.3,
          27.4,
          23.6,
          32.7,
          28,
          32.8,
          21.8,
          32.4,
          36.6,
          21.8,
          27.9,
          33.6,
          29.4,
          25.8,
          24.3,
          40.4,
          32.1,
          32.3,
          17.9,
          34.8,
          37.1,
          30.9,
          34.1,
          21.5,
          33.3,
          31.3,
          39.1,
          25.1,
          37.3,
          30.2,
          21.9,
          25,
          25.3,
          23.9,
          39.8,
          16.8,
          37.2,
          34.4,
          30.3,
          24.6,
          23.3,
          27.8,
          31.1,
          21.7,
          28.2,
          22.7,
          42.1,
          21.3,
          33.1,
          33.3,
          24.3,
          25.7,
          29.4,
          39.8,
          19.8,
          29.3,
          27.7,
          37.9,
          36.4,
          27.6,
          37.7,
          23.2,
          20.5,
          37.1,
          28.1,
          29.9,
          33.3,
          30.5,
          33.3,
          27.5,
          33.9,
          34.5,
          25.5,
          27.6,
          23.7,
          30.4,
          29.7,
          26.8,
          33.3,
          30,
          24.3,
          17.3,
          25.9,
          34.3,
          20,
          23.2,
          25.7,
          25.2,
          22,
          26.1,
          26.5,
          27.5,
          25.7,
          20.8,
          27.7,
          32.2,
          26.3,
          26.7,
          42.9,
          28.3,
          20.6,
          53.1,
          39.7,
          26.3,
          31.1,
          38.8,
          25.9,
          33.5,
          32.9,
          30,
          24.2,
          38.6,
          25.7,
          33.4,
          44.7,
          31,
          31.9,
          36.9,
          25.8
         ],
         "y": [
          1725.55,
          4449.46,
          21984.47,
          3866.86,
          3756.62,
          8240.59,
          7281.51,
          6406.41,
          28923.14,
          2721.32,
          1826.84,
          11090.72,
          1837.24,
          10797.34,
          2395.17,
          10602.39,
          13228.85,
          4149.74,
          1137.01,
          6203.9,
          14001.13,
          14451.84,
          12268.63,
          2775.19,
          2198.19,
          4687.8,
          13770.1,
          1625.43,
          15612.19,
          2302.3,
          3046.06,
          4949.76,
          6272.48,
          6313.76,
          6079.67,
          20630.28,
          3393.36,
          3556.92,
          12629.9,
          2211.13,
          3579.83,
          8059.68,
          13607.37,
          5989.52,
          8606.22,
          4504.66,
          30166.62,
          4133.64,
          1743.21,
          14235.07,
          6389.38,
          5920.1,
          6799.46,
          11741.73,
          11946.63,
          7726.85,
          11356.66,
          3947.41,
          1532.47,
          2755.02,
          6571.02,
          4441.21,
          7935.29,
          11033.66,
          11073.18,
          8026.67,
          11082.58,
          2026.97,
          10942.13,
          5729.01,
          3766.88,
          12105.32,
          10226.28,
          6186.13,
          3645.09,
          21344.85,
          5003.85,
          2331.52,
          3877.3,
          2867.12,
          10825.25,
          11881.36,
          4646.76,
          2404.73,
          11488.32,
          30260,
          11381.33,
          8601.33,
          6686.43,
          7740.34,
          1705.62,
          2257.48,
          10115.01,
          3385.4,
          9634.54,
          6082.41,
          12815.44,
          13616.36,
          11163.57,
          1632.56,
          2457.21,
          2155.68,
          1261.44,
          2045.69,
          27322.73,
          2166.73,
          27375.9,
          3490.55,
          18157.88,
          5138.26,
          9877.61,
          10959.69,
          1842.52,
          5125.22,
          7789.64,
          6334.34,
          7077.19,
          6948.7,
          19749.38,
          10450.55,
          5152.13,
          5028.15,
          10407.09,
          4830.63,
          6128.8,
          2719.28,
          4827.9,
          13405.39,
          8116.68,
          1694.8,
          5246.05,
          2855.44,
          6455.86,
          10436.1,
          8823.28,
          8538.29,
          11735.88,
          1631.82,
          4005.42,
          7419.48,
          7731.43,
          3981.98,
          5325.65,
          6775.96,
          4922.92,
          12557.61,
          4883.87,
          2137.65,
          12044.34,
          1137.47,
          1639.56,
          5649.72,
          8516.83,
          9644.25,
          14901.52,
          2130.68,
          8871.15,
          13012.21,
          7147.11,
          4337.74,
          11743.3,
          13880.95,
          6610.11,
          1980.07,
          8162.72,
          3537.7,
          5002.78,
          8520.03,
          7371.77,
          10355.64,
          2483.74,
          3392.98,
          25081.77,
          5012.47,
          10564.88,
          5253.52,
          11987.17,
          2689.5,
          24227.34,
          7358.18,
          9225.26,
          7443.64,
          14001.29,
          1727.79,
          12333.83,
          6710.19,
          1615.77,
          4463.21,
          7152.67,
          5354.07,
          35160.13,
          7196.87,
          24476.48,
          12648.7,
          1986.93,
          1832.09,
          4040.56,
          4260.74,
          13047.33,
          5400.98,
          11520.1,
          11837.16,
          20463,
          14590.63,
          7441.05,
          9282.48,
          1719.44,
          7265.7,
          9617.66,
          2523.17,
          9715.84,
          2803.7,
          2150.47,
          12928.79,
          9855.13,
          4237.13,
          11879.1,
          9625.92,
          7742.11,
          9432.93,
          14256.19,
          25992.82,
          3172.02,
          20277.81,
          2156.75,
          3906.13,
          1704.57,
          9249.5,
          6746.74,
          12265.51,
          4349.46,
          12646.21,
          19442.35,
          20177.67,
          4151.03,
          11944.59,
          7749.16,
          8444.47,
          1737.38,
          8124.41,
          9722.77,
          8835.26,
          10435.07,
          7421.19,
          4667.61,
          4894.75,
          24671.66,
          11566.3,
          2866.09,
          6600.21,
          3561.89,
          9144.57,
          13429.04,
          11658.38,
          19144.58,
          13822.8,
          12142.58,
          13937.67,
          8232.64,
          18955.22,
          13352.1,
          13217.09,
          13981.85,
          10977.21,
          6184.3,
          4890,
          8334.46,
          5478.04,
          1635.73,
          11830.61,
          8932.08,
          3554.2,
          12404.88,
          14133.04,
          24603.05,
          8944.12,
          9620.33,
          1837.28,
          1607.51,
          10043.25,
          4751.07,
          2597.78,
          3180.51,
          9778.35,
          13430.27,
          8017.06,
          8116.27,
          3481.87,
          13415.04,
          12029.29,
          7639.42,
          1391.53,
          16455.71,
          27000.98,
          20781.49,
          5846.92,
          8302.54,
          1261.86,
          11856.41,
          30284.64,
          3176.82,
          4618.08,
          10736.87,
          2138.07,
          8964.06,
          9290.14,
          9411.01,
          7526.71,
          8522,
          16586.5,
          14988.43,
          1631.67,
          9264.8,
          8083.92,
          14692.67,
          10269.46,
          3260.2,
          11396.9,
          4185.1,
          8539.67,
          6652.53,
          4074.45,
          1621.34,
          5080.1,
          2134.9,
          7345.73,
          9140.95,
          14418.28,
          2727.4,
          8968.33,
          9788.87,
          6555.07,
          7323.73,
          3167.46,
          18804.75,
          23082.96,
          4906.41,
          5969.72,
          12638.2,
          4243.59,
          13919.82,
          2254.8,
          5926.85,
          12592.53,
          2897.32,
          4738.27,
          1149.4,
          28287.9,
          7345.08,
          12731,
          11454.02,
          5910.94,
          4762.33,
          7512.27,
          4032.24,
          1969.61,
          1769.53,
          4686.39,
          21797,
          11881.97,
          11840.78,
          10601.41,
          7682.67,
          10381.48,
          15230.32,
          11165.42,
          1632.04,
          13224.69,
          12643.38,
          23288.93,
          2201.1,
          2497.04,
          2203.47,
          1744.47,
          20878.78,
          2534.39,
          1534.3,
          1824.29,
          15555.19,
          9304.7,
          1622.19,
          9880.07,
          9563.03,
          4347.02,
          12475.35,
          1253.94,
          10461.98,
          1748.77,
          24513.09,
          2196.47,
          12574.05,
          1967.02,
          4931.65,
          8027.97,
          8211.1,
          13470.86,
          6837.37,
          5974.38,
          6796.86,
          2643.27,
          3077.1,
          3044.21,
          11455.28,
          11763,
          2498.41,
          9361.33,
          1256.3,
          11362.76,
          27724.29,
          8413.46,
          5240.77,
          3857.76,
          25656.58,
          3994.18,
          9866.3,
          5397.62,
          11482.63,
          24059.68,
          9861.03,
          8342.91,
          1708,
          14043.48,
          12925.89,
          19214.71,
          13831.12,
          6067.13,
          5972.38,
          8825.09,
          8233.1,
          27346.04,
          6196.45,
          3056.39,
          13887.2,
          10231.5,
          3268.85,
          11538.42,
          3213.62,
          13390.56,
          3972.92,
          12957.12,
          11187.66,
          17878.9,
          3847.67,
          8334.59,
          3935.18,
          1646.43,
          9193.84,
          10923.93,
          2494.02,
          9058.73,
          2801.26,
          2128.43,
          6373.56,
          7256.72,
          11552.9,
          3761.29,
          2219.45,
          4753.64,
          31620,
          13224.06,
          12222.9,
          1665,
          9724.53,
          3206.49,
          12913.99,
          1639.56,
          6356.27,
          17626.24,
          1242.82,
          4779.6,
          3861.21,
          13635.64,
          5976.83,
          11842.44,
          8428.07,
          2566.47,
          5709.16,
          8823.99,
          7640.31,
          5594.85,
          7441.5,
          33471.97,
          1633.04,
          9174.14,
          11070.54,
          16085.13,
          9283.56,
          3558.62,
          4435.09,
          8547.69,
          6571.54,
          2207.7,
          6753.04,
          1880.07,
          11658.12,
          10713.64,
          3659.35,
          9182.17,
          12129.61,
          3736.46,
          6748.59,
          11326.71,
          11365.95,
          10085.85,
          1977.82,
          3366.67,
          7173.36,
          9391.35,
          14410.93,
          2709.11,
          24915.05,
          12949.16,
          6666.24,
          13143.86,
          4466.62,
          18806.15,
          10141.14,
          6123.57,
          8252.28,
          1712.23,
          12430.95,
          9800.89,
          10579.71,
          8280.62,
          8527.53,
          12244.53,
          3410.32,
          4058.71,
          26392.26,
          14394.4,
          6435.62,
          22192.44,
          5148.55,
          1136.4,
          8703.46,
          6500.24,
          4837.58,
          3943.6,
          4399.73,
          6185.32,
          7222.79,
          12485.8,
          12363.55,
          10156.78,
          2585.27,
          1242.26,
          9863.47,
          4766.02,
          11244.38,
          7729.65,
          5438.75,
          26236.58,
          2104.11,
          8068.19,
          2362.23,
          2352.97,
          3578,
          3201.25,
          29186.48,
          10976.25,
          3500.61,
          2020.55,
          9541.7,
          9504.31,
          5385.34,
          8930.93,
          5375.04,
          10264.44,
          6113.23,
          5469.01,
          1727.54,
          10107.22,
          8310.84,
          1984.45,
          2457.5,
          12146.97,
          9566.99,
          13112.6,
          10848.13,
          12231.61,
          9875.68,
          11264.54,
          12979.36,
          1263.25,
          10106.13,
          6664.69,
          2217.6,
          6781.35,
          10065.41,
          4234.93,
          9447.25,
          14007.22,
          9583.89,
          3484.33,
          8604.48,
          3757.84,
          8827.21,
          9910.36,
          11737.85,
          1627.28,
          8556.91,
          3062.51,
          1906.36,
          14210.54,
          11833.78,
          17128.43,
          5031.27,
          7985.82,
          5428.73,
          3925.76,
          2416.96,
          3070.81,
          9095.07,
          11842.62,
          8062.76,
          7050.64,
          14319.03,
          6933.24,
          27941.29,
          11150.78,
          12797.21,
          7261.74,
          10560.49,
          6986.7,
          7448.4,
          5934.38,
          9869.81,
          1146.8,
          9386.16,
          4350.51,
          6414.18,
          12741.17,
          1917.32,
          5209.58,
          13457.96,
          5662.23,
          1252.41,
          2731.91,
          7209.49,
          4266.17,
          4719.52,
          11848.14,
          7046.72,
          14313.85,
          2103.08,
          1815.88,
          7731.86,
          28476.73,
          2136.88,
          1131.51,
          3309.79,
          9414.92,
          6360.99,
          11013.71,
          4428.89,
          5584.31,
          1877.93,
          2842.76,
          3597.6,
          7445.92,
          2680.95,
          1621.88,
          8219.2,
          12523.6,
          16069.08,
          6117.49,
          13393.76,
          5266.37,
          4719.74,
          11743.93,
          5377.46,
          7160.33,
          4402.23,
          11657.72,
          6402.29,
          12622.18,
          1526.31,
          12323.94,
          10072.06,
          9872.7,
          2438.06,
          2974.13,
          10601.63,
          14119.62,
          11729.68,
          1875.34,
          18218.16,
          10965.45,
          7151.09,
          12269.69,
          5458.05,
          8782.47,
          6600.36,
          1141.45,
          11576.13,
          13129.6,
          4391.65,
          8457.82,
          3392.37,
          5966.89,
          6849.03,
          8891.14,
          2690.11,
          26140.36,
          6653.79,
          6282.24,
          6311.95,
          3443.06,
          2789.06,
          2585.85,
          4877.98,
          5272.18,
          1682.6,
          11945.13,
          7243.81,
          10422.92,
          13555,
          13063.88,
          2221.56,
          1634.57,
          2117.34,
          8688.86,
          4661.29,
          8125.78,
          12644.59,
          4564.19,
          4846.92,
          7633.72,
          15170.07,
          2639.04,
          14382.71,
          7626.99,
          5257.51,
          2473.33,
          13041.92,
          5245.23,
          13451.12,
          13462.52,
          5488.26,
          4320.41,
          6250.44,
          25333.33,
          2913.57,
          12032.33,
          13470.8,
          6289.75,
          2927.06,
          6238.3,
          10096.97,
          7348.14,
          4673.39,
          12233.83,
          32108.66,
          8965.8,
          2304,
          9487.64,
          1121.87,
          9549.57,
          2217.47,
          1628.47,
          12982.87,
          11674.13,
          7160.09,
          6358.78,
          11534.87,
          4527.18,
          3875.73,
          12609.89,
          28468.92,
          2730.11,
          3353.28,
          14474.68,
          9500.57,
          26467.1,
          4746.34,
          7518.03,
          3279.87,
          8596.83,
          10702.64,
          4992.38,
          2527.82,
          1759.34,
          2322.62,
          7804.16,
          2902.91,
          9704.67,
          4889.04,
          25517.11,
          4500.34,
          16796.41,
          4915.06,
          7624.63,
          8410.05,
          28340.19,
          4518.83,
          3378.91,
          7144.86,
          10118.42,
          5484.47,
          7986.48,
          7418.52,
          13887.97,
          6551.75,
          5267.82,
          1972.95,
          21232.18,
          8627.54,
          4433.39,
          4438.26,
          23241.47,
          9957.72,
          8269.04,
          36580.28,
          8765.25,
          5383.54,
          12124.99,
          2709.24,
          3987.93,
          12495.29,
          26018.95,
          8798.59,
          1711.03,
          8569.86,
          2020.18,
          21595.38,
          9850.43,
          6877.98,
          4137.52,
          12950.07,
          12094.48,
          2250.84,
          22493.66,
          1704.7,
          3161.45,
          11394.07,
          7325.05,
          3594.17,
          8023.14,
          14394.56,
          9288.03,
          3353.47,
          10594.5,
          8277.52,
          17929.3,
          2480.98,
          4462.72,
          1981.58,
          11554.22,
          6548.2,
          5708.87,
          7045.5,
          8978.19,
          5757.41,
          14349.85,
          10928.85,
          13974.46,
          1909.53,
          12096.65,
          13204.29,
          4562.84,
          8551.35,
          2102.26,
          15161.53,
          11884.05,
          4454.4,
          5855.9,
          4076.5,
          15019.76,
          10796.35,
          11353.23,
          9748.91,
          10577.09,
          11286.54,
          3591.48,
          11299.34,
          4561.19,
          1674.63,
          23045.57,
          3227.12,
          11253.42,
          3471.41,
          11363.28,
          20420.6,
          10338.93,
          8988.16,
          10493.95,
          2904.09,
          8605.36,
          11512.41,
          5312.17,
          2396.1,
          10807.49,
          9222.4,
          5693.43,
          8347.16,
          18903.49,
          14254.61,
          10214.64,
          5836.52,
          14358.36,
          1728.9,
          8582.3,
          3693.43,
          20709.02,
          9991.04,
          19673.34,
          11085.59,
          7623.52,
          3176.29,
          3704.35,
          9048.03,
          7954.52,
          27117.99,
          6338.08,
          9630.4,
          11289.11,
          2261.57,
          10791.96,
          5979.73,
          2203.74,
          12235.84,
          5630.46,
          11015.17,
          7228.22,
          14426.07,
          2459.72,
          3989.84,
          7727.25,
          5124.19,
          18963.17,
          2200.83,
          7153.55,
          5227.99,
          10982.5,
          4529.48,
          4670.64,
          6112.35,
          11093.62,
          6457.84,
          4433.92,
          2154.36,
          6496.89,
          2899.49,
          7650.77,
          2850.68,
          2632.99,
          9447.38,
          8603.82,
          13844.8,
          13126.68,
          5327.4,
          13725.47,
          13019.16,
          8671.19,
          4134.08,
          18838.7,
          5699.84,
          6393.6,
          4934.71,
          6198.75,
          8733.23,
          2055.32,
          9964.06,
          5116.5,
          36910.61,
          12347.17,
          5373.36,
          23563.02,
          1702.46,
          10806.84,
          3956.07,
          12890.06,
          5415.66,
          4058.12,
          7537.16,
          4718.2,
          6593.51,
          8442.67,
          6858.48,
          4795.66,
          6640.54,
          7162.01,
          10594.23,
          11938.26,
          12479.71,
          11345.52,
          8515.76,
          2699.57,
          14449.85,
          12224.35,
          6985.51,
          3238.44,
          4296.27,
          3171.61,
          1135.94,
          5615.37,
          9101.8,
          6059.17,
          1633.96,
          1241.57,
          15828.82,
          4415.16,
          6474.01,
          11436.74,
          11305.93,
          30063.58,
          10197.77,
          4544.23,
          3277.16,
          6770.19,
          7337.75,
          10370.91,
          10704.47,
          1880.49,
          8615.3,
          3292.53,
          3021.81,
          14478.33,
          4747.05,
          10959.33,
          2741.95,
          4357.04,
          4189.11,
          8283.68,
          1720.35,
          8534.67,
          3732.63,
          5472.45,
          7147.47,
          7133.9,
          1515.34,
          9301.89,
          11931.13,
          1964.78,
          1708.93,
          4340.44,
          5261.47,
          2710.83,
          3208.79,
          2464.62,
          6875.96,
          6940.91,
          4571.41,
          4536.26,
          11272.33,
          1731.68,
          1163.46,
          19496.72,
          7201.7,
          5425.02,
          12981.35,
          4239.89,
          13143.34,
          7050.02,
          9377.9,
          22395.74,
          10325.21,
          12629.17,
          10795.94,
          11411.69,
          10600.55,
          2205.98,
          1629.83,
          2007.95
         ]
        }
       ],
       "layout": {
        "template": {
         "data": {
          "bar": [
           {
            "error_x": {
             "color": "#2a3f5f"
            },
            "error_y": {
             "color": "#2a3f5f"
            },
            "marker": {
             "line": {
              "color": "#E5ECF6",
              "width": 0.5
             },
             "pattern": {
              "fillmode": "overlay",
              "size": 10,
              "solidity": 0.2
             }
            },
            "type": "bar"
           }
          ],
          "barpolar": [
           {
            "marker": {
             "line": {
              "color": "#E5ECF6",
              "width": 0.5
             },
             "pattern": {
              "fillmode": "overlay",
              "size": 10,
              "solidity": 0.2
             }
            },
            "type": "barpolar"
           }
          ],
          "carpet": [
           {
            "aaxis": {
             "endlinecolor": "#2a3f5f",
             "gridcolor": "white",
             "linecolor": "white",
             "minorgridcolor": "white",
             "startlinecolor": "#2a3f5f"
            },
            "baxis": {
             "endlinecolor": "#2a3f5f",
             "gridcolor": "white",
             "linecolor": "white",
             "minorgridcolor": "white",
             "startlinecolor": "#2a3f5f"
            },
            "type": "carpet"
           }
          ],
          "choropleth": [
           {
            "colorbar": {
             "outlinewidth": 0,
             "ticks": ""
            },
            "type": "choropleth"
           }
          ],
          "contour": [
           {
            "colorbar": {
             "outlinewidth": 0,
             "ticks": ""
            },
            "colorscale": [
             [
              0,
              "#0d0887"
             ],
             [
              0.1111111111111111,
              "#46039f"
             ],
             [
              0.2222222222222222,
              "#7201a8"
             ],
             [
              0.3333333333333333,
              "#9c179e"
             ],
             [
              0.4444444444444444,
              "#bd3786"
             ],
             [
              0.5555555555555556,
              "#d8576b"
             ],
             [
              0.6666666666666666,
              "#ed7953"
             ],
             [
              0.7777777777777778,
              "#fb9f3a"
             ],
             [
              0.8888888888888888,
              "#fdca26"
             ],
             [
              1,
              "#f0f921"
             ]
            ],
            "type": "contour"
           }
          ],
          "contourcarpet": [
           {
            "colorbar": {
             "outlinewidth": 0,
             "ticks": ""
            },
            "type": "contourcarpet"
           }
          ],
          "heatmap": [
           {
            "colorbar": {
             "outlinewidth": 0,
             "ticks": ""
            },
            "colorscale": [
             [
              0,
              "#0d0887"
             ],
             [
              0.1111111111111111,
              "#46039f"
             ],
             [
              0.2222222222222222,
              "#7201a8"
             ],
             [
              0.3333333333333333,
              "#9c179e"
             ],
             [
              0.4444444444444444,
              "#bd3786"
             ],
             [
              0.5555555555555556,
              "#d8576b"
             ],
             [
              0.6666666666666666,
              "#ed7953"
             ],
             [
              0.7777777777777778,
              "#fb9f3a"
             ],
             [
              0.8888888888888888,
              "#fdca26"
             ],
             [
              1,
              "#f0f921"
             ]
            ],
            "type": "heatmap"
           }
          ],
          "heatmapgl": [
           {
            "colorbar": {
             "outlinewidth": 0,
             "ticks": ""
            },
            "colorscale": [
             [
              0,
              "#0d0887"
             ],
             [
              0.1111111111111111,
              "#46039f"
             ],
             [
              0.2222222222222222,
              "#7201a8"
             ],
             [
              0.3333333333333333,
              "#9c179e"
             ],
             [
              0.4444444444444444,
              "#bd3786"
             ],
             [
              0.5555555555555556,
              "#d8576b"
             ],
             [
              0.6666666666666666,
              "#ed7953"
             ],
             [
              0.7777777777777778,
              "#fb9f3a"
             ],
             [
              0.8888888888888888,
              "#fdca26"
             ],
             [
              1,
              "#f0f921"
             ]
            ],
            "type": "heatmapgl"
           }
          ],
          "histogram": [
           {
            "marker": {
             "pattern": {
              "fillmode": "overlay",
              "size": 10,
              "solidity": 0.2
             }
            },
            "type": "histogram"
           }
          ],
          "histogram2d": [
           {
            "colorbar": {
             "outlinewidth": 0,
             "ticks": ""
            },
            "colorscale": [
             [
              0,
              "#0d0887"
             ],
             [
              0.1111111111111111,
              "#46039f"
             ],
             [
              0.2222222222222222,
              "#7201a8"
             ],
             [
              0.3333333333333333,
              "#9c179e"
             ],
             [
              0.4444444444444444,
              "#bd3786"
             ],
             [
              0.5555555555555556,
              "#d8576b"
             ],
             [
              0.6666666666666666,
              "#ed7953"
             ],
             [
              0.7777777777777778,
              "#fb9f3a"
             ],
             [
              0.8888888888888888,
              "#fdca26"
             ],
             [
              1,
              "#f0f921"
             ]
            ],
            "type": "histogram2d"
           }
          ],
          "histogram2dcontour": [
           {
            "colorbar": {
             "outlinewidth": 0,
             "ticks": ""
            },
            "colorscale": [
             [
              0,
              "#0d0887"
             ],
             [
              0.1111111111111111,
              "#46039f"
             ],
             [
              0.2222222222222222,
              "#7201a8"
             ],
             [
              0.3333333333333333,
              "#9c179e"
             ],
             [
              0.4444444444444444,
              "#bd3786"
             ],
             [
              0.5555555555555556,
              "#d8576b"
             ],
             [
              0.6666666666666666,
              "#ed7953"
             ],
             [
              0.7777777777777778,
              "#fb9f3a"
             ],
             [
              0.8888888888888888,
              "#fdca26"
             ],
             [
              1,
              "#f0f921"
             ]
            ],
            "type": "histogram2dcontour"
           }
          ],
          "mesh3d": [
           {
            "colorbar": {
             "outlinewidth": 0,
             "ticks": ""
            },
            "type": "mesh3d"
           }
          ],
          "parcoords": [
           {
            "line": {
             "colorbar": {
              "outlinewidth": 0,
              "ticks": ""
             }
            },
            "type": "parcoords"
           }
          ],
          "pie": [
           {
            "automargin": true,
            "type": "pie"
           }
          ],
          "scatter": [
           {
            "fillpattern": {
             "fillmode": "overlay",
             "size": 10,
             "solidity": 0.2
            },
            "type": "scatter"
           }
          ],
          "scatter3d": [
           {
            "line": {
             "colorbar": {
              "outlinewidth": 0,
              "ticks": ""
             }
            },
            "marker": {
             "colorbar": {
              "outlinewidth": 0,
              "ticks": ""
             }
            },
            "type": "scatter3d"
           }
          ],
          "scattercarpet": [
           {
            "marker": {
             "colorbar": {
              "outlinewidth": 0,
              "ticks": ""
             }
            },
            "type": "scattercarpet"
           }
          ],
          "scattergeo": [
           {
            "marker": {
             "colorbar": {
              "outlinewidth": 0,
              "ticks": ""
             }
            },
            "type": "scattergeo"
           }
          ],
          "scattergl": [
           {
            "marker": {
             "colorbar": {
              "outlinewidth": 0,
              "ticks": ""
             }
            },
            "type": "scattergl"
           }
          ],
          "scattermapbox": [
           {
            "marker": {
             "colorbar": {
              "outlinewidth": 0,
              "ticks": ""
             }
            },
            "type": "scattermapbox"
           }
          ],
          "scatterpolar": [
           {
            "marker": {
             "colorbar": {
              "outlinewidth": 0,
              "ticks": ""
             }
            },
            "type": "scatterpolar"
           }
          ],
          "scatterpolargl": [
           {
            "marker": {
             "colorbar": {
              "outlinewidth": 0,
              "ticks": ""
             }
            },
            "type": "scatterpolargl"
           }
          ],
          "scatterternary": [
           {
            "marker": {
             "colorbar": {
              "outlinewidth": 0,
              "ticks": ""
             }
            },
            "type": "scatterternary"
           }
          ],
          "surface": [
           {
            "colorbar": {
             "outlinewidth": 0,
             "ticks": ""
            },
            "colorscale": [
             [
              0,
              "#0d0887"
             ],
             [
              0.1111111111111111,
              "#46039f"
             ],
             [
              0.2222222222222222,
              "#7201a8"
             ],
             [
              0.3333333333333333,
              "#9c179e"
             ],
             [
              0.4444444444444444,
              "#bd3786"
             ],
             [
              0.5555555555555556,
              "#d8576b"
             ],
             [
              0.6666666666666666,
              "#ed7953"
             ],
             [
              0.7777777777777778,
              "#fb9f3a"
             ],
             [
              0.8888888888888888,
              "#fdca26"
             ],
             [
              1,
              "#f0f921"
             ]
            ],
            "type": "surface"
           }
          ],
          "table": [
           {
            "cells": {
             "fill": {
              "color": "#EBF0F8"
             },
             "line": {
              "color": "white"
             }
            },
            "header": {
             "fill": {
              "color": "#C8D4E3"
             },
             "line": {
              "color": "white"
             }
            },
            "type": "table"
           }
          ]
         },
         "layout": {
          "annotationdefaults": {
           "arrowcolor": "#2a3f5f",
           "arrowhead": 0,
           "arrowwidth": 1
          },
          "autotypenumbers": "strict",
          "coloraxis": {
           "colorbar": {
            "outlinewidth": 0,
            "ticks": ""
           }
          },
          "colorscale": {
           "diverging": [
            [
             0,
             "#8e0152"
            ],
            [
             0.1,
             "#c51b7d"
            ],
            [
             0.2,
             "#de77ae"
            ],
            [
             0.3,
             "#f1b6da"
            ],
            [
             0.4,
             "#fde0ef"
            ],
            [
             0.5,
             "#f7f7f7"
            ],
            [
             0.6,
             "#e6f5d0"
            ],
            [
             0.7,
             "#b8e186"
            ],
            [
             0.8,
             "#7fbc41"
            ],
            [
             0.9,
             "#4d9221"
            ],
            [
             1,
             "#276419"
            ]
           ],
           "sequential": [
            [
             0,
             "#0d0887"
            ],
            [
             0.1111111111111111,
             "#46039f"
            ],
            [
             0.2222222222222222,
             "#7201a8"
            ],
            [
             0.3333333333333333,
             "#9c179e"
            ],
            [
             0.4444444444444444,
             "#bd3786"
            ],
            [
             0.5555555555555556,
             "#d8576b"
            ],
            [
             0.6666666666666666,
             "#ed7953"
            ],
            [
             0.7777777777777778,
             "#fb9f3a"
            ],
            [
             0.8888888888888888,
             "#fdca26"
            ],
            [
             1,
             "#f0f921"
            ]
           ],
           "sequentialminus": [
            [
             0,
             "#0d0887"
            ],
            [
             0.1111111111111111,
             "#46039f"
            ],
            [
             0.2222222222222222,
             "#7201a8"
            ],
            [
             0.3333333333333333,
             "#9c179e"
            ],
            [
             0.4444444444444444,
             "#bd3786"
            ],
            [
             0.5555555555555556,
             "#d8576b"
            ],
            [
             0.6666666666666666,
             "#ed7953"
            ],
            [
             0.7777777777777778,
             "#fb9f3a"
            ],
            [
             0.8888888888888888,
             "#fdca26"
            ],
            [
             1,
             "#f0f921"
            ]
           ]
          },
          "colorway": [
           "#636efa",
           "#EF553B",
           "#00cc96",
           "#ab63fa",
           "#FFA15A",
           "#19d3f3",
           "#FF6692",
           "#B6E880",
           "#FF97FF",
           "#FECB52"
          ],
          "font": {
           "color": "#2a3f5f"
          },
          "geo": {
           "bgcolor": "white",
           "lakecolor": "white",
           "landcolor": "#E5ECF6",
           "showlakes": true,
           "showland": true,
           "subunitcolor": "white"
          },
          "hoverlabel": {
           "align": "left"
          },
          "hovermode": "closest",
          "mapbox": {
           "style": "light"
          },
          "paper_bgcolor": "white",
          "plot_bgcolor": "#E5ECF6",
          "polar": {
           "angularaxis": {
            "gridcolor": "white",
            "linecolor": "white",
            "ticks": ""
           },
           "bgcolor": "#E5ECF6",
           "radialaxis": {
            "gridcolor": "white",
            "linecolor": "white",
            "ticks": ""
           }
          },
          "scene": {
           "xaxis": {
            "backgroundcolor": "#E5ECF6",
            "gridcolor": "white",
            "gridwidth": 2,
            "linecolor": "white",
            "showbackground": true,
            "ticks": "",
            "zerolinecolor": "white"
           },
           "yaxis": {
            "backgroundcolor": "#E5ECF6",
            "gridcolor": "white",
            "gridwidth": 2,
            "linecolor": "white",
            "showbackground": true,
            "ticks": "",
            "zerolinecolor": "white"
           },
           "zaxis": {
            "backgroundcolor": "#E5ECF6",
            "gridcolor": "white",
            "gridwidth": 2,
            "linecolor": "white",
            "showbackground": true,
            "ticks": "",
            "zerolinecolor": "white"
           }
          },
          "shapedefaults": {
           "line": {
            "color": "#2a3f5f"
           }
          },
          "ternary": {
           "aaxis": {
            "gridcolor": "white",
            "linecolor": "white",
            "ticks": ""
           },
           "baxis": {
            "gridcolor": "white",
            "linecolor": "white",
            "ticks": ""
           },
           "bgcolor": "#E5ECF6",
           "caxis": {
            "gridcolor": "white",
            "linecolor": "white",
            "ticks": ""
           }
          },
          "title": {
           "x": 0.05
          },
          "xaxis": {
           "automargin": true,
           "gridcolor": "white",
           "linecolor": "white",
           "ticks": "",
           "title": {
            "standoff": 15
           },
           "zerolinecolor": "white",
           "zerolinewidth": 2
          },
          "yaxis": {
           "automargin": true,
           "gridcolor": "white",
           "linecolor": "white",
           "ticks": "",
           "title": {
            "standoff": 15
           },
           "zerolinecolor": "white",
           "zerolinewidth": 2
          }
         }
        },
        "title": {
         "text": "Scatter Plot"
        },
        "xaxis": {
         "showgrid": false,
         "showline": false,
         "title": {
          "text": "BMI"
         }
        },
        "yaxis": {
         "showgrid": false,
         "showline": false,
         "title": {
          "text": "Expenses"
         }
        }
       }
      },
      "text/html": [
       "<div>                            <div id=\"4958dc4b-2740-4c21-a570-6f6c1d9511d2\" class=\"plotly-graph-div\" style=\"height:525px; width:100%;\"></div>            <script type=\"text/javascript\">                require([\"plotly\"], function(Plotly) {                    window.PLOTLYENV=window.PLOTLYENV || {};                                    if (document.getElementById(\"4958dc4b-2740-4c21-a570-6f6c1d9511d2\")) {                    Plotly.newPlot(                        \"4958dc4b-2740-4c21-a570-6f6c1d9511d2\",                        [{\"marker\":{\"color\":\"#F39C12\",\"line\":{\"width\":1},\"size\":7,\"symbol\":\"circle\"},\"mode\":\"markers\",\"name\":\"Smoker\",\"x\":[27.9,26.3,42.1,35.3,31.9,36.3,35.6,36.4,36.7,39.9,35.2,28.0,34.4,37.0,31.7,22.9,22.4,24.0,24.8,37.6,34.8,22.9,31.2,29.8,31.3,20.0,19.3,29.9,28.0,35.1,27.9,31.4,28.3,17.8,25.3,28.7,30.5,23.4,24.4,25.2,35.5,26.6,36.9,37.7,41.9,36.1,27.7,34.8,24.6,22.2,29.1,36.7,27.7,17.3,32.2,34.2,31.8,33.6,31.9,26.8,24.3,37.0,42.4,19.8,34.2,28.1,40.6,36.8,45.5,27.7,25.4,34.4,22.6,36.0,31.4,30.8,36.5,33.8,36.4,27.4,32.3,21.7,32.9,28.3,24.9,40.2,18.0,30.7,20.2,17.2,22.6,27.0,33.9,35.9,32.8,33.5,26.7,30.0,28.4,25.1,28.3,28.5,38.1,25.7,34.4,23.2,30.3,28.3,26.1,42.1,47.4,25.8,46.2,34.1,40.6,38.1,30.2,21.9,28.3,23.7,37.8,36.6,25.6,33.1,34.1,33.5,39.0,26.4,28.3,25.3,23.0,38.1,32.8,32.0,43.9,31.4,35.3,31.1,35.8,38.1,39.1,21.8,24.4,38.4,31.7,35.5,29.2,34.1,26.4,27.8,38.2,27.1,28.9,24.4,27.6,20.9,28.5,24.8,42.2,26.1,35.5,31.8,28.0,30.8,32.8,29.8,32.5,30.8,35.5,23.8,33.1,24.1,47.6,37.1,28.9,29.0,26.9,38.9,20.0,40.9,24.6,31.7,26.9,22.9,34.2,29.7,42.9,30.2,27.8,30.8,35.0,24.8,22.9,25.9,20.5,20.0,23.0,32.7,28.2,20.1,31.0,36.1,26.0,23.7,35.2,21.6,37.1,30.5,28.0,30.7,24.7,52.6,30.9,29.8,41.1,37.1,31.7,18.3,36.2,30.4,35.0,19.1,38.4,25.9,33.3,35.8,31.4,36.9,42.8,32.5,32.8,32.6,44.9,27.4,26.7,24.1,29.8,28.5,35.6,25.3,30.0,27.3,33.4,25.6,34.6,24.4,34.5,21.8,41.8,37.0,33.6,29.8,27.3,23.8,31.1,27.1,29.9,27.6,21.7,36.3,39.4,34.9,30.4,30.9,27.8,24.6,21.9,28.1,30.2,34.7,23.7,26.7,40.4,29.1],\"y\":[16884.92,27808.73,39611.76,36837.47,37701.88,38711.0,35585.58,51194.56,39774.28,48173.36,38709.18,23568.27,37742.58,47496.49,34303.17,23244.79,14711.74,17663.14,16577.78,37165.16,39836.52,21098.55,43578.94,30184.94,47291.06,22412.65,15820.7,30942.19,17560.38,47055.53,19107.78,39556.49,17081.08,32734.19,18972.5,20745.99,40720.55,19964.75,21223.68,15518.18,36950.26,21348.71,36149.48,48824.45,43753.34,37133.9,20984.09,34779.62,19515.54,19444.27,17352.68,38511.63,29523.17,12829.46,47305.31,44260.75,41097.16,43921.18,33750.29,17085.27,24869.84,36219.41,46151.12,17179.52,42856.84,22331.57,48549.18,47896.79,42112.24,16297.85,21978.68,38746.36,24873.38,42124.52,34838.87,35491.64,42760.5,47928.03,48517.56,24393.62,41919.1,13844.51,36085.22,18033.97,21659.93,38126.25,15006.58,42303.69,19594.81,14455.64,18608.26,28950.47,46889.26,46599.11,39125.33,37079.37,26109.33,22144.03,19521.97,25382.3,28868.66,35147.53,48885.14,17942.11,36197.7,22218.11,32548.34,21082.16,38245.59,48675.52,63770.43,23807.24,45863.21,39983.43,45702.02,58571.07,43943.88,15359.1,17468.98,25678.78,39241.44,42969.85,23306.55,34439.86,40182.25,34617.84,42983.46,20149.32,32787.46,24667.42,27037.91,42560.43,40003.33,45710.21,46200.99,46130.53,40103.89,34806.47,40273.65,44400.41,40932.43,16657.72,19362.0,40419.02,36189.1,44585.46,18246.5,43254.42,19539.24,23065.42,36307.8,19040.88,17748.51,18259.22,24520.26,21195.82,18310.74,17904.53,38792.69,23401.31,55135.4,43813.87,20773.63,39597.41,36021.01,27533.91,45008.96,37270.15,42111.66,24106.91,40974.16,15817.99,46113.51,46255.11,19719.69,27218.44,29330.98,44202.65,19798.05,48673.56,17496.31,33732.69,21774.32,35069.37,39047.29,19933.46,47462.89,38998.55,20009.63,41999.52,41034.22,23967.38,16138.76,19199.94,14571.89,16420.49,17361.77,34472.84,24915.22,18767.74,35595.59,42211.14,16450.89,21677.28,44423.8,13747.87,37484.45,39725.52,20234.85,33475.82,21880.82,44501.4,39727.61,25309.49,48970.25,39871.7,34672.15,19023.26,41676.08,33907.55,44641.2,16776.3,41949.24,24180.93,36124.57,38282.75,34166.27,46661.44,40904.2,36898.73,52590.83,40941.29,39722.75,17178.68,22478.6,23887.66,19350.37,18328.24,37465.34,21771.34,33307.55,18223.45,38415.47,20296.86,41661.6,26125.67,60021.4,20167.34,47269.85,49577.66,37607.53,18648.42,16232.85,26926.51,34254.05,17043.34,22462.04,24535.7,14283.46,47403.88,38344.57,34828.65,62592.87,46718.16,37829.72,21259.38,16115.3,21472.48,33900.65,36397.58,18765.88,28101.33,43896.38,29141.36],\"type\":\"scatter\"},{\"marker\":{\"color\":\"#8BC34A\",\"line\":{\"width\":1},\"size\":7,\"symbol\":\"circle\"},\"mode\":\"markers\",\"name\":\"Non-Smoker\",\"x\":[33.8,33.0,22.7,28.9,25.7,33.4,27.7,29.8,25.8,26.2,34.4,39.8,24.6,30.8,23.8,40.3,36.0,32.4,34.1,28.0,27.7,23.1,32.8,17.4,26.3,28.6,28.3,20.4,33.0,20.8,26.6,36.6,21.8,30.8,37.1,37.3,38.7,34.8,24.5,35.6,33.6,28.7,31.8,37.3,27.4,33.7,24.7,25.9,28.9,39.1,26.3,36.2,28.5,28.1,32.0,27.4,34.0,29.6,35.5,39.8,33.0,26.9,38.3,41.2,27.2,27.7,27.0,39.5,24.8,34.8,37.6,30.8,38.3,31.6,25.5,30.1,27.5,28.4,30.9,27.9,33.6,29.7,30.8,35.7,32.2,28.6,49.1,27.2,23.4,37.1,23.8,29.0,33.9,28.8,37.4,34.7,26.5,22.0,35.9,25.6,28.8,28.1,34.1,25.2,31.9,36.0,22.4,32.5,29.7,38.8,37.7,37.4,28.4,24.1,29.7,37.1,25.5,39.5,27.8,39.6,29.8,29.6,28.2,37.0,33.2,31.8,18.9,41.5,30.3,16.0,34.8,33.3,27.8,29.2,28.9,33.2,28.6,38.3,20.0,26.4,30.7,29.9,30.9,32.2,32.1,31.6,26.2,25.7,26.6,34.4,30.6,32.8,28.6,18.1,39.3,32.1,32.2,24.0,22.3,28.9,26.4,31.8,41.2,33.0,30.9,28.5,26.7,30.9,37.1,26.6,23.1,29.9,23.2,33.7,33.3,30.8,33.9,38.1,41.9,31.6,25.5,36.2,27.8,17.8,27.5,24.5,26.7,38.4,38.1,22.1,26.8,35.3,30.0,38.1,35.9,20.9,29.0,30.3,25.4,40.2,24.4,25.2,38.1,32.4,30.2,25.8,29.4,37.1,27.5,27.6,26.6,20.6,24.3,31.8,21.6,27.6,32.4,31.2,26.6,48.1,26.2,26.4,33.4,29.6,28.8,26.8,23.0,28.9,27.6,37.5,33.0,38.0,33.3,27.5,33.3,34.9,33.1,26.6,24.7,35.9,33.3,32.2,32.8,27.6,37.3,25.3,29.6,40.9,27.2,34.1,23.2,36.7,31.2,28.8,35.7,34.5,25.7,27.6,27.7,27.6,30.0,27.6,36.8,41.5,29.3,35.8,33.3,29.9,27.8,23.2,25.6,27.7,35.2,38.3,27.6,43.9,29.8,41.9,20.8,32.3,30.5,26.4,21.9,30.8,32.3,25.0,32.0,30.4,21.1,22.2,33.2,33.3,30.1,31.5,33.0,43.3,22.1,34.4,39.1,25.4,22.6,30.2,35.6,37.4,31.4,31.4,32.3,19.9,34.4,31.0,25.6,38.2,20.6,47.5,33.0,32.3,20.4,38.4,24.3,23.6,21.1,30.0,17.5,23.9,35.2,35.6,34.1,39.2,30.6,30.2,24.3,27.3,29.2,16.8,30.4,33.1,20.2,26.9,30.5,28.6,33.1,31.7,28.9,46.8,29.5,32.7,43.0,36.5,33.1,29.6,25.7,29.6,38.6,29.6,24.1,23.4,29.7,46.5,37.4,30.1,30.5,39.6,33.0,36.6,38.1,25.9,25.2,28.7,33.8,24.3,24.1,32.7,30.1,29.8,33.3,35.6,36.9,32.6,41.3,37.5,31.4,39.5,34.3,31.1,21.5,28.7,31.2,32.9,25.1,25.1,43.4,27.9,23.6,28.7,24.0,39.2,26.0,28.9,30.9,31.4,23.8,25.3,28.7,32.1,33.7,22.4,30.4,35.7,35.3,30.5,31.0,30.9,27.4,44.2,33.9,37.7,33.9,30.6,25.8,39.4,25.5,31.7,29.7,36.2,40.5,28.0,38.9,30.2,28.1,31.4,38.0,31.8,36.3,30.2,35.4,46.7,28.6,30.8,28.9,21.4,31.7,41.3,23.8,33.4,34.2,35.5,20.0,32.7,30.5,44.8,32.1,30.5,40.6,30.6,31.9,29.1,37.3,43.1,36.9,34.3,27.2,26.8,30.2,23.5,25.5,30.6,45.4,23.7,20.7,28.3,20.2,35.9,30.7,29.0,19.6,31.1,40.3,33.7,29.5,33.3,32.6,37.5,39.2,31.6,25.3,39.1,34.1,25.2,27.0,29.4,34.8,33.2,19.0,33.0,28.6,37.1,31.4,21.3,28.8,26.0,28.9,42.5,38.0,36.1,29.3,35.5,22.7,39.7,38.2,24.5,38.1,33.7,42.4,33.9,35.0,35.3,30.8,26.2,23.4,28.5,33.0,42.7,39.6,31.1,36.3,35.2,42.4,33.2,35.9,28.8,46.5,24.0,31.5,33.7,28.7,29.8,31.6,31.2,29.7,31.0,21.4,40.8,36.1,23.2,17.4,20.3,24.3,18.5,26.4,26.1,41.7,24.1,27.4,36.2,32.4,23.7,34.8,40.2,32.3,33.7,39.3,34.9,44.7,41.5,26.4,29.5,32.9,28.7,30.5,27.7,35.2,23.5,30.7,40.5,22.6,28.9,22.6,24.3,36.7,33.4,40.7,36.6,37.4,35.4,27.1,28.4,40.3,36.1,21.4,30.1,27.3,32.1,34.8,23.7,24.0,26.6,26.4,30.1,27.0,21.8,36.0,30.9,29.0,37.9,22.8,33.6,27.6,22.8,37.4,34.6,35.2,26.0,25.2,31.8,32.3,29.0,39.7,19.5,36.1,26.7,36.5,34.2,33.3,32.3,39.8,34.3,28.9,41.1,36.0,29.3,27.7,37.0,36.9,22.5,29.9,41.8,27.6,23.2,31.9,44.2,22.9,33.1,26.2,36.0,22.3,26.5,35.8,41.4,36.6,30.1,25.8,30.8,42.9,21.0,22.5,34.4,31.5,24.2,37.1,33.7,17.7,31.1,29.8,24.3,31.8,21.9,33.1,25.8,23.8,34.4,33.8,36.0,31.5,28.3,23.5,31.4,31.1,24.7,30.5,34.2,50.4,24.1,32.8,32.3,23.8,29.6,32.2,28.1,28.0,33.5,19.9,25.4,29.9,37.3,43.7,23.7,24.3,36.2,29.5,24.9,30.1,21.9,28.1,27.1,33.4,28.8,29.5,34.8,27.4,22.1,26.7,30.0,39.5,33.6,29.0,24.0,32.1,44.0,25.6,40.3,22.5,22.5,27.3,36.9,35.1,29.4,32.6,32.3,39.8,28.3,26.7,27.5,24.6,34.0,28.2,34.2,25.0,33.2,31.0,35.8,23.2,32.1,23.4,20.1,39.2,34.2,46.5,32.5,25.8,35.3,37.2,27.5,29.7,24.2,26.2,29.5,23.2,46.1,40.2,22.6,39.9,35.8,35.8,31.3,18.3,28.4,39.5,26.8,36.7,39.6,25.9,35.2,24.8,36.8,27.1,25.4,25.7,34.3,28.2,23.6,20.2,40.5,35.4,40.2,29.2,40.0,29.9,25.5,21.4,30.6,30.1,25.8,30.1,27.6,34.7,19.8,27.8,31.6,28.3,23.3,34.1,36.9,36.3,26.9,25.8,29.6,19.2,31.7,29.3,25.0,27.7,22.8,33.3,32.3,27.6,25.5,24.6,34.2,35.8,32.7,37.0,23.3,45.3,34.6,18.7,31.6,17.3,27.9,38.4,23.0,28.9,27.3,23.1,25.8,35.2,25.1,22.5,37.0,26.4,29.8,21.5,27.6,28.9,31.8,39.5,33.8,32.0,27.9,28.6,25.6,25.3,37.3,42.7,21.7,31.9,31.4,31.3,28.9,18.3,29.6,32.0,26.0,33.7,21.8,27.8,20.0,31.5,30.5,29.0,31.5,47.7,22.1,29.8,32.7,33.7,31.4,33.8,30.9,34.0,28.6,38.9,36.1,29.8,31.2,29.9,26.2,30.0,20.4,32.3,26.3,24.5,32.7,29.6,20.0,38.2,32.4,25.1,29.9,35.9,32.8,18.6,23.9,45.9,40.3,18.3,33.8,28.1,25.0,22.2,30.3,37.1,32.6,24.9,32.3,32.3,32.8,31.9,21.5,34.1,30.3,36.5,35.8,27.9,22.1,23.2,30.6,41.1,34.6,42.1,38.8,28.2,28.3,26.1,40.4,24.6,35.2,34.1,41.9,29.3,32.1,27.1,27.4,34.9,41.3,29.9,30.3,27.4,23.6,32.7,28.0,32.8,21.8,32.4,36.6,21.8,27.9,33.6,29.4,25.8,24.3,40.4,32.1,32.3,17.9,34.8,37.1,30.9,34.1,21.5,33.3,31.3,39.1,25.1,37.3,30.2,21.9,25.0,25.3,23.9,39.8,16.8,37.2,34.4,30.3,24.6,23.3,27.8,31.1,21.7,28.2,22.7,42.1,21.3,33.1,33.3,24.3,25.7,29.4,39.8,19.8,29.3,27.7,37.9,36.4,27.6,37.7,23.2,20.5,37.1,28.1,29.9,33.3,30.5,33.3,27.5,33.9,34.5,25.5,27.6,23.7,30.4,29.7,26.8,33.3,30.0,24.3,17.3,25.9,34.3,20.0,23.2,25.7,25.2,22.0,26.1,26.5,27.5,25.7,20.8,27.7,32.2,26.3,26.7,42.9,28.3,20.6,53.1,39.7,26.3,31.1,38.8,25.9,33.5,32.9,30.0,24.2,38.6,25.7,33.4,44.7,31.0,31.9,36.9,25.8],\"y\":[1725.55,4449.46,21984.47,3866.86,3756.62,8240.59,7281.51,6406.41,28923.14,2721.32,1826.84,11090.72,1837.24,10797.34,2395.17,10602.39,13228.85,4149.74,1137.01,6203.9,14001.13,14451.84,12268.63,2775.19,2198.19,4687.8,13770.1,1625.43,15612.19,2302.3,3046.06,4949.76,6272.48,6313.76,6079.67,20630.28,3393.36,3556.92,12629.9,2211.13,3579.83,8059.68,13607.37,5989.52,8606.22,4504.66,30166.62,4133.64,1743.21,14235.07,6389.38,5920.1,6799.46,11741.73,11946.63,7726.85,11356.66,3947.41,1532.47,2755.02,6571.02,4441.21,7935.29,11033.66,11073.18,8026.67,11082.58,2026.97,10942.13,5729.01,3766.88,12105.32,10226.28,6186.13,3645.09,21344.85,5003.85,2331.52,3877.3,2867.12,10825.25,11881.36,4646.76,2404.73,11488.32,30260.0,11381.33,8601.33,6686.43,7740.34,1705.62,2257.48,10115.01,3385.4,9634.54,6082.41,12815.44,13616.36,11163.57,1632.56,2457.21,2155.68,1261.44,2045.69,27322.73,2166.73,27375.9,3490.55,18157.88,5138.26,9877.61,10959.69,1842.52,5125.22,7789.64,6334.34,7077.19,6948.7,19749.38,10450.55,5152.13,5028.15,10407.09,4830.63,6128.8,2719.28,4827.9,13405.39,8116.68,1694.8,5246.05,2855.44,6455.86,10436.1,8823.28,8538.29,11735.88,1631.82,4005.42,7419.48,7731.43,3981.98,5325.65,6775.96,4922.92,12557.61,4883.87,2137.65,12044.34,1137.47,1639.56,5649.72,8516.83,9644.25,14901.52,2130.68,8871.15,13012.21,7147.11,4337.74,11743.3,13880.95,6610.11,1980.07,8162.72,3537.7,5002.78,8520.03,7371.77,10355.64,2483.74,3392.98,25081.77,5012.47,10564.88,5253.52,11987.17,2689.5,24227.34,7358.18,9225.26,7443.64,14001.29,1727.79,12333.83,6710.19,1615.77,4463.21,7152.67,5354.07,35160.13,7196.87,24476.48,12648.7,1986.93,1832.09,4040.56,4260.74,13047.33,5400.98,11520.1,11837.16,20463.0,14590.63,7441.05,9282.48,1719.44,7265.7,9617.66,2523.17,9715.84,2803.7,2150.47,12928.79,9855.13,4237.13,11879.1,9625.92,7742.11,9432.93,14256.19,25992.82,3172.02,20277.81,2156.75,3906.13,1704.57,9249.5,6746.74,12265.51,4349.46,12646.21,19442.35,20177.67,4151.03,11944.59,7749.16,8444.47,1737.38,8124.41,9722.77,8835.26,10435.07,7421.19,4667.61,4894.75,24671.66,11566.3,2866.09,6600.21,3561.89,9144.57,13429.04,11658.38,19144.58,13822.8,12142.58,13937.67,8232.64,18955.22,13352.1,13217.09,13981.85,10977.21,6184.3,4890.0,8334.46,5478.04,1635.73,11830.61,8932.08,3554.2,12404.88,14133.04,24603.05,8944.12,9620.33,1837.28,1607.51,10043.25,4751.07,2597.78,3180.51,9778.35,13430.27,8017.06,8116.27,3481.87,13415.04,12029.29,7639.42,1391.53,16455.71,27000.98,20781.49,5846.92,8302.54,1261.86,11856.41,30284.64,3176.82,4618.08,10736.87,2138.07,8964.06,9290.14,9411.01,7526.71,8522.0,16586.5,14988.43,1631.67,9264.8,8083.92,14692.67,10269.46,3260.2,11396.9,4185.1,8539.67,6652.53,4074.45,1621.34,5080.1,2134.9,7345.73,9140.95,14418.28,2727.4,8968.33,9788.87,6555.07,7323.73,3167.46,18804.75,23082.96,4906.41,5969.72,12638.2,4243.59,13919.82,2254.8,5926.85,12592.53,2897.32,4738.27,1149.4,28287.9,7345.08,12731.0,11454.02,5910.94,4762.33,7512.27,4032.24,1969.61,1769.53,4686.39,21797.0,11881.97,11840.78,10601.41,7682.67,10381.48,15230.32,11165.42,1632.04,13224.69,12643.38,23288.93,2201.1,2497.04,2203.47,1744.47,20878.78,2534.39,1534.3,1824.29,15555.19,9304.7,1622.19,9880.07,9563.03,4347.02,12475.35,1253.94,10461.98,1748.77,24513.09,2196.47,12574.05,1967.02,4931.65,8027.97,8211.1,13470.86,6837.37,5974.38,6796.86,2643.27,3077.1,3044.21,11455.28,11763.0,2498.41,9361.33,1256.3,11362.76,27724.29,8413.46,5240.77,3857.76,25656.58,3994.18,9866.3,5397.62,11482.63,24059.68,9861.03,8342.91,1708.0,14043.48,12925.89,19214.71,13831.12,6067.13,5972.38,8825.09,8233.1,27346.04,6196.45,3056.39,13887.2,10231.5,3268.85,11538.42,3213.62,13390.56,3972.92,12957.12,11187.66,17878.9,3847.67,8334.59,3935.18,1646.43,9193.84,10923.93,2494.02,9058.73,2801.26,2128.43,6373.56,7256.72,11552.9,3761.29,2219.45,4753.64,31620.0,13224.06,12222.9,1665.0,9724.53,3206.49,12913.99,1639.56,6356.27,17626.24,1242.82,4779.6,3861.21,13635.64,5976.83,11842.44,8428.07,2566.47,5709.16,8823.99,7640.31,5594.85,7441.5,33471.97,1633.04,9174.14,11070.54,16085.13,9283.56,3558.62,4435.09,8547.69,6571.54,2207.7,6753.04,1880.07,11658.12,10713.64,3659.35,9182.17,12129.61,3736.46,6748.59,11326.71,11365.95,10085.85,1977.82,3366.67,7173.36,9391.35,14410.93,2709.11,24915.05,12949.16,6666.24,13143.86,4466.62,18806.15,10141.14,6123.57,8252.28,1712.23,12430.95,9800.89,10579.71,8280.62,8527.53,12244.53,3410.32,4058.71,26392.26,14394.4,6435.62,22192.44,5148.55,1136.4,8703.46,6500.24,4837.58,3943.6,4399.73,6185.32,7222.79,12485.8,12363.55,10156.78,2585.27,1242.26,9863.47,4766.02,11244.38,7729.65,5438.75,26236.58,2104.11,8068.19,2362.23,2352.97,3578.0,3201.25,29186.48,10976.25,3500.61,2020.55,9541.7,9504.31,5385.34,8930.93,5375.04,10264.44,6113.23,5469.01,1727.54,10107.22,8310.84,1984.45,2457.5,12146.97,9566.99,13112.6,10848.13,12231.61,9875.68,11264.54,12979.36,1263.25,10106.13,6664.69,2217.6,6781.35,10065.41,4234.93,9447.25,14007.22,9583.89,3484.33,8604.48,3757.84,8827.21,9910.36,11737.85,1627.28,8556.91,3062.51,1906.36,14210.54,11833.78,17128.43,5031.27,7985.82,5428.73,3925.76,2416.96,3070.81,9095.07,11842.62,8062.76,7050.64,14319.03,6933.24,27941.29,11150.78,12797.21,7261.74,10560.49,6986.7,7448.4,5934.38,9869.81,1146.8,9386.16,4350.51,6414.18,12741.17,1917.32,5209.58,13457.96,5662.23,1252.41,2731.91,7209.49,4266.17,4719.52,11848.14,7046.72,14313.85,2103.08,1815.88,7731.86,28476.73,2136.88,1131.51,3309.79,9414.92,6360.99,11013.71,4428.89,5584.31,1877.93,2842.76,3597.6,7445.92,2680.95,1621.88,8219.2,12523.6,16069.08,6117.49,13393.76,5266.37,4719.74,11743.93,5377.46,7160.33,4402.23,11657.72,6402.29,12622.18,1526.31,12323.94,10072.06,9872.7,2438.06,2974.13,10601.63,14119.62,11729.68,1875.34,18218.16,10965.45,7151.09,12269.69,5458.05,8782.47,6600.36,1141.45,11576.13,13129.6,4391.65,8457.82,3392.37,5966.89,6849.03,8891.14,2690.11,26140.36,6653.79,6282.24,6311.95,3443.06,2789.06,2585.85,4877.98,5272.18,1682.6,11945.13,7243.81,10422.92,13555.0,13063.88,2221.56,1634.57,2117.34,8688.86,4661.29,8125.78,12644.59,4564.19,4846.92,7633.72,15170.07,2639.04,14382.71,7626.99,5257.51,2473.33,13041.92,5245.23,13451.12,13462.52,5488.26,4320.41,6250.44,25333.33,2913.57,12032.33,13470.8,6289.75,2927.06,6238.3,10096.97,7348.14,4673.39,12233.83,32108.66,8965.8,2304.0,9487.64,1121.87,9549.57,2217.47,1628.47,12982.87,11674.13,7160.09,6358.78,11534.87,4527.18,3875.73,12609.89,28468.92,2730.11,3353.28,14474.68,9500.57,26467.1,4746.34,7518.03,3279.87,8596.83,10702.64,4992.38,2527.82,1759.34,2322.62,7804.16,2902.91,9704.67,4889.04,25517.11,4500.34,16796.41,4915.06,7624.63,8410.05,28340.19,4518.83,3378.91,7144.86,10118.42,5484.47,7986.48,7418.52,13887.97,6551.75,5267.82,1972.95,21232.18,8627.54,4433.39,4438.26,23241.47,9957.72,8269.04,36580.28,8765.25,5383.54,12124.99,2709.24,3987.93,12495.29,26018.95,8798.59,1711.03,8569.86,2020.18,21595.38,9850.43,6877.98,4137.52,12950.07,12094.48,2250.84,22493.66,1704.7,3161.45,11394.07,7325.05,3594.17,8023.14,14394.56,9288.03,3353.47,10594.5,8277.52,17929.3,2480.98,4462.72,1981.58,11554.22,6548.2,5708.87,7045.5,8978.19,5757.41,14349.85,10928.85,13974.46,1909.53,12096.65,13204.29,4562.84,8551.35,2102.26,15161.53,11884.05,4454.4,5855.9,4076.5,15019.76,10796.35,11353.23,9748.91,10577.09,11286.54,3591.48,11299.34,4561.19,1674.63,23045.57,3227.12,11253.42,3471.41,11363.28,20420.6,10338.93,8988.16,10493.95,2904.09,8605.36,11512.41,5312.17,2396.1,10807.49,9222.4,5693.43,8347.16,18903.49,14254.61,10214.64,5836.52,14358.36,1728.9,8582.3,3693.43,20709.02,9991.04,19673.34,11085.59,7623.52,3176.29,3704.35,9048.03,7954.52,27117.99,6338.08,9630.4,11289.11,2261.57,10791.96,5979.73,2203.74,12235.84,5630.46,11015.17,7228.22,14426.07,2459.72,3989.84,7727.25,5124.19,18963.17,2200.83,7153.55,5227.99,10982.5,4529.48,4670.64,6112.35,11093.62,6457.84,4433.92,2154.36,6496.89,2899.49,7650.77,2850.68,2632.99,9447.38,8603.82,13844.8,13126.68,5327.4,13725.47,13019.16,8671.19,4134.08,18838.7,5699.84,6393.6,4934.71,6198.75,8733.23,2055.32,9964.06,5116.5,36910.61,12347.17,5373.36,23563.02,1702.46,10806.84,3956.07,12890.06,5415.66,4058.12,7537.16,4718.2,6593.51,8442.67,6858.48,4795.66,6640.54,7162.01,10594.23,11938.26,12479.71,11345.52,8515.76,2699.57,14449.85,12224.35,6985.51,3238.44,4296.27,3171.61,1135.94,5615.37,9101.8,6059.17,1633.96,1241.57,15828.82,4415.16,6474.01,11436.74,11305.93,30063.58,10197.77,4544.23,3277.16,6770.19,7337.75,10370.91,10704.47,1880.49,8615.3,3292.53,3021.81,14478.33,4747.05,10959.33,2741.95,4357.04,4189.11,8283.68,1720.35,8534.67,3732.63,5472.45,7147.47,7133.9,1515.34,9301.89,11931.13,1964.78,1708.93,4340.44,5261.47,2710.83,3208.79,2464.62,6875.96,6940.91,4571.41,4536.26,11272.33,1731.68,1163.46,19496.72,7201.7,5425.02,12981.35,4239.89,13143.34,7050.02,9377.9,22395.74,10325.21,12629.17,10795.94,11411.69,10600.55,2205.98,1629.83,2007.95],\"type\":\"scatter\"}],                        {\"template\":{\"data\":{\"barpolar\":[{\"marker\":{\"line\":{\"color\":\"#E5ECF6\",\"width\":0.5},\"pattern\":{\"fillmode\":\"overlay\",\"size\":10,\"solidity\":0.2}},\"type\":\"barpolar\"}],\"bar\":[{\"error_x\":{\"color\":\"#2a3f5f\"},\"error_y\":{\"color\":\"#2a3f5f\"},\"marker\":{\"line\":{\"color\":\"#E5ECF6\",\"width\":0.5},\"pattern\":{\"fillmode\":\"overlay\",\"size\":10,\"solidity\":0.2}},\"type\":\"bar\"}],\"carpet\":[{\"aaxis\":{\"endlinecolor\":\"#2a3f5f\",\"gridcolor\":\"white\",\"linecolor\":\"white\",\"minorgridcolor\":\"white\",\"startlinecolor\":\"#2a3f5f\"},\"baxis\":{\"endlinecolor\":\"#2a3f5f\",\"gridcolor\":\"white\",\"linecolor\":\"white\",\"minorgridcolor\":\"white\",\"startlinecolor\":\"#2a3f5f\"},\"type\":\"carpet\"}],\"choropleth\":[{\"colorbar\":{\"outlinewidth\":0,\"ticks\":\"\"},\"type\":\"choropleth\"}],\"contourcarpet\":[{\"colorbar\":{\"outlinewidth\":0,\"ticks\":\"\"},\"type\":\"contourcarpet\"}],\"contour\":[{\"colorbar\":{\"outlinewidth\":0,\"ticks\":\"\"},\"colorscale\":[[0.0,\"#0d0887\"],[0.1111111111111111,\"#46039f\"],[0.2222222222222222,\"#7201a8\"],[0.3333333333333333,\"#9c179e\"],[0.4444444444444444,\"#bd3786\"],[0.5555555555555556,\"#d8576b\"],[0.6666666666666666,\"#ed7953\"],[0.7777777777777778,\"#fb9f3a\"],[0.8888888888888888,\"#fdca26\"],[1.0,\"#f0f921\"]],\"type\":\"contour\"}],\"heatmapgl\":[{\"colorbar\":{\"outlinewidth\":0,\"ticks\":\"\"},\"colorscale\":[[0.0,\"#0d0887\"],[0.1111111111111111,\"#46039f\"],[0.2222222222222222,\"#7201a8\"],[0.3333333333333333,\"#9c179e\"],[0.4444444444444444,\"#bd3786\"],[0.5555555555555556,\"#d8576b\"],[0.6666666666666666,\"#ed7953\"],[0.7777777777777778,\"#fb9f3a\"],[0.8888888888888888,\"#fdca26\"],[1.0,\"#f0f921\"]],\"type\":\"heatmapgl\"}],\"heatmap\":[{\"colorbar\":{\"outlinewidth\":0,\"ticks\":\"\"},\"colorscale\":[[0.0,\"#0d0887\"],[0.1111111111111111,\"#46039f\"],[0.2222222222222222,\"#7201a8\"],[0.3333333333333333,\"#9c179e\"],[0.4444444444444444,\"#bd3786\"],[0.5555555555555556,\"#d8576b\"],[0.6666666666666666,\"#ed7953\"],[0.7777777777777778,\"#fb9f3a\"],[0.8888888888888888,\"#fdca26\"],[1.0,\"#f0f921\"]],\"type\":\"heatmap\"}],\"histogram2dcontour\":[{\"colorbar\":{\"outlinewidth\":0,\"ticks\":\"\"},\"colorscale\":[[0.0,\"#0d0887\"],[0.1111111111111111,\"#46039f\"],[0.2222222222222222,\"#7201a8\"],[0.3333333333333333,\"#9c179e\"],[0.4444444444444444,\"#bd3786\"],[0.5555555555555556,\"#d8576b\"],[0.6666666666666666,\"#ed7953\"],[0.7777777777777778,\"#fb9f3a\"],[0.8888888888888888,\"#fdca26\"],[1.0,\"#f0f921\"]],\"type\":\"histogram2dcontour\"}],\"histogram2d\":[{\"colorbar\":{\"outlinewidth\":0,\"ticks\":\"\"},\"colorscale\":[[0.0,\"#0d0887\"],[0.1111111111111111,\"#46039f\"],[0.2222222222222222,\"#7201a8\"],[0.3333333333333333,\"#9c179e\"],[0.4444444444444444,\"#bd3786\"],[0.5555555555555556,\"#d8576b\"],[0.6666666666666666,\"#ed7953\"],[0.7777777777777778,\"#fb9f3a\"],[0.8888888888888888,\"#fdca26\"],[1.0,\"#f0f921\"]],\"type\":\"histogram2d\"}],\"histogram\":[{\"marker\":{\"pattern\":{\"fillmode\":\"overlay\",\"size\":10,\"solidity\":0.2}},\"type\":\"histogram\"}],\"mesh3d\":[{\"colorbar\":{\"outlinewidth\":0,\"ticks\":\"\"},\"type\":\"mesh3d\"}],\"parcoords\":[{\"line\":{\"colorbar\":{\"outlinewidth\":0,\"ticks\":\"\"}},\"type\":\"parcoords\"}],\"pie\":[{\"automargin\":true,\"type\":\"pie\"}],\"scatter3d\":[{\"line\":{\"colorbar\":{\"outlinewidth\":0,\"ticks\":\"\"}},\"marker\":{\"colorbar\":{\"outlinewidth\":0,\"ticks\":\"\"}},\"type\":\"scatter3d\"}],\"scattercarpet\":[{\"marker\":{\"colorbar\":{\"outlinewidth\":0,\"ticks\":\"\"}},\"type\":\"scattercarpet\"}],\"scattergeo\":[{\"marker\":{\"colorbar\":{\"outlinewidth\":0,\"ticks\":\"\"}},\"type\":\"scattergeo\"}],\"scattergl\":[{\"marker\":{\"colorbar\":{\"outlinewidth\":0,\"ticks\":\"\"}},\"type\":\"scattergl\"}],\"scattermapbox\":[{\"marker\":{\"colorbar\":{\"outlinewidth\":0,\"ticks\":\"\"}},\"type\":\"scattermapbox\"}],\"scatterpolargl\":[{\"marker\":{\"colorbar\":{\"outlinewidth\":0,\"ticks\":\"\"}},\"type\":\"scatterpolargl\"}],\"scatterpolar\":[{\"marker\":{\"colorbar\":{\"outlinewidth\":0,\"ticks\":\"\"}},\"type\":\"scatterpolar\"}],\"scatter\":[{\"fillpattern\":{\"fillmode\":\"overlay\",\"size\":10,\"solidity\":0.2},\"type\":\"scatter\"}],\"scatterternary\":[{\"marker\":{\"colorbar\":{\"outlinewidth\":0,\"ticks\":\"\"}},\"type\":\"scatterternary\"}],\"surface\":[{\"colorbar\":{\"outlinewidth\":0,\"ticks\":\"\"},\"colorscale\":[[0.0,\"#0d0887\"],[0.1111111111111111,\"#46039f\"],[0.2222222222222222,\"#7201a8\"],[0.3333333333333333,\"#9c179e\"],[0.4444444444444444,\"#bd3786\"],[0.5555555555555556,\"#d8576b\"],[0.6666666666666666,\"#ed7953\"],[0.7777777777777778,\"#fb9f3a\"],[0.8888888888888888,\"#fdca26\"],[1.0,\"#f0f921\"]],\"type\":\"surface\"}],\"table\":[{\"cells\":{\"fill\":{\"color\":\"#EBF0F8\"},\"line\":{\"color\":\"white\"}},\"header\":{\"fill\":{\"color\":\"#C8D4E3\"},\"line\":{\"color\":\"white\"}},\"type\":\"table\"}]},\"layout\":{\"annotationdefaults\":{\"arrowcolor\":\"#2a3f5f\",\"arrowhead\":0,\"arrowwidth\":1},\"autotypenumbers\":\"strict\",\"coloraxis\":{\"colorbar\":{\"outlinewidth\":0,\"ticks\":\"\"}},\"colorscale\":{\"diverging\":[[0,\"#8e0152\"],[0.1,\"#c51b7d\"],[0.2,\"#de77ae\"],[0.3,\"#f1b6da\"],[0.4,\"#fde0ef\"],[0.5,\"#f7f7f7\"],[0.6,\"#e6f5d0\"],[0.7,\"#b8e186\"],[0.8,\"#7fbc41\"],[0.9,\"#4d9221\"],[1,\"#276419\"]],\"sequential\":[[0.0,\"#0d0887\"],[0.1111111111111111,\"#46039f\"],[0.2222222222222222,\"#7201a8\"],[0.3333333333333333,\"#9c179e\"],[0.4444444444444444,\"#bd3786\"],[0.5555555555555556,\"#d8576b\"],[0.6666666666666666,\"#ed7953\"],[0.7777777777777778,\"#fb9f3a\"],[0.8888888888888888,\"#fdca26\"],[1.0,\"#f0f921\"]],\"sequentialminus\":[[0.0,\"#0d0887\"],[0.1111111111111111,\"#46039f\"],[0.2222222222222222,\"#7201a8\"],[0.3333333333333333,\"#9c179e\"],[0.4444444444444444,\"#bd3786\"],[0.5555555555555556,\"#d8576b\"],[0.6666666666666666,\"#ed7953\"],[0.7777777777777778,\"#fb9f3a\"],[0.8888888888888888,\"#fdca26\"],[1.0,\"#f0f921\"]]},\"colorway\":[\"#636efa\",\"#EF553B\",\"#00cc96\",\"#ab63fa\",\"#FFA15A\",\"#19d3f3\",\"#FF6692\",\"#B6E880\",\"#FF97FF\",\"#FECB52\"],\"font\":{\"color\":\"#2a3f5f\"},\"geo\":{\"bgcolor\":\"white\",\"lakecolor\":\"white\",\"landcolor\":\"#E5ECF6\",\"showlakes\":true,\"showland\":true,\"subunitcolor\":\"white\"},\"hoverlabel\":{\"align\":\"left\"},\"hovermode\":\"closest\",\"mapbox\":{\"style\":\"light\"},\"paper_bgcolor\":\"white\",\"plot_bgcolor\":\"#E5ECF6\",\"polar\":{\"angularaxis\":{\"gridcolor\":\"white\",\"linecolor\":\"white\",\"ticks\":\"\"},\"bgcolor\":\"#E5ECF6\",\"radialaxis\":{\"gridcolor\":\"white\",\"linecolor\":\"white\",\"ticks\":\"\"}},\"scene\":{\"xaxis\":{\"backgroundcolor\":\"#E5ECF6\",\"gridcolor\":\"white\",\"gridwidth\":2,\"linecolor\":\"white\",\"showbackground\":true,\"ticks\":\"\",\"zerolinecolor\":\"white\"},\"yaxis\":{\"backgroundcolor\":\"#E5ECF6\",\"gridcolor\":\"white\",\"gridwidth\":2,\"linecolor\":\"white\",\"showbackground\":true,\"ticks\":\"\",\"zerolinecolor\":\"white\"},\"zaxis\":{\"backgroundcolor\":\"#E5ECF6\",\"gridcolor\":\"white\",\"gridwidth\":2,\"linecolor\":\"white\",\"showbackground\":true,\"ticks\":\"\",\"zerolinecolor\":\"white\"}},\"shapedefaults\":{\"line\":{\"color\":\"#2a3f5f\"}},\"ternary\":{\"aaxis\":{\"gridcolor\":\"white\",\"linecolor\":\"white\",\"ticks\":\"\"},\"baxis\":{\"gridcolor\":\"white\",\"linecolor\":\"white\",\"ticks\":\"\"},\"bgcolor\":\"#E5ECF6\",\"caxis\":{\"gridcolor\":\"white\",\"linecolor\":\"white\",\"ticks\":\"\"}},\"title\":{\"x\":0.05},\"xaxis\":{\"automargin\":true,\"gridcolor\":\"white\",\"linecolor\":\"white\",\"ticks\":\"\",\"title\":{\"standoff\":15},\"zerolinecolor\":\"white\",\"zerolinewidth\":2},\"yaxis\":{\"automargin\":true,\"gridcolor\":\"white\",\"linecolor\":\"white\",\"ticks\":\"\",\"title\":{\"standoff\":15},\"zerolinecolor\":\"white\",\"zerolinewidth\":2}}},\"title\":{\"text\":\"Scatter Plot\"},\"xaxis\":{\"showgrid\":false,\"showline\":false,\"title\":{\"text\":\"BMI\"}},\"yaxis\":{\"showgrid\":false,\"showline\":false,\"title\":{\"text\":\"Expenses\"}}},                        {\"responsive\": true}                    ).then(function(){\n",
       "                            \n",
       "var gd = document.getElementById('4958dc4b-2740-4c21-a570-6f6c1d9511d2');\n",
       "var x = new MutationObserver(function (mutations, observer) {{\n",
       "        var display = window.getComputedStyle(gd).display;\n",
       "        if (!display || display === 'none') {{\n",
       "            console.log([gd, 'removed!']);\n",
       "            Plotly.purge(gd);\n",
       "            observer.disconnect();\n",
       "        }}\n",
       "}});\n",
       "\n",
       "// Listen for the removal of the full notebook cells\n",
       "var notebookContainer = gd.closest('#notebook-container');\n",
       "if (notebookContainer) {{\n",
       "    x.observe(notebookContainer, {childList: true});\n",
       "}}\n",
       "\n",
       "// Listen for the clearing of the current output cell\n",
       "var outputEl = gd.closest('.output');\n",
       "if (outputEl) {{\n",
       "    x.observe(outputEl, {childList: true});\n",
       "}}\n",
       "\n",
       "                        })                };                });            </script>        </div>"
      ]
     },
     "metadata": {},
     "output_type": "display_data"
    }
   ],
   "source": [
    "trace0 = go.Scatter(\n",
    "                    x = insurance[insurance.smoker == 'yes'].bmi,\n",
    "                    y = insurance[insurance.smoker == 'yes'].expenses,\n",
    "                    mode = 'markers',\n",
    "                    name = 'Smoker',\n",
    "                    marker = dict(size = 7, color = '#F39C12', symbol = 'circle', line = dict(width = 1))\n",
    ")\n",
    "\n",
    "trace1 = go.Scatter(\n",
    "                    x = insurance[insurance.smoker == 'no'].bmi,\n",
    "                    y = insurance[insurance.smoker == 'no'].expenses,\n",
    "                    mode = 'markers',\n",
    "                    name = 'Non-Smoker',\n",
    "                    marker = dict(size = 7, color = '#8BC34A', symbol = 'circle', line = dict(width = 1))\n",
    ")\n",
    "\n",
    "layout = go.Layout(\n",
    "                    title = 'Scatter Plot', \n",
    "                    xaxis = dict(title = 'BMI', showgrid = False, showline = False),\n",
    "                    yaxis = dict(title = 'Expenses', showgrid = False, showline = False),\n",
    "                  )\n",
    "\n",
    "data = [trace0, trace1]\n",
    "fig = go.Figure(data = data, layout = layout)\n",
    "iplot(fig)"
   ]
  },
  {
   "cell_type": "code",
   "execution_count": 16,
   "id": "aafcc1ff",
   "metadata": {},
   "outputs": [
    {
     "data": {
      "application/vnd.plotly.v1+json": {
       "config": {
        "plotlyServerURL": "https://plot.ly"
       },
       "data": [
        {
         "marker": {
          "color": "crimson",
          "line": {
           "color": "#0E8700",
           "width": 1
          },
          "size": 10,
          "symbol": "circle"
         },
         "mode": "markers",
         "type": "scatter",
         "x": [
          57,
          86,
          90,
          11,
          70,
          85,
          95,
          26,
          69,
          35,
          34,
          65,
          73,
          99,
          21,
          1,
          91,
          76,
          68,
          43,
          52,
          19,
          8,
          95,
          16,
          89,
          88,
          53,
          84,
          99,
          94,
          4,
          50,
          85,
          63,
          31,
          46,
          29,
          20,
          93,
          73,
          55,
          93,
          72,
          55,
          79,
          27,
          36,
          47,
          5
         ],
         "xaxis": "x",
         "y": [
          93,
          9,
          7,
          21,
          11,
          47,
          2,
          89,
          24,
          34,
          20,
          55,
          90,
          83,
          95,
          89,
          29,
          75,
          46,
          34,
          58,
          9,
          40,
          98,
          88,
          48,
          34,
          59,
          27,
          58,
          9,
          16,
          68,
          84,
          25,
          96,
          15,
          45,
          68,
          1,
          55,
          64,
          17,
          86,
          91,
          92,
          86,
          71,
          56,
          17
         ],
         "yaxis": "y"
        },
        {
         "marker": {
          "color": "gold",
          "line": {
           "color": "#0E8700",
           "width": 1
          },
          "size": 10,
          "symbol": "circle"
         },
         "mode": "markers",
         "type": "scatter",
         "x": [
          57,
          86,
          90,
          11,
          70,
          85,
          95,
          26,
          69,
          35,
          34,
          65,
          73,
          99,
          21,
          1,
          91,
          76,
          68,
          43,
          52,
          19,
          8,
          95,
          16,
          89,
          88,
          53,
          84,
          99,
          94,
          4,
          50,
          85,
          63,
          31,
          46,
          29,
          20,
          93,
          73,
          55,
          93,
          72,
          55,
          79,
          27,
          36,
          47,
          5
         ],
         "xaxis": "x2",
         "y": [
          93,
          9,
          7,
          21,
          11,
          47,
          2,
          89,
          24,
          34,
          20,
          55,
          90,
          83,
          95,
          89,
          29,
          75,
          46,
          34,
          58,
          9,
          40,
          98,
          88,
          48,
          34,
          59,
          27,
          58,
          9,
          16,
          68,
          84,
          25,
          96,
          15,
          45,
          68,
          1,
          55,
          64,
          17,
          86,
          91,
          92,
          86,
          71,
          56,
          17
         ],
         "yaxis": "y2"
        }
       ],
       "layout": {
        "annotations": [
         {
          "font": {
           "size": 16
          },
          "showarrow": false,
          "text": "Subplot-1",
          "x": 0.225,
          "xanchor": "center",
          "xref": "paper",
          "y": 1,
          "yanchor": "bottom",
          "yref": "paper"
         },
         {
          "font": {
           "size": 16
          },
          "showarrow": false,
          "text": "Subplot-2",
          "x": 0.775,
          "xanchor": "center",
          "xref": "paper",
          "y": 1,
          "yanchor": "bottom",
          "yref": "paper"
         }
        ],
        "template": {
         "data": {
          "bar": [
           {
            "error_x": {
             "color": "#2a3f5f"
            },
            "error_y": {
             "color": "#2a3f5f"
            },
            "marker": {
             "line": {
              "color": "#E5ECF6",
              "width": 0.5
             },
             "pattern": {
              "fillmode": "overlay",
              "size": 10,
              "solidity": 0.2
             }
            },
            "type": "bar"
           }
          ],
          "barpolar": [
           {
            "marker": {
             "line": {
              "color": "#E5ECF6",
              "width": 0.5
             },
             "pattern": {
              "fillmode": "overlay",
              "size": 10,
              "solidity": 0.2
             }
            },
            "type": "barpolar"
           }
          ],
          "carpet": [
           {
            "aaxis": {
             "endlinecolor": "#2a3f5f",
             "gridcolor": "white",
             "linecolor": "white",
             "minorgridcolor": "white",
             "startlinecolor": "#2a3f5f"
            },
            "baxis": {
             "endlinecolor": "#2a3f5f",
             "gridcolor": "white",
             "linecolor": "white",
             "minorgridcolor": "white",
             "startlinecolor": "#2a3f5f"
            },
            "type": "carpet"
           }
          ],
          "choropleth": [
           {
            "colorbar": {
             "outlinewidth": 0,
             "ticks": ""
            },
            "type": "choropleth"
           }
          ],
          "contour": [
           {
            "colorbar": {
             "outlinewidth": 0,
             "ticks": ""
            },
            "colorscale": [
             [
              0,
              "#0d0887"
             ],
             [
              0.1111111111111111,
              "#46039f"
             ],
             [
              0.2222222222222222,
              "#7201a8"
             ],
             [
              0.3333333333333333,
              "#9c179e"
             ],
             [
              0.4444444444444444,
              "#bd3786"
             ],
             [
              0.5555555555555556,
              "#d8576b"
             ],
             [
              0.6666666666666666,
              "#ed7953"
             ],
             [
              0.7777777777777778,
              "#fb9f3a"
             ],
             [
              0.8888888888888888,
              "#fdca26"
             ],
             [
              1,
              "#f0f921"
             ]
            ],
            "type": "contour"
           }
          ],
          "contourcarpet": [
           {
            "colorbar": {
             "outlinewidth": 0,
             "ticks": ""
            },
            "type": "contourcarpet"
           }
          ],
          "heatmap": [
           {
            "colorbar": {
             "outlinewidth": 0,
             "ticks": ""
            },
            "colorscale": [
             [
              0,
              "#0d0887"
             ],
             [
              0.1111111111111111,
              "#46039f"
             ],
             [
              0.2222222222222222,
              "#7201a8"
             ],
             [
              0.3333333333333333,
              "#9c179e"
             ],
             [
              0.4444444444444444,
              "#bd3786"
             ],
             [
              0.5555555555555556,
              "#d8576b"
             ],
             [
              0.6666666666666666,
              "#ed7953"
             ],
             [
              0.7777777777777778,
              "#fb9f3a"
             ],
             [
              0.8888888888888888,
              "#fdca26"
             ],
             [
              1,
              "#f0f921"
             ]
            ],
            "type": "heatmap"
           }
          ],
          "heatmapgl": [
           {
            "colorbar": {
             "outlinewidth": 0,
             "ticks": ""
            },
            "colorscale": [
             [
              0,
              "#0d0887"
             ],
             [
              0.1111111111111111,
              "#46039f"
             ],
             [
              0.2222222222222222,
              "#7201a8"
             ],
             [
              0.3333333333333333,
              "#9c179e"
             ],
             [
              0.4444444444444444,
              "#bd3786"
             ],
             [
              0.5555555555555556,
              "#d8576b"
             ],
             [
              0.6666666666666666,
              "#ed7953"
             ],
             [
              0.7777777777777778,
              "#fb9f3a"
             ],
             [
              0.8888888888888888,
              "#fdca26"
             ],
             [
              1,
              "#f0f921"
             ]
            ],
            "type": "heatmapgl"
           }
          ],
          "histogram": [
           {
            "marker": {
             "pattern": {
              "fillmode": "overlay",
              "size": 10,
              "solidity": 0.2
             }
            },
            "type": "histogram"
           }
          ],
          "histogram2d": [
           {
            "colorbar": {
             "outlinewidth": 0,
             "ticks": ""
            },
            "colorscale": [
             [
              0,
              "#0d0887"
             ],
             [
              0.1111111111111111,
              "#46039f"
             ],
             [
              0.2222222222222222,
              "#7201a8"
             ],
             [
              0.3333333333333333,
              "#9c179e"
             ],
             [
              0.4444444444444444,
              "#bd3786"
             ],
             [
              0.5555555555555556,
              "#d8576b"
             ],
             [
              0.6666666666666666,
              "#ed7953"
             ],
             [
              0.7777777777777778,
              "#fb9f3a"
             ],
             [
              0.8888888888888888,
              "#fdca26"
             ],
             [
              1,
              "#f0f921"
             ]
            ],
            "type": "histogram2d"
           }
          ],
          "histogram2dcontour": [
           {
            "colorbar": {
             "outlinewidth": 0,
             "ticks": ""
            },
            "colorscale": [
             [
              0,
              "#0d0887"
             ],
             [
              0.1111111111111111,
              "#46039f"
             ],
             [
              0.2222222222222222,
              "#7201a8"
             ],
             [
              0.3333333333333333,
              "#9c179e"
             ],
             [
              0.4444444444444444,
              "#bd3786"
             ],
             [
              0.5555555555555556,
              "#d8576b"
             ],
             [
              0.6666666666666666,
              "#ed7953"
             ],
             [
              0.7777777777777778,
              "#fb9f3a"
             ],
             [
              0.8888888888888888,
              "#fdca26"
             ],
             [
              1,
              "#f0f921"
             ]
            ],
            "type": "histogram2dcontour"
           }
          ],
          "mesh3d": [
           {
            "colorbar": {
             "outlinewidth": 0,
             "ticks": ""
            },
            "type": "mesh3d"
           }
          ],
          "parcoords": [
           {
            "line": {
             "colorbar": {
              "outlinewidth": 0,
              "ticks": ""
             }
            },
            "type": "parcoords"
           }
          ],
          "pie": [
           {
            "automargin": true,
            "type": "pie"
           }
          ],
          "scatter": [
           {
            "fillpattern": {
             "fillmode": "overlay",
             "size": 10,
             "solidity": 0.2
            },
            "type": "scatter"
           }
          ],
          "scatter3d": [
           {
            "line": {
             "colorbar": {
              "outlinewidth": 0,
              "ticks": ""
             }
            },
            "marker": {
             "colorbar": {
              "outlinewidth": 0,
              "ticks": ""
             }
            },
            "type": "scatter3d"
           }
          ],
          "scattercarpet": [
           {
            "marker": {
             "colorbar": {
              "outlinewidth": 0,
              "ticks": ""
             }
            },
            "type": "scattercarpet"
           }
          ],
          "scattergeo": [
           {
            "marker": {
             "colorbar": {
              "outlinewidth": 0,
              "ticks": ""
             }
            },
            "type": "scattergeo"
           }
          ],
          "scattergl": [
           {
            "marker": {
             "colorbar": {
              "outlinewidth": 0,
              "ticks": ""
             }
            },
            "type": "scattergl"
           }
          ],
          "scattermapbox": [
           {
            "marker": {
             "colorbar": {
              "outlinewidth": 0,
              "ticks": ""
             }
            },
            "type": "scattermapbox"
           }
          ],
          "scatterpolar": [
           {
            "marker": {
             "colorbar": {
              "outlinewidth": 0,
              "ticks": ""
             }
            },
            "type": "scatterpolar"
           }
          ],
          "scatterpolargl": [
           {
            "marker": {
             "colorbar": {
              "outlinewidth": 0,
              "ticks": ""
             }
            },
            "type": "scatterpolargl"
           }
          ],
          "scatterternary": [
           {
            "marker": {
             "colorbar": {
              "outlinewidth": 0,
              "ticks": ""
             }
            },
            "type": "scatterternary"
           }
          ],
          "surface": [
           {
            "colorbar": {
             "outlinewidth": 0,
             "ticks": ""
            },
            "colorscale": [
             [
              0,
              "#0d0887"
             ],
             [
              0.1111111111111111,
              "#46039f"
             ],
             [
              0.2222222222222222,
              "#7201a8"
             ],
             [
              0.3333333333333333,
              "#9c179e"
             ],
             [
              0.4444444444444444,
              "#bd3786"
             ],
             [
              0.5555555555555556,
              "#d8576b"
             ],
             [
              0.6666666666666666,
              "#ed7953"
             ],
             [
              0.7777777777777778,
              "#fb9f3a"
             ],
             [
              0.8888888888888888,
              "#fdca26"
             ],
             [
              1,
              "#f0f921"
             ]
            ],
            "type": "surface"
           }
          ],
          "table": [
           {
            "cells": {
             "fill": {
              "color": "#EBF0F8"
             },
             "line": {
              "color": "white"
             }
            },
            "header": {
             "fill": {
              "color": "#C8D4E3"
             },
             "line": {
              "color": "white"
             }
            },
            "type": "table"
           }
          ]
         },
         "layout": {
          "annotationdefaults": {
           "arrowcolor": "#2a3f5f",
           "arrowhead": 0,
           "arrowwidth": 1
          },
          "autotypenumbers": "strict",
          "coloraxis": {
           "colorbar": {
            "outlinewidth": 0,
            "ticks": ""
           }
          },
          "colorscale": {
           "diverging": [
            [
             0,
             "#8e0152"
            ],
            [
             0.1,
             "#c51b7d"
            ],
            [
             0.2,
             "#de77ae"
            ],
            [
             0.3,
             "#f1b6da"
            ],
            [
             0.4,
             "#fde0ef"
            ],
            [
             0.5,
             "#f7f7f7"
            ],
            [
             0.6,
             "#e6f5d0"
            ],
            [
             0.7,
             "#b8e186"
            ],
            [
             0.8,
             "#7fbc41"
            ],
            [
             0.9,
             "#4d9221"
            ],
            [
             1,
             "#276419"
            ]
           ],
           "sequential": [
            [
             0,
             "#0d0887"
            ],
            [
             0.1111111111111111,
             "#46039f"
            ],
            [
             0.2222222222222222,
             "#7201a8"
            ],
            [
             0.3333333333333333,
             "#9c179e"
            ],
            [
             0.4444444444444444,
             "#bd3786"
            ],
            [
             0.5555555555555556,
             "#d8576b"
            ],
            [
             0.6666666666666666,
             "#ed7953"
            ],
            [
             0.7777777777777778,
             "#fb9f3a"
            ],
            [
             0.8888888888888888,
             "#fdca26"
            ],
            [
             1,
             "#f0f921"
            ]
           ],
           "sequentialminus": [
            [
             0,
             "#0d0887"
            ],
            [
             0.1111111111111111,
             "#46039f"
            ],
            [
             0.2222222222222222,
             "#7201a8"
            ],
            [
             0.3333333333333333,
             "#9c179e"
            ],
            [
             0.4444444444444444,
             "#bd3786"
            ],
            [
             0.5555555555555556,
             "#d8576b"
            ],
            [
             0.6666666666666666,
             "#ed7953"
            ],
            [
             0.7777777777777778,
             "#fb9f3a"
            ],
            [
             0.8888888888888888,
             "#fdca26"
            ],
            [
             1,
             "#f0f921"
            ]
           ]
          },
          "colorway": [
           "#636efa",
           "#EF553B",
           "#00cc96",
           "#ab63fa",
           "#FFA15A",
           "#19d3f3",
           "#FF6692",
           "#B6E880",
           "#FF97FF",
           "#FECB52"
          ],
          "font": {
           "color": "#2a3f5f"
          },
          "geo": {
           "bgcolor": "white",
           "lakecolor": "white",
           "landcolor": "#E5ECF6",
           "showlakes": true,
           "showland": true,
           "subunitcolor": "white"
          },
          "hoverlabel": {
           "align": "left"
          },
          "hovermode": "closest",
          "mapbox": {
           "style": "light"
          },
          "paper_bgcolor": "white",
          "plot_bgcolor": "#E5ECF6",
          "polar": {
           "angularaxis": {
            "gridcolor": "white",
            "linecolor": "white",
            "ticks": ""
           },
           "bgcolor": "#E5ECF6",
           "radialaxis": {
            "gridcolor": "white",
            "linecolor": "white",
            "ticks": ""
           }
          },
          "scene": {
           "xaxis": {
            "backgroundcolor": "#E5ECF6",
            "gridcolor": "white",
            "gridwidth": 2,
            "linecolor": "white",
            "showbackground": true,
            "ticks": "",
            "zerolinecolor": "white"
           },
           "yaxis": {
            "backgroundcolor": "#E5ECF6",
            "gridcolor": "white",
            "gridwidth": 2,
            "linecolor": "white",
            "showbackground": true,
            "ticks": "",
            "zerolinecolor": "white"
           },
           "zaxis": {
            "backgroundcolor": "#E5ECF6",
            "gridcolor": "white",
            "gridwidth": 2,
            "linecolor": "white",
            "showbackground": true,
            "ticks": "",
            "zerolinecolor": "white"
           }
          },
          "shapedefaults": {
           "line": {
            "color": "#2a3f5f"
           }
          },
          "ternary": {
           "aaxis": {
            "gridcolor": "white",
            "linecolor": "white",
            "ticks": ""
           },
           "baxis": {
            "gridcolor": "white",
            "linecolor": "white",
            "ticks": ""
           },
           "bgcolor": "#E5ECF6",
           "caxis": {
            "gridcolor": "white",
            "linecolor": "white",
            "ticks": ""
           }
          },
          "title": {
           "x": 0.05
          },
          "xaxis": {
           "automargin": true,
           "gridcolor": "white",
           "linecolor": "white",
           "ticks": "",
           "title": {
            "standoff": 15
           },
           "zerolinecolor": "white",
           "zerolinewidth": 2
          },
          "yaxis": {
           "automargin": true,
           "gridcolor": "white",
           "linecolor": "white",
           "ticks": "",
           "title": {
            "standoff": 15
           },
           "zerolinecolor": "white",
           "zerolinewidth": 2
          }
         }
        },
        "xaxis": {
         "anchor": "y",
         "domain": [
          0,
          0.45
         ],
         "showgrid": false
        },
        "xaxis2": {
         "anchor": "y2",
         "domain": [
          0.55,
          1
         ],
         "showgrid": false
        },
        "yaxis": {
         "anchor": "x",
         "domain": [
          0,
          1
         ],
         "showgrid": false
        },
        "yaxis2": {
         "anchor": "x2",
         "domain": [
          0,
          1
         ],
         "showgrid": false
        }
       }
      },
      "text/html": [
       "<div>                            <div id=\"171e3808-6b75-4da8-aac9-7912d2d8185e\" class=\"plotly-graph-div\" style=\"height:525px; width:100%;\"></div>            <script type=\"text/javascript\">                require([\"plotly\"], function(Plotly) {                    window.PLOTLYENV=window.PLOTLYENV || {};                                    if (document.getElementById(\"171e3808-6b75-4da8-aac9-7912d2d8185e\")) {                    Plotly.newPlot(                        \"171e3808-6b75-4da8-aac9-7912d2d8185e\",                        [{\"marker\":{\"color\":\"crimson\",\"line\":{\"color\":\"#0E8700\",\"width\":1},\"size\":10,\"symbol\":\"circle\"},\"mode\":\"markers\",\"x\":[57,86,90,11,70,85,95,26,69,35,34,65,73,99,21,1,91,76,68,43,52,19,8,95,16,89,88,53,84,99,94,4,50,85,63,31,46,29,20,93,73,55,93,72,55,79,27,36,47,5],\"y\":[93,9,7,21,11,47,2,89,24,34,20,55,90,83,95,89,29,75,46,34,58,9,40,98,88,48,34,59,27,58,9,16,68,84,25,96,15,45,68,1,55,64,17,86,91,92,86,71,56,17],\"type\":\"scatter\",\"xaxis\":\"x\",\"yaxis\":\"y\"},{\"marker\":{\"color\":\"gold\",\"line\":{\"color\":\"#0E8700\",\"width\":1},\"size\":10,\"symbol\":\"circle\"},\"mode\":\"markers\",\"x\":[57,86,90,11,70,85,95,26,69,35,34,65,73,99,21,1,91,76,68,43,52,19,8,95,16,89,88,53,84,99,94,4,50,85,63,31,46,29,20,93,73,55,93,72,55,79,27,36,47,5],\"y\":[93,9,7,21,11,47,2,89,24,34,20,55,90,83,95,89,29,75,46,34,58,9,40,98,88,48,34,59,27,58,9,16,68,84,25,96,15,45,68,1,55,64,17,86,91,92,86,71,56,17],\"type\":\"scatter\",\"xaxis\":\"x2\",\"yaxis\":\"y2\"}],                        {\"template\":{\"data\":{\"histogram2dcontour\":[{\"type\":\"histogram2dcontour\",\"colorbar\":{\"outlinewidth\":0,\"ticks\":\"\"},\"colorscale\":[[0.0,\"#0d0887\"],[0.1111111111111111,\"#46039f\"],[0.2222222222222222,\"#7201a8\"],[0.3333333333333333,\"#9c179e\"],[0.4444444444444444,\"#bd3786\"],[0.5555555555555556,\"#d8576b\"],[0.6666666666666666,\"#ed7953\"],[0.7777777777777778,\"#fb9f3a\"],[0.8888888888888888,\"#fdca26\"],[1.0,\"#f0f921\"]]}],\"choropleth\":[{\"type\":\"choropleth\",\"colorbar\":{\"outlinewidth\":0,\"ticks\":\"\"}}],\"histogram2d\":[{\"type\":\"histogram2d\",\"colorbar\":{\"outlinewidth\":0,\"ticks\":\"\"},\"colorscale\":[[0.0,\"#0d0887\"],[0.1111111111111111,\"#46039f\"],[0.2222222222222222,\"#7201a8\"],[0.3333333333333333,\"#9c179e\"],[0.4444444444444444,\"#bd3786\"],[0.5555555555555556,\"#d8576b\"],[0.6666666666666666,\"#ed7953\"],[0.7777777777777778,\"#fb9f3a\"],[0.8888888888888888,\"#fdca26\"],[1.0,\"#f0f921\"]]}],\"heatmap\":[{\"type\":\"heatmap\",\"colorbar\":{\"outlinewidth\":0,\"ticks\":\"\"},\"colorscale\":[[0.0,\"#0d0887\"],[0.1111111111111111,\"#46039f\"],[0.2222222222222222,\"#7201a8\"],[0.3333333333333333,\"#9c179e\"],[0.4444444444444444,\"#bd3786\"],[0.5555555555555556,\"#d8576b\"],[0.6666666666666666,\"#ed7953\"],[0.7777777777777778,\"#fb9f3a\"],[0.8888888888888888,\"#fdca26\"],[1.0,\"#f0f921\"]]}],\"heatmapgl\":[{\"type\":\"heatmapgl\",\"colorbar\":{\"outlinewidth\":0,\"ticks\":\"\"},\"colorscale\":[[0.0,\"#0d0887\"],[0.1111111111111111,\"#46039f\"],[0.2222222222222222,\"#7201a8\"],[0.3333333333333333,\"#9c179e\"],[0.4444444444444444,\"#bd3786\"],[0.5555555555555556,\"#d8576b\"],[0.6666666666666666,\"#ed7953\"],[0.7777777777777778,\"#fb9f3a\"],[0.8888888888888888,\"#fdca26\"],[1.0,\"#f0f921\"]]}],\"contourcarpet\":[{\"type\":\"contourcarpet\",\"colorbar\":{\"outlinewidth\":0,\"ticks\":\"\"}}],\"contour\":[{\"type\":\"contour\",\"colorbar\":{\"outlinewidth\":0,\"ticks\":\"\"},\"colorscale\":[[0.0,\"#0d0887\"],[0.1111111111111111,\"#46039f\"],[0.2222222222222222,\"#7201a8\"],[0.3333333333333333,\"#9c179e\"],[0.4444444444444444,\"#bd3786\"],[0.5555555555555556,\"#d8576b\"],[0.6666666666666666,\"#ed7953\"],[0.7777777777777778,\"#fb9f3a\"],[0.8888888888888888,\"#fdca26\"],[1.0,\"#f0f921\"]]}],\"surface\":[{\"type\":\"surface\",\"colorbar\":{\"outlinewidth\":0,\"ticks\":\"\"},\"colorscale\":[[0.0,\"#0d0887\"],[0.1111111111111111,\"#46039f\"],[0.2222222222222222,\"#7201a8\"],[0.3333333333333333,\"#9c179e\"],[0.4444444444444444,\"#bd3786\"],[0.5555555555555556,\"#d8576b\"],[0.6666666666666666,\"#ed7953\"],[0.7777777777777778,\"#fb9f3a\"],[0.8888888888888888,\"#fdca26\"],[1.0,\"#f0f921\"]]}],\"mesh3d\":[{\"type\":\"mesh3d\",\"colorbar\":{\"outlinewidth\":0,\"ticks\":\"\"}}],\"scatter\":[{\"fillpattern\":{\"fillmode\":\"overlay\",\"size\":10,\"solidity\":0.2},\"type\":\"scatter\"}],\"parcoords\":[{\"type\":\"parcoords\",\"line\":{\"colorbar\":{\"outlinewidth\":0,\"ticks\":\"\"}}}],\"scatterpolargl\":[{\"type\":\"scatterpolargl\",\"marker\":{\"colorbar\":{\"outlinewidth\":0,\"ticks\":\"\"}}}],\"bar\":[{\"error_x\":{\"color\":\"#2a3f5f\"},\"error_y\":{\"color\":\"#2a3f5f\"},\"marker\":{\"line\":{\"color\":\"#E5ECF6\",\"width\":0.5},\"pattern\":{\"fillmode\":\"overlay\",\"size\":10,\"solidity\":0.2}},\"type\":\"bar\"}],\"scattergeo\":[{\"type\":\"scattergeo\",\"marker\":{\"colorbar\":{\"outlinewidth\":0,\"ticks\":\"\"}}}],\"scatterpolar\":[{\"type\":\"scatterpolar\",\"marker\":{\"colorbar\":{\"outlinewidth\":0,\"ticks\":\"\"}}}],\"histogram\":[{\"marker\":{\"pattern\":{\"fillmode\":\"overlay\",\"size\":10,\"solidity\":0.2}},\"type\":\"histogram\"}],\"scattergl\":[{\"type\":\"scattergl\",\"marker\":{\"colorbar\":{\"outlinewidth\":0,\"ticks\":\"\"}}}],\"scatter3d\":[{\"type\":\"scatter3d\",\"line\":{\"colorbar\":{\"outlinewidth\":0,\"ticks\":\"\"}},\"marker\":{\"colorbar\":{\"outlinewidth\":0,\"ticks\":\"\"}}}],\"scattermapbox\":[{\"type\":\"scattermapbox\",\"marker\":{\"colorbar\":{\"outlinewidth\":0,\"ticks\":\"\"}}}],\"scatterternary\":[{\"type\":\"scatterternary\",\"marker\":{\"colorbar\":{\"outlinewidth\":0,\"ticks\":\"\"}}}],\"scattercarpet\":[{\"type\":\"scattercarpet\",\"marker\":{\"colorbar\":{\"outlinewidth\":0,\"ticks\":\"\"}}}],\"carpet\":[{\"aaxis\":{\"endlinecolor\":\"#2a3f5f\",\"gridcolor\":\"white\",\"linecolor\":\"white\",\"minorgridcolor\":\"white\",\"startlinecolor\":\"#2a3f5f\"},\"baxis\":{\"endlinecolor\":\"#2a3f5f\",\"gridcolor\":\"white\",\"linecolor\":\"white\",\"minorgridcolor\":\"white\",\"startlinecolor\":\"#2a3f5f\"},\"type\":\"carpet\"}],\"table\":[{\"cells\":{\"fill\":{\"color\":\"#EBF0F8\"},\"line\":{\"color\":\"white\"}},\"header\":{\"fill\":{\"color\":\"#C8D4E3\"},\"line\":{\"color\":\"white\"}},\"type\":\"table\"}],\"barpolar\":[{\"marker\":{\"line\":{\"color\":\"#E5ECF6\",\"width\":0.5},\"pattern\":{\"fillmode\":\"overlay\",\"size\":10,\"solidity\":0.2}},\"type\":\"barpolar\"}],\"pie\":[{\"automargin\":true,\"type\":\"pie\"}]},\"layout\":{\"autotypenumbers\":\"strict\",\"colorway\":[\"#636efa\",\"#EF553B\",\"#00cc96\",\"#ab63fa\",\"#FFA15A\",\"#19d3f3\",\"#FF6692\",\"#B6E880\",\"#FF97FF\",\"#FECB52\"],\"font\":{\"color\":\"#2a3f5f\"},\"hovermode\":\"closest\",\"hoverlabel\":{\"align\":\"left\"},\"paper_bgcolor\":\"white\",\"plot_bgcolor\":\"#E5ECF6\",\"polar\":{\"bgcolor\":\"#E5ECF6\",\"angularaxis\":{\"gridcolor\":\"white\",\"linecolor\":\"white\",\"ticks\":\"\"},\"radialaxis\":{\"gridcolor\":\"white\",\"linecolor\":\"white\",\"ticks\":\"\"}},\"ternary\":{\"bgcolor\":\"#E5ECF6\",\"aaxis\":{\"gridcolor\":\"white\",\"linecolor\":\"white\",\"ticks\":\"\"},\"baxis\":{\"gridcolor\":\"white\",\"linecolor\":\"white\",\"ticks\":\"\"},\"caxis\":{\"gridcolor\":\"white\",\"linecolor\":\"white\",\"ticks\":\"\"}},\"coloraxis\":{\"colorbar\":{\"outlinewidth\":0,\"ticks\":\"\"}},\"colorscale\":{\"sequential\":[[0.0,\"#0d0887\"],[0.1111111111111111,\"#46039f\"],[0.2222222222222222,\"#7201a8\"],[0.3333333333333333,\"#9c179e\"],[0.4444444444444444,\"#bd3786\"],[0.5555555555555556,\"#d8576b\"],[0.6666666666666666,\"#ed7953\"],[0.7777777777777778,\"#fb9f3a\"],[0.8888888888888888,\"#fdca26\"],[1.0,\"#f0f921\"]],\"sequentialminus\":[[0.0,\"#0d0887\"],[0.1111111111111111,\"#46039f\"],[0.2222222222222222,\"#7201a8\"],[0.3333333333333333,\"#9c179e\"],[0.4444444444444444,\"#bd3786\"],[0.5555555555555556,\"#d8576b\"],[0.6666666666666666,\"#ed7953\"],[0.7777777777777778,\"#fb9f3a\"],[0.8888888888888888,\"#fdca26\"],[1.0,\"#f0f921\"]],\"diverging\":[[0,\"#8e0152\"],[0.1,\"#c51b7d\"],[0.2,\"#de77ae\"],[0.3,\"#f1b6da\"],[0.4,\"#fde0ef\"],[0.5,\"#f7f7f7\"],[0.6,\"#e6f5d0\"],[0.7,\"#b8e186\"],[0.8,\"#7fbc41\"],[0.9,\"#4d9221\"],[1,\"#276419\"]]},\"xaxis\":{\"gridcolor\":\"white\",\"linecolor\":\"white\",\"ticks\":\"\",\"title\":{\"standoff\":15},\"zerolinecolor\":\"white\",\"automargin\":true,\"zerolinewidth\":2},\"yaxis\":{\"gridcolor\":\"white\",\"linecolor\":\"white\",\"ticks\":\"\",\"title\":{\"standoff\":15},\"zerolinecolor\":\"white\",\"automargin\":true,\"zerolinewidth\":2},\"scene\":{\"xaxis\":{\"backgroundcolor\":\"#E5ECF6\",\"gridcolor\":\"white\",\"linecolor\":\"white\",\"showbackground\":true,\"ticks\":\"\",\"zerolinecolor\":\"white\",\"gridwidth\":2},\"yaxis\":{\"backgroundcolor\":\"#E5ECF6\",\"gridcolor\":\"white\",\"linecolor\":\"white\",\"showbackground\":true,\"ticks\":\"\",\"zerolinecolor\":\"white\",\"gridwidth\":2},\"zaxis\":{\"backgroundcolor\":\"#E5ECF6\",\"gridcolor\":\"white\",\"linecolor\":\"white\",\"showbackground\":true,\"ticks\":\"\",\"zerolinecolor\":\"white\",\"gridwidth\":2}},\"shapedefaults\":{\"line\":{\"color\":\"#2a3f5f\"}},\"annotationdefaults\":{\"arrowcolor\":\"#2a3f5f\",\"arrowhead\":0,\"arrowwidth\":1},\"geo\":{\"bgcolor\":\"white\",\"landcolor\":\"#E5ECF6\",\"subunitcolor\":\"white\",\"showland\":true,\"showlakes\":true,\"lakecolor\":\"white\"},\"title\":{\"x\":0.05},\"mapbox\":{\"style\":\"light\"}}},\"xaxis\":{\"anchor\":\"y\",\"domain\":[0.0,0.45],\"showgrid\":false},\"yaxis\":{\"anchor\":\"x\",\"domain\":[0.0,1.0],\"showgrid\":false},\"xaxis2\":{\"anchor\":\"y2\",\"domain\":[0.55,1.0],\"showgrid\":false},\"yaxis2\":{\"anchor\":\"x2\",\"domain\":[0.0,1.0],\"showgrid\":false},\"annotations\":[{\"font\":{\"size\":16},\"showarrow\":false,\"text\":\"Subplot-1\",\"x\":0.225,\"xanchor\":\"center\",\"xref\":\"paper\",\"y\":1.0,\"yanchor\":\"bottom\",\"yref\":\"paper\"},{\"font\":{\"size\":16},\"showarrow\":false,\"text\":\"Subplot-2\",\"x\":0.775,\"xanchor\":\"center\",\"xref\":\"paper\",\"y\":1.0,\"yanchor\":\"bottom\",\"yref\":\"paper\"}]},                        {\"responsive\": true}                    ).then(function(){\n",
       "                            \n",
       "var gd = document.getElementById('171e3808-6b75-4da8-aac9-7912d2d8185e');\n",
       "var x = new MutationObserver(function (mutations, observer) {{\n",
       "        var display = window.getComputedStyle(gd).display;\n",
       "        if (!display || display === 'none') {{\n",
       "            console.log([gd, 'removed!']);\n",
       "            Plotly.purge(gd);\n",
       "            observer.disconnect();\n",
       "        }}\n",
       "}});\n",
       "\n",
       "// Listen for the removal of the full notebook cells\n",
       "var notebookContainer = gd.closest('#notebook-container');\n",
       "if (notebookContainer) {{\n",
       "    x.observe(notebookContainer, {childList: true});\n",
       "}}\n",
       "\n",
       "// Listen for the clearing of the current output cell\n",
       "var outputEl = gd.closest('.output');\n",
       "if (outputEl) {{\n",
       "    x.observe(outputEl, {childList: true});\n",
       "}}\n",
       "\n",
       "                        })                };                });            </script>        </div>"
      ]
     },
     "metadata": {},
     "output_type": "display_data"
    }
   ],
   "source": [
    "from plotly.subplots import make_subplots\n",
    "\n",
    "x_val = np.random.randint(1, 100, 50)\n",
    "y_val = np.random.randint(1, 100, 50)\n",
    "\n",
    "fig = make_subplots(\n",
    "                    rows = 1,\n",
    "                    cols = 2,\n",
    "                    subplot_titles = ('Subplot-1', 'Subplot-2')\n",
    ")\n",
    "\n",
    "fig.add_trace(go.Scatter(\n",
    "                         x = x_val,\n",
    "                         y = y_val,\n",
    "                         mode = 'markers',\n",
    "                         marker = dict(size = 10, color = 'crimson', symbol = 'circle', line = dict(width = 1, color = '#0E8700'))\n",
    "                        ),\n",
    "              row = 1, col = 1\n",
    "             )\n",
    "\n",
    "fig.add_trace(go.Scatter(\n",
    "                         x = x_val,\n",
    "                         y = y_val,\n",
    "                         mode = 'markers',\n",
    "                         marker = dict(size = 10, color = 'gold', symbol = 'circle', line = dict(width = 1, color = '#0E8700'))\n",
    "                        ),\n",
    "              row = 1, col = 2\n",
    "             )\n",
    "\n",
    "fig.update_xaxes(showgrid = False)\n",
    "fig.update_yaxes(showgrid = False)\n",
    "\n",
    "fig.show()"
   ]
  },
  {
   "cell_type": "code",
   "execution_count": 17,
   "id": "d9047e0e",
   "metadata": {},
   "outputs": [],
   "source": [
    "#Line Plots"
   ]
  },
  {
   "cell_type": "code",
   "execution_count": 19,
   "id": "fdbfc19c",
   "metadata": {},
   "outputs": [
    {
     "data": {
      "application/vnd.plotly.v1+json": {
       "config": {
        "linkText": "Export to plot.ly",
        "plotlyServerURL": "https://plot.ly",
        "showLink": false
       },
       "data": [
        {
         "mode": "lines+markers",
         "type": "scatter",
         "x": [
          0,
          1.0101010101010102,
          2.0202020202020203,
          3.0303030303030303,
          4.040404040404041,
          5.050505050505051,
          6.0606060606060606,
          7.070707070707071,
          8.080808080808081,
          9.090909090909092,
          10.101010101010102,
          11.111111111111112,
          12.121212121212121,
          13.131313131313131,
          14.141414141414142,
          15.151515151515152,
          16.161616161616163,
          17.171717171717173,
          18.181818181818183,
          19.191919191919194,
          20.202020202020204,
          21.212121212121215,
          22.222222222222225,
          23.232323232323235,
          24.242424242424242,
          25.252525252525253,
          26.262626262626263,
          27.272727272727273,
          28.282828282828284,
          29.292929292929294,
          30.303030303030305,
          31.313131313131315,
          32.323232323232325,
          33.333333333333336,
          34.343434343434346,
          35.35353535353536,
          36.36363636363637,
          37.37373737373738,
          38.38383838383839,
          39.3939393939394,
          40.40404040404041,
          41.41414141414142,
          42.42424242424243,
          43.43434343434344,
          44.44444444444445,
          45.45454545454546,
          46.46464646464647,
          47.47474747474748,
          48.484848484848484,
          49.494949494949495,
          50.505050505050505,
          51.515151515151516,
          52.525252525252526,
          53.535353535353536,
          54.54545454545455,
          55.55555555555556,
          56.56565656565657,
          57.57575757575758,
          58.58585858585859,
          59.5959595959596,
          60.60606060606061,
          61.61616161616162,
          62.62626262626263,
          63.63636363636364,
          64.64646464646465,
          65.65656565656566,
          66.66666666666667,
          67.67676767676768,
          68.68686868686869,
          69.6969696969697,
          70.70707070707071,
          71.71717171717172,
          72.72727272727273,
          73.73737373737374,
          74.74747474747475,
          75.75757575757576,
          76.76767676767678,
          77.77777777777779,
          78.7878787878788,
          79.7979797979798,
          80.80808080808082,
          81.81818181818183,
          82.82828282828284,
          83.83838383838385,
          84.84848484848486,
          85.85858585858587,
          86.86868686868688,
          87.87878787878789,
          88.8888888888889,
          89.89898989898991,
          90.90909090909092,
          91.91919191919193,
          92.92929292929294,
          93.93939393939395,
          94.94949494949496,
          95.95959595959597,
          96.96969696969697,
          97.97979797979798,
          98.98989898989899,
          100
         ],
         "y": [
          0.37029989628050025,
          -0.41901170010215005,
          0.546913099438123,
          0.6271438837846914,
          -0.22849859430071184,
          1.8776661539968187,
          -0.3952786826541444,
          0.1922600705187901,
          1.1076983646680023,
          -0.8940541851644651,
          0.07664077019361587,
          0.3804762715907609,
          0.745517578078787,
          -0.7163433113455936,
          -0.8732569122081293,
          -0.12467867646387315,
          -0.31644681164859356,
          -2.0169005251425114,
          -0.15314074771815062,
          0.24368156762984608,
          -2.97694209320908,
          0.8752930424311414,
          0.8251874051990478,
          0.881844977255407,
          1.3605400634836264,
          1.3376668047260187,
          -0.570200970104231,
          -0.815728625204982,
          -1.6525783736585369,
          1.794419651704197,
          -1.1736237275888939,
          0.1655740651820136,
          1.853693687589839,
          1.5629555776624953,
          1.5412465302573912,
          0.11914546902344429,
          -0.7359210192768941,
          0.18775346341388421,
          -1.0727855487295783,
          -1.6455119224350818,
          -0.39882166766213595,
          -0.6117334034991259,
          0.08062220767625179,
          -0.9561159265124323,
          1.6911916014010957,
          1.1982484832980898,
          2.514415102773535,
          -0.638120553105744,
          -0.1859462339090643,
          -2.633610860586448,
          -1.4323461420820298,
          -1.2425603143263635,
          1.3315884916066945,
          -2.75424053009012,
          -0.6107065670837427,
          -0.2107099656286631,
          -0.7509891771140068,
          0.2414257748812695,
          0.29129608677629787,
          -0.24755228616992234,
          2.0126709187104868,
          0.9800202876871462,
          -0.107149595255969,
          -0.332149134233813,
          0.7644614031302523,
          -0.29048844301973775,
          -0.7926333721611516,
          0.209728101102887,
          0.14332685453358868,
          0.5626926194241685,
          -0.7051570410634832,
          -0.085712072162345,
          -0.5189358932677469,
          0.9007162652644745,
          0.9752328006607398,
          0.5319918763881758,
          0.8769109561710855,
          -1.8674415838953584,
          -1.359814513475312,
          -0.5126168375591218,
          -0.7827485598065522,
          -0.3816645840906091,
          -0.16413071288685369,
          -0.5211240920014116,
          -1.5391689770951822,
          -0.914994098043225,
          0.954315107060813,
          -0.5648894049947067,
          -0.13481697252286542,
          -1.929048108603235,
          0.5815805613527152,
          -0.07786279002301955,
          1.531127461614658,
          0.9033756373812103,
          0.795666779707196,
          -0.5021360037728898,
          -0.35950583446402234,
          -1.2321457865602214,
          0.6828429696750615,
          0.3558055686790698
         ]
        },
        {
         "mode": "lines",
         "type": "scatter",
         "x": [
          0,
          1.0101010101010102,
          2.0202020202020203,
          3.0303030303030303,
          4.040404040404041,
          5.050505050505051,
          6.0606060606060606,
          7.070707070707071,
          8.080808080808081,
          9.090909090909092,
          10.101010101010102,
          11.111111111111112,
          12.121212121212121,
          13.131313131313131,
          14.141414141414142,
          15.151515151515152,
          16.161616161616163,
          17.171717171717173,
          18.181818181818183,
          19.191919191919194,
          20.202020202020204,
          21.212121212121215,
          22.222222222222225,
          23.232323232323235,
          24.242424242424242,
          25.252525252525253,
          26.262626262626263,
          27.272727272727273,
          28.282828282828284,
          29.292929292929294,
          30.303030303030305,
          31.313131313131315,
          32.323232323232325,
          33.333333333333336,
          34.343434343434346,
          35.35353535353536,
          36.36363636363637,
          37.37373737373738,
          38.38383838383839,
          39.3939393939394,
          40.40404040404041,
          41.41414141414142,
          42.42424242424243,
          43.43434343434344,
          44.44444444444445,
          45.45454545454546,
          46.46464646464647,
          47.47474747474748,
          48.484848484848484,
          49.494949494949495,
          50.505050505050505,
          51.515151515151516,
          52.525252525252526,
          53.535353535353536,
          54.54545454545455,
          55.55555555555556,
          56.56565656565657,
          57.57575757575758,
          58.58585858585859,
          59.5959595959596,
          60.60606060606061,
          61.61616161616162,
          62.62626262626263,
          63.63636363636364,
          64.64646464646465,
          65.65656565656566,
          66.66666666666667,
          67.67676767676768,
          68.68686868686869,
          69.6969696969697,
          70.70707070707071,
          71.71717171717172,
          72.72727272727273,
          73.73737373737374,
          74.74747474747475,
          75.75757575757576,
          76.76767676767678,
          77.77777777777779,
          78.7878787878788,
          79.7979797979798,
          80.80808080808082,
          81.81818181818183,
          82.82828282828284,
          83.83838383838385,
          84.84848484848486,
          85.85858585858587,
          86.86868686868688,
          87.87878787878789,
          88.8888888888889,
          89.89898989898991,
          90.90909090909092,
          91.91919191919193,
          92.92929292929294,
          93.93939393939395,
          94.94949494949496,
          95.95959595959597,
          96.96969696969697,
          97.97979797979798,
          98.98989898989899,
          100
         ],
         "y": [
          -4.629700103719499,
          -5.41901170010215,
          -4.4530869005618765,
          -4.372856116215308,
          -5.228498594300712,
          -3.1223338460031815,
          -5.395278682654144,
          -4.80773992948121,
          -3.8923016353319975,
          -5.894054185164465,
          -4.923359229806384,
          -4.619523728409239,
          -4.254482421921213,
          -5.716343311345594,
          -5.873256912208129,
          -5.124678676463873,
          -5.316446811648594,
          -7.016900525142511,
          -5.153140747718151,
          -4.756318432370154,
          -7.976942093209081,
          -4.124706957568859,
          -4.174812594800953,
          -4.118155022744593,
          -3.6394599365163733,
          -3.6623331952739813,
          -5.570200970104231,
          -5.815728625204982,
          -6.652578373658537,
          -3.205580348295803,
          -6.173623727588894,
          -4.834425934817986,
          -3.146306312410161,
          -3.4370444223375047,
          -3.458753469742609,
          -4.880854530976555,
          -5.735921019276894,
          -4.812246536586116,
          -6.072785548729579,
          -6.645511922435082,
          -5.398821667662136,
          -5.611733403499126,
          -4.919377792323748,
          -5.956115926512433,
          -3.308808398598904,
          -3.80175151670191,
          -2.485584897226465,
          -5.638120553105744,
          -5.185946233909064,
          -7.6336108605864474,
          -6.43234614208203,
          -6.242560314326363,
          -3.6684115083933055,
          -7.7542405300901205,
          -5.610706567083743,
          -5.210709965628663,
          -5.750989177114007,
          -4.75857422511873,
          -4.708703913223702,
          -5.247552286169922,
          -2.9873290812895132,
          -4.019979712312853,
          -5.107149595255969,
          -5.332149134233813,
          -4.235538596869747,
          -5.290488443019738,
          -5.792633372161152,
          -4.790271898897113,
          -4.856673145466411,
          -4.437307380575832,
          -5.705157041063483,
          -5.0857120721623446,
          -5.518935893267747,
          -4.0992837347355255,
          -4.02476719933926,
          -4.468008123611824,
          -4.123089043828914,
          -6.867441583895358,
          -6.359814513475312,
          -5.512616837559122,
          -5.782748559806552,
          -5.381664584090609,
          -5.164130712886854,
          -5.521124092001411,
          -6.539168977095182,
          -5.914994098043225,
          -4.045684892939187,
          -5.564889404994707,
          -5.134816972522866,
          -6.929048108603235,
          -4.418419438647285,
          -5.077862790023019,
          -3.468872538385342,
          -4.0966243626187895,
          -4.204333220292804,
          -5.50213600377289,
          -5.359505834464023,
          -6.2321457865602214,
          -4.317157030324939,
          -4.64419443132093
         ]
        }
       ],
       "layout": {
        "template": {
         "data": {
          "bar": [
           {
            "error_x": {
             "color": "#2a3f5f"
            },
            "error_y": {
             "color": "#2a3f5f"
            },
            "marker": {
             "line": {
              "color": "#E5ECF6",
              "width": 0.5
             },
             "pattern": {
              "fillmode": "overlay",
              "size": 10,
              "solidity": 0.2
             }
            },
            "type": "bar"
           }
          ],
          "barpolar": [
           {
            "marker": {
             "line": {
              "color": "#E5ECF6",
              "width": 0.5
             },
             "pattern": {
              "fillmode": "overlay",
              "size": 10,
              "solidity": 0.2
             }
            },
            "type": "barpolar"
           }
          ],
          "carpet": [
           {
            "aaxis": {
             "endlinecolor": "#2a3f5f",
             "gridcolor": "white",
             "linecolor": "white",
             "minorgridcolor": "white",
             "startlinecolor": "#2a3f5f"
            },
            "baxis": {
             "endlinecolor": "#2a3f5f",
             "gridcolor": "white",
             "linecolor": "white",
             "minorgridcolor": "white",
             "startlinecolor": "#2a3f5f"
            },
            "type": "carpet"
           }
          ],
          "choropleth": [
           {
            "colorbar": {
             "outlinewidth": 0,
             "ticks": ""
            },
            "type": "choropleth"
           }
          ],
          "contour": [
           {
            "colorbar": {
             "outlinewidth": 0,
             "ticks": ""
            },
            "colorscale": [
             [
              0,
              "#0d0887"
             ],
             [
              0.1111111111111111,
              "#46039f"
             ],
             [
              0.2222222222222222,
              "#7201a8"
             ],
             [
              0.3333333333333333,
              "#9c179e"
             ],
             [
              0.4444444444444444,
              "#bd3786"
             ],
             [
              0.5555555555555556,
              "#d8576b"
             ],
             [
              0.6666666666666666,
              "#ed7953"
             ],
             [
              0.7777777777777778,
              "#fb9f3a"
             ],
             [
              0.8888888888888888,
              "#fdca26"
             ],
             [
              1,
              "#f0f921"
             ]
            ],
            "type": "contour"
           }
          ],
          "contourcarpet": [
           {
            "colorbar": {
             "outlinewidth": 0,
             "ticks": ""
            },
            "type": "contourcarpet"
           }
          ],
          "heatmap": [
           {
            "colorbar": {
             "outlinewidth": 0,
             "ticks": ""
            },
            "colorscale": [
             [
              0,
              "#0d0887"
             ],
             [
              0.1111111111111111,
              "#46039f"
             ],
             [
              0.2222222222222222,
              "#7201a8"
             ],
             [
              0.3333333333333333,
              "#9c179e"
             ],
             [
              0.4444444444444444,
              "#bd3786"
             ],
             [
              0.5555555555555556,
              "#d8576b"
             ],
             [
              0.6666666666666666,
              "#ed7953"
             ],
             [
              0.7777777777777778,
              "#fb9f3a"
             ],
             [
              0.8888888888888888,
              "#fdca26"
             ],
             [
              1,
              "#f0f921"
             ]
            ],
            "type": "heatmap"
           }
          ],
          "heatmapgl": [
           {
            "colorbar": {
             "outlinewidth": 0,
             "ticks": ""
            },
            "colorscale": [
             [
              0,
              "#0d0887"
             ],
             [
              0.1111111111111111,
              "#46039f"
             ],
             [
              0.2222222222222222,
              "#7201a8"
             ],
             [
              0.3333333333333333,
              "#9c179e"
             ],
             [
              0.4444444444444444,
              "#bd3786"
             ],
             [
              0.5555555555555556,
              "#d8576b"
             ],
             [
              0.6666666666666666,
              "#ed7953"
             ],
             [
              0.7777777777777778,
              "#fb9f3a"
             ],
             [
              0.8888888888888888,
              "#fdca26"
             ],
             [
              1,
              "#f0f921"
             ]
            ],
            "type": "heatmapgl"
           }
          ],
          "histogram": [
           {
            "marker": {
             "pattern": {
              "fillmode": "overlay",
              "size": 10,
              "solidity": 0.2
             }
            },
            "type": "histogram"
           }
          ],
          "histogram2d": [
           {
            "colorbar": {
             "outlinewidth": 0,
             "ticks": ""
            },
            "colorscale": [
             [
              0,
              "#0d0887"
             ],
             [
              0.1111111111111111,
              "#46039f"
             ],
             [
              0.2222222222222222,
              "#7201a8"
             ],
             [
              0.3333333333333333,
              "#9c179e"
             ],
             [
              0.4444444444444444,
              "#bd3786"
             ],
             [
              0.5555555555555556,
              "#d8576b"
             ],
             [
              0.6666666666666666,
              "#ed7953"
             ],
             [
              0.7777777777777778,
              "#fb9f3a"
             ],
             [
              0.8888888888888888,
              "#fdca26"
             ],
             [
              1,
              "#f0f921"
             ]
            ],
            "type": "histogram2d"
           }
          ],
          "histogram2dcontour": [
           {
            "colorbar": {
             "outlinewidth": 0,
             "ticks": ""
            },
            "colorscale": [
             [
              0,
              "#0d0887"
             ],
             [
              0.1111111111111111,
              "#46039f"
             ],
             [
              0.2222222222222222,
              "#7201a8"
             ],
             [
              0.3333333333333333,
              "#9c179e"
             ],
             [
              0.4444444444444444,
              "#bd3786"
             ],
             [
              0.5555555555555556,
              "#d8576b"
             ],
             [
              0.6666666666666666,
              "#ed7953"
             ],
             [
              0.7777777777777778,
              "#fb9f3a"
             ],
             [
              0.8888888888888888,
              "#fdca26"
             ],
             [
              1,
              "#f0f921"
             ]
            ],
            "type": "histogram2dcontour"
           }
          ],
          "mesh3d": [
           {
            "colorbar": {
             "outlinewidth": 0,
             "ticks": ""
            },
            "type": "mesh3d"
           }
          ],
          "parcoords": [
           {
            "line": {
             "colorbar": {
              "outlinewidth": 0,
              "ticks": ""
             }
            },
            "type": "parcoords"
           }
          ],
          "pie": [
           {
            "automargin": true,
            "type": "pie"
           }
          ],
          "scatter": [
           {
            "fillpattern": {
             "fillmode": "overlay",
             "size": 10,
             "solidity": 0.2
            },
            "type": "scatter"
           }
          ],
          "scatter3d": [
           {
            "line": {
             "colorbar": {
              "outlinewidth": 0,
              "ticks": ""
             }
            },
            "marker": {
             "colorbar": {
              "outlinewidth": 0,
              "ticks": ""
             }
            },
            "type": "scatter3d"
           }
          ],
          "scattercarpet": [
           {
            "marker": {
             "colorbar": {
              "outlinewidth": 0,
              "ticks": ""
             }
            },
            "type": "scattercarpet"
           }
          ],
          "scattergeo": [
           {
            "marker": {
             "colorbar": {
              "outlinewidth": 0,
              "ticks": ""
             }
            },
            "type": "scattergeo"
           }
          ],
          "scattergl": [
           {
            "marker": {
             "colorbar": {
              "outlinewidth": 0,
              "ticks": ""
             }
            },
            "type": "scattergl"
           }
          ],
          "scattermapbox": [
           {
            "marker": {
             "colorbar": {
              "outlinewidth": 0,
              "ticks": ""
             }
            },
            "type": "scattermapbox"
           }
          ],
          "scatterpolar": [
           {
            "marker": {
             "colorbar": {
              "outlinewidth": 0,
              "ticks": ""
             }
            },
            "type": "scatterpolar"
           }
          ],
          "scatterpolargl": [
           {
            "marker": {
             "colorbar": {
              "outlinewidth": 0,
              "ticks": ""
             }
            },
            "type": "scatterpolargl"
           }
          ],
          "scatterternary": [
           {
            "marker": {
             "colorbar": {
              "outlinewidth": 0,
              "ticks": ""
             }
            },
            "type": "scatterternary"
           }
          ],
          "surface": [
           {
            "colorbar": {
             "outlinewidth": 0,
             "ticks": ""
            },
            "colorscale": [
             [
              0,
              "#0d0887"
             ],
             [
              0.1111111111111111,
              "#46039f"
             ],
             [
              0.2222222222222222,
              "#7201a8"
             ],
             [
              0.3333333333333333,
              "#9c179e"
             ],
             [
              0.4444444444444444,
              "#bd3786"
             ],
             [
              0.5555555555555556,
              "#d8576b"
             ],
             [
              0.6666666666666666,
              "#ed7953"
             ],
             [
              0.7777777777777778,
              "#fb9f3a"
             ],
             [
              0.8888888888888888,
              "#fdca26"
             ],
             [
              1,
              "#f0f921"
             ]
            ],
            "type": "surface"
           }
          ],
          "table": [
           {
            "cells": {
             "fill": {
              "color": "#EBF0F8"
             },
             "line": {
              "color": "white"
             }
            },
            "header": {
             "fill": {
              "color": "#C8D4E3"
             },
             "line": {
              "color": "white"
             }
            },
            "type": "table"
           }
          ]
         },
         "layout": {
          "annotationdefaults": {
           "arrowcolor": "#2a3f5f",
           "arrowhead": 0,
           "arrowwidth": 1
          },
          "autotypenumbers": "strict",
          "coloraxis": {
           "colorbar": {
            "outlinewidth": 0,
            "ticks": ""
           }
          },
          "colorscale": {
           "diverging": [
            [
             0,
             "#8e0152"
            ],
            [
             0.1,
             "#c51b7d"
            ],
            [
             0.2,
             "#de77ae"
            ],
            [
             0.3,
             "#f1b6da"
            ],
            [
             0.4,
             "#fde0ef"
            ],
            [
             0.5,
             "#f7f7f7"
            ],
            [
             0.6,
             "#e6f5d0"
            ],
            [
             0.7,
             "#b8e186"
            ],
            [
             0.8,
             "#7fbc41"
            ],
            [
             0.9,
             "#4d9221"
            ],
            [
             1,
             "#276419"
            ]
           ],
           "sequential": [
            [
             0,
             "#0d0887"
            ],
            [
             0.1111111111111111,
             "#46039f"
            ],
            [
             0.2222222222222222,
             "#7201a8"
            ],
            [
             0.3333333333333333,
             "#9c179e"
            ],
            [
             0.4444444444444444,
             "#bd3786"
            ],
            [
             0.5555555555555556,
             "#d8576b"
            ],
            [
             0.6666666666666666,
             "#ed7953"
            ],
            [
             0.7777777777777778,
             "#fb9f3a"
            ],
            [
             0.8888888888888888,
             "#fdca26"
            ],
            [
             1,
             "#f0f921"
            ]
           ],
           "sequentialminus": [
            [
             0,
             "#0d0887"
            ],
            [
             0.1111111111111111,
             "#46039f"
            ],
            [
             0.2222222222222222,
             "#7201a8"
            ],
            [
             0.3333333333333333,
             "#9c179e"
            ],
            [
             0.4444444444444444,
             "#bd3786"
            ],
            [
             0.5555555555555556,
             "#d8576b"
            ],
            [
             0.6666666666666666,
             "#ed7953"
            ],
            [
             0.7777777777777778,
             "#fb9f3a"
            ],
            [
             0.8888888888888888,
             "#fdca26"
            ],
            [
             1,
             "#f0f921"
            ]
           ]
          },
          "colorway": [
           "#636efa",
           "#EF553B",
           "#00cc96",
           "#ab63fa",
           "#FFA15A",
           "#19d3f3",
           "#FF6692",
           "#B6E880",
           "#FF97FF",
           "#FECB52"
          ],
          "font": {
           "color": "#2a3f5f"
          },
          "geo": {
           "bgcolor": "white",
           "lakecolor": "white",
           "landcolor": "#E5ECF6",
           "showlakes": true,
           "showland": true,
           "subunitcolor": "white"
          },
          "hoverlabel": {
           "align": "left"
          },
          "hovermode": "closest",
          "mapbox": {
           "style": "light"
          },
          "paper_bgcolor": "white",
          "plot_bgcolor": "#E5ECF6",
          "polar": {
           "angularaxis": {
            "gridcolor": "white",
            "linecolor": "white",
            "ticks": ""
           },
           "bgcolor": "#E5ECF6",
           "radialaxis": {
            "gridcolor": "white",
            "linecolor": "white",
            "ticks": ""
           }
          },
          "scene": {
           "xaxis": {
            "backgroundcolor": "#E5ECF6",
            "gridcolor": "white",
            "gridwidth": 2,
            "linecolor": "white",
            "showbackground": true,
            "ticks": "",
            "zerolinecolor": "white"
           },
           "yaxis": {
            "backgroundcolor": "#E5ECF6",
            "gridcolor": "white",
            "gridwidth": 2,
            "linecolor": "white",
            "showbackground": true,
            "ticks": "",
            "zerolinecolor": "white"
           },
           "zaxis": {
            "backgroundcolor": "#E5ECF6",
            "gridcolor": "white",
            "gridwidth": 2,
            "linecolor": "white",
            "showbackground": true,
            "ticks": "",
            "zerolinecolor": "white"
           }
          },
          "shapedefaults": {
           "line": {
            "color": "#2a3f5f"
           }
          },
          "ternary": {
           "aaxis": {
            "gridcolor": "white",
            "linecolor": "white",
            "ticks": ""
           },
           "baxis": {
            "gridcolor": "white",
            "linecolor": "white",
            "ticks": ""
           },
           "bgcolor": "#E5ECF6",
           "caxis": {
            "gridcolor": "white",
            "linecolor": "white",
            "ticks": ""
           }
          },
          "title": {
           "x": 0.05
          },
          "xaxis": {
           "automargin": true,
           "gridcolor": "white",
           "linecolor": "white",
           "ticks": "",
           "title": {
            "standoff": 15
           },
           "zerolinecolor": "white",
           "zerolinewidth": 2
          },
          "yaxis": {
           "automargin": true,
           "gridcolor": "white",
           "linecolor": "white",
           "ticks": "",
           "title": {
            "standoff": 15
           },
           "zerolinecolor": "white",
           "zerolinewidth": 2
          }
         }
        },
        "xaxis": {
         "showgrid": false,
         "showline": false
        },
        "yaxis": {
         "showgrid": false,
         "showline": false
        }
       }
      },
      "text/html": [
       "<div>                            <div id=\"945bf7fa-c858-4ddd-94a8-95d49e831dc8\" class=\"plotly-graph-div\" style=\"height:525px; width:100%;\"></div>            <script type=\"text/javascript\">                require([\"plotly\"], function(Plotly) {                    window.PLOTLYENV=window.PLOTLYENV || {};                                    if (document.getElementById(\"945bf7fa-c858-4ddd-94a8-95d49e831dc8\")) {                    Plotly.newPlot(                        \"945bf7fa-c858-4ddd-94a8-95d49e831dc8\",                        [{\"mode\":\"lines+markers\",\"x\":[0.0,1.0101010101010102,2.0202020202020203,3.0303030303030303,4.040404040404041,5.050505050505051,6.0606060606060606,7.070707070707071,8.080808080808081,9.090909090909092,10.101010101010102,11.111111111111112,12.121212121212121,13.131313131313131,14.141414141414142,15.151515151515152,16.161616161616163,17.171717171717173,18.181818181818183,19.191919191919194,20.202020202020204,21.212121212121215,22.222222222222225,23.232323232323235,24.242424242424242,25.252525252525253,26.262626262626263,27.272727272727273,28.282828282828284,29.292929292929294,30.303030303030305,31.313131313131315,32.323232323232325,33.333333333333336,34.343434343434346,35.35353535353536,36.36363636363637,37.37373737373738,38.38383838383839,39.3939393939394,40.40404040404041,41.41414141414142,42.42424242424243,43.43434343434344,44.44444444444445,45.45454545454546,46.46464646464647,47.47474747474748,48.484848484848484,49.494949494949495,50.505050505050505,51.515151515151516,52.525252525252526,53.535353535353536,54.54545454545455,55.55555555555556,56.56565656565657,57.57575757575758,58.58585858585859,59.5959595959596,60.60606060606061,61.61616161616162,62.62626262626263,63.63636363636364,64.64646464646465,65.65656565656566,66.66666666666667,67.67676767676768,68.68686868686869,69.6969696969697,70.70707070707071,71.71717171717172,72.72727272727273,73.73737373737374,74.74747474747475,75.75757575757576,76.76767676767678,77.77777777777779,78.7878787878788,79.7979797979798,80.80808080808082,81.81818181818183,82.82828282828284,83.83838383838385,84.84848484848486,85.85858585858587,86.86868686868688,87.87878787878789,88.8888888888889,89.89898989898991,90.90909090909092,91.91919191919193,92.92929292929294,93.93939393939395,94.94949494949496,95.95959595959597,96.96969696969697,97.97979797979798,98.98989898989899,100.0],\"y\":[0.37029989628050025,-0.41901170010215005,0.546913099438123,0.6271438837846914,-0.22849859430071184,1.8776661539968187,-0.3952786826541444,0.1922600705187901,1.1076983646680023,-0.8940541851644651,0.07664077019361587,0.3804762715907609,0.745517578078787,-0.7163433113455936,-0.8732569122081293,-0.12467867646387315,-0.31644681164859356,-2.0169005251425114,-0.15314074771815062,0.24368156762984608,-2.97694209320908,0.8752930424311414,0.8251874051990478,0.881844977255407,1.3605400634836264,1.3376668047260187,-0.570200970104231,-0.815728625204982,-1.6525783736585369,1.794419651704197,-1.1736237275888939,0.1655740651820136,1.853693687589839,1.5629555776624953,1.5412465302573912,0.11914546902344429,-0.7359210192768941,0.18775346341388421,-1.0727855487295783,-1.6455119224350818,-0.39882166766213595,-0.6117334034991259,0.08062220767625179,-0.9561159265124323,1.6911916014010957,1.1982484832980898,2.514415102773535,-0.638120553105744,-0.1859462339090643,-2.633610860586448,-1.4323461420820298,-1.2425603143263635,1.3315884916066945,-2.75424053009012,-0.6107065670837427,-0.2107099656286631,-0.7509891771140068,0.2414257748812695,0.29129608677629787,-0.24755228616992234,2.0126709187104868,0.9800202876871462,-0.107149595255969,-0.332149134233813,0.7644614031302523,-0.29048844301973775,-0.7926333721611516,0.209728101102887,0.14332685453358868,0.5626926194241685,-0.7051570410634832,-0.085712072162345,-0.5189358932677469,0.9007162652644745,0.9752328006607398,0.5319918763881758,0.8769109561710855,-1.8674415838953584,-1.359814513475312,-0.5126168375591218,-0.7827485598065522,-0.3816645840906091,-0.16413071288685369,-0.5211240920014116,-1.5391689770951822,-0.914994098043225,0.954315107060813,-0.5648894049947067,-0.13481697252286542,-1.929048108603235,0.5815805613527152,-0.07786279002301955,1.531127461614658,0.9033756373812103,0.795666779707196,-0.5021360037728898,-0.35950583446402234,-1.2321457865602214,0.6828429696750615,0.3558055686790698],\"type\":\"scatter\"},{\"mode\":\"lines\",\"x\":[0.0,1.0101010101010102,2.0202020202020203,3.0303030303030303,4.040404040404041,5.050505050505051,6.0606060606060606,7.070707070707071,8.080808080808081,9.090909090909092,10.101010101010102,11.111111111111112,12.121212121212121,13.131313131313131,14.141414141414142,15.151515151515152,16.161616161616163,17.171717171717173,18.181818181818183,19.191919191919194,20.202020202020204,21.212121212121215,22.222222222222225,23.232323232323235,24.242424242424242,25.252525252525253,26.262626262626263,27.272727272727273,28.282828282828284,29.292929292929294,30.303030303030305,31.313131313131315,32.323232323232325,33.333333333333336,34.343434343434346,35.35353535353536,36.36363636363637,37.37373737373738,38.38383838383839,39.3939393939394,40.40404040404041,41.41414141414142,42.42424242424243,43.43434343434344,44.44444444444445,45.45454545454546,46.46464646464647,47.47474747474748,48.484848484848484,49.494949494949495,50.505050505050505,51.515151515151516,52.525252525252526,53.535353535353536,54.54545454545455,55.55555555555556,56.56565656565657,57.57575757575758,58.58585858585859,59.5959595959596,60.60606060606061,61.61616161616162,62.62626262626263,63.63636363636364,64.64646464646465,65.65656565656566,66.66666666666667,67.67676767676768,68.68686868686869,69.6969696969697,70.70707070707071,71.71717171717172,72.72727272727273,73.73737373737374,74.74747474747475,75.75757575757576,76.76767676767678,77.77777777777779,78.7878787878788,79.7979797979798,80.80808080808082,81.81818181818183,82.82828282828284,83.83838383838385,84.84848484848486,85.85858585858587,86.86868686868688,87.87878787878789,88.8888888888889,89.89898989898991,90.90909090909092,91.91919191919193,92.92929292929294,93.93939393939395,94.94949494949496,95.95959595959597,96.96969696969697,97.97979797979798,98.98989898989899,100.0],\"y\":[-4.629700103719499,-5.41901170010215,-4.4530869005618765,-4.372856116215308,-5.228498594300712,-3.1223338460031815,-5.395278682654144,-4.80773992948121,-3.8923016353319975,-5.894054185164465,-4.923359229806384,-4.619523728409239,-4.254482421921213,-5.716343311345594,-5.873256912208129,-5.124678676463873,-5.316446811648594,-7.016900525142511,-5.153140747718151,-4.756318432370154,-7.976942093209081,-4.124706957568859,-4.174812594800953,-4.118155022744593,-3.6394599365163733,-3.6623331952739813,-5.570200970104231,-5.815728625204982,-6.652578373658537,-3.205580348295803,-6.173623727588894,-4.834425934817986,-3.146306312410161,-3.4370444223375047,-3.458753469742609,-4.880854530976555,-5.735921019276894,-4.812246536586116,-6.072785548729579,-6.645511922435082,-5.398821667662136,-5.611733403499126,-4.919377792323748,-5.956115926512433,-3.308808398598904,-3.80175151670191,-2.485584897226465,-5.638120553105744,-5.185946233909064,-7.6336108605864474,-6.43234614208203,-6.242560314326363,-3.6684115083933055,-7.7542405300901205,-5.610706567083743,-5.210709965628663,-5.750989177114007,-4.75857422511873,-4.708703913223702,-5.247552286169922,-2.9873290812895132,-4.019979712312853,-5.107149595255969,-5.332149134233813,-4.235538596869747,-5.290488443019738,-5.792633372161152,-4.790271898897113,-4.856673145466411,-4.437307380575832,-5.705157041063483,-5.0857120721623446,-5.518935893267747,-4.0992837347355255,-4.02476719933926,-4.468008123611824,-4.123089043828914,-6.867441583895358,-6.359814513475312,-5.512616837559122,-5.782748559806552,-5.381664584090609,-5.164130712886854,-5.521124092001411,-6.539168977095182,-5.914994098043225,-4.045684892939187,-5.564889404994707,-5.134816972522866,-6.929048108603235,-4.418419438647285,-5.077862790023019,-3.468872538385342,-4.0966243626187895,-4.204333220292804,-5.50213600377289,-5.359505834464023,-6.2321457865602214,-4.317157030324939,-4.64419443132093],\"type\":\"scatter\"}],                        {\"template\":{\"data\":{\"barpolar\":[{\"marker\":{\"line\":{\"color\":\"#E5ECF6\",\"width\":0.5},\"pattern\":{\"fillmode\":\"overlay\",\"size\":10,\"solidity\":0.2}},\"type\":\"barpolar\"}],\"bar\":[{\"error_x\":{\"color\":\"#2a3f5f\"},\"error_y\":{\"color\":\"#2a3f5f\"},\"marker\":{\"line\":{\"color\":\"#E5ECF6\",\"width\":0.5},\"pattern\":{\"fillmode\":\"overlay\",\"size\":10,\"solidity\":0.2}},\"type\":\"bar\"}],\"carpet\":[{\"aaxis\":{\"endlinecolor\":\"#2a3f5f\",\"gridcolor\":\"white\",\"linecolor\":\"white\",\"minorgridcolor\":\"white\",\"startlinecolor\":\"#2a3f5f\"},\"baxis\":{\"endlinecolor\":\"#2a3f5f\",\"gridcolor\":\"white\",\"linecolor\":\"white\",\"minorgridcolor\":\"white\",\"startlinecolor\":\"#2a3f5f\"},\"type\":\"carpet\"}],\"choropleth\":[{\"colorbar\":{\"outlinewidth\":0,\"ticks\":\"\"},\"type\":\"choropleth\"}],\"contourcarpet\":[{\"colorbar\":{\"outlinewidth\":0,\"ticks\":\"\"},\"type\":\"contourcarpet\"}],\"contour\":[{\"colorbar\":{\"outlinewidth\":0,\"ticks\":\"\"},\"colorscale\":[[0.0,\"#0d0887\"],[0.1111111111111111,\"#46039f\"],[0.2222222222222222,\"#7201a8\"],[0.3333333333333333,\"#9c179e\"],[0.4444444444444444,\"#bd3786\"],[0.5555555555555556,\"#d8576b\"],[0.6666666666666666,\"#ed7953\"],[0.7777777777777778,\"#fb9f3a\"],[0.8888888888888888,\"#fdca26\"],[1.0,\"#f0f921\"]],\"type\":\"contour\"}],\"heatmapgl\":[{\"colorbar\":{\"outlinewidth\":0,\"ticks\":\"\"},\"colorscale\":[[0.0,\"#0d0887\"],[0.1111111111111111,\"#46039f\"],[0.2222222222222222,\"#7201a8\"],[0.3333333333333333,\"#9c179e\"],[0.4444444444444444,\"#bd3786\"],[0.5555555555555556,\"#d8576b\"],[0.6666666666666666,\"#ed7953\"],[0.7777777777777778,\"#fb9f3a\"],[0.8888888888888888,\"#fdca26\"],[1.0,\"#f0f921\"]],\"type\":\"heatmapgl\"}],\"heatmap\":[{\"colorbar\":{\"outlinewidth\":0,\"ticks\":\"\"},\"colorscale\":[[0.0,\"#0d0887\"],[0.1111111111111111,\"#46039f\"],[0.2222222222222222,\"#7201a8\"],[0.3333333333333333,\"#9c179e\"],[0.4444444444444444,\"#bd3786\"],[0.5555555555555556,\"#d8576b\"],[0.6666666666666666,\"#ed7953\"],[0.7777777777777778,\"#fb9f3a\"],[0.8888888888888888,\"#fdca26\"],[1.0,\"#f0f921\"]],\"type\":\"heatmap\"}],\"histogram2dcontour\":[{\"colorbar\":{\"outlinewidth\":0,\"ticks\":\"\"},\"colorscale\":[[0.0,\"#0d0887\"],[0.1111111111111111,\"#46039f\"],[0.2222222222222222,\"#7201a8\"],[0.3333333333333333,\"#9c179e\"],[0.4444444444444444,\"#bd3786\"],[0.5555555555555556,\"#d8576b\"],[0.6666666666666666,\"#ed7953\"],[0.7777777777777778,\"#fb9f3a\"],[0.8888888888888888,\"#fdca26\"],[1.0,\"#f0f921\"]],\"type\":\"histogram2dcontour\"}],\"histogram2d\":[{\"colorbar\":{\"outlinewidth\":0,\"ticks\":\"\"},\"colorscale\":[[0.0,\"#0d0887\"],[0.1111111111111111,\"#46039f\"],[0.2222222222222222,\"#7201a8\"],[0.3333333333333333,\"#9c179e\"],[0.4444444444444444,\"#bd3786\"],[0.5555555555555556,\"#d8576b\"],[0.6666666666666666,\"#ed7953\"],[0.7777777777777778,\"#fb9f3a\"],[0.8888888888888888,\"#fdca26\"],[1.0,\"#f0f921\"]],\"type\":\"histogram2d\"}],\"histogram\":[{\"marker\":{\"pattern\":{\"fillmode\":\"overlay\",\"size\":10,\"solidity\":0.2}},\"type\":\"histogram\"}],\"mesh3d\":[{\"colorbar\":{\"outlinewidth\":0,\"ticks\":\"\"},\"type\":\"mesh3d\"}],\"parcoords\":[{\"line\":{\"colorbar\":{\"outlinewidth\":0,\"ticks\":\"\"}},\"type\":\"parcoords\"}],\"pie\":[{\"automargin\":true,\"type\":\"pie\"}],\"scatter3d\":[{\"line\":{\"colorbar\":{\"outlinewidth\":0,\"ticks\":\"\"}},\"marker\":{\"colorbar\":{\"outlinewidth\":0,\"ticks\":\"\"}},\"type\":\"scatter3d\"}],\"scattercarpet\":[{\"marker\":{\"colorbar\":{\"outlinewidth\":0,\"ticks\":\"\"}},\"type\":\"scattercarpet\"}],\"scattergeo\":[{\"marker\":{\"colorbar\":{\"outlinewidth\":0,\"ticks\":\"\"}},\"type\":\"scattergeo\"}],\"scattergl\":[{\"marker\":{\"colorbar\":{\"outlinewidth\":0,\"ticks\":\"\"}},\"type\":\"scattergl\"}],\"scattermapbox\":[{\"marker\":{\"colorbar\":{\"outlinewidth\":0,\"ticks\":\"\"}},\"type\":\"scattermapbox\"}],\"scatterpolargl\":[{\"marker\":{\"colorbar\":{\"outlinewidth\":0,\"ticks\":\"\"}},\"type\":\"scatterpolargl\"}],\"scatterpolar\":[{\"marker\":{\"colorbar\":{\"outlinewidth\":0,\"ticks\":\"\"}},\"type\":\"scatterpolar\"}],\"scatter\":[{\"fillpattern\":{\"fillmode\":\"overlay\",\"size\":10,\"solidity\":0.2},\"type\":\"scatter\"}],\"scatterternary\":[{\"marker\":{\"colorbar\":{\"outlinewidth\":0,\"ticks\":\"\"}},\"type\":\"scatterternary\"}],\"surface\":[{\"colorbar\":{\"outlinewidth\":0,\"ticks\":\"\"},\"colorscale\":[[0.0,\"#0d0887\"],[0.1111111111111111,\"#46039f\"],[0.2222222222222222,\"#7201a8\"],[0.3333333333333333,\"#9c179e\"],[0.4444444444444444,\"#bd3786\"],[0.5555555555555556,\"#d8576b\"],[0.6666666666666666,\"#ed7953\"],[0.7777777777777778,\"#fb9f3a\"],[0.8888888888888888,\"#fdca26\"],[1.0,\"#f0f921\"]],\"type\":\"surface\"}],\"table\":[{\"cells\":{\"fill\":{\"color\":\"#EBF0F8\"},\"line\":{\"color\":\"white\"}},\"header\":{\"fill\":{\"color\":\"#C8D4E3\"},\"line\":{\"color\":\"white\"}},\"type\":\"table\"}]},\"layout\":{\"annotationdefaults\":{\"arrowcolor\":\"#2a3f5f\",\"arrowhead\":0,\"arrowwidth\":1},\"autotypenumbers\":\"strict\",\"coloraxis\":{\"colorbar\":{\"outlinewidth\":0,\"ticks\":\"\"}},\"colorscale\":{\"diverging\":[[0,\"#8e0152\"],[0.1,\"#c51b7d\"],[0.2,\"#de77ae\"],[0.3,\"#f1b6da\"],[0.4,\"#fde0ef\"],[0.5,\"#f7f7f7\"],[0.6,\"#e6f5d0\"],[0.7,\"#b8e186\"],[0.8,\"#7fbc41\"],[0.9,\"#4d9221\"],[1,\"#276419\"]],\"sequential\":[[0.0,\"#0d0887\"],[0.1111111111111111,\"#46039f\"],[0.2222222222222222,\"#7201a8\"],[0.3333333333333333,\"#9c179e\"],[0.4444444444444444,\"#bd3786\"],[0.5555555555555556,\"#d8576b\"],[0.6666666666666666,\"#ed7953\"],[0.7777777777777778,\"#fb9f3a\"],[0.8888888888888888,\"#fdca26\"],[1.0,\"#f0f921\"]],\"sequentialminus\":[[0.0,\"#0d0887\"],[0.1111111111111111,\"#46039f\"],[0.2222222222222222,\"#7201a8\"],[0.3333333333333333,\"#9c179e\"],[0.4444444444444444,\"#bd3786\"],[0.5555555555555556,\"#d8576b\"],[0.6666666666666666,\"#ed7953\"],[0.7777777777777778,\"#fb9f3a\"],[0.8888888888888888,\"#fdca26\"],[1.0,\"#f0f921\"]]},\"colorway\":[\"#636efa\",\"#EF553B\",\"#00cc96\",\"#ab63fa\",\"#FFA15A\",\"#19d3f3\",\"#FF6692\",\"#B6E880\",\"#FF97FF\",\"#FECB52\"],\"font\":{\"color\":\"#2a3f5f\"},\"geo\":{\"bgcolor\":\"white\",\"lakecolor\":\"white\",\"landcolor\":\"#E5ECF6\",\"showlakes\":true,\"showland\":true,\"subunitcolor\":\"white\"},\"hoverlabel\":{\"align\":\"left\"},\"hovermode\":\"closest\",\"mapbox\":{\"style\":\"light\"},\"paper_bgcolor\":\"white\",\"plot_bgcolor\":\"#E5ECF6\",\"polar\":{\"angularaxis\":{\"gridcolor\":\"white\",\"linecolor\":\"white\",\"ticks\":\"\"},\"bgcolor\":\"#E5ECF6\",\"radialaxis\":{\"gridcolor\":\"white\",\"linecolor\":\"white\",\"ticks\":\"\"}},\"scene\":{\"xaxis\":{\"backgroundcolor\":\"#E5ECF6\",\"gridcolor\":\"white\",\"gridwidth\":2,\"linecolor\":\"white\",\"showbackground\":true,\"ticks\":\"\",\"zerolinecolor\":\"white\"},\"yaxis\":{\"backgroundcolor\":\"#E5ECF6\",\"gridcolor\":\"white\",\"gridwidth\":2,\"linecolor\":\"white\",\"showbackground\":true,\"ticks\":\"\",\"zerolinecolor\":\"white\"},\"zaxis\":{\"backgroundcolor\":\"#E5ECF6\",\"gridcolor\":\"white\",\"gridwidth\":2,\"linecolor\":\"white\",\"showbackground\":true,\"ticks\":\"\",\"zerolinecolor\":\"white\"}},\"shapedefaults\":{\"line\":{\"color\":\"#2a3f5f\"}},\"ternary\":{\"aaxis\":{\"gridcolor\":\"white\",\"linecolor\":\"white\",\"ticks\":\"\"},\"baxis\":{\"gridcolor\":\"white\",\"linecolor\":\"white\",\"ticks\":\"\"},\"bgcolor\":\"#E5ECF6\",\"caxis\":{\"gridcolor\":\"white\",\"linecolor\":\"white\",\"ticks\":\"\"}},\"title\":{\"x\":0.05},\"xaxis\":{\"automargin\":true,\"gridcolor\":\"white\",\"linecolor\":\"white\",\"ticks\":\"\",\"title\":{\"standoff\":15},\"zerolinecolor\":\"white\",\"zerolinewidth\":2},\"yaxis\":{\"automargin\":true,\"gridcolor\":\"white\",\"linecolor\":\"white\",\"ticks\":\"\",\"title\":{\"standoff\":15},\"zerolinecolor\":\"white\",\"zerolinewidth\":2}}},\"xaxis\":{\"showgrid\":false,\"showline\":false},\"yaxis\":{\"showgrid\":false,\"showline\":false}},                        {\"responsive\": true}                    ).then(function(){\n",
       "                            \n",
       "var gd = document.getElementById('945bf7fa-c858-4ddd-94a8-95d49e831dc8');\n",
       "var x = new MutationObserver(function (mutations, observer) {{\n",
       "        var display = window.getComputedStyle(gd).display;\n",
       "        if (!display || display === 'none') {{\n",
       "            console.log([gd, 'removed!']);\n",
       "            Plotly.purge(gd);\n",
       "            observer.disconnect();\n",
       "        }}\n",
       "}});\n",
       "\n",
       "// Listen for the removal of the full notebook cells\n",
       "var notebookContainer = gd.closest('#notebook-container');\n",
       "if (notebookContainer) {{\n",
       "    x.observe(notebookContainer, {childList: true});\n",
       "}}\n",
       "\n",
       "// Listen for the clearing of the current output cell\n",
       "var outputEl = gd.closest('.output');\n",
       "if (outputEl) {{\n",
       "    x.observe(outputEl, {childList: true});\n",
       "}}\n",
       "\n",
       "                        })                };                });            </script>        </div>"
      ]
     },
     "metadata": {},
     "output_type": "display_data"
    }
   ],
   "source": [
    "x_values = np.linspace(0, 100, 100)\n",
    "y_values = np.random.randn(100)\n",
    "\n",
    "trace0 = go.Scatter(x = x_values, y = y_values, mode = 'lines + markers')\n",
    "\n",
    "trace1 = go.Scatter(x = x_values, y = y_values - 5, mode = 'lines')\n",
    "\n",
    "layout = go.Layout(\n",
    "                   xaxis = dict(showgrid = False, \n",
    "                                showline = False,\n",
    "                               ),\n",
    "                   yaxis = dict(showgrid = False, \n",
    "                                showline = False,\n",
    "                               ),\n",
    "                  )\n",
    "\n",
    "data = [trace0, trace1]\n",
    "fig = go.Figure(data = data, layout = layout)\n",
    "iplot(fig)"
   ]
  },
  {
   "cell_type": "code",
   "execution_count": 20,
   "id": "0725f029",
   "metadata": {},
   "outputs": [
    {
     "data": {
      "text/html": [
       "<div>\n",
       "<style scoped>\n",
       "    .dataframe tbody tr th:only-of-type {\n",
       "        vertical-align: middle;\n",
       "    }\n",
       "\n",
       "    .dataframe tbody tr th {\n",
       "        vertical-align: top;\n",
       "    }\n",
       "\n",
       "    .dataframe thead th {\n",
       "        text-align: right;\n",
       "    }\n",
       "</style>\n",
       "<table border=\"1\" class=\"dataframe\">\n",
       "  <thead>\n",
       "    <tr style=\"text-align: right;\">\n",
       "      <th></th>\n",
       "      <th>Type</th>\n",
       "      <th>Coverage</th>\n",
       "      <th>OdName</th>\n",
       "      <th>AREA</th>\n",
       "      <th>AreaName</th>\n",
       "      <th>REG</th>\n",
       "      <th>RegName</th>\n",
       "      <th>DEV</th>\n",
       "      <th>DevName</th>\n",
       "      <th>1980</th>\n",
       "      <th>...</th>\n",
       "      <th>2004</th>\n",
       "      <th>2005</th>\n",
       "      <th>2006</th>\n",
       "      <th>2007</th>\n",
       "      <th>2008</th>\n",
       "      <th>2009</th>\n",
       "      <th>2010</th>\n",
       "      <th>2011</th>\n",
       "      <th>2012</th>\n",
       "      <th>2013</th>\n",
       "    </tr>\n",
       "  </thead>\n",
       "  <tbody>\n",
       "    <tr>\n",
       "      <th>0</th>\n",
       "      <td>Immigrants</td>\n",
       "      <td>Foreigners</td>\n",
       "      <td>Afghanistan</td>\n",
       "      <td>935</td>\n",
       "      <td>Asia</td>\n",
       "      <td>5501</td>\n",
       "      <td>Southern Asia</td>\n",
       "      <td>902</td>\n",
       "      <td>Developing regions</td>\n",
       "      <td>16</td>\n",
       "      <td>...</td>\n",
       "      <td>2978</td>\n",
       "      <td>3436</td>\n",
       "      <td>3009</td>\n",
       "      <td>2652</td>\n",
       "      <td>2111</td>\n",
       "      <td>1746</td>\n",
       "      <td>1758</td>\n",
       "      <td>2203</td>\n",
       "      <td>2635</td>\n",
       "      <td>2004</td>\n",
       "    </tr>\n",
       "    <tr>\n",
       "      <th>1</th>\n",
       "      <td>Immigrants</td>\n",
       "      <td>Foreigners</td>\n",
       "      <td>Albania</td>\n",
       "      <td>908</td>\n",
       "      <td>Europe</td>\n",
       "      <td>925</td>\n",
       "      <td>Southern Europe</td>\n",
       "      <td>901</td>\n",
       "      <td>Developed regions</td>\n",
       "      <td>1</td>\n",
       "      <td>...</td>\n",
       "      <td>1450</td>\n",
       "      <td>1223</td>\n",
       "      <td>856</td>\n",
       "      <td>702</td>\n",
       "      <td>560</td>\n",
       "      <td>716</td>\n",
       "      <td>561</td>\n",
       "      <td>539</td>\n",
       "      <td>620</td>\n",
       "      <td>603</td>\n",
       "    </tr>\n",
       "    <tr>\n",
       "      <th>2</th>\n",
       "      <td>Immigrants</td>\n",
       "      <td>Foreigners</td>\n",
       "      <td>American Samoa</td>\n",
       "      <td>909</td>\n",
       "      <td>Oceania</td>\n",
       "      <td>957</td>\n",
       "      <td>Polynesia</td>\n",
       "      <td>902</td>\n",
       "      <td>Developing regions</td>\n",
       "      <td>0</td>\n",
       "      <td>...</td>\n",
       "      <td>0</td>\n",
       "      <td>0</td>\n",
       "      <td>1</td>\n",
       "      <td>0</td>\n",
       "      <td>0</td>\n",
       "      <td>0</td>\n",
       "      <td>0</td>\n",
       "      <td>0</td>\n",
       "      <td>0</td>\n",
       "      <td>0</td>\n",
       "    </tr>\n",
       "    <tr>\n",
       "      <th>3</th>\n",
       "      <td>Immigrants</td>\n",
       "      <td>Foreigners</td>\n",
       "      <td>Andorra</td>\n",
       "      <td>908</td>\n",
       "      <td>Europe</td>\n",
       "      <td>925</td>\n",
       "      <td>Southern Europe</td>\n",
       "      <td>901</td>\n",
       "      <td>Developed regions</td>\n",
       "      <td>0</td>\n",
       "      <td>...</td>\n",
       "      <td>0</td>\n",
       "      <td>0</td>\n",
       "      <td>1</td>\n",
       "      <td>1</td>\n",
       "      <td>0</td>\n",
       "      <td>0</td>\n",
       "      <td>0</td>\n",
       "      <td>0</td>\n",
       "      <td>1</td>\n",
       "      <td>1</td>\n",
       "    </tr>\n",
       "    <tr>\n",
       "      <th>4</th>\n",
       "      <td>Immigrants</td>\n",
       "      <td>Foreigners</td>\n",
       "      <td>Angola</td>\n",
       "      <td>903</td>\n",
       "      <td>Africa</td>\n",
       "      <td>911</td>\n",
       "      <td>Middle Africa</td>\n",
       "      <td>902</td>\n",
       "      <td>Developing regions</td>\n",
       "      <td>1</td>\n",
       "      <td>...</td>\n",
       "      <td>268</td>\n",
       "      <td>295</td>\n",
       "      <td>184</td>\n",
       "      <td>106</td>\n",
       "      <td>76</td>\n",
       "      <td>62</td>\n",
       "      <td>61</td>\n",
       "      <td>39</td>\n",
       "      <td>70</td>\n",
       "      <td>45</td>\n",
       "    </tr>\n",
       "    <tr>\n",
       "      <th>5</th>\n",
       "      <td>Immigrants</td>\n",
       "      <td>Foreigners</td>\n",
       "      <td>Antigua and Barbuda</td>\n",
       "      <td>904</td>\n",
       "      <td>Latin America and the Caribbean</td>\n",
       "      <td>915</td>\n",
       "      <td>Caribbean</td>\n",
       "      <td>902</td>\n",
       "      <td>Developing regions</td>\n",
       "      <td>0</td>\n",
       "      <td>...</td>\n",
       "      <td>14</td>\n",
       "      <td>24</td>\n",
       "      <td>32</td>\n",
       "      <td>15</td>\n",
       "      <td>32</td>\n",
       "      <td>38</td>\n",
       "      <td>27</td>\n",
       "      <td>37</td>\n",
       "      <td>51</td>\n",
       "      <td>25</td>\n",
       "    </tr>\n",
       "    <tr>\n",
       "      <th>6</th>\n",
       "      <td>Immigrants</td>\n",
       "      <td>Foreigners</td>\n",
       "      <td>Argentina</td>\n",
       "      <td>904</td>\n",
       "      <td>Latin America and the Caribbean</td>\n",
       "      <td>931</td>\n",
       "      <td>South America</td>\n",
       "      <td>902</td>\n",
       "      <td>Developing regions</td>\n",
       "      <td>368</td>\n",
       "      <td>...</td>\n",
       "      <td>1591</td>\n",
       "      <td>1153</td>\n",
       "      <td>847</td>\n",
       "      <td>620</td>\n",
       "      <td>540</td>\n",
       "      <td>467</td>\n",
       "      <td>459</td>\n",
       "      <td>278</td>\n",
       "      <td>263</td>\n",
       "      <td>282</td>\n",
       "    </tr>\n",
       "    <tr>\n",
       "      <th>7</th>\n",
       "      <td>Immigrants</td>\n",
       "      <td>Foreigners</td>\n",
       "      <td>Armenia</td>\n",
       "      <td>935</td>\n",
       "      <td>Asia</td>\n",
       "      <td>922</td>\n",
       "      <td>Western Asia</td>\n",
       "      <td>902</td>\n",
       "      <td>Developing regions</td>\n",
       "      <td>0</td>\n",
       "      <td>...</td>\n",
       "      <td>147</td>\n",
       "      <td>224</td>\n",
       "      <td>218</td>\n",
       "      <td>198</td>\n",
       "      <td>205</td>\n",
       "      <td>267</td>\n",
       "      <td>252</td>\n",
       "      <td>236</td>\n",
       "      <td>258</td>\n",
       "      <td>207</td>\n",
       "    </tr>\n",
       "    <tr>\n",
       "      <th>8</th>\n",
       "      <td>Immigrants</td>\n",
       "      <td>Foreigners</td>\n",
       "      <td>Australia</td>\n",
       "      <td>909</td>\n",
       "      <td>Oceania</td>\n",
       "      <td>927</td>\n",
       "      <td>Australia and New Zealand</td>\n",
       "      <td>901</td>\n",
       "      <td>Developed regions</td>\n",
       "      <td>702</td>\n",
       "      <td>...</td>\n",
       "      <td>930</td>\n",
       "      <td>909</td>\n",
       "      <td>875</td>\n",
       "      <td>1033</td>\n",
       "      <td>1018</td>\n",
       "      <td>1018</td>\n",
       "      <td>933</td>\n",
       "      <td>851</td>\n",
       "      <td>982</td>\n",
       "      <td>1121</td>\n",
       "    </tr>\n",
       "    <tr>\n",
       "      <th>9</th>\n",
       "      <td>Immigrants</td>\n",
       "      <td>Foreigners</td>\n",
       "      <td>Austria</td>\n",
       "      <td>908</td>\n",
       "      <td>Europe</td>\n",
       "      <td>926</td>\n",
       "      <td>Western Europe</td>\n",
       "      <td>901</td>\n",
       "      <td>Developed regions</td>\n",
       "      <td>234</td>\n",
       "      <td>...</td>\n",
       "      <td>118</td>\n",
       "      <td>122</td>\n",
       "      <td>102</td>\n",
       "      <td>98</td>\n",
       "      <td>91</td>\n",
       "      <td>109</td>\n",
       "      <td>124</td>\n",
       "      <td>84</td>\n",
       "      <td>102</td>\n",
       "      <td>90</td>\n",
       "    </tr>\n",
       "  </tbody>\n",
       "</table>\n",
       "<p>10 rows × 43 columns</p>\n",
       "</div>"
      ],
      "text/plain": [
       "         Type    Coverage               OdName  AREA  \\\n",
       "0  Immigrants  Foreigners          Afghanistan   935   \n",
       "1  Immigrants  Foreigners              Albania   908   \n",
       "2  Immigrants  Foreigners       American Samoa   909   \n",
       "3  Immigrants  Foreigners              Andorra   908   \n",
       "4  Immigrants  Foreigners               Angola   903   \n",
       "5  Immigrants  Foreigners  Antigua and Barbuda   904   \n",
       "6  Immigrants  Foreigners            Argentina   904   \n",
       "7  Immigrants  Foreigners              Armenia   935   \n",
       "8  Immigrants  Foreigners            Australia   909   \n",
       "9  Immigrants  Foreigners              Austria   908   \n",
       "\n",
       "                          AreaName   REG                    RegName  DEV  \\\n",
       "0                             Asia  5501              Southern Asia  902   \n",
       "1                           Europe   925            Southern Europe  901   \n",
       "2                          Oceania   957                  Polynesia  902   \n",
       "3                           Europe   925            Southern Europe  901   \n",
       "4                           Africa   911              Middle Africa  902   \n",
       "5  Latin America and the Caribbean   915                  Caribbean  902   \n",
       "6  Latin America and the Caribbean   931              South America  902   \n",
       "7                             Asia   922               Western Asia  902   \n",
       "8                          Oceania   927  Australia and New Zealand  901   \n",
       "9                           Europe   926             Western Europe  901   \n",
       "\n",
       "              DevName  1980  ...  2004  2005  2006  2007  2008  2009  2010  \\\n",
       "0  Developing regions    16  ...  2978  3436  3009  2652  2111  1746  1758   \n",
       "1   Developed regions     1  ...  1450  1223   856   702   560   716   561   \n",
       "2  Developing regions     0  ...     0     0     1     0     0     0     0   \n",
       "3   Developed regions     0  ...     0     0     1     1     0     0     0   \n",
       "4  Developing regions     1  ...   268   295   184   106    76    62    61   \n",
       "5  Developing regions     0  ...    14    24    32    15    32    38    27   \n",
       "6  Developing regions   368  ...  1591  1153   847   620   540   467   459   \n",
       "7  Developing regions     0  ...   147   224   218   198   205   267   252   \n",
       "8   Developed regions   702  ...   930   909   875  1033  1018  1018   933   \n",
       "9   Developed regions   234  ...   118   122   102    98    91   109   124   \n",
       "\n",
       "   2011  2012  2013  \n",
       "0  2203  2635  2004  \n",
       "1   539   620   603  \n",
       "2     0     0     0  \n",
       "3     0     1     1  \n",
       "4    39    70    45  \n",
       "5    37    51    25  \n",
       "6   278   263   282  \n",
       "7   236   258   207  \n",
       "8   851   982  1121  \n",
       "9    84   102    90  \n",
       "\n",
       "[10 rows x 43 columns]"
      ]
     },
     "execution_count": 20,
     "metadata": {},
     "output_type": "execute_result"
    }
   ],
   "source": [
    "canada = pd.read_csv(\"mydata/canada1.csv\", delimiter = ';')\n",
    "canada.head(10)"
   ]
  },
  {
   "cell_type": "code",
   "execution_count": 21,
   "id": "1ad2a4cf",
   "metadata": {},
   "outputs": [
    {
     "data": {
      "text/html": [
       "<div>\n",
       "<style scoped>\n",
       "    .dataframe tbody tr th:only-of-type {\n",
       "        vertical-align: middle;\n",
       "    }\n",
       "\n",
       "    .dataframe tbody tr th {\n",
       "        vertical-align: top;\n",
       "    }\n",
       "\n",
       "    .dataframe thead th {\n",
       "        text-align: right;\n",
       "    }\n",
       "</style>\n",
       "<table border=\"1\" class=\"dataframe\">\n",
       "  <thead>\n",
       "    <tr style=\"text-align: right;\">\n",
       "      <th></th>\n",
       "      <th>OdName</th>\n",
       "      <th>1980</th>\n",
       "      <th>1981</th>\n",
       "      <th>1982</th>\n",
       "      <th>1983</th>\n",
       "      <th>1984</th>\n",
       "      <th>1985</th>\n",
       "      <th>1986</th>\n",
       "      <th>1987</th>\n",
       "      <th>1988</th>\n",
       "      <th>...</th>\n",
       "      <th>2004</th>\n",
       "      <th>2005</th>\n",
       "      <th>2006</th>\n",
       "      <th>2007</th>\n",
       "      <th>2008</th>\n",
       "      <th>2009</th>\n",
       "      <th>2010</th>\n",
       "      <th>2011</th>\n",
       "      <th>2012</th>\n",
       "      <th>2013</th>\n",
       "    </tr>\n",
       "  </thead>\n",
       "  <tbody>\n",
       "    <tr>\n",
       "      <th>0</th>\n",
       "      <td>Afghanistan</td>\n",
       "      <td>16</td>\n",
       "      <td>39</td>\n",
       "      <td>39</td>\n",
       "      <td>47</td>\n",
       "      <td>71</td>\n",
       "      <td>340</td>\n",
       "      <td>496</td>\n",
       "      <td>741</td>\n",
       "      <td>828</td>\n",
       "      <td>...</td>\n",
       "      <td>2978</td>\n",
       "      <td>3436</td>\n",
       "      <td>3009</td>\n",
       "      <td>2652</td>\n",
       "      <td>2111</td>\n",
       "      <td>1746</td>\n",
       "      <td>1758</td>\n",
       "      <td>2203</td>\n",
       "      <td>2635</td>\n",
       "      <td>2004</td>\n",
       "    </tr>\n",
       "    <tr>\n",
       "      <th>1</th>\n",
       "      <td>Albania</td>\n",
       "      <td>1</td>\n",
       "      <td>0</td>\n",
       "      <td>0</td>\n",
       "      <td>0</td>\n",
       "      <td>0</td>\n",
       "      <td>0</td>\n",
       "      <td>1</td>\n",
       "      <td>2</td>\n",
       "      <td>2</td>\n",
       "      <td>...</td>\n",
       "      <td>1450</td>\n",
       "      <td>1223</td>\n",
       "      <td>856</td>\n",
       "      <td>702</td>\n",
       "      <td>560</td>\n",
       "      <td>716</td>\n",
       "      <td>561</td>\n",
       "      <td>539</td>\n",
       "      <td>620</td>\n",
       "      <td>603</td>\n",
       "    </tr>\n",
       "    <tr>\n",
       "      <th>2</th>\n",
       "      <td>American Samoa</td>\n",
       "      <td>0</td>\n",
       "      <td>1</td>\n",
       "      <td>0</td>\n",
       "      <td>0</td>\n",
       "      <td>0</td>\n",
       "      <td>0</td>\n",
       "      <td>0</td>\n",
       "      <td>1</td>\n",
       "      <td>0</td>\n",
       "      <td>...</td>\n",
       "      <td>0</td>\n",
       "      <td>0</td>\n",
       "      <td>1</td>\n",
       "      <td>0</td>\n",
       "      <td>0</td>\n",
       "      <td>0</td>\n",
       "      <td>0</td>\n",
       "      <td>0</td>\n",
       "      <td>0</td>\n",
       "      <td>0</td>\n",
       "    </tr>\n",
       "    <tr>\n",
       "      <th>3</th>\n",
       "      <td>Andorra</td>\n",
       "      <td>0</td>\n",
       "      <td>0</td>\n",
       "      <td>0</td>\n",
       "      <td>0</td>\n",
       "      <td>0</td>\n",
       "      <td>0</td>\n",
       "      <td>2</td>\n",
       "      <td>0</td>\n",
       "      <td>0</td>\n",
       "      <td>...</td>\n",
       "      <td>0</td>\n",
       "      <td>0</td>\n",
       "      <td>1</td>\n",
       "      <td>1</td>\n",
       "      <td>0</td>\n",
       "      <td>0</td>\n",
       "      <td>0</td>\n",
       "      <td>0</td>\n",
       "      <td>1</td>\n",
       "      <td>1</td>\n",
       "    </tr>\n",
       "    <tr>\n",
       "      <th>4</th>\n",
       "      <td>Angola</td>\n",
       "      <td>1</td>\n",
       "      <td>3</td>\n",
       "      <td>6</td>\n",
       "      <td>6</td>\n",
       "      <td>4</td>\n",
       "      <td>3</td>\n",
       "      <td>5</td>\n",
       "      <td>5</td>\n",
       "      <td>11</td>\n",
       "      <td>...</td>\n",
       "      <td>268</td>\n",
       "      <td>295</td>\n",
       "      <td>184</td>\n",
       "      <td>106</td>\n",
       "      <td>76</td>\n",
       "      <td>62</td>\n",
       "      <td>61</td>\n",
       "      <td>39</td>\n",
       "      <td>70</td>\n",
       "      <td>45</td>\n",
       "    </tr>\n",
       "  </tbody>\n",
       "</table>\n",
       "<p>5 rows × 35 columns</p>\n",
       "</div>"
      ],
      "text/plain": [
       "           OdName  1980  1981  1982  1983  1984  1985  1986  1987  1988  ...  \\\n",
       "0     Afghanistan    16    39    39    47    71   340   496   741   828  ...   \n",
       "1         Albania     1     0     0     0     0     0     1     2     2  ...   \n",
       "2  American Samoa     0     1     0     0     0     0     0     1     0  ...   \n",
       "3         Andorra     0     0     0     0     0     0     2     0     0  ...   \n",
       "4          Angola     1     3     6     6     4     3     5     5    11  ...   \n",
       "\n",
       "   2004  2005  2006  2007  2008  2009  2010  2011  2012  2013  \n",
       "0  2978  3436  3009  2652  2111  1746  1758  2203  2635  2004  \n",
       "1  1450  1223   856   702   560   716   561   539   620   603  \n",
       "2     0     0     1     0     0     0     0     0     0     0  \n",
       "3     0     0     1     1     0     0     0     0     1     1  \n",
       "4   268   295   184   106    76    62    61    39    70    45  \n",
       "\n",
       "[5 rows x 35 columns]"
      ]
     },
     "execution_count": 21,
     "metadata": {},
     "output_type": "execute_result"
    }
   ],
   "source": [
    "canada = canada.drop(columns = ['AREA', 'DEV', 'DevName', 'REG', 'Type', 'Coverage', 'AreaName', 'RegName'])\n",
    "canada.head()"
   ]
  },
  {
   "cell_type": "code",
   "execution_count": 22,
   "id": "246206eb",
   "metadata": {},
   "outputs": [
    {
     "data": {
      "text/html": [
       "<div>\n",
       "<style scoped>\n",
       "    .dataframe tbody tr th:only-of-type {\n",
       "        vertical-align: middle;\n",
       "    }\n",
       "\n",
       "    .dataframe tbody tr th {\n",
       "        vertical-align: top;\n",
       "    }\n",
       "\n",
       "    .dataframe thead th {\n",
       "        text-align: right;\n",
       "    }\n",
       "</style>\n",
       "<table border=\"1\" class=\"dataframe\">\n",
       "  <thead>\n",
       "    <tr style=\"text-align: right;\">\n",
       "      <th></th>\n",
       "      <th>Country</th>\n",
       "      <th>1980</th>\n",
       "      <th>1981</th>\n",
       "      <th>1982</th>\n",
       "      <th>1983</th>\n",
       "      <th>1984</th>\n",
       "      <th>1985</th>\n",
       "      <th>1986</th>\n",
       "      <th>1987</th>\n",
       "      <th>1988</th>\n",
       "      <th>...</th>\n",
       "      <th>2004</th>\n",
       "      <th>2005</th>\n",
       "      <th>2006</th>\n",
       "      <th>2007</th>\n",
       "      <th>2008</th>\n",
       "      <th>2009</th>\n",
       "      <th>2010</th>\n",
       "      <th>2011</th>\n",
       "      <th>2012</th>\n",
       "      <th>2013</th>\n",
       "    </tr>\n",
       "    <tr>\n",
       "      <th>Country</th>\n",
       "      <th></th>\n",
       "      <th></th>\n",
       "      <th></th>\n",
       "      <th></th>\n",
       "      <th></th>\n",
       "      <th></th>\n",
       "      <th></th>\n",
       "      <th></th>\n",
       "      <th></th>\n",
       "      <th></th>\n",
       "      <th></th>\n",
       "      <th></th>\n",
       "      <th></th>\n",
       "      <th></th>\n",
       "      <th></th>\n",
       "      <th></th>\n",
       "      <th></th>\n",
       "      <th></th>\n",
       "      <th></th>\n",
       "      <th></th>\n",
       "      <th></th>\n",
       "    </tr>\n",
       "  </thead>\n",
       "  <tbody>\n",
       "    <tr>\n",
       "      <th>Afghanistan</th>\n",
       "      <td>Afghanistan</td>\n",
       "      <td>16</td>\n",
       "      <td>39</td>\n",
       "      <td>39</td>\n",
       "      <td>47</td>\n",
       "      <td>71</td>\n",
       "      <td>340</td>\n",
       "      <td>496</td>\n",
       "      <td>741</td>\n",
       "      <td>828</td>\n",
       "      <td>...</td>\n",
       "      <td>2978</td>\n",
       "      <td>3436</td>\n",
       "      <td>3009</td>\n",
       "      <td>2652</td>\n",
       "      <td>2111</td>\n",
       "      <td>1746</td>\n",
       "      <td>1758</td>\n",
       "      <td>2203</td>\n",
       "      <td>2635</td>\n",
       "      <td>2004</td>\n",
       "    </tr>\n",
       "    <tr>\n",
       "      <th>Albania</th>\n",
       "      <td>Albania</td>\n",
       "      <td>1</td>\n",
       "      <td>0</td>\n",
       "      <td>0</td>\n",
       "      <td>0</td>\n",
       "      <td>0</td>\n",
       "      <td>0</td>\n",
       "      <td>1</td>\n",
       "      <td>2</td>\n",
       "      <td>2</td>\n",
       "      <td>...</td>\n",
       "      <td>1450</td>\n",
       "      <td>1223</td>\n",
       "      <td>856</td>\n",
       "      <td>702</td>\n",
       "      <td>560</td>\n",
       "      <td>716</td>\n",
       "      <td>561</td>\n",
       "      <td>539</td>\n",
       "      <td>620</td>\n",
       "      <td>603</td>\n",
       "    </tr>\n",
       "    <tr>\n",
       "      <th>American Samoa</th>\n",
       "      <td>American Samoa</td>\n",
       "      <td>0</td>\n",
       "      <td>1</td>\n",
       "      <td>0</td>\n",
       "      <td>0</td>\n",
       "      <td>0</td>\n",
       "      <td>0</td>\n",
       "      <td>0</td>\n",
       "      <td>1</td>\n",
       "      <td>0</td>\n",
       "      <td>...</td>\n",
       "      <td>0</td>\n",
       "      <td>0</td>\n",
       "      <td>1</td>\n",
       "      <td>0</td>\n",
       "      <td>0</td>\n",
       "      <td>0</td>\n",
       "      <td>0</td>\n",
       "      <td>0</td>\n",
       "      <td>0</td>\n",
       "      <td>0</td>\n",
       "    </tr>\n",
       "    <tr>\n",
       "      <th>Andorra</th>\n",
       "      <td>Andorra</td>\n",
       "      <td>0</td>\n",
       "      <td>0</td>\n",
       "      <td>0</td>\n",
       "      <td>0</td>\n",
       "      <td>0</td>\n",
       "      <td>0</td>\n",
       "      <td>2</td>\n",
       "      <td>0</td>\n",
       "      <td>0</td>\n",
       "      <td>...</td>\n",
       "      <td>0</td>\n",
       "      <td>0</td>\n",
       "      <td>1</td>\n",
       "      <td>1</td>\n",
       "      <td>0</td>\n",
       "      <td>0</td>\n",
       "      <td>0</td>\n",
       "      <td>0</td>\n",
       "      <td>1</td>\n",
       "      <td>1</td>\n",
       "    </tr>\n",
       "    <tr>\n",
       "      <th>Angola</th>\n",
       "      <td>Angola</td>\n",
       "      <td>1</td>\n",
       "      <td>3</td>\n",
       "      <td>6</td>\n",
       "      <td>6</td>\n",
       "      <td>4</td>\n",
       "      <td>3</td>\n",
       "      <td>5</td>\n",
       "      <td>5</td>\n",
       "      <td>11</td>\n",
       "      <td>...</td>\n",
       "      <td>268</td>\n",
       "      <td>295</td>\n",
       "      <td>184</td>\n",
       "      <td>106</td>\n",
       "      <td>76</td>\n",
       "      <td>62</td>\n",
       "      <td>61</td>\n",
       "      <td>39</td>\n",
       "      <td>70</td>\n",
       "      <td>45</td>\n",
       "    </tr>\n",
       "  </tbody>\n",
       "</table>\n",
       "<p>5 rows × 35 columns</p>\n",
       "</div>"
      ],
      "text/plain": [
       "                       Country  1980  1981  1982  1983  1984  1985  1986  \\\n",
       "Country                                                                    \n",
       "Afghanistan        Afghanistan    16    39    39    47    71   340   496   \n",
       "Albania                Albania     1     0     0     0     0     0     1   \n",
       "American Samoa  American Samoa     0     1     0     0     0     0     0   \n",
       "Andorra                Andorra     0     0     0     0     0     0     2   \n",
       "Angola                  Angola     1     3     6     6     4     3     5   \n",
       "\n",
       "                1987  1988  ...  2004  2005  2006  2007  2008  2009  2010  \\\n",
       "Country                     ...                                             \n",
       "Afghanistan      741   828  ...  2978  3436  3009  2652  2111  1746  1758   \n",
       "Albania            2     2  ...  1450  1223   856   702   560   716   561   \n",
       "American Samoa     1     0  ...     0     0     1     0     0     0     0   \n",
       "Andorra            0     0  ...     0     0     1     1     0     0     0   \n",
       "Angola             5    11  ...   268   295   184   106    76    62    61   \n",
       "\n",
       "                2011  2012  2013  \n",
       "Country                           \n",
       "Afghanistan     2203  2635  2004  \n",
       "Albania          539   620   603  \n",
       "American Samoa     0     0     0  \n",
       "Andorra            0     1     1  \n",
       "Angola            39    70    45  \n",
       "\n",
       "[5 rows x 35 columns]"
      ]
     },
     "execution_count": 22,
     "metadata": {},
     "output_type": "execute_result"
    }
   ],
   "source": [
    "canada.rename(columns = {'OdName' : 'Country'}, inplace = True)\n",
    "canada.set_index(canada.Country, inplace = True)\n",
    "canada.head()"
   ]
  },
  {
   "cell_type": "code",
   "execution_count": 23,
   "id": "de78e9f6",
   "metadata": {},
   "outputs": [
    {
     "data": {
      "text/html": [
       "<div>\n",
       "<style scoped>\n",
       "    .dataframe tbody tr th:only-of-type {\n",
       "        vertical-align: middle;\n",
       "    }\n",
       "\n",
       "    .dataframe tbody tr th {\n",
       "        vertical-align: top;\n",
       "    }\n",
       "\n",
       "    .dataframe thead th {\n",
       "        text-align: right;\n",
       "    }\n",
       "</style>\n",
       "<table border=\"1\" class=\"dataframe\">\n",
       "  <thead>\n",
       "    <tr style=\"text-align: right;\">\n",
       "      <th></th>\n",
       "      <th>Country</th>\n",
       "      <th>1980</th>\n",
       "      <th>1981</th>\n",
       "      <th>1982</th>\n",
       "      <th>1983</th>\n",
       "      <th>1984</th>\n",
       "      <th>1985</th>\n",
       "      <th>1986</th>\n",
       "      <th>1987</th>\n",
       "      <th>1988</th>\n",
       "      <th>...</th>\n",
       "      <th>2004</th>\n",
       "      <th>2005</th>\n",
       "      <th>2006</th>\n",
       "      <th>2007</th>\n",
       "      <th>2008</th>\n",
       "      <th>2009</th>\n",
       "      <th>2010</th>\n",
       "      <th>2011</th>\n",
       "      <th>2012</th>\n",
       "      <th>2013</th>\n",
       "    </tr>\n",
       "  </thead>\n",
       "  <tbody>\n",
       "    <tr>\n",
       "      <th>Afghanistan</th>\n",
       "      <td>Afghanistan</td>\n",
       "      <td>16</td>\n",
       "      <td>39</td>\n",
       "      <td>39</td>\n",
       "      <td>47</td>\n",
       "      <td>71</td>\n",
       "      <td>340</td>\n",
       "      <td>496</td>\n",
       "      <td>741</td>\n",
       "      <td>828</td>\n",
       "      <td>...</td>\n",
       "      <td>2978</td>\n",
       "      <td>3436</td>\n",
       "      <td>3009</td>\n",
       "      <td>2652</td>\n",
       "      <td>2111</td>\n",
       "      <td>1746</td>\n",
       "      <td>1758</td>\n",
       "      <td>2203</td>\n",
       "      <td>2635</td>\n",
       "      <td>2004</td>\n",
       "    </tr>\n",
       "    <tr>\n",
       "      <th>Albania</th>\n",
       "      <td>Albania</td>\n",
       "      <td>1</td>\n",
       "      <td>0</td>\n",
       "      <td>0</td>\n",
       "      <td>0</td>\n",
       "      <td>0</td>\n",
       "      <td>0</td>\n",
       "      <td>1</td>\n",
       "      <td>2</td>\n",
       "      <td>2</td>\n",
       "      <td>...</td>\n",
       "      <td>1450</td>\n",
       "      <td>1223</td>\n",
       "      <td>856</td>\n",
       "      <td>702</td>\n",
       "      <td>560</td>\n",
       "      <td>716</td>\n",
       "      <td>561</td>\n",
       "      <td>539</td>\n",
       "      <td>620</td>\n",
       "      <td>603</td>\n",
       "    </tr>\n",
       "    <tr>\n",
       "      <th>American Samoa</th>\n",
       "      <td>American Samoa</td>\n",
       "      <td>0</td>\n",
       "      <td>1</td>\n",
       "      <td>0</td>\n",
       "      <td>0</td>\n",
       "      <td>0</td>\n",
       "      <td>0</td>\n",
       "      <td>0</td>\n",
       "      <td>1</td>\n",
       "      <td>0</td>\n",
       "      <td>...</td>\n",
       "      <td>0</td>\n",
       "      <td>0</td>\n",
       "      <td>1</td>\n",
       "      <td>0</td>\n",
       "      <td>0</td>\n",
       "      <td>0</td>\n",
       "      <td>0</td>\n",
       "      <td>0</td>\n",
       "      <td>0</td>\n",
       "      <td>0</td>\n",
       "    </tr>\n",
       "    <tr>\n",
       "      <th>Andorra</th>\n",
       "      <td>Andorra</td>\n",
       "      <td>0</td>\n",
       "      <td>0</td>\n",
       "      <td>0</td>\n",
       "      <td>0</td>\n",
       "      <td>0</td>\n",
       "      <td>0</td>\n",
       "      <td>2</td>\n",
       "      <td>0</td>\n",
       "      <td>0</td>\n",
       "      <td>...</td>\n",
       "      <td>0</td>\n",
       "      <td>0</td>\n",
       "      <td>1</td>\n",
       "      <td>1</td>\n",
       "      <td>0</td>\n",
       "      <td>0</td>\n",
       "      <td>0</td>\n",
       "      <td>0</td>\n",
       "      <td>1</td>\n",
       "      <td>1</td>\n",
       "    </tr>\n",
       "    <tr>\n",
       "      <th>Angola</th>\n",
       "      <td>Angola</td>\n",
       "      <td>1</td>\n",
       "      <td>3</td>\n",
       "      <td>6</td>\n",
       "      <td>6</td>\n",
       "      <td>4</td>\n",
       "      <td>3</td>\n",
       "      <td>5</td>\n",
       "      <td>5</td>\n",
       "      <td>11</td>\n",
       "      <td>...</td>\n",
       "      <td>268</td>\n",
       "      <td>295</td>\n",
       "      <td>184</td>\n",
       "      <td>106</td>\n",
       "      <td>76</td>\n",
       "      <td>62</td>\n",
       "      <td>61</td>\n",
       "      <td>39</td>\n",
       "      <td>70</td>\n",
       "      <td>45</td>\n",
       "    </tr>\n",
       "  </tbody>\n",
       "</table>\n",
       "<p>5 rows × 35 columns</p>\n",
       "</div>"
      ],
      "text/plain": [
       "                       Country  1980  1981  1982  1983  1984  1985  1986  \\\n",
       "Afghanistan        Afghanistan    16    39    39    47    71   340   496   \n",
       "Albania                Albania     1     0     0     0     0     0     1   \n",
       "American Samoa  American Samoa     0     1     0     0     0     0     0   \n",
       "Andorra                Andorra     0     0     0     0     0     0     2   \n",
       "Angola                  Angola     1     3     6     6     4     3     5   \n",
       "\n",
       "                1987  1988  ...  2004  2005  2006  2007  2008  2009  2010  \\\n",
       "Afghanistan      741   828  ...  2978  3436  3009  2652  2111  1746  1758   \n",
       "Albania            2     2  ...  1450  1223   856   702   560   716   561   \n",
       "American Samoa     1     0  ...     0     0     1     0     0     0     0   \n",
       "Andorra            0     0  ...     0     0     1     1     0     0     0   \n",
       "Angola             5    11  ...   268   295   184   106    76    62    61   \n",
       "\n",
       "                2011  2012  2013  \n",
       "Afghanistan     2203  2635  2004  \n",
       "Albania          539   620   603  \n",
       "American Samoa     0     0     0  \n",
       "Andorra            0     1     1  \n",
       "Angola            39    70    45  \n",
       "\n",
       "[5 rows x 35 columns]"
      ]
     },
     "execution_count": 23,
     "metadata": {},
     "output_type": "execute_result"
    }
   ],
   "source": [
    "canada.index.name = None\n",
    "canada.head()"
   ]
  },
  {
   "cell_type": "code",
   "execution_count": 24,
   "id": "061952f7",
   "metadata": {},
   "outputs": [
    {
     "data": {
      "text/html": [
       "<div>\n",
       "<style scoped>\n",
       "    .dataframe tbody tr th:only-of-type {\n",
       "        vertical-align: middle;\n",
       "    }\n",
       "\n",
       "    .dataframe tbody tr th {\n",
       "        vertical-align: top;\n",
       "    }\n",
       "\n",
       "    .dataframe thead th {\n",
       "        text-align: right;\n",
       "    }\n",
       "</style>\n",
       "<table border=\"1\" class=\"dataframe\">\n",
       "  <thead>\n",
       "    <tr style=\"text-align: right;\">\n",
       "      <th></th>\n",
       "      <th>1980</th>\n",
       "      <th>1981</th>\n",
       "      <th>1982</th>\n",
       "      <th>1983</th>\n",
       "      <th>1984</th>\n",
       "      <th>1985</th>\n",
       "      <th>1986</th>\n",
       "      <th>1987</th>\n",
       "      <th>1988</th>\n",
       "      <th>1989</th>\n",
       "      <th>...</th>\n",
       "      <th>2004</th>\n",
       "      <th>2005</th>\n",
       "      <th>2006</th>\n",
       "      <th>2007</th>\n",
       "      <th>2008</th>\n",
       "      <th>2009</th>\n",
       "      <th>2010</th>\n",
       "      <th>2011</th>\n",
       "      <th>2012</th>\n",
       "      <th>2013</th>\n",
       "    </tr>\n",
       "  </thead>\n",
       "  <tbody>\n",
       "    <tr>\n",
       "      <th>Afghanistan</th>\n",
       "      <td>16</td>\n",
       "      <td>39</td>\n",
       "      <td>39</td>\n",
       "      <td>47</td>\n",
       "      <td>71</td>\n",
       "      <td>340</td>\n",
       "      <td>496</td>\n",
       "      <td>741</td>\n",
       "      <td>828</td>\n",
       "      <td>1076</td>\n",
       "      <td>...</td>\n",
       "      <td>2978</td>\n",
       "      <td>3436</td>\n",
       "      <td>3009</td>\n",
       "      <td>2652</td>\n",
       "      <td>2111</td>\n",
       "      <td>1746</td>\n",
       "      <td>1758</td>\n",
       "      <td>2203</td>\n",
       "      <td>2635</td>\n",
       "      <td>2004</td>\n",
       "    </tr>\n",
       "    <tr>\n",
       "      <th>Albania</th>\n",
       "      <td>1</td>\n",
       "      <td>0</td>\n",
       "      <td>0</td>\n",
       "      <td>0</td>\n",
       "      <td>0</td>\n",
       "      <td>0</td>\n",
       "      <td>1</td>\n",
       "      <td>2</td>\n",
       "      <td>2</td>\n",
       "      <td>3</td>\n",
       "      <td>...</td>\n",
       "      <td>1450</td>\n",
       "      <td>1223</td>\n",
       "      <td>856</td>\n",
       "      <td>702</td>\n",
       "      <td>560</td>\n",
       "      <td>716</td>\n",
       "      <td>561</td>\n",
       "      <td>539</td>\n",
       "      <td>620</td>\n",
       "      <td>603</td>\n",
       "    </tr>\n",
       "    <tr>\n",
       "      <th>American Samoa</th>\n",
       "      <td>0</td>\n",
       "      <td>1</td>\n",
       "      <td>0</td>\n",
       "      <td>0</td>\n",
       "      <td>0</td>\n",
       "      <td>0</td>\n",
       "      <td>0</td>\n",
       "      <td>1</td>\n",
       "      <td>0</td>\n",
       "      <td>1</td>\n",
       "      <td>...</td>\n",
       "      <td>0</td>\n",
       "      <td>0</td>\n",
       "      <td>1</td>\n",
       "      <td>0</td>\n",
       "      <td>0</td>\n",
       "      <td>0</td>\n",
       "      <td>0</td>\n",
       "      <td>0</td>\n",
       "      <td>0</td>\n",
       "      <td>0</td>\n",
       "    </tr>\n",
       "    <tr>\n",
       "      <th>Andorra</th>\n",
       "      <td>0</td>\n",
       "      <td>0</td>\n",
       "      <td>0</td>\n",
       "      <td>0</td>\n",
       "      <td>0</td>\n",
       "      <td>0</td>\n",
       "      <td>2</td>\n",
       "      <td>0</td>\n",
       "      <td>0</td>\n",
       "      <td>0</td>\n",
       "      <td>...</td>\n",
       "      <td>0</td>\n",
       "      <td>0</td>\n",
       "      <td>1</td>\n",
       "      <td>1</td>\n",
       "      <td>0</td>\n",
       "      <td>0</td>\n",
       "      <td>0</td>\n",
       "      <td>0</td>\n",
       "      <td>1</td>\n",
       "      <td>1</td>\n",
       "    </tr>\n",
       "    <tr>\n",
       "      <th>Angola</th>\n",
       "      <td>1</td>\n",
       "      <td>3</td>\n",
       "      <td>6</td>\n",
       "      <td>6</td>\n",
       "      <td>4</td>\n",
       "      <td>3</td>\n",
       "      <td>5</td>\n",
       "      <td>5</td>\n",
       "      <td>11</td>\n",
       "      <td>6</td>\n",
       "      <td>...</td>\n",
       "      <td>268</td>\n",
       "      <td>295</td>\n",
       "      <td>184</td>\n",
       "      <td>106</td>\n",
       "      <td>76</td>\n",
       "      <td>62</td>\n",
       "      <td>61</td>\n",
       "      <td>39</td>\n",
       "      <td>70</td>\n",
       "      <td>45</td>\n",
       "    </tr>\n",
       "  </tbody>\n",
       "</table>\n",
       "<p>5 rows × 34 columns</p>\n",
       "</div>"
      ],
      "text/plain": [
       "                1980  1981  1982  1983  1984  1985  1986  1987  1988  1989  \\\n",
       "Afghanistan       16    39    39    47    71   340   496   741   828  1076   \n",
       "Albania            1     0     0     0     0     0     1     2     2     3   \n",
       "American Samoa     0     1     0     0     0     0     0     1     0     1   \n",
       "Andorra            0     0     0     0     0     0     2     0     0     0   \n",
       "Angola             1     3     6     6     4     3     5     5    11     6   \n",
       "\n",
       "                ...  2004  2005  2006  2007  2008  2009  2010  2011  2012  \\\n",
       "Afghanistan     ...  2978  3436  3009  2652  2111  1746  1758  2203  2635   \n",
       "Albania         ...  1450  1223   856   702   560   716   561   539   620   \n",
       "American Samoa  ...     0     0     1     0     0     0     0     0     0   \n",
       "Andorra         ...     0     0     1     1     0     0     0     0     1   \n",
       "Angola          ...   268   295   184   106    76    62    61    39    70   \n",
       "\n",
       "                2013  \n",
       "Afghanistan     2004  \n",
       "Albania          603  \n",
       "American Samoa     0  \n",
       "Andorra            1  \n",
       "Angola            45  \n",
       "\n",
       "[5 rows x 34 columns]"
      ]
     },
     "execution_count": 24,
     "metadata": {},
     "output_type": "execute_result"
    }
   ],
   "source": [
    "del canada['Country']\n",
    "canada.head()"
   ]
  },
  {
   "cell_type": "code",
   "execution_count": 25,
   "id": "f68a95d7",
   "metadata": {},
   "outputs": [
    {
     "data": {
      "text/html": [
       "<div>\n",
       "<style scoped>\n",
       "    .dataframe tbody tr th:only-of-type {\n",
       "        vertical-align: middle;\n",
       "    }\n",
       "\n",
       "    .dataframe tbody tr th {\n",
       "        vertical-align: top;\n",
       "    }\n",
       "\n",
       "    .dataframe thead th {\n",
       "        text-align: right;\n",
       "    }\n",
       "</style>\n",
       "<table border=\"1\" class=\"dataframe\">\n",
       "  <thead>\n",
       "    <tr style=\"text-align: right;\">\n",
       "      <th></th>\n",
       "      <th>Afghanistan</th>\n",
       "      <th>Albania</th>\n",
       "      <th>American Samoa</th>\n",
       "      <th>Andorra</th>\n",
       "      <th>Angola</th>\n",
       "      <th>Antigua and Barbuda</th>\n",
       "      <th>Argentina</th>\n",
       "      <th>Armenia</th>\n",
       "      <th>Australia</th>\n",
       "      <th>Austria</th>\n",
       "      <th>...</th>\n",
       "      <th>Uruguay</th>\n",
       "      <th>Uzbekistan</th>\n",
       "      <th>Vanuatu</th>\n",
       "      <th>Venezuela (Bolivarian Republic of)</th>\n",
       "      <th>Viet Nam</th>\n",
       "      <th>Western Sahara</th>\n",
       "      <th>Yemen</th>\n",
       "      <th>Zambia</th>\n",
       "      <th>Zimbabwe</th>\n",
       "      <th>Unknown</th>\n",
       "    </tr>\n",
       "  </thead>\n",
       "  <tbody>\n",
       "    <tr>\n",
       "      <th>1980</th>\n",
       "      <td>16</td>\n",
       "      <td>1</td>\n",
       "      <td>0</td>\n",
       "      <td>0</td>\n",
       "      <td>1</td>\n",
       "      <td>0</td>\n",
       "      <td>368</td>\n",
       "      <td>0</td>\n",
       "      <td>702</td>\n",
       "      <td>234</td>\n",
       "      <td>...</td>\n",
       "      <td>128</td>\n",
       "      <td>0</td>\n",
       "      <td>0</td>\n",
       "      <td>103</td>\n",
       "      <td>1191</td>\n",
       "      <td>0</td>\n",
       "      <td>1</td>\n",
       "      <td>11</td>\n",
       "      <td>72</td>\n",
       "      <td>44000</td>\n",
       "    </tr>\n",
       "    <tr>\n",
       "      <th>1981</th>\n",
       "      <td>39</td>\n",
       "      <td>0</td>\n",
       "      <td>1</td>\n",
       "      <td>0</td>\n",
       "      <td>3</td>\n",
       "      <td>0</td>\n",
       "      <td>426</td>\n",
       "      <td>0</td>\n",
       "      <td>639</td>\n",
       "      <td>238</td>\n",
       "      <td>...</td>\n",
       "      <td>132</td>\n",
       "      <td>0</td>\n",
       "      <td>0</td>\n",
       "      <td>117</td>\n",
       "      <td>1829</td>\n",
       "      <td>0</td>\n",
       "      <td>2</td>\n",
       "      <td>17</td>\n",
       "      <td>114</td>\n",
       "      <td>18078</td>\n",
       "    </tr>\n",
       "    <tr>\n",
       "      <th>1982</th>\n",
       "      <td>39</td>\n",
       "      <td>0</td>\n",
       "      <td>0</td>\n",
       "      <td>0</td>\n",
       "      <td>6</td>\n",
       "      <td>0</td>\n",
       "      <td>626</td>\n",
       "      <td>0</td>\n",
       "      <td>484</td>\n",
       "      <td>201</td>\n",
       "      <td>...</td>\n",
       "      <td>146</td>\n",
       "      <td>0</td>\n",
       "      <td>0</td>\n",
       "      <td>174</td>\n",
       "      <td>2162</td>\n",
       "      <td>0</td>\n",
       "      <td>1</td>\n",
       "      <td>11</td>\n",
       "      <td>102</td>\n",
       "      <td>16904</td>\n",
       "    </tr>\n",
       "    <tr>\n",
       "      <th>1983</th>\n",
       "      <td>47</td>\n",
       "      <td>0</td>\n",
       "      <td>0</td>\n",
       "      <td>0</td>\n",
       "      <td>6</td>\n",
       "      <td>0</td>\n",
       "      <td>241</td>\n",
       "      <td>0</td>\n",
       "      <td>317</td>\n",
       "      <td>117</td>\n",
       "      <td>...</td>\n",
       "      <td>105</td>\n",
       "      <td>0</td>\n",
       "      <td>0</td>\n",
       "      <td>124</td>\n",
       "      <td>3404</td>\n",
       "      <td>0</td>\n",
       "      <td>6</td>\n",
       "      <td>7</td>\n",
       "      <td>44</td>\n",
       "      <td>13635</td>\n",
       "    </tr>\n",
       "    <tr>\n",
       "      <th>1984</th>\n",
       "      <td>71</td>\n",
       "      <td>0</td>\n",
       "      <td>0</td>\n",
       "      <td>0</td>\n",
       "      <td>4</td>\n",
       "      <td>42</td>\n",
       "      <td>237</td>\n",
       "      <td>0</td>\n",
       "      <td>317</td>\n",
       "      <td>127</td>\n",
       "      <td>...</td>\n",
       "      <td>90</td>\n",
       "      <td>0</td>\n",
       "      <td>0</td>\n",
       "      <td>142</td>\n",
       "      <td>7583</td>\n",
       "      <td>0</td>\n",
       "      <td>0</td>\n",
       "      <td>16</td>\n",
       "      <td>32</td>\n",
       "      <td>14855</td>\n",
       "    </tr>\n",
       "  </tbody>\n",
       "</table>\n",
       "<p>5 rows × 178 columns</p>\n",
       "</div>"
      ],
      "text/plain": [
       "      Afghanistan  Albania  American Samoa  Andorra  Angola  \\\n",
       "1980           16        1               0        0       1   \n",
       "1981           39        0               1        0       3   \n",
       "1982           39        0               0        0       6   \n",
       "1983           47        0               0        0       6   \n",
       "1984           71        0               0        0       4   \n",
       "\n",
       "      Antigua and Barbuda  Argentina  Armenia  Australia  Austria  ...  \\\n",
       "1980                    0        368        0        702      234  ...   \n",
       "1981                    0        426        0        639      238  ...   \n",
       "1982                    0        626        0        484      201  ...   \n",
       "1983                    0        241        0        317      117  ...   \n",
       "1984                   42        237        0        317      127  ...   \n",
       "\n",
       "      Uruguay  Uzbekistan  Vanuatu  Venezuela (Bolivarian Republic of)  \\\n",
       "1980      128           0        0                                 103   \n",
       "1981      132           0        0                                 117   \n",
       "1982      146           0        0                                 174   \n",
       "1983      105           0        0                                 124   \n",
       "1984       90           0        0                                 142   \n",
       "\n",
       "      Viet Nam  Western Sahara  Yemen  Zambia  Zimbabwe  Unknown  \n",
       "1980      1191               0      1      11        72    44000  \n",
       "1981      1829               0      2      17       114    18078  \n",
       "1982      2162               0      1      11       102    16904  \n",
       "1983      3404               0      6       7        44    13635  \n",
       "1984      7583               0      0      16        32    14855  \n",
       "\n",
       "[5 rows x 178 columns]"
      ]
     },
     "execution_count": 25,
     "metadata": {},
     "output_type": "execute_result"
    }
   ],
   "source": [
    "canada = canada.transpose()\n",
    "canada.head()"
   ]
  },
  {
   "cell_type": "code",
   "execution_count": 29,
   "id": "ae3b430b",
   "metadata": {},
   "outputs": [
    {
     "data": {
      "application/vnd.plotly.v1+json": {
       "config": {
        "linkText": "Export to plot.ly",
        "plotlyServerURL": "https://plot.ly",
        "showLink": false
       },
       "data": [
        {
         "mode": "lines",
         "name": "China",
         "type": "scatter",
         "x": [
          "1980",
          "1981",
          "1982",
          "1983",
          "1984",
          "1985",
          "1986",
          "1987",
          "1988",
          "1989",
          "1990",
          "1991",
          "1992",
          "1993",
          "1994",
          "1995",
          "1996",
          "1997",
          "1998",
          "1999",
          "2000",
          "2001",
          "2002",
          "2003",
          "2004",
          "2005",
          "2006",
          "2007",
          "2008",
          "2009",
          "2010",
          "2011",
          "2012",
          "2013"
         ],
         "y": [
          0,
          0,
          0,
          0,
          0,
          0,
          0,
          0,
          0,
          0,
          0,
          0,
          0,
          0,
          0,
          0,
          0,
          0,
          0,
          0,
          1,
          15,
          28,
          21,
          21,
          21,
          32,
          16,
          12,
          21,
          21,
          13,
          33,
          29
         ]
        },
        {
         "mode": "lines",
         "name": "Australia",
         "type": "scatter",
         "x": [
          "1980",
          "1981",
          "1982",
          "1983",
          "1984",
          "1985",
          "1986",
          "1987",
          "1988",
          "1989",
          "1990",
          "1991",
          "1992",
          "1993",
          "1994",
          "1995",
          "1996",
          "1997",
          "1998",
          "1999",
          "2000",
          "2001",
          "2002",
          "2003",
          "2004",
          "2005",
          "2006",
          "2007",
          "2008",
          "2009",
          "2010",
          "2011",
          "2012",
          "2013"
         ],
         "y": [
          702,
          639,
          484,
          317,
          317,
          319,
          356,
          467,
          410,
          553,
          620,
          640,
          734,
          886,
          702,
          668,
          699,
          623,
          479,
          523,
          599,
          799,
          747,
          876,
          930,
          909,
          875,
          1033,
          1018,
          1018,
          933,
          851,
          982,
          1121
         ]
        },
        {
         "mode": "lines",
         "name": "Turkey",
         "type": "scatter",
         "x": [
          "1980",
          "1981",
          "1982",
          "1983",
          "1984",
          "1985",
          "1986",
          "1987",
          "1988",
          "1989",
          "1990",
          "1991",
          "1992",
          "1993",
          "1994",
          "1995",
          "1996",
          "1997",
          "1998",
          "1999",
          "2000",
          "2001",
          "2002",
          "2003",
          "2004",
          "2005",
          "2006",
          "2007",
          "2008",
          "2009",
          "2010",
          "2011",
          "2012",
          "2013"
         ],
         "y": [
          481,
          874,
          706,
          280,
          338,
          202,
          257,
          397,
          346,
          488,
          767,
          941,
          1116,
          1316,
          908,
          732,
          638,
          679,
          777,
          806,
          1101,
          1184,
          1301,
          1338,
          1736,
          2065,
          1638,
          1463,
          1122,
          1238,
          1492,
          1257,
          1068,
          729
         ]
        }
       ],
       "layout": {
        "template": {
         "data": {
          "bar": [
           {
            "error_x": {
             "color": "#2a3f5f"
            },
            "error_y": {
             "color": "#2a3f5f"
            },
            "marker": {
             "line": {
              "color": "#E5ECF6",
              "width": 0.5
             },
             "pattern": {
              "fillmode": "overlay",
              "size": 10,
              "solidity": 0.2
             }
            },
            "type": "bar"
           }
          ],
          "barpolar": [
           {
            "marker": {
             "line": {
              "color": "#E5ECF6",
              "width": 0.5
             },
             "pattern": {
              "fillmode": "overlay",
              "size": 10,
              "solidity": 0.2
             }
            },
            "type": "barpolar"
           }
          ],
          "carpet": [
           {
            "aaxis": {
             "endlinecolor": "#2a3f5f",
             "gridcolor": "white",
             "linecolor": "white",
             "minorgridcolor": "white",
             "startlinecolor": "#2a3f5f"
            },
            "baxis": {
             "endlinecolor": "#2a3f5f",
             "gridcolor": "white",
             "linecolor": "white",
             "minorgridcolor": "white",
             "startlinecolor": "#2a3f5f"
            },
            "type": "carpet"
           }
          ],
          "choropleth": [
           {
            "colorbar": {
             "outlinewidth": 0,
             "ticks": ""
            },
            "type": "choropleth"
           }
          ],
          "contour": [
           {
            "colorbar": {
             "outlinewidth": 0,
             "ticks": ""
            },
            "colorscale": [
             [
              0,
              "#0d0887"
             ],
             [
              0.1111111111111111,
              "#46039f"
             ],
             [
              0.2222222222222222,
              "#7201a8"
             ],
             [
              0.3333333333333333,
              "#9c179e"
             ],
             [
              0.4444444444444444,
              "#bd3786"
             ],
             [
              0.5555555555555556,
              "#d8576b"
             ],
             [
              0.6666666666666666,
              "#ed7953"
             ],
             [
              0.7777777777777778,
              "#fb9f3a"
             ],
             [
              0.8888888888888888,
              "#fdca26"
             ],
             [
              1,
              "#f0f921"
             ]
            ],
            "type": "contour"
           }
          ],
          "contourcarpet": [
           {
            "colorbar": {
             "outlinewidth": 0,
             "ticks": ""
            },
            "type": "contourcarpet"
           }
          ],
          "heatmap": [
           {
            "colorbar": {
             "outlinewidth": 0,
             "ticks": ""
            },
            "colorscale": [
             [
              0,
              "#0d0887"
             ],
             [
              0.1111111111111111,
              "#46039f"
             ],
             [
              0.2222222222222222,
              "#7201a8"
             ],
             [
              0.3333333333333333,
              "#9c179e"
             ],
             [
              0.4444444444444444,
              "#bd3786"
             ],
             [
              0.5555555555555556,
              "#d8576b"
             ],
             [
              0.6666666666666666,
              "#ed7953"
             ],
             [
              0.7777777777777778,
              "#fb9f3a"
             ],
             [
              0.8888888888888888,
              "#fdca26"
             ],
             [
              1,
              "#f0f921"
             ]
            ],
            "type": "heatmap"
           }
          ],
          "heatmapgl": [
           {
            "colorbar": {
             "outlinewidth": 0,
             "ticks": ""
            },
            "colorscale": [
             [
              0,
              "#0d0887"
             ],
             [
              0.1111111111111111,
              "#46039f"
             ],
             [
              0.2222222222222222,
              "#7201a8"
             ],
             [
              0.3333333333333333,
              "#9c179e"
             ],
             [
              0.4444444444444444,
              "#bd3786"
             ],
             [
              0.5555555555555556,
              "#d8576b"
             ],
             [
              0.6666666666666666,
              "#ed7953"
             ],
             [
              0.7777777777777778,
              "#fb9f3a"
             ],
             [
              0.8888888888888888,
              "#fdca26"
             ],
             [
              1,
              "#f0f921"
             ]
            ],
            "type": "heatmapgl"
           }
          ],
          "histogram": [
           {
            "marker": {
             "pattern": {
              "fillmode": "overlay",
              "size": 10,
              "solidity": 0.2
             }
            },
            "type": "histogram"
           }
          ],
          "histogram2d": [
           {
            "colorbar": {
             "outlinewidth": 0,
             "ticks": ""
            },
            "colorscale": [
             [
              0,
              "#0d0887"
             ],
             [
              0.1111111111111111,
              "#46039f"
             ],
             [
              0.2222222222222222,
              "#7201a8"
             ],
             [
              0.3333333333333333,
              "#9c179e"
             ],
             [
              0.4444444444444444,
              "#bd3786"
             ],
             [
              0.5555555555555556,
              "#d8576b"
             ],
             [
              0.6666666666666666,
              "#ed7953"
             ],
             [
              0.7777777777777778,
              "#fb9f3a"
             ],
             [
              0.8888888888888888,
              "#fdca26"
             ],
             [
              1,
              "#f0f921"
             ]
            ],
            "type": "histogram2d"
           }
          ],
          "histogram2dcontour": [
           {
            "colorbar": {
             "outlinewidth": 0,
             "ticks": ""
            },
            "colorscale": [
             [
              0,
              "#0d0887"
             ],
             [
              0.1111111111111111,
              "#46039f"
             ],
             [
              0.2222222222222222,
              "#7201a8"
             ],
             [
              0.3333333333333333,
              "#9c179e"
             ],
             [
              0.4444444444444444,
              "#bd3786"
             ],
             [
              0.5555555555555556,
              "#d8576b"
             ],
             [
              0.6666666666666666,
              "#ed7953"
             ],
             [
              0.7777777777777778,
              "#fb9f3a"
             ],
             [
              0.8888888888888888,
              "#fdca26"
             ],
             [
              1,
              "#f0f921"
             ]
            ],
            "type": "histogram2dcontour"
           }
          ],
          "mesh3d": [
           {
            "colorbar": {
             "outlinewidth": 0,
             "ticks": ""
            },
            "type": "mesh3d"
           }
          ],
          "parcoords": [
           {
            "line": {
             "colorbar": {
              "outlinewidth": 0,
              "ticks": ""
             }
            },
            "type": "parcoords"
           }
          ],
          "pie": [
           {
            "automargin": true,
            "type": "pie"
           }
          ],
          "scatter": [
           {
            "fillpattern": {
             "fillmode": "overlay",
             "size": 10,
             "solidity": 0.2
            },
            "type": "scatter"
           }
          ],
          "scatter3d": [
           {
            "line": {
             "colorbar": {
              "outlinewidth": 0,
              "ticks": ""
             }
            },
            "marker": {
             "colorbar": {
              "outlinewidth": 0,
              "ticks": ""
             }
            },
            "type": "scatter3d"
           }
          ],
          "scattercarpet": [
           {
            "marker": {
             "colorbar": {
              "outlinewidth": 0,
              "ticks": ""
             }
            },
            "type": "scattercarpet"
           }
          ],
          "scattergeo": [
           {
            "marker": {
             "colorbar": {
              "outlinewidth": 0,
              "ticks": ""
             }
            },
            "type": "scattergeo"
           }
          ],
          "scattergl": [
           {
            "marker": {
             "colorbar": {
              "outlinewidth": 0,
              "ticks": ""
             }
            },
            "type": "scattergl"
           }
          ],
          "scattermapbox": [
           {
            "marker": {
             "colorbar": {
              "outlinewidth": 0,
              "ticks": ""
             }
            },
            "type": "scattermapbox"
           }
          ],
          "scatterpolar": [
           {
            "marker": {
             "colorbar": {
              "outlinewidth": 0,
              "ticks": ""
             }
            },
            "type": "scatterpolar"
           }
          ],
          "scatterpolargl": [
           {
            "marker": {
             "colorbar": {
              "outlinewidth": 0,
              "ticks": ""
             }
            },
            "type": "scatterpolargl"
           }
          ],
          "scatterternary": [
           {
            "marker": {
             "colorbar": {
              "outlinewidth": 0,
              "ticks": ""
             }
            },
            "type": "scatterternary"
           }
          ],
          "surface": [
           {
            "colorbar": {
             "outlinewidth": 0,
             "ticks": ""
            },
            "colorscale": [
             [
              0,
              "#0d0887"
             ],
             [
              0.1111111111111111,
              "#46039f"
             ],
             [
              0.2222222222222222,
              "#7201a8"
             ],
             [
              0.3333333333333333,
              "#9c179e"
             ],
             [
              0.4444444444444444,
              "#bd3786"
             ],
             [
              0.5555555555555556,
              "#d8576b"
             ],
             [
              0.6666666666666666,
              "#ed7953"
             ],
             [
              0.7777777777777778,
              "#fb9f3a"
             ],
             [
              0.8888888888888888,
              "#fdca26"
             ],
             [
              1,
              "#f0f921"
             ]
            ],
            "type": "surface"
           }
          ],
          "table": [
           {
            "cells": {
             "fill": {
              "color": "#EBF0F8"
             },
             "line": {
              "color": "white"
             }
            },
            "header": {
             "fill": {
              "color": "#C8D4E3"
             },
             "line": {
              "color": "white"
             }
            },
            "type": "table"
           }
          ]
         },
         "layout": {
          "annotationdefaults": {
           "arrowcolor": "#2a3f5f",
           "arrowhead": 0,
           "arrowwidth": 1
          },
          "autotypenumbers": "strict",
          "coloraxis": {
           "colorbar": {
            "outlinewidth": 0,
            "ticks": ""
           }
          },
          "colorscale": {
           "diverging": [
            [
             0,
             "#8e0152"
            ],
            [
             0.1,
             "#c51b7d"
            ],
            [
             0.2,
             "#de77ae"
            ],
            [
             0.3,
             "#f1b6da"
            ],
            [
             0.4,
             "#fde0ef"
            ],
            [
             0.5,
             "#f7f7f7"
            ],
            [
             0.6,
             "#e6f5d0"
            ],
            [
             0.7,
             "#b8e186"
            ],
            [
             0.8,
             "#7fbc41"
            ],
            [
             0.9,
             "#4d9221"
            ],
            [
             1,
             "#276419"
            ]
           ],
           "sequential": [
            [
             0,
             "#0d0887"
            ],
            [
             0.1111111111111111,
             "#46039f"
            ],
            [
             0.2222222222222222,
             "#7201a8"
            ],
            [
             0.3333333333333333,
             "#9c179e"
            ],
            [
             0.4444444444444444,
             "#bd3786"
            ],
            [
             0.5555555555555556,
             "#d8576b"
            ],
            [
             0.6666666666666666,
             "#ed7953"
            ],
            [
             0.7777777777777778,
             "#fb9f3a"
            ],
            [
             0.8888888888888888,
             "#fdca26"
            ],
            [
             1,
             "#f0f921"
            ]
           ],
           "sequentialminus": [
            [
             0,
             "#0d0887"
            ],
            [
             0.1111111111111111,
             "#46039f"
            ],
            [
             0.2222222222222222,
             "#7201a8"
            ],
            [
             0.3333333333333333,
             "#9c179e"
            ],
            [
             0.4444444444444444,
             "#bd3786"
            ],
            [
             0.5555555555555556,
             "#d8576b"
            ],
            [
             0.6666666666666666,
             "#ed7953"
            ],
            [
             0.7777777777777778,
             "#fb9f3a"
            ],
            [
             0.8888888888888888,
             "#fdca26"
            ],
            [
             1,
             "#f0f921"
            ]
           ]
          },
          "colorway": [
           "#636efa",
           "#EF553B",
           "#00cc96",
           "#ab63fa",
           "#FFA15A",
           "#19d3f3",
           "#FF6692",
           "#B6E880",
           "#FF97FF",
           "#FECB52"
          ],
          "font": {
           "color": "#2a3f5f"
          },
          "geo": {
           "bgcolor": "white",
           "lakecolor": "white",
           "landcolor": "#E5ECF6",
           "showlakes": true,
           "showland": true,
           "subunitcolor": "white"
          },
          "hoverlabel": {
           "align": "left"
          },
          "hovermode": "closest",
          "mapbox": {
           "style": "light"
          },
          "paper_bgcolor": "white",
          "plot_bgcolor": "#E5ECF6",
          "polar": {
           "angularaxis": {
            "gridcolor": "white",
            "linecolor": "white",
            "ticks": ""
           },
           "bgcolor": "#E5ECF6",
           "radialaxis": {
            "gridcolor": "white",
            "linecolor": "white",
            "ticks": ""
           }
          },
          "scene": {
           "xaxis": {
            "backgroundcolor": "#E5ECF6",
            "gridcolor": "white",
            "gridwidth": 2,
            "linecolor": "white",
            "showbackground": true,
            "ticks": "",
            "zerolinecolor": "white"
           },
           "yaxis": {
            "backgroundcolor": "#E5ECF6",
            "gridcolor": "white",
            "gridwidth": 2,
            "linecolor": "white",
            "showbackground": true,
            "ticks": "",
            "zerolinecolor": "white"
           },
           "zaxis": {
            "backgroundcolor": "#E5ECF6",
            "gridcolor": "white",
            "gridwidth": 2,
            "linecolor": "white",
            "showbackground": true,
            "ticks": "",
            "zerolinecolor": "white"
           }
          },
          "shapedefaults": {
           "line": {
            "color": "#2a3f5f"
           }
          },
          "ternary": {
           "aaxis": {
            "gridcolor": "white",
            "linecolor": "white",
            "ticks": ""
           },
           "baxis": {
            "gridcolor": "white",
            "linecolor": "white",
            "ticks": ""
           },
           "bgcolor": "#E5ECF6",
           "caxis": {
            "gridcolor": "white",
            "linecolor": "white",
            "ticks": ""
           }
          },
          "title": {
           "x": 0.05
          },
          "xaxis": {
           "automargin": true,
           "gridcolor": "white",
           "linecolor": "white",
           "ticks": "",
           "title": {
            "standoff": 15
           },
           "zerolinecolor": "white",
           "zerolinewidth": 2
          },
          "yaxis": {
           "automargin": true,
           "gridcolor": "white",
           "linecolor": "white",
           "ticks": "",
           "title": {
            "standoff": 15
           },
           "zerolinecolor": "white",
           "zerolinewidth": 2
          }
         }
        },
        "title": {
         "text": "Immigrants"
        },
        "xaxis": {
         "showgrid": false,
         "showline": false,
         "title": {
          "text": "Year"
         }
        },
        "yaxis": {
         "showgrid": false,
         "showline": false,
         "title": {
          "text": "Number of Immigrants"
         }
        }
       }
      },
      "text/html": [
       "<div>                            <div id=\"93eb4679-610d-43b8-a097-36fe46cb53d9\" class=\"plotly-graph-div\" style=\"height:525px; width:100%;\"></div>            <script type=\"text/javascript\">                require([\"plotly\"], function(Plotly) {                    window.PLOTLYENV=window.PLOTLYENV || {};                                    if (document.getElementById(\"93eb4679-610d-43b8-a097-36fe46cb53d9\")) {                    Plotly.newPlot(                        \"93eb4679-610d-43b8-a097-36fe46cb53d9\",                        [{\"mode\":\"lines\",\"name\":\"China\",\"x\":[\"1980\",\"1981\",\"1982\",\"1983\",\"1984\",\"1985\",\"1986\",\"1987\",\"1988\",\"1989\",\"1990\",\"1991\",\"1992\",\"1993\",\"1994\",\"1995\",\"1996\",\"1997\",\"1998\",\"1999\",\"2000\",\"2001\",\"2002\",\"2003\",\"2004\",\"2005\",\"2006\",\"2007\",\"2008\",\"2009\",\"2010\",\"2011\",\"2012\",\"2013\"],\"y\":[0,0,0,0,0,0,0,0,0,0,0,0,0,0,0,0,0,0,0,0,1,15,28,21,21,21,32,16,12,21,21,13,33,29],\"type\":\"scatter\"},{\"mode\":\"lines\",\"name\":\"Australia\",\"x\":[\"1980\",\"1981\",\"1982\",\"1983\",\"1984\",\"1985\",\"1986\",\"1987\",\"1988\",\"1989\",\"1990\",\"1991\",\"1992\",\"1993\",\"1994\",\"1995\",\"1996\",\"1997\",\"1998\",\"1999\",\"2000\",\"2001\",\"2002\",\"2003\",\"2004\",\"2005\",\"2006\",\"2007\",\"2008\",\"2009\",\"2010\",\"2011\",\"2012\",\"2013\"],\"y\":[702,639,484,317,317,319,356,467,410,553,620,640,734,886,702,668,699,623,479,523,599,799,747,876,930,909,875,1033,1018,1018,933,851,982,1121],\"type\":\"scatter\"},{\"mode\":\"lines\",\"name\":\"Turkey\",\"x\":[\"1980\",\"1981\",\"1982\",\"1983\",\"1984\",\"1985\",\"1986\",\"1987\",\"1988\",\"1989\",\"1990\",\"1991\",\"1992\",\"1993\",\"1994\",\"1995\",\"1996\",\"1997\",\"1998\",\"1999\",\"2000\",\"2001\",\"2002\",\"2003\",\"2004\",\"2005\",\"2006\",\"2007\",\"2008\",\"2009\",\"2010\",\"2011\",\"2012\",\"2013\"],\"y\":[481,874,706,280,338,202,257,397,346,488,767,941,1116,1316,908,732,638,679,777,806,1101,1184,1301,1338,1736,2065,1638,1463,1122,1238,1492,1257,1068,729],\"type\":\"scatter\"}],                        {\"template\":{\"data\":{\"barpolar\":[{\"marker\":{\"line\":{\"color\":\"#E5ECF6\",\"width\":0.5},\"pattern\":{\"fillmode\":\"overlay\",\"size\":10,\"solidity\":0.2}},\"type\":\"barpolar\"}],\"bar\":[{\"error_x\":{\"color\":\"#2a3f5f\"},\"error_y\":{\"color\":\"#2a3f5f\"},\"marker\":{\"line\":{\"color\":\"#E5ECF6\",\"width\":0.5},\"pattern\":{\"fillmode\":\"overlay\",\"size\":10,\"solidity\":0.2}},\"type\":\"bar\"}],\"carpet\":[{\"aaxis\":{\"endlinecolor\":\"#2a3f5f\",\"gridcolor\":\"white\",\"linecolor\":\"white\",\"minorgridcolor\":\"white\",\"startlinecolor\":\"#2a3f5f\"},\"baxis\":{\"endlinecolor\":\"#2a3f5f\",\"gridcolor\":\"white\",\"linecolor\":\"white\",\"minorgridcolor\":\"white\",\"startlinecolor\":\"#2a3f5f\"},\"type\":\"carpet\"}],\"choropleth\":[{\"colorbar\":{\"outlinewidth\":0,\"ticks\":\"\"},\"type\":\"choropleth\"}],\"contourcarpet\":[{\"colorbar\":{\"outlinewidth\":0,\"ticks\":\"\"},\"type\":\"contourcarpet\"}],\"contour\":[{\"colorbar\":{\"outlinewidth\":0,\"ticks\":\"\"},\"colorscale\":[[0.0,\"#0d0887\"],[0.1111111111111111,\"#46039f\"],[0.2222222222222222,\"#7201a8\"],[0.3333333333333333,\"#9c179e\"],[0.4444444444444444,\"#bd3786\"],[0.5555555555555556,\"#d8576b\"],[0.6666666666666666,\"#ed7953\"],[0.7777777777777778,\"#fb9f3a\"],[0.8888888888888888,\"#fdca26\"],[1.0,\"#f0f921\"]],\"type\":\"contour\"}],\"heatmapgl\":[{\"colorbar\":{\"outlinewidth\":0,\"ticks\":\"\"},\"colorscale\":[[0.0,\"#0d0887\"],[0.1111111111111111,\"#46039f\"],[0.2222222222222222,\"#7201a8\"],[0.3333333333333333,\"#9c179e\"],[0.4444444444444444,\"#bd3786\"],[0.5555555555555556,\"#d8576b\"],[0.6666666666666666,\"#ed7953\"],[0.7777777777777778,\"#fb9f3a\"],[0.8888888888888888,\"#fdca26\"],[1.0,\"#f0f921\"]],\"type\":\"heatmapgl\"}],\"heatmap\":[{\"colorbar\":{\"outlinewidth\":0,\"ticks\":\"\"},\"colorscale\":[[0.0,\"#0d0887\"],[0.1111111111111111,\"#46039f\"],[0.2222222222222222,\"#7201a8\"],[0.3333333333333333,\"#9c179e\"],[0.4444444444444444,\"#bd3786\"],[0.5555555555555556,\"#d8576b\"],[0.6666666666666666,\"#ed7953\"],[0.7777777777777778,\"#fb9f3a\"],[0.8888888888888888,\"#fdca26\"],[1.0,\"#f0f921\"]],\"type\":\"heatmap\"}],\"histogram2dcontour\":[{\"colorbar\":{\"outlinewidth\":0,\"ticks\":\"\"},\"colorscale\":[[0.0,\"#0d0887\"],[0.1111111111111111,\"#46039f\"],[0.2222222222222222,\"#7201a8\"],[0.3333333333333333,\"#9c179e\"],[0.4444444444444444,\"#bd3786\"],[0.5555555555555556,\"#d8576b\"],[0.6666666666666666,\"#ed7953\"],[0.7777777777777778,\"#fb9f3a\"],[0.8888888888888888,\"#fdca26\"],[1.0,\"#f0f921\"]],\"type\":\"histogram2dcontour\"}],\"histogram2d\":[{\"colorbar\":{\"outlinewidth\":0,\"ticks\":\"\"},\"colorscale\":[[0.0,\"#0d0887\"],[0.1111111111111111,\"#46039f\"],[0.2222222222222222,\"#7201a8\"],[0.3333333333333333,\"#9c179e\"],[0.4444444444444444,\"#bd3786\"],[0.5555555555555556,\"#d8576b\"],[0.6666666666666666,\"#ed7953\"],[0.7777777777777778,\"#fb9f3a\"],[0.8888888888888888,\"#fdca26\"],[1.0,\"#f0f921\"]],\"type\":\"histogram2d\"}],\"histogram\":[{\"marker\":{\"pattern\":{\"fillmode\":\"overlay\",\"size\":10,\"solidity\":0.2}},\"type\":\"histogram\"}],\"mesh3d\":[{\"colorbar\":{\"outlinewidth\":0,\"ticks\":\"\"},\"type\":\"mesh3d\"}],\"parcoords\":[{\"line\":{\"colorbar\":{\"outlinewidth\":0,\"ticks\":\"\"}},\"type\":\"parcoords\"}],\"pie\":[{\"automargin\":true,\"type\":\"pie\"}],\"scatter3d\":[{\"line\":{\"colorbar\":{\"outlinewidth\":0,\"ticks\":\"\"}},\"marker\":{\"colorbar\":{\"outlinewidth\":0,\"ticks\":\"\"}},\"type\":\"scatter3d\"}],\"scattercarpet\":[{\"marker\":{\"colorbar\":{\"outlinewidth\":0,\"ticks\":\"\"}},\"type\":\"scattercarpet\"}],\"scattergeo\":[{\"marker\":{\"colorbar\":{\"outlinewidth\":0,\"ticks\":\"\"}},\"type\":\"scattergeo\"}],\"scattergl\":[{\"marker\":{\"colorbar\":{\"outlinewidth\":0,\"ticks\":\"\"}},\"type\":\"scattergl\"}],\"scattermapbox\":[{\"marker\":{\"colorbar\":{\"outlinewidth\":0,\"ticks\":\"\"}},\"type\":\"scattermapbox\"}],\"scatterpolargl\":[{\"marker\":{\"colorbar\":{\"outlinewidth\":0,\"ticks\":\"\"}},\"type\":\"scatterpolargl\"}],\"scatterpolar\":[{\"marker\":{\"colorbar\":{\"outlinewidth\":0,\"ticks\":\"\"}},\"type\":\"scatterpolar\"}],\"scatter\":[{\"fillpattern\":{\"fillmode\":\"overlay\",\"size\":10,\"solidity\":0.2},\"type\":\"scatter\"}],\"scatterternary\":[{\"marker\":{\"colorbar\":{\"outlinewidth\":0,\"ticks\":\"\"}},\"type\":\"scatterternary\"}],\"surface\":[{\"colorbar\":{\"outlinewidth\":0,\"ticks\":\"\"},\"colorscale\":[[0.0,\"#0d0887\"],[0.1111111111111111,\"#46039f\"],[0.2222222222222222,\"#7201a8\"],[0.3333333333333333,\"#9c179e\"],[0.4444444444444444,\"#bd3786\"],[0.5555555555555556,\"#d8576b\"],[0.6666666666666666,\"#ed7953\"],[0.7777777777777778,\"#fb9f3a\"],[0.8888888888888888,\"#fdca26\"],[1.0,\"#f0f921\"]],\"type\":\"surface\"}],\"table\":[{\"cells\":{\"fill\":{\"color\":\"#EBF0F8\"},\"line\":{\"color\":\"white\"}},\"header\":{\"fill\":{\"color\":\"#C8D4E3\"},\"line\":{\"color\":\"white\"}},\"type\":\"table\"}]},\"layout\":{\"annotationdefaults\":{\"arrowcolor\":\"#2a3f5f\",\"arrowhead\":0,\"arrowwidth\":1},\"autotypenumbers\":\"strict\",\"coloraxis\":{\"colorbar\":{\"outlinewidth\":0,\"ticks\":\"\"}},\"colorscale\":{\"diverging\":[[0,\"#8e0152\"],[0.1,\"#c51b7d\"],[0.2,\"#de77ae\"],[0.3,\"#f1b6da\"],[0.4,\"#fde0ef\"],[0.5,\"#f7f7f7\"],[0.6,\"#e6f5d0\"],[0.7,\"#b8e186\"],[0.8,\"#7fbc41\"],[0.9,\"#4d9221\"],[1,\"#276419\"]],\"sequential\":[[0.0,\"#0d0887\"],[0.1111111111111111,\"#46039f\"],[0.2222222222222222,\"#7201a8\"],[0.3333333333333333,\"#9c179e\"],[0.4444444444444444,\"#bd3786\"],[0.5555555555555556,\"#d8576b\"],[0.6666666666666666,\"#ed7953\"],[0.7777777777777778,\"#fb9f3a\"],[0.8888888888888888,\"#fdca26\"],[1.0,\"#f0f921\"]],\"sequentialminus\":[[0.0,\"#0d0887\"],[0.1111111111111111,\"#46039f\"],[0.2222222222222222,\"#7201a8\"],[0.3333333333333333,\"#9c179e\"],[0.4444444444444444,\"#bd3786\"],[0.5555555555555556,\"#d8576b\"],[0.6666666666666666,\"#ed7953\"],[0.7777777777777778,\"#fb9f3a\"],[0.8888888888888888,\"#fdca26\"],[1.0,\"#f0f921\"]]},\"colorway\":[\"#636efa\",\"#EF553B\",\"#00cc96\",\"#ab63fa\",\"#FFA15A\",\"#19d3f3\",\"#FF6692\",\"#B6E880\",\"#FF97FF\",\"#FECB52\"],\"font\":{\"color\":\"#2a3f5f\"},\"geo\":{\"bgcolor\":\"white\",\"lakecolor\":\"white\",\"landcolor\":\"#E5ECF6\",\"showlakes\":true,\"showland\":true,\"subunitcolor\":\"white\"},\"hoverlabel\":{\"align\":\"left\"},\"hovermode\":\"closest\",\"mapbox\":{\"style\":\"light\"},\"paper_bgcolor\":\"white\",\"plot_bgcolor\":\"#E5ECF6\",\"polar\":{\"angularaxis\":{\"gridcolor\":\"white\",\"linecolor\":\"white\",\"ticks\":\"\"},\"bgcolor\":\"#E5ECF6\",\"radialaxis\":{\"gridcolor\":\"white\",\"linecolor\":\"white\",\"ticks\":\"\"}},\"scene\":{\"xaxis\":{\"backgroundcolor\":\"#E5ECF6\",\"gridcolor\":\"white\",\"gridwidth\":2,\"linecolor\":\"white\",\"showbackground\":true,\"ticks\":\"\",\"zerolinecolor\":\"white\"},\"yaxis\":{\"backgroundcolor\":\"#E5ECF6\",\"gridcolor\":\"white\",\"gridwidth\":2,\"linecolor\":\"white\",\"showbackground\":true,\"ticks\":\"\",\"zerolinecolor\":\"white\"},\"zaxis\":{\"backgroundcolor\":\"#E5ECF6\",\"gridcolor\":\"white\",\"gridwidth\":2,\"linecolor\":\"white\",\"showbackground\":true,\"ticks\":\"\",\"zerolinecolor\":\"white\"}},\"shapedefaults\":{\"line\":{\"color\":\"#2a3f5f\"}},\"ternary\":{\"aaxis\":{\"gridcolor\":\"white\",\"linecolor\":\"white\",\"ticks\":\"\"},\"baxis\":{\"gridcolor\":\"white\",\"linecolor\":\"white\",\"ticks\":\"\"},\"bgcolor\":\"#E5ECF6\",\"caxis\":{\"gridcolor\":\"white\",\"linecolor\":\"white\",\"ticks\":\"\"}},\"title\":{\"x\":0.05},\"xaxis\":{\"automargin\":true,\"gridcolor\":\"white\",\"linecolor\":\"white\",\"ticks\":\"\",\"title\":{\"standoff\":15},\"zerolinecolor\":\"white\",\"zerolinewidth\":2},\"yaxis\":{\"automargin\":true,\"gridcolor\":\"white\",\"linecolor\":\"white\",\"ticks\":\"\",\"title\":{\"standoff\":15},\"zerolinecolor\":\"white\",\"zerolinewidth\":2}}},\"title\":{\"text\":\"Immigrants\"},\"xaxis\":{\"showgrid\":false,\"showline\":false,\"title\":{\"text\":\"Year\"}},\"yaxis\":{\"showgrid\":false,\"showline\":false,\"title\":{\"text\":\"Number of Immigrants\"}}},                        {\"responsive\": true}                    ).then(function(){\n",
       "                            \n",
       "var gd = document.getElementById('93eb4679-610d-43b8-a097-36fe46cb53d9');\n",
       "var x = new MutationObserver(function (mutations, observer) {{\n",
       "        var display = window.getComputedStyle(gd).display;\n",
       "        if (!display || display === 'none') {{\n",
       "            console.log([gd, 'removed!']);\n",
       "            Plotly.purge(gd);\n",
       "            observer.disconnect();\n",
       "        }}\n",
       "}});\n",
       "\n",
       "// Listen for the removal of the full notebook cells\n",
       "var notebookContainer = gd.closest('#notebook-container');\n",
       "if (notebookContainer) {{\n",
       "    x.observe(notebookContainer, {childList: true});\n",
       "}}\n",
       "\n",
       "// Listen for the clearing of the current output cell\n",
       "var outputEl = gd.closest('.output');\n",
       "if (outputEl) {{\n",
       "    x.observe(outputEl, {childList: true});\n",
       "}}\n",
       "\n",
       "                        })                };                });            </script>        </div>"
      ]
     },
     "metadata": {},
     "output_type": "display_data"
    }
   ],
   "source": [
    "china = go.Scatter(\n",
    "                  x = canada.index.values,\n",
    "                  y = canada['China'],\n",
    "                  mode = 'lines',\n",
    "                  name = 'China'\n",
    ")\n",
    "\n",
    "australia = go.Scatter(\n",
    "                  x = canada.index.values,\n",
    "                  y = canada['Australia'],\n",
    "                  mode = 'lines',\n",
    "                  name = 'Australia'\n",
    ")\n",
    "\n",
    "turkey = go.Scatter(\n",
    "                  x = canada.index.values,\n",
    "                  y = canada['Turkey'],\n",
    "                  mode = 'lines',\n",
    "                  name = 'Turkey'\n",
    ")\n",
    "\n",
    "layout = go.Layout(\n",
    "                    title = 'Immigrants', \n",
    "                    xaxis = dict(title = 'Year', showgrid = False, showline = False),\n",
    "                    yaxis = dict(title = 'Number of Immigrants', showgrid = False, showline = False),\n",
    "                  )\n",
    "\n",
    "data = [china, australia, turkey]\n",
    "fig = go.Figure(data = data, layout = layout)\n",
    "iplot(fig)"
   ]
  },
  {
   "cell_type": "code",
   "execution_count": 31,
   "id": "2a405f87",
   "metadata": {},
   "outputs": [
    {
     "data": {
      "application/vnd.plotly.v1+json": {
       "config": {
        "plotlyServerURL": "https://plot.ly"
       },
       "data": [
        {
         "hovertemplate": "x=%{x}<br>y=%{y}<extra></extra>",
         "legendgroup": "",
         "line": {
          "color": "#636efa",
          "dash": "solid"
         },
         "marker": {
          "symbol": "circle"
         },
         "mode": "lines",
         "name": "",
         "orientation": "v",
         "showlegend": false,
         "type": "scatter",
         "x": [
          "1980",
          "1981",
          "1982",
          "1983",
          "1984",
          "1985",
          "1986",
          "1987",
          "1988",
          "1989",
          "1990",
          "1991",
          "1992",
          "1993",
          "1994",
          "1995",
          "1996",
          "1997",
          "1998",
          "1999",
          "2000",
          "2001",
          "2002",
          "2003",
          "2004",
          "2005",
          "2006",
          "2007",
          "2008",
          "2009",
          "2010",
          "2011",
          "2012",
          "2013"
         ],
         "xaxis": "x",
         "y": [
          0,
          0,
          0,
          0,
          0,
          0,
          0,
          0,
          0,
          0,
          0,
          0,
          0,
          0,
          0,
          0,
          0,
          0,
          0,
          0,
          1,
          15,
          28,
          21,
          21,
          21,
          32,
          16,
          12,
          21,
          21,
          13,
          33,
          29
         ],
         "yaxis": "y"
        },
        {
         "line": {
          "color": "green"
         },
         "name": "Australia",
         "type": "scatter",
         "x": [
          "1980",
          "1981",
          "1982",
          "1983",
          "1984",
          "1985",
          "1986",
          "1987",
          "1988",
          "1989",
          "1990",
          "1991",
          "1992",
          "1993",
          "1994",
          "1995",
          "1996",
          "1997",
          "1998",
          "1999",
          "2000",
          "2001",
          "2002",
          "2003",
          "2004",
          "2005",
          "2006",
          "2007",
          "2008",
          "2009",
          "2010",
          "2011",
          "2012",
          "2013"
         ],
         "y": [
          702,
          639,
          484,
          317,
          317,
          319,
          356,
          467,
          410,
          553,
          620,
          640,
          734,
          886,
          702,
          668,
          699,
          623,
          479,
          523,
          599,
          799,
          747,
          876,
          930,
          909,
          875,
          1033,
          1018,
          1018,
          933,
          851,
          982,
          1121
         ]
        },
        {
         "line": {
          "color": "red"
         },
         "name": "Turkey",
         "type": "scatter",
         "x": [
          "1980",
          "1981",
          "1982",
          "1983",
          "1984",
          "1985",
          "1986",
          "1987",
          "1988",
          "1989",
          "1990",
          "1991",
          "1992",
          "1993",
          "1994",
          "1995",
          "1996",
          "1997",
          "1998",
          "1999",
          "2000",
          "2001",
          "2002",
          "2003",
          "2004",
          "2005",
          "2006",
          "2007",
          "2008",
          "2009",
          "2010",
          "2011",
          "2012",
          "2013"
         ],
         "y": [
          481,
          874,
          706,
          280,
          338,
          202,
          257,
          397,
          346,
          488,
          767,
          941,
          1116,
          1316,
          908,
          732,
          638,
          679,
          777,
          806,
          1101,
          1184,
          1301,
          1338,
          1736,
          2065,
          1638,
          1463,
          1122,
          1238,
          1492,
          1257,
          1068,
          729
         ]
        }
       ],
       "layout": {
        "legend": {
         "tracegroupgap": 0
        },
        "margin": {
         "t": 60
        },
        "template": {
         "data": {
          "bar": [
           {
            "error_x": {
             "color": "#2a3f5f"
            },
            "error_y": {
             "color": "#2a3f5f"
            },
            "marker": {
             "line": {
              "color": "#E5ECF6",
              "width": 0.5
             },
             "pattern": {
              "fillmode": "overlay",
              "size": 10,
              "solidity": 0.2
             }
            },
            "type": "bar"
           }
          ],
          "barpolar": [
           {
            "marker": {
             "line": {
              "color": "#E5ECF6",
              "width": 0.5
             },
             "pattern": {
              "fillmode": "overlay",
              "size": 10,
              "solidity": 0.2
             }
            },
            "type": "barpolar"
           }
          ],
          "carpet": [
           {
            "aaxis": {
             "endlinecolor": "#2a3f5f",
             "gridcolor": "white",
             "linecolor": "white",
             "minorgridcolor": "white",
             "startlinecolor": "#2a3f5f"
            },
            "baxis": {
             "endlinecolor": "#2a3f5f",
             "gridcolor": "white",
             "linecolor": "white",
             "minorgridcolor": "white",
             "startlinecolor": "#2a3f5f"
            },
            "type": "carpet"
           }
          ],
          "choropleth": [
           {
            "colorbar": {
             "outlinewidth": 0,
             "ticks": ""
            },
            "type": "choropleth"
           }
          ],
          "contour": [
           {
            "colorbar": {
             "outlinewidth": 0,
             "ticks": ""
            },
            "colorscale": [
             [
              0,
              "#0d0887"
             ],
             [
              0.1111111111111111,
              "#46039f"
             ],
             [
              0.2222222222222222,
              "#7201a8"
             ],
             [
              0.3333333333333333,
              "#9c179e"
             ],
             [
              0.4444444444444444,
              "#bd3786"
             ],
             [
              0.5555555555555556,
              "#d8576b"
             ],
             [
              0.6666666666666666,
              "#ed7953"
             ],
             [
              0.7777777777777778,
              "#fb9f3a"
             ],
             [
              0.8888888888888888,
              "#fdca26"
             ],
             [
              1,
              "#f0f921"
             ]
            ],
            "type": "contour"
           }
          ],
          "contourcarpet": [
           {
            "colorbar": {
             "outlinewidth": 0,
             "ticks": ""
            },
            "type": "contourcarpet"
           }
          ],
          "heatmap": [
           {
            "colorbar": {
             "outlinewidth": 0,
             "ticks": ""
            },
            "colorscale": [
             [
              0,
              "#0d0887"
             ],
             [
              0.1111111111111111,
              "#46039f"
             ],
             [
              0.2222222222222222,
              "#7201a8"
             ],
             [
              0.3333333333333333,
              "#9c179e"
             ],
             [
              0.4444444444444444,
              "#bd3786"
             ],
             [
              0.5555555555555556,
              "#d8576b"
             ],
             [
              0.6666666666666666,
              "#ed7953"
             ],
             [
              0.7777777777777778,
              "#fb9f3a"
             ],
             [
              0.8888888888888888,
              "#fdca26"
             ],
             [
              1,
              "#f0f921"
             ]
            ],
            "type": "heatmap"
           }
          ],
          "heatmapgl": [
           {
            "colorbar": {
             "outlinewidth": 0,
             "ticks": ""
            },
            "colorscale": [
             [
              0,
              "#0d0887"
             ],
             [
              0.1111111111111111,
              "#46039f"
             ],
             [
              0.2222222222222222,
              "#7201a8"
             ],
             [
              0.3333333333333333,
              "#9c179e"
             ],
             [
              0.4444444444444444,
              "#bd3786"
             ],
             [
              0.5555555555555556,
              "#d8576b"
             ],
             [
              0.6666666666666666,
              "#ed7953"
             ],
             [
              0.7777777777777778,
              "#fb9f3a"
             ],
             [
              0.8888888888888888,
              "#fdca26"
             ],
             [
              1,
              "#f0f921"
             ]
            ],
            "type": "heatmapgl"
           }
          ],
          "histogram": [
           {
            "marker": {
             "pattern": {
              "fillmode": "overlay",
              "size": 10,
              "solidity": 0.2
             }
            },
            "type": "histogram"
           }
          ],
          "histogram2d": [
           {
            "colorbar": {
             "outlinewidth": 0,
             "ticks": ""
            },
            "colorscale": [
             [
              0,
              "#0d0887"
             ],
             [
              0.1111111111111111,
              "#46039f"
             ],
             [
              0.2222222222222222,
              "#7201a8"
             ],
             [
              0.3333333333333333,
              "#9c179e"
             ],
             [
              0.4444444444444444,
              "#bd3786"
             ],
             [
              0.5555555555555556,
              "#d8576b"
             ],
             [
              0.6666666666666666,
              "#ed7953"
             ],
             [
              0.7777777777777778,
              "#fb9f3a"
             ],
             [
              0.8888888888888888,
              "#fdca26"
             ],
             [
              1,
              "#f0f921"
             ]
            ],
            "type": "histogram2d"
           }
          ],
          "histogram2dcontour": [
           {
            "colorbar": {
             "outlinewidth": 0,
             "ticks": ""
            },
            "colorscale": [
             [
              0,
              "#0d0887"
             ],
             [
              0.1111111111111111,
              "#46039f"
             ],
             [
              0.2222222222222222,
              "#7201a8"
             ],
             [
              0.3333333333333333,
              "#9c179e"
             ],
             [
              0.4444444444444444,
              "#bd3786"
             ],
             [
              0.5555555555555556,
              "#d8576b"
             ],
             [
              0.6666666666666666,
              "#ed7953"
             ],
             [
              0.7777777777777778,
              "#fb9f3a"
             ],
             [
              0.8888888888888888,
              "#fdca26"
             ],
             [
              1,
              "#f0f921"
             ]
            ],
            "type": "histogram2dcontour"
           }
          ],
          "mesh3d": [
           {
            "colorbar": {
             "outlinewidth": 0,
             "ticks": ""
            },
            "type": "mesh3d"
           }
          ],
          "parcoords": [
           {
            "line": {
             "colorbar": {
              "outlinewidth": 0,
              "ticks": ""
             }
            },
            "type": "parcoords"
           }
          ],
          "pie": [
           {
            "automargin": true,
            "type": "pie"
           }
          ],
          "scatter": [
           {
            "fillpattern": {
             "fillmode": "overlay",
             "size": 10,
             "solidity": 0.2
            },
            "type": "scatter"
           }
          ],
          "scatter3d": [
           {
            "line": {
             "colorbar": {
              "outlinewidth": 0,
              "ticks": ""
             }
            },
            "marker": {
             "colorbar": {
              "outlinewidth": 0,
              "ticks": ""
             }
            },
            "type": "scatter3d"
           }
          ],
          "scattercarpet": [
           {
            "marker": {
             "colorbar": {
              "outlinewidth": 0,
              "ticks": ""
             }
            },
            "type": "scattercarpet"
           }
          ],
          "scattergeo": [
           {
            "marker": {
             "colorbar": {
              "outlinewidth": 0,
              "ticks": ""
             }
            },
            "type": "scattergeo"
           }
          ],
          "scattergl": [
           {
            "marker": {
             "colorbar": {
              "outlinewidth": 0,
              "ticks": ""
             }
            },
            "type": "scattergl"
           }
          ],
          "scattermapbox": [
           {
            "marker": {
             "colorbar": {
              "outlinewidth": 0,
              "ticks": ""
             }
            },
            "type": "scattermapbox"
           }
          ],
          "scatterpolar": [
           {
            "marker": {
             "colorbar": {
              "outlinewidth": 0,
              "ticks": ""
             }
            },
            "type": "scatterpolar"
           }
          ],
          "scatterpolargl": [
           {
            "marker": {
             "colorbar": {
              "outlinewidth": 0,
              "ticks": ""
             }
            },
            "type": "scatterpolargl"
           }
          ],
          "scatterternary": [
           {
            "marker": {
             "colorbar": {
              "outlinewidth": 0,
              "ticks": ""
             }
            },
            "type": "scatterternary"
           }
          ],
          "surface": [
           {
            "colorbar": {
             "outlinewidth": 0,
             "ticks": ""
            },
            "colorscale": [
             [
              0,
              "#0d0887"
             ],
             [
              0.1111111111111111,
              "#46039f"
             ],
             [
              0.2222222222222222,
              "#7201a8"
             ],
             [
              0.3333333333333333,
              "#9c179e"
             ],
             [
              0.4444444444444444,
              "#bd3786"
             ],
             [
              0.5555555555555556,
              "#d8576b"
             ],
             [
              0.6666666666666666,
              "#ed7953"
             ],
             [
              0.7777777777777778,
              "#fb9f3a"
             ],
             [
              0.8888888888888888,
              "#fdca26"
             ],
             [
              1,
              "#f0f921"
             ]
            ],
            "type": "surface"
           }
          ],
          "table": [
           {
            "cells": {
             "fill": {
              "color": "#EBF0F8"
             },
             "line": {
              "color": "white"
             }
            },
            "header": {
             "fill": {
              "color": "#C8D4E3"
             },
             "line": {
              "color": "white"
             }
            },
            "type": "table"
           }
          ]
         },
         "layout": {
          "annotationdefaults": {
           "arrowcolor": "#2a3f5f",
           "arrowhead": 0,
           "arrowwidth": 1
          },
          "autotypenumbers": "strict",
          "coloraxis": {
           "colorbar": {
            "outlinewidth": 0,
            "ticks": ""
           }
          },
          "colorscale": {
           "diverging": [
            [
             0,
             "#8e0152"
            ],
            [
             0.1,
             "#c51b7d"
            ],
            [
             0.2,
             "#de77ae"
            ],
            [
             0.3,
             "#f1b6da"
            ],
            [
             0.4,
             "#fde0ef"
            ],
            [
             0.5,
             "#f7f7f7"
            ],
            [
             0.6,
             "#e6f5d0"
            ],
            [
             0.7,
             "#b8e186"
            ],
            [
             0.8,
             "#7fbc41"
            ],
            [
             0.9,
             "#4d9221"
            ],
            [
             1,
             "#276419"
            ]
           ],
           "sequential": [
            [
             0,
             "#0d0887"
            ],
            [
             0.1111111111111111,
             "#46039f"
            ],
            [
             0.2222222222222222,
             "#7201a8"
            ],
            [
             0.3333333333333333,
             "#9c179e"
            ],
            [
             0.4444444444444444,
             "#bd3786"
            ],
            [
             0.5555555555555556,
             "#d8576b"
            ],
            [
             0.6666666666666666,
             "#ed7953"
            ],
            [
             0.7777777777777778,
             "#fb9f3a"
            ],
            [
             0.8888888888888888,
             "#fdca26"
            ],
            [
             1,
             "#f0f921"
            ]
           ],
           "sequentialminus": [
            [
             0,
             "#0d0887"
            ],
            [
             0.1111111111111111,
             "#46039f"
            ],
            [
             0.2222222222222222,
             "#7201a8"
            ],
            [
             0.3333333333333333,
             "#9c179e"
            ],
            [
             0.4444444444444444,
             "#bd3786"
            ],
            [
             0.5555555555555556,
             "#d8576b"
            ],
            [
             0.6666666666666666,
             "#ed7953"
            ],
            [
             0.7777777777777778,
             "#fb9f3a"
            ],
            [
             0.8888888888888888,
             "#fdca26"
            ],
            [
             1,
             "#f0f921"
            ]
           ]
          },
          "colorway": [
           "#636efa",
           "#EF553B",
           "#00cc96",
           "#ab63fa",
           "#FFA15A",
           "#19d3f3",
           "#FF6692",
           "#B6E880",
           "#FF97FF",
           "#FECB52"
          ],
          "font": {
           "color": "#2a3f5f"
          },
          "geo": {
           "bgcolor": "white",
           "lakecolor": "white",
           "landcolor": "#E5ECF6",
           "showlakes": true,
           "showland": true,
           "subunitcolor": "white"
          },
          "hoverlabel": {
           "align": "left"
          },
          "hovermode": "closest",
          "mapbox": {
           "style": "light"
          },
          "paper_bgcolor": "white",
          "plot_bgcolor": "#E5ECF6",
          "polar": {
           "angularaxis": {
            "gridcolor": "white",
            "linecolor": "white",
            "ticks": ""
           },
           "bgcolor": "#E5ECF6",
           "radialaxis": {
            "gridcolor": "white",
            "linecolor": "white",
            "ticks": ""
           }
          },
          "scene": {
           "xaxis": {
            "backgroundcolor": "#E5ECF6",
            "gridcolor": "white",
            "gridwidth": 2,
            "linecolor": "white",
            "showbackground": true,
            "ticks": "",
            "zerolinecolor": "white"
           },
           "yaxis": {
            "backgroundcolor": "#E5ECF6",
            "gridcolor": "white",
            "gridwidth": 2,
            "linecolor": "white",
            "showbackground": true,
            "ticks": "",
            "zerolinecolor": "white"
           },
           "zaxis": {
            "backgroundcolor": "#E5ECF6",
            "gridcolor": "white",
            "gridwidth": 2,
            "linecolor": "white",
            "showbackground": true,
            "ticks": "",
            "zerolinecolor": "white"
           }
          },
          "shapedefaults": {
           "line": {
            "color": "#2a3f5f"
           }
          },
          "ternary": {
           "aaxis": {
            "gridcolor": "white",
            "linecolor": "white",
            "ticks": ""
           },
           "baxis": {
            "gridcolor": "white",
            "linecolor": "white",
            "ticks": ""
           },
           "bgcolor": "#E5ECF6",
           "caxis": {
            "gridcolor": "white",
            "linecolor": "white",
            "ticks": ""
           }
          },
          "title": {
           "x": 0.05
          },
          "xaxis": {
           "automargin": true,
           "gridcolor": "white",
           "linecolor": "white",
           "ticks": "",
           "title": {
            "standoff": 15
           },
           "zerolinecolor": "white",
           "zerolinewidth": 2
          },
          "yaxis": {
           "automargin": true,
           "gridcolor": "white",
           "linecolor": "white",
           "ticks": "",
           "title": {
            "standoff": 15
           },
           "zerolinecolor": "white",
           "zerolinewidth": 2
          }
         }
        },
        "title": {
         "text": "Immigrants"
        },
        "xaxis": {
         "anchor": "y",
         "domain": [
          0,
          1
         ],
         "showgrid": false,
         "title": {
          "text": "x"
         }
        },
        "yaxis": {
         "anchor": "x",
         "domain": [
          0,
          1
         ],
         "showgrid": false,
         "title": {
          "text": "y"
         }
        }
       }
      },
      "text/html": [
       "<div>                            <div id=\"545552fc-6f37-427e-b26d-f08fadaa4f65\" class=\"plotly-graph-div\" style=\"height:525px; width:100%;\"></div>            <script type=\"text/javascript\">                require([\"plotly\"], function(Plotly) {                    window.PLOTLYENV=window.PLOTLYENV || {};                                    if (document.getElementById(\"545552fc-6f37-427e-b26d-f08fadaa4f65\")) {                    Plotly.newPlot(                        \"545552fc-6f37-427e-b26d-f08fadaa4f65\",                        [{\"hovertemplate\":\"x=%{x}<br>y=%{y}<extra></extra>\",\"legendgroup\":\"\",\"line\":{\"color\":\"#636efa\",\"dash\":\"solid\"},\"marker\":{\"symbol\":\"circle\"},\"mode\":\"lines\",\"name\":\"\",\"orientation\":\"v\",\"showlegend\":false,\"x\":[\"1980\",\"1981\",\"1982\",\"1983\",\"1984\",\"1985\",\"1986\",\"1987\",\"1988\",\"1989\",\"1990\",\"1991\",\"1992\",\"1993\",\"1994\",\"1995\",\"1996\",\"1997\",\"1998\",\"1999\",\"2000\",\"2001\",\"2002\",\"2003\",\"2004\",\"2005\",\"2006\",\"2007\",\"2008\",\"2009\",\"2010\",\"2011\",\"2012\",\"2013\"],\"xaxis\":\"x\",\"y\":[0,0,0,0,0,0,0,0,0,0,0,0,0,0,0,0,0,0,0,0,1,15,28,21,21,21,32,16,12,21,21,13,33,29],\"yaxis\":\"y\",\"type\":\"scatter\"},{\"line\":{\"color\":\"green\"},\"name\":\"Australia\",\"x\":[\"1980\",\"1981\",\"1982\",\"1983\",\"1984\",\"1985\",\"1986\",\"1987\",\"1988\",\"1989\",\"1990\",\"1991\",\"1992\",\"1993\",\"1994\",\"1995\",\"1996\",\"1997\",\"1998\",\"1999\",\"2000\",\"2001\",\"2002\",\"2003\",\"2004\",\"2005\",\"2006\",\"2007\",\"2008\",\"2009\",\"2010\",\"2011\",\"2012\",\"2013\"],\"y\":[702,639,484,317,317,319,356,467,410,553,620,640,734,886,702,668,699,623,479,523,599,799,747,876,930,909,875,1033,1018,1018,933,851,982,1121],\"type\":\"scatter\"},{\"line\":{\"color\":\"red\"},\"name\":\"Turkey\",\"x\":[\"1980\",\"1981\",\"1982\",\"1983\",\"1984\",\"1985\",\"1986\",\"1987\",\"1988\",\"1989\",\"1990\",\"1991\",\"1992\",\"1993\",\"1994\",\"1995\",\"1996\",\"1997\",\"1998\",\"1999\",\"2000\",\"2001\",\"2002\",\"2003\",\"2004\",\"2005\",\"2006\",\"2007\",\"2008\",\"2009\",\"2010\",\"2011\",\"2012\",\"2013\"],\"y\":[481,874,706,280,338,202,257,397,346,488,767,941,1116,1316,908,732,638,679,777,806,1101,1184,1301,1338,1736,2065,1638,1463,1122,1238,1492,1257,1068,729],\"type\":\"scatter\"}],                        {\"template\":{\"data\":{\"histogram2dcontour\":[{\"type\":\"histogram2dcontour\",\"colorbar\":{\"outlinewidth\":0,\"ticks\":\"\"},\"colorscale\":[[0.0,\"#0d0887\"],[0.1111111111111111,\"#46039f\"],[0.2222222222222222,\"#7201a8\"],[0.3333333333333333,\"#9c179e\"],[0.4444444444444444,\"#bd3786\"],[0.5555555555555556,\"#d8576b\"],[0.6666666666666666,\"#ed7953\"],[0.7777777777777778,\"#fb9f3a\"],[0.8888888888888888,\"#fdca26\"],[1.0,\"#f0f921\"]]}],\"choropleth\":[{\"type\":\"choropleth\",\"colorbar\":{\"outlinewidth\":0,\"ticks\":\"\"}}],\"histogram2d\":[{\"type\":\"histogram2d\",\"colorbar\":{\"outlinewidth\":0,\"ticks\":\"\"},\"colorscale\":[[0.0,\"#0d0887\"],[0.1111111111111111,\"#46039f\"],[0.2222222222222222,\"#7201a8\"],[0.3333333333333333,\"#9c179e\"],[0.4444444444444444,\"#bd3786\"],[0.5555555555555556,\"#d8576b\"],[0.6666666666666666,\"#ed7953\"],[0.7777777777777778,\"#fb9f3a\"],[0.8888888888888888,\"#fdca26\"],[1.0,\"#f0f921\"]]}],\"heatmap\":[{\"type\":\"heatmap\",\"colorbar\":{\"outlinewidth\":0,\"ticks\":\"\"},\"colorscale\":[[0.0,\"#0d0887\"],[0.1111111111111111,\"#46039f\"],[0.2222222222222222,\"#7201a8\"],[0.3333333333333333,\"#9c179e\"],[0.4444444444444444,\"#bd3786\"],[0.5555555555555556,\"#d8576b\"],[0.6666666666666666,\"#ed7953\"],[0.7777777777777778,\"#fb9f3a\"],[0.8888888888888888,\"#fdca26\"],[1.0,\"#f0f921\"]]}],\"heatmapgl\":[{\"type\":\"heatmapgl\",\"colorbar\":{\"outlinewidth\":0,\"ticks\":\"\"},\"colorscale\":[[0.0,\"#0d0887\"],[0.1111111111111111,\"#46039f\"],[0.2222222222222222,\"#7201a8\"],[0.3333333333333333,\"#9c179e\"],[0.4444444444444444,\"#bd3786\"],[0.5555555555555556,\"#d8576b\"],[0.6666666666666666,\"#ed7953\"],[0.7777777777777778,\"#fb9f3a\"],[0.8888888888888888,\"#fdca26\"],[1.0,\"#f0f921\"]]}],\"contourcarpet\":[{\"type\":\"contourcarpet\",\"colorbar\":{\"outlinewidth\":0,\"ticks\":\"\"}}],\"contour\":[{\"type\":\"contour\",\"colorbar\":{\"outlinewidth\":0,\"ticks\":\"\"},\"colorscale\":[[0.0,\"#0d0887\"],[0.1111111111111111,\"#46039f\"],[0.2222222222222222,\"#7201a8\"],[0.3333333333333333,\"#9c179e\"],[0.4444444444444444,\"#bd3786\"],[0.5555555555555556,\"#d8576b\"],[0.6666666666666666,\"#ed7953\"],[0.7777777777777778,\"#fb9f3a\"],[0.8888888888888888,\"#fdca26\"],[1.0,\"#f0f921\"]]}],\"surface\":[{\"type\":\"surface\",\"colorbar\":{\"outlinewidth\":0,\"ticks\":\"\"},\"colorscale\":[[0.0,\"#0d0887\"],[0.1111111111111111,\"#46039f\"],[0.2222222222222222,\"#7201a8\"],[0.3333333333333333,\"#9c179e\"],[0.4444444444444444,\"#bd3786\"],[0.5555555555555556,\"#d8576b\"],[0.6666666666666666,\"#ed7953\"],[0.7777777777777778,\"#fb9f3a\"],[0.8888888888888888,\"#fdca26\"],[1.0,\"#f0f921\"]]}],\"mesh3d\":[{\"type\":\"mesh3d\",\"colorbar\":{\"outlinewidth\":0,\"ticks\":\"\"}}],\"scatter\":[{\"fillpattern\":{\"fillmode\":\"overlay\",\"size\":10,\"solidity\":0.2},\"type\":\"scatter\"}],\"parcoords\":[{\"type\":\"parcoords\",\"line\":{\"colorbar\":{\"outlinewidth\":0,\"ticks\":\"\"}}}],\"scatterpolargl\":[{\"type\":\"scatterpolargl\",\"marker\":{\"colorbar\":{\"outlinewidth\":0,\"ticks\":\"\"}}}],\"bar\":[{\"error_x\":{\"color\":\"#2a3f5f\"},\"error_y\":{\"color\":\"#2a3f5f\"},\"marker\":{\"line\":{\"color\":\"#E5ECF6\",\"width\":0.5},\"pattern\":{\"fillmode\":\"overlay\",\"size\":10,\"solidity\":0.2}},\"type\":\"bar\"}],\"scattergeo\":[{\"type\":\"scattergeo\",\"marker\":{\"colorbar\":{\"outlinewidth\":0,\"ticks\":\"\"}}}],\"scatterpolar\":[{\"type\":\"scatterpolar\",\"marker\":{\"colorbar\":{\"outlinewidth\":0,\"ticks\":\"\"}}}],\"histogram\":[{\"marker\":{\"pattern\":{\"fillmode\":\"overlay\",\"size\":10,\"solidity\":0.2}},\"type\":\"histogram\"}],\"scattergl\":[{\"type\":\"scattergl\",\"marker\":{\"colorbar\":{\"outlinewidth\":0,\"ticks\":\"\"}}}],\"scatter3d\":[{\"type\":\"scatter3d\",\"line\":{\"colorbar\":{\"outlinewidth\":0,\"ticks\":\"\"}},\"marker\":{\"colorbar\":{\"outlinewidth\":0,\"ticks\":\"\"}}}],\"scattermapbox\":[{\"type\":\"scattermapbox\",\"marker\":{\"colorbar\":{\"outlinewidth\":0,\"ticks\":\"\"}}}],\"scatterternary\":[{\"type\":\"scatterternary\",\"marker\":{\"colorbar\":{\"outlinewidth\":0,\"ticks\":\"\"}}}],\"scattercarpet\":[{\"type\":\"scattercarpet\",\"marker\":{\"colorbar\":{\"outlinewidth\":0,\"ticks\":\"\"}}}],\"carpet\":[{\"aaxis\":{\"endlinecolor\":\"#2a3f5f\",\"gridcolor\":\"white\",\"linecolor\":\"white\",\"minorgridcolor\":\"white\",\"startlinecolor\":\"#2a3f5f\"},\"baxis\":{\"endlinecolor\":\"#2a3f5f\",\"gridcolor\":\"white\",\"linecolor\":\"white\",\"minorgridcolor\":\"white\",\"startlinecolor\":\"#2a3f5f\"},\"type\":\"carpet\"}],\"table\":[{\"cells\":{\"fill\":{\"color\":\"#EBF0F8\"},\"line\":{\"color\":\"white\"}},\"header\":{\"fill\":{\"color\":\"#C8D4E3\"},\"line\":{\"color\":\"white\"}},\"type\":\"table\"}],\"barpolar\":[{\"marker\":{\"line\":{\"color\":\"#E5ECF6\",\"width\":0.5},\"pattern\":{\"fillmode\":\"overlay\",\"size\":10,\"solidity\":0.2}},\"type\":\"barpolar\"}],\"pie\":[{\"automargin\":true,\"type\":\"pie\"}]},\"layout\":{\"autotypenumbers\":\"strict\",\"colorway\":[\"#636efa\",\"#EF553B\",\"#00cc96\",\"#ab63fa\",\"#FFA15A\",\"#19d3f3\",\"#FF6692\",\"#B6E880\",\"#FF97FF\",\"#FECB52\"],\"font\":{\"color\":\"#2a3f5f\"},\"hovermode\":\"closest\",\"hoverlabel\":{\"align\":\"left\"},\"paper_bgcolor\":\"white\",\"plot_bgcolor\":\"#E5ECF6\",\"polar\":{\"bgcolor\":\"#E5ECF6\",\"angularaxis\":{\"gridcolor\":\"white\",\"linecolor\":\"white\",\"ticks\":\"\"},\"radialaxis\":{\"gridcolor\":\"white\",\"linecolor\":\"white\",\"ticks\":\"\"}},\"ternary\":{\"bgcolor\":\"#E5ECF6\",\"aaxis\":{\"gridcolor\":\"white\",\"linecolor\":\"white\",\"ticks\":\"\"},\"baxis\":{\"gridcolor\":\"white\",\"linecolor\":\"white\",\"ticks\":\"\"},\"caxis\":{\"gridcolor\":\"white\",\"linecolor\":\"white\",\"ticks\":\"\"}},\"coloraxis\":{\"colorbar\":{\"outlinewidth\":0,\"ticks\":\"\"}},\"colorscale\":{\"sequential\":[[0.0,\"#0d0887\"],[0.1111111111111111,\"#46039f\"],[0.2222222222222222,\"#7201a8\"],[0.3333333333333333,\"#9c179e\"],[0.4444444444444444,\"#bd3786\"],[0.5555555555555556,\"#d8576b\"],[0.6666666666666666,\"#ed7953\"],[0.7777777777777778,\"#fb9f3a\"],[0.8888888888888888,\"#fdca26\"],[1.0,\"#f0f921\"]],\"sequentialminus\":[[0.0,\"#0d0887\"],[0.1111111111111111,\"#46039f\"],[0.2222222222222222,\"#7201a8\"],[0.3333333333333333,\"#9c179e\"],[0.4444444444444444,\"#bd3786\"],[0.5555555555555556,\"#d8576b\"],[0.6666666666666666,\"#ed7953\"],[0.7777777777777778,\"#fb9f3a\"],[0.8888888888888888,\"#fdca26\"],[1.0,\"#f0f921\"]],\"diverging\":[[0,\"#8e0152\"],[0.1,\"#c51b7d\"],[0.2,\"#de77ae\"],[0.3,\"#f1b6da\"],[0.4,\"#fde0ef\"],[0.5,\"#f7f7f7\"],[0.6,\"#e6f5d0\"],[0.7,\"#b8e186\"],[0.8,\"#7fbc41\"],[0.9,\"#4d9221\"],[1,\"#276419\"]]},\"xaxis\":{\"gridcolor\":\"white\",\"linecolor\":\"white\",\"ticks\":\"\",\"title\":{\"standoff\":15},\"zerolinecolor\":\"white\",\"automargin\":true,\"zerolinewidth\":2},\"yaxis\":{\"gridcolor\":\"white\",\"linecolor\":\"white\",\"ticks\":\"\",\"title\":{\"standoff\":15},\"zerolinecolor\":\"white\",\"automargin\":true,\"zerolinewidth\":2},\"scene\":{\"xaxis\":{\"backgroundcolor\":\"#E5ECF6\",\"gridcolor\":\"white\",\"linecolor\":\"white\",\"showbackground\":true,\"ticks\":\"\",\"zerolinecolor\":\"white\",\"gridwidth\":2},\"yaxis\":{\"backgroundcolor\":\"#E5ECF6\",\"gridcolor\":\"white\",\"linecolor\":\"white\",\"showbackground\":true,\"ticks\":\"\",\"zerolinecolor\":\"white\",\"gridwidth\":2},\"zaxis\":{\"backgroundcolor\":\"#E5ECF6\",\"gridcolor\":\"white\",\"linecolor\":\"white\",\"showbackground\":true,\"ticks\":\"\",\"zerolinecolor\":\"white\",\"gridwidth\":2}},\"shapedefaults\":{\"line\":{\"color\":\"#2a3f5f\"}},\"annotationdefaults\":{\"arrowcolor\":\"#2a3f5f\",\"arrowhead\":0,\"arrowwidth\":1},\"geo\":{\"bgcolor\":\"white\",\"landcolor\":\"#E5ECF6\",\"subunitcolor\":\"white\",\"showland\":true,\"showlakes\":true,\"lakecolor\":\"white\"},\"title\":{\"x\":0.05},\"mapbox\":{\"style\":\"light\"}}},\"xaxis\":{\"anchor\":\"y\",\"domain\":[0.0,1.0],\"title\":{\"text\":\"x\"},\"showgrid\":false},\"yaxis\":{\"anchor\":\"x\",\"domain\":[0.0,1.0],\"title\":{\"text\":\"y\"},\"showgrid\":false},\"legend\":{\"tracegroupgap\":0},\"margin\":{\"t\":60},\"title\":{\"text\":\"Immigrants\"}},                        {\"responsive\": true}                    ).then(function(){\n",
       "                            \n",
       "var gd = document.getElementById('545552fc-6f37-427e-b26d-f08fadaa4f65');\n",
       "var x = new MutationObserver(function (mutations, observer) {{\n",
       "        var display = window.getComputedStyle(gd).display;\n",
       "        if (!display || display === 'none') {{\n",
       "            console.log([gd, 'removed!']);\n",
       "            Plotly.purge(gd);\n",
       "            observer.disconnect();\n",
       "        }}\n",
       "}});\n",
       "\n",
       "// Listen for the removal of the full notebook cells\n",
       "var notebookContainer = gd.closest('#notebook-container');\n",
       "if (notebookContainer) {{\n",
       "    x.observe(notebookContainer, {childList: true});\n",
       "}}\n",
       "\n",
       "// Listen for the clearing of the current output cell\n",
       "var outputEl = gd.closest('.output');\n",
       "if (outputEl) {{\n",
       "    x.observe(outputEl, {childList: true});\n",
       "}}\n",
       "\n",
       "                        })                };                });            </script>        </div>"
      ]
     },
     "metadata": {},
     "output_type": "display_data"
    }
   ],
   "source": [
    "fig = px.line(x = canada.index.values, y = canada['China'])\n",
    "\n",
    "fig.add_scatter(x = canada.index.values, y = canada['Australia'], name = 'Australia', line = {'color' : 'green'})\n",
    "\n",
    "fig.add_scatter(x = canada.index.values, y = canada['Turkey'], name = 'Turkey', line = {'color' : 'red'})\n",
    "\n",
    "fig.update_layout(title_text = 'Immigrants')\n",
    "\n",
    "fig.update_xaxes(showgrid = False)\n",
    "fig.update_yaxes(showgrid = False)\n",
    "\n",
    "fig.show()"
   ]
  },
  {
   "cell_type": "code",
   "execution_count": null,
   "id": "53451654",
   "metadata": {},
   "outputs": [],
   "source": []
  }
 ],
 "metadata": {
  "kernelspec": {
   "display_name": "Python 3",
   "language": "python",
   "name": "python3"
  },
  "language_info": {
   "codemirror_mode": {
    "name": "ipython",
    "version": 3
   },
   "file_extension": ".py",
   "mimetype": "text/x-python",
   "name": "python",
   "nbconvert_exporter": "python",
   "pygments_lexer": "ipython3",
   "version": "3.8.8"
  }
 },
 "nbformat": 4,
 "nbformat_minor": 5
}
