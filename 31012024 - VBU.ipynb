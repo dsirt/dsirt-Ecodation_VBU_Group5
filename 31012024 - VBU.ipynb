{
 "cells": [
  {
   "cell_type": "code",
   "execution_count": 1,
   "id": "b18119ec",
   "metadata": {},
   "outputs": [],
   "source": [
    "import neurolab as nl\n",
    "import matplotlib.pyplot as plt"
   ]
  },
  {
   "cell_type": "code",
   "execution_count": 2,
   "id": "04c5ddd0",
   "metadata": {},
   "outputs": [],
   "source": [
    "myinput = [[0, 0], [0, 1], [1, 0], [1, 1]]\n",
    "target = [[0], [0], [0], [1]]"
   ]
  },
  {
   "cell_type": "code",
   "execution_count": 3,
   "id": "e523c2f4",
   "metadata": {},
   "outputs": [],
   "source": [
    "net = nl.net.newp([[0, 1], [0, 1]], 1)"
   ]
  },
  {
   "cell_type": "code",
   "execution_count": 4,
   "id": "103e71bb",
   "metadata": {},
   "outputs": [
    {
     "name": "stdout",
     "output_type": "stream",
     "text": [
      "The goal of learning is reached\n"
     ]
    }
   ],
   "source": [
    "error_progress = net.train(myinput, target, epochs = 100, show = 10, lr = 0.1)"
   ]
  },
  {
   "cell_type": "code",
   "execution_count": 5,
   "id": "bd7bb017",
   "metadata": {},
   "outputs": [
    {
     "data": {
      "image/png": "[encoded data removed]",
      "text/plain": [
       "<Figure size 432x288 with 1 Axes>"
      ]
     },
     "metadata": {
      "needs_background": "light"
     },
     "output_type": "display_data"
    }
   ],
   "source": [
    "plt.figure()\n",
    "plt.plot(error_progress)\n",
    "plt.xlabel('Number of epochs')\n",
    "plt.ylabel('Training error')\n",
    "plt.grid()\n",
    "plt.show()"
   ]
  },
  {
   "cell_type": "code",
   "execution_count": 6,
   "id": "862b112c",
   "metadata": {},
   "outputs": [],
   "source": [
    "#Tek katmanlı algılayıcılar (Single - Layer Perceptrons)"
   ]
  },
  {
   "cell_type": "code",
   "execution_count": 8,
   "id": "10f67591",
   "metadata": {},
   "outputs": [],
   "source": [
    "import numpy as np\n",
    "import neurolab as nl\n",
    "import matplotlib.pyplot as plt"
   ]
  },
  {
   "cell_type": "code",
   "execution_count": 12,
   "id": "3738ccdc",
   "metadata": {},
   "outputs": [
    {
     "data": {
      "text/plain": [
       "array([[2. , 4. , 0. , 0. ],\n",
       "       [1.5, 3.9, 0. , 0. ],\n",
       "       [2.2, 4.1, 0. , 0. ],\n",
       "       [1.9, 4.7, 0. , 0. ],\n",
       "       [5.4, 2.2, 0. , 1. ],\n",
       "       [4.3, 7.1, 0. , 1. ],\n",
       "       [5.8, 4.9, 0. , 1. ],\n",
       "       [6.5, 3.2, 0. , 1. ],\n",
       "       [3. , 2. , 1. , 0. ],\n",
       "       [2.5, 0.5, 1. , 0. ],\n",
       "       [3.5, 2.1, 1. , 0. ],\n",
       "       [2.9, 0.3, 1. , 0. ],\n",
       "       [6.5, 8.3, 1. , 1. ],\n",
       "       [3.2, 6.2, 1. , 1. ],\n",
       "       [4.9, 7.8, 1. , 1. ],\n",
       "       [2.1, 4.8, 1. , 1. ]])"
      ]
     },
     "execution_count": 12,
     "metadata": {},
     "output_type": "execute_result"
    }
   ],
   "source": [
    "input_data = np.loadtxt(\"mydata/neural_simple.txt\", delimiter = ',')\n",
    "input_data"
   ]
  },
  {
   "cell_type": "code",
   "execution_count": 13,
   "id": "678272bb",
   "metadata": {},
   "outputs": [],
   "source": [
    "data = input_data[:, 0:2]\n",
    "labels = input_data[:, 2:]"
   ]
  },
  {
   "cell_type": "code",
   "execution_count": 15,
   "id": "26c9a875",
   "metadata": {},
   "outputs": [
    {
     "data": {
      "image/png": "[encoded data removed]",
      "text/plain": [
       "<Figure size 432x288 with 1 Axes>"
      ]
     },
     "metadata": {
      "needs_background": "light"
     },
     "output_type": "display_data"
    }
   ],
   "source": [
    "plt.figure()\n",
    "plt.scatter(data[:,0], data[:,1])\n",
    "plt.xlabel('Dimension 1')\n",
    "plt.ylabel('Dimension 2')\n",
    "plt.title('Input Data')\n",
    "plt.show()"
   ]
  },
  {
   "cell_type": "code",
   "execution_count": 16,
   "id": "15cff925",
   "metadata": {},
   "outputs": [],
   "source": [
    "dim1_min, dim1_max = data[:, 0].min(), data[:, 0].max()\n",
    "dim2_min, dim2_max = data[:, 1].min(), data[:, 1].max()"
   ]
  },
  {
   "cell_type": "code",
   "execution_count": 17,
   "id": "34fd6db8",
   "metadata": {},
   "outputs": [
    {
     "data": {
      "text/plain": [
       "2"
      ]
     },
     "execution_count": 17,
     "metadata": {},
     "output_type": "execute_result"
    }
   ],
   "source": [
    "nn_output_layer = labels.shape[1]\n",
    "nn_output_layer"
   ]
  },
  {
   "cell_type": "code",
   "execution_count": 18,
   "id": "dcab895f",
   "metadata": {},
   "outputs": [],
   "source": [
    "dim1 = [dim1_min, dim1_max]\n",
    "dim2 = [dim2_min, dim2_max]\n",
    "neural_net = nl.net.newp([dim1, dim2], nn_output_layer)"
   ]
  },
  {
   "cell_type": "code",
   "execution_count": 19,
   "id": "e9a58374",
   "metadata": {},
   "outputs": [
    {
     "name": "stdout",
     "output_type": "stream",
     "text": [
      "Epoch: 20; Error: 4.0;\n",
      "Epoch: 40; Error: 4.0;\n",
      "Epoch: 60; Error: 4.0;\n",
      "Epoch: 80; Error: 4.0;\n",
      "Epoch: 100; Error: 4.0;\n",
      "Epoch: 120; Error: 4.0;\n",
      "Epoch: 140; Error: 4.0;\n",
      "Epoch: 160; Error: 4.0;\n",
      "Epoch: 180; Error: 4.0;\n",
      "Epoch: 200; Error: 4.0;\n",
      "The maximum number of train epochs is reached\n"
     ]
    }
   ],
   "source": [
    "error = neural_net.train(data, labels, epochs = 200, show = 20, lr = 0.01)"
   ]
  },
  {
   "cell_type": "code",
   "execution_count": 21,
   "id": "9b85b011",
   "metadata": {},
   "outputs": [
    {
     "data": {
      "image/png": "[encoded data removed]",
      "text/plain": [
       "<Figure size 432x288 with 1 Axes>"
      ]
     },
     "metadata": {
      "needs_background": "light"
     },
     "output_type": "display_data"
    }
   ],
   "source": [
    "plt.figure()\n",
    "plt.plot(error)\n",
    "plt.xlabel('Number of Epochs')\n",
    "plt.ylabel('Training Error')\n",
    "plt.title('Training Error Progress')\n",
    "plt.grid()\n",
    "plt.show()"
   ]
  },
  {
   "cell_type": "code",
   "execution_count": 24,
   "id": "145d121d",
   "metadata": {},
   "outputs": [
    {
     "name": "stdout",
     "output_type": "stream",
     "text": [
      "\n",
      "Test results:\n",
      "[1.5, 3.2] --> [1. 0.]\n",
      "[3.6, 1.7] --> [1. 0.]\n",
      "[3.6, 5.7] --> [1. 1.]\n",
      "[1.6, 3.9] --> [1. 0.]\n"
     ]
    }
   ],
   "source": [
    "print('\\nTest results:')\n",
    "data_test = [[1.5, 3.2], [3.6, 1.7], [3.6, 5.7], [1.6, 3.9]] \n",
    "for item in data_test:\n",
    "    print(item, '-->', neural_net.sim([item])[0])"
   ]
  },
  {
   "cell_type": "code",
   "execution_count": 25,
   "id": "52cfbb53",
   "metadata": {},
   "outputs": [],
   "source": [
    "#Çok katmanlı Algılayıcı (Multi-Layer Perceptron)"
   ]
  },
  {
   "cell_type": "code",
   "execution_count": 26,
   "id": "10d6deef",
   "metadata": {},
   "outputs": [],
   "source": [
    "import numpy as np\n",
    "import neurolab as nl\n",
    "import matplotlib.pyplot as plt"
   ]
  },
  {
   "cell_type": "code",
   "execution_count": 27,
   "id": "96b5c3f6",
   "metadata": {},
   "outputs": [],
   "source": [
    "min_val = -30\n",
    "max_val = 30\n",
    "num_points = 160\n",
    "x = np.linspace(min_val, max_val, num_points)\n",
    "y = 2 * np.square(x) + 8 #y = 2x^2 + 8\n",
    "y /= np.linalg.norm(y)"
   ]
  },
  {
   "cell_type": "code",
   "execution_count": 28,
   "id": "16b14b44",
   "metadata": {},
   "outputs": [],
   "source": [
    "data = x.reshape(num_points, 1)\n",
    "labels = y.reshape(num_points, 1)"
   ]
  },
  {
   "cell_type": "code",
   "execution_count": 30,
   "id": "fd1dbe4a",
   "metadata": {},
   "outputs": [
    {
     "data": {
      "image/png": "[encoded data removed]",
      "text/plain": [
       "<Figure size 432x288 with 1 Axes>"
      ]
     },
     "metadata": {
      "needs_background": "light"
     },
     "output_type": "display_data"
    }
   ],
   "source": [
    "plt.figure()\n",
    "plt.scatter(data, labels)\n",
    "plt.xlabel('Dimension 1')\n",
    "plt.ylabel('Dimension 2')\n",
    "plt.title('Data-points')\n",
    "plt.show()"
   ]
  },
  {
   "cell_type": "code",
   "execution_count": 31,
   "id": "522cc83b",
   "metadata": {},
   "outputs": [],
   "source": [
    "neural_net = nl.net.newff([[min_val, max_val]], [10,6,1])"
   ]
  },
  {
   "cell_type": "code",
   "execution_count": 32,
   "id": "707023d1",
   "metadata": {},
   "outputs": [],
   "source": [
    "neural_net.trainf = nl.train.train_gd #gradient descent"
   ]
  },
  {
   "cell_type": "code",
   "execution_count": 34,
   "id": "6cd71830",
   "metadata": {},
   "outputs": [
    {
     "name": "stdout",
     "output_type": "stream",
     "text": [
      "Epoch: 100; Error: 0.024187096509384314;\n",
      "Epoch: 200; Error: 0.02002382506366788;\n",
      "Epoch: 300; Error: 0.045314286110381345;\n",
      "Epoch: 400; Error: 0.03714650685394302;\n",
      "Epoch: 500; Error: 0.012665263736415638;\n",
      "Epoch: 600; Error: 0.02066077754585832;\n",
      "Epoch: 700; Error: 0.01372886011693028;\n",
      "Epoch: 800; Error: 0.014205914529089127;\n",
      "Epoch: 900; Error: 0.0123968903040028;\n",
      "Epoch: 1000; Error: 0.012559776348609015;\n",
      "The maximum number of train epochs is reached\n"
     ]
    }
   ],
   "source": [
    "error = neural_net.train(data, labels, epochs = 1000, show = 100, goal = 0.01)"
   ]
  },
  {
   "cell_type": "code",
   "execution_count": 35,
   "id": "c9901546",
   "metadata": {},
   "outputs": [],
   "source": [
    "output = neural_net.sim(data)\n",
    "y_pred = output.reshape(num_points)"
   ]
  },
  {
   "cell_type": "code",
   "execution_count": 36,
   "id": "226680f6",
   "metadata": {},
   "outputs": [
    {
     "data": {
      "image/png": "[encoded data removed]",
      "text/plain": [
       "<Figure size 432x288 with 1 Axes>"
      ]
     },
     "metadata": {
      "needs_background": "light"
     },
     "output_type": "display_data"
    }
   ],
   "source": [
    "plt.figure()\n",
    "plt.plot(error)\n",
    "plt.xlabel('Number of Epochs')\n",
    "plt.ylabel('Error')\n",
    "plt.title('Training Error Progress')\n",
    "plt.show()"
   ]
  },
  {
   "cell_type": "code",
   "execution_count": 37,
   "id": "7c79ce2d",
   "metadata": {},
   "outputs": [
    {
     "data": {
      "image/png": "[encoded data removed]",
      "text/plain": [
       "<Figure size 432x288 with 1 Axes>"
      ]
     },
     "metadata": {
      "needs_background": "light"
     },
     "output_type": "display_data"
    }
   ],
   "source": [
    "x_dense = np.linspace(min_val, max_val, num_points*2)\n",
    "y_dense_pred = neural_net.sim(x_dense.reshape(x_dense.size, 1)).reshape(x_dense.size)\n",
    "plt.figure()\n",
    "plt.plot(x_dense, y_dense_pred, '-', x, y, '.', x, y_pred, 'p')\n",
    "plt.title('Actual vs Predicted')\n",
    "plt.show()"
   ]
  },
  {
   "cell_type": "code",
   "execution_count": null,
   "id": "be37aff3",
   "metadata": {},
   "outputs": [],
   "source": []
  }
 ],
 "metadata": {
  "kernelspec": {
   "display_name": "Python 3",
   "language": "python",
   "name": "python3"
  },
  "language_info": {
   "codemirror_mode": {
    "name": "ipython",
    "version": 3
   },
   "file_extension": ".py",
   "mimetype": "text/x-python",
   "name": "python",
   "nbconvert_exporter": "python",
   "pygments_lexer": "ipython3",
   "version": "3.8.8"
  }
 },
 "nbformat": 4,
 "nbformat_minor": 5
}
