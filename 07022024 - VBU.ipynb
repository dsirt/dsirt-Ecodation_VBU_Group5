{
 "cells": [
  {
   "cell_type": "code",
   "execution_count": 1,
   "id": "01fb36f6",
   "metadata": {},
   "outputs": [],
   "source": [
    "#Derin Otokodlayıcılar (Deep Autoencoders)"
   ]
  },
  {
   "cell_type": "code",
   "execution_count": 2,
   "id": "eb537982",
   "metadata": {},
   "outputs": [
    {
     "data": {
      "text/plain": [
       "'\\nKullanım alanları : Boyut azaltma (veri özetleme) \\nanomali tespiti\\nself-learning (kendi kendine öğrenme)\\nkredi kartı sahtekarlıklarını saptama\\ngörüntülerdeki gürültüyü temizlemek için de kullanılabilir.\\n'"
      ]
     },
     "execution_count": 2,
     "metadata": {},
     "output_type": "execute_result"
    }
   ],
   "source": [
    "\"\"\"\n",
    "Kullanım alanları : Boyut azaltma (veri özetleme) \n",
    "anomali tespiti\n",
    "self-learning (kendi kendine öğrenme)\n",
    "kredi kartı sahtekarlıklarını saptama\n",
    "görüntülerdeki gürültüyü temizlemek için de kullanılabilir.\n",
    "\"\"\""
   ]
  },
  {
   "cell_type": "code",
   "execution_count": 5,
   "id": "bd954535",
   "metadata": {},
   "outputs": [],
   "source": [
    "#Anomali (Anormallik) Tespiti"
   ]
  },
  {
   "cell_type": "code",
   "execution_count": 7,
   "id": "7709aa6a",
   "metadata": {},
   "outputs": [],
   "source": [
    "import warnings\n",
    "warnings.filterwarnings('ignore')"
   ]
  },
  {
   "cell_type": "code",
   "execution_count": 8,
   "id": "9e92a267",
   "metadata": {},
   "outputs": [],
   "source": [
    "import pandas as pd\n",
    "import numpy as np\n",
    "import matplotlib.pyplot as plt\n",
    "from keras.layers import Input, Dense\n",
    "from keras.models import Model"
   ]
  },
  {
   "cell_type": "code",
   "execution_count": 9,
   "id": "b7535fb9",
   "metadata": {},
   "outputs": [
    {
     "name": "stdout",
     "output_type": "stream",
     "text": [
      "   Age_of_patient  year_of_operation  positive_axillary_nodes  Survival_status\n",
      "0              30                 64                        1                1\n",
      "1              30                 62                        3                1\n",
      "2              30                 65                        0                1\n",
      "3              31                 59                        2                1\n",
      "4              31                 65                        4                1\n"
     ]
    }
   ],
   "source": [
    "#Veri kümesinin yüklenmesi\n",
    "data = pd.read_csv(\"https://archive.ics.uci.edu/ml/machine-learning-databases/haberman/haberman.data\",\n",
    "                  names = [\"Age_of_patient\", \"year_of_operation\", \"positive_axillary_nodes\",\n",
    "                          \"Survival_status\"])\n",
    "print(data.head())"
   ]
  },
  {
   "cell_type": "code",
   "execution_count": 10,
   "id": "83fe646c",
   "metadata": {},
   "outputs": [
    {
     "name": "stdout",
     "output_type": "stream",
     "text": [
      "(306, 4)\n"
     ]
    }
   ],
   "source": [
    "print(data.shape)"
   ]
  },
  {
   "cell_type": "code",
   "execution_count": 11,
   "id": "166b7e9a",
   "metadata": {},
   "outputs": [],
   "source": [
    "X = data.drop(\"Survival_status\", axis = 1)\n",
    "y = data[\"Survival_status\"]"
   ]
  },
  {
   "cell_type": "code",
   "execution_count": 13,
   "id": "7cf4b3a6",
   "metadata": {},
   "outputs": [],
   "source": [
    "#Normalizasyon İşlemi\n",
    "from sklearn.preprocessing import MinMaxScaler\n",
    "islem = MinMaxScaler(feature_range = (0, 1))\n",
    "X = islem.fit_transform(X)"
   ]
  },
  {
   "cell_type": "code",
   "execution_count": 15,
   "id": "597dc6e6",
   "metadata": {},
   "outputs": [],
   "source": [
    "#Otokodlayıcı modelin mimarisi\n",
    "oznitelik_sayisi = X.shape[1]\n",
    "#print(X.shape[1])\n",
    "girislerin_boyutu = Input(shape = (oznitelik_sayisi, ))\n",
    "\n",
    "#Kodlanacak (encode) değişkenlerin sayısı (darboğaz nöron sayısı)\n",
    "darbogaz_boyutu = 2\n",
    "\n",
    "#Kodlayıcı (encoder) katmanının tanımlanması\n",
    "kodlayici = Dense(3, activation = \"relu\")(girislerin_boyutu)\n",
    "kodlayici = Dense(3, activation = \"relu\")(girislerin_boyutu)\n",
    "\n",
    "#Darboğazın tanımlanması\n",
    "kodlayici = Dense(darbogaz_boyutu, activation = \"relu\")(kodlayici)\n",
    "\n",
    "#Kod çözücü (decoder) katmanlarının tanımlanması\n",
    "kod_cozucu = Dense(3, activation = \"relu\")(kodlayici)\n",
    "kod_cozucu = Dense(oznitelik_sayisi, activation = \"sigmoid\")(kodlayici)\n",
    "\n",
    "#Otokodlayıcı modelin tanımlanması\n",
    "otokodlayici = Model(\n",
    "    inputs = girislerin_boyutu,\n",
    "    outputs = kod_cozucu\n",
    ")"
   ]
  },
  {
   "cell_type": "code",
   "execution_count": 16,
   "id": "c2919b6c",
   "metadata": {},
   "outputs": [
    {
     "data": {
      "image/png": "[encoded data removed]",
      "text/plain": [
       "<IPython.core.display.Image object>"
      ]
     },
     "execution_count": 16,
     "metadata": {},
     "output_type": "execute_result"
    }
   ],
   "source": [
    "import tensorflow as tf\n",
    "tf.keras.utils.plot_model(otokodlayici, \"0702-EcoHaberman.png\", show_shapes = True, show_layer_names = True)"
   ]
  },
  {
   "cell_type": "code",
   "execution_count": 17,
   "id": "f936c1ed",
   "metadata": {},
   "outputs": [],
   "source": [
    "otokodlayici.compile(\n",
    "    loss = \"mse\",\n",
    "    optimizer = \"adam\"\n",
    ")"
   ]
  },
  {
   "cell_type": "code",
   "execution_count": 18,
   "id": "f9da704d",
   "metadata": {},
   "outputs": [
    {
     "name": "stdout",
     "output_type": "stream",
     "text": [
      "WARNING:tensorflow:From C:\\Users\\ITU\\anaconda3\\envs\\tf\\lib\\site-packages\\keras\\backend\\tensorflow_backend.py:422: The name tf.global_variables is deprecated. Please use tf.compat.v1.global_variables instead.\n",
      "\n",
      "Train on 244 samples, validate on 62 samples\n",
      "Epoch 1/100\n",
      " - 0s - loss: 0.1058 - val_loss: 0.1183\n",
      "Epoch 2/100\n",
      " - 0s - loss: 0.1030 - val_loss: 0.1169\n",
      "Epoch 3/100\n",
      " - 0s - loss: 0.0999 - val_loss: 0.1153\n",
      "Epoch 4/100\n",
      " - 0s - loss: 0.0965 - val_loss: 0.1137\n",
      "Epoch 5/100\n",
      " - 0s - loss: 0.0922 - val_loss: 0.1121\n",
      "Epoch 6/100\n",
      " - 0s - loss: 0.0874 - val_loss: 0.1104\n",
      "Epoch 7/100\n",
      " - 0s - loss: 0.0826 - val_loss: 0.1087\n",
      "Epoch 8/100\n",
      " - 0s - loss: 0.0782 - val_loss: 0.1072\n",
      "Epoch 9/100\n",
      " - 0s - loss: 0.0740 - val_loss: 0.1057\n",
      "Epoch 10/100\n",
      " - 0s - loss: 0.0702 - val_loss: 0.1046\n",
      "Epoch 11/100\n",
      " - 0s - loss: 0.0667 - val_loss: 0.1034\n",
      "Epoch 12/100\n",
      " - 0s - loss: 0.0636 - val_loss: 0.1022\n",
      "Epoch 13/100\n",
      " - 0s - loss: 0.0607 - val_loss: 0.1013\n",
      "Epoch 14/100\n",
      " - 0s - loss: 0.0581 - val_loss: 0.1004\n",
      "Epoch 15/100\n",
      " - 0s - loss: 0.0557 - val_loss: 0.0996\n",
      "Epoch 16/100\n",
      " - 0s - loss: 0.0534 - val_loss: 0.0987\n",
      "Epoch 17/100\n",
      " - 0s - loss: 0.0513 - val_loss: 0.0976\n",
      "Epoch 18/100\n",
      " - 0s - loss: 0.0494 - val_loss: 0.0968\n",
      "Epoch 19/100\n",
      " - 0s - loss: 0.0474 - val_loss: 0.0957\n",
      "Epoch 20/100\n",
      " - 0s - loss: 0.0454 - val_loss: 0.0947\n",
      "Epoch 21/100\n",
      " - 0s - loss: 0.0434 - val_loss: 0.0932\n",
      "Epoch 22/100\n",
      " - 0s - loss: 0.0413 - val_loss: 0.0918\n",
      "Epoch 23/100\n",
      " - 0s - loss: 0.0391 - val_loss: 0.0898\n",
      "Epoch 24/100\n",
      " - 0s - loss: 0.0370 - val_loss: 0.0875\n",
      "Epoch 25/100\n",
      " - 0s - loss: 0.0351 - val_loss: 0.0854\n",
      "Epoch 26/100\n",
      " - 0s - loss: 0.0334 - val_loss: 0.0829\n",
      "Epoch 27/100\n",
      " - 0s - loss: 0.0319 - val_loss: 0.0810\n",
      "Epoch 28/100\n",
      " - 0s - loss: 0.0306 - val_loss: 0.0791\n",
      "Epoch 29/100\n",
      " - 0s - loss: 0.0293 - val_loss: 0.0768\n",
      "Epoch 30/100\n",
      " - 0s - loss: 0.0282 - val_loss: 0.0751\n",
      "Epoch 31/100\n",
      " - 0s - loss: 0.0271 - val_loss: 0.0736\n",
      "Epoch 32/100\n",
      " - 0s - loss: 0.0261 - val_loss: 0.0722\n",
      "Epoch 33/100\n",
      " - 0s - loss: 0.0252 - val_loss: 0.0706\n",
      "Epoch 34/100\n",
      " - 0s - loss: 0.0244 - val_loss: 0.0684\n",
      "Epoch 35/100\n",
      " - 0s - loss: 0.0236 - val_loss: 0.0674\n",
      "Epoch 36/100\n",
      " - 0s - loss: 0.0229 - val_loss: 0.0660\n",
      "Epoch 37/100\n",
      " - 0s - loss: 0.0222 - val_loss: 0.0647\n",
      "Epoch 38/100\n",
      " - 0s - loss: 0.0216 - val_loss: 0.0638\n",
      "Epoch 39/100\n",
      " - 0s - loss: 0.0211 - val_loss: 0.0624\n",
      "Epoch 40/100\n",
      " - 0s - loss: 0.0205 - val_loss: 0.0619\n",
      "Epoch 41/100\n",
      " - 0s - loss: 0.0201 - val_loss: 0.0608\n",
      "Epoch 42/100\n",
      " - 0s - loss: 0.0197 - val_loss: 0.0599\n",
      "Epoch 43/100\n",
      " - 0s - loss: 0.0193 - val_loss: 0.0593\n",
      "Epoch 44/100\n",
      " - 0s - loss: 0.0189 - val_loss: 0.0581\n",
      "Epoch 45/100\n",
      " - 0s - loss: 0.0186 - val_loss: 0.0577\n",
      "Epoch 46/100\n",
      " - 0s - loss: 0.0183 - val_loss: 0.0566\n",
      "Epoch 47/100\n",
      " - 0s - loss: 0.0180 - val_loss: 0.0562\n",
      "Epoch 48/100\n",
      " - 0s - loss: 0.0177 - val_loss: 0.0560\n",
      "Epoch 49/100\n",
      " - 0s - loss: 0.0174 - val_loss: 0.0552\n",
      "Epoch 50/100\n",
      " - 0s - loss: 0.0172 - val_loss: 0.0545\n",
      "Epoch 51/100\n",
      " - 0s - loss: 0.0170 - val_loss: 0.0537\n",
      "Epoch 52/100\n",
      " - 0s - loss: 0.0168 - val_loss: 0.0530\n",
      "Epoch 53/100\n",
      " - 0s - loss: 0.0166 - val_loss: 0.0525\n",
      "Epoch 54/100\n",
      " - 0s - loss: 0.0165 - val_loss: 0.0524\n",
      "Epoch 55/100\n",
      " - 0s - loss: 0.0163 - val_loss: 0.0524\n",
      "Epoch 56/100\n",
      " - 0s - loss: 0.0162 - val_loss: 0.0520\n",
      "Epoch 57/100\n",
      " - 0s - loss: 0.0160 - val_loss: 0.0515\n",
      "Epoch 58/100\n",
      " - 0s - loss: 0.0159 - val_loss: 0.0510\n",
      "Epoch 59/100\n",
      " - 0s - loss: 0.0158 - val_loss: 0.0513\n",
      "Epoch 60/100\n",
      " - 0s - loss: 0.0157 - val_loss: 0.0504\n",
      "Epoch 61/100\n",
      " - 0s - loss: 0.0156 - val_loss: 0.0507\n",
      "Epoch 62/100\n",
      " - 0s - loss: 0.0155 - val_loss: 0.0501\n",
      "Epoch 63/100\n",
      " - 0s - loss: 0.0154 - val_loss: 0.0498\n",
      "Epoch 64/100\n",
      " - 0s - loss: 0.0153 - val_loss: 0.0495\n",
      "Epoch 65/100\n",
      " - 0s - loss: 0.0152 - val_loss: 0.0492\n",
      "Epoch 66/100\n",
      " - 0s - loss: 0.0151 - val_loss: 0.0490\n",
      "Epoch 67/100\n",
      " - 0s - loss: 0.0150 - val_loss: 0.0487\n",
      "Epoch 68/100\n",
      " - 0s - loss: 0.0149 - val_loss: 0.0481\n",
      "Epoch 69/100\n",
      " - 0s - loss: 0.0148 - val_loss: 0.0486\n",
      "Epoch 70/100\n",
      " - 0s - loss: 0.0147 - val_loss: 0.0480\n",
      "Epoch 71/100\n",
      " - 0s - loss: 0.0147 - val_loss: 0.0476\n",
      "Epoch 72/100\n",
      " - 0s - loss: 0.0146 - val_loss: 0.0472\n",
      "Epoch 73/100\n",
      " - 0s - loss: 0.0145 - val_loss: 0.0470\n",
      "Epoch 74/100\n",
      " - 0s - loss: 0.0144 - val_loss: 0.0467\n",
      "Epoch 75/100\n",
      " - 0s - loss: 0.0144 - val_loss: 0.0469\n",
      "Epoch 76/100\n",
      " - 0s - loss: 0.0143 - val_loss: 0.0465\n",
      "Epoch 77/100\n",
      " - 0s - loss: 0.0142 - val_loss: 0.0466\n",
      "Epoch 78/100\n",
      " - 0s - loss: 0.0141 - val_loss: 0.0465\n",
      "Epoch 79/100\n",
      " - 0s - loss: 0.0141 - val_loss: 0.0464\n",
      "Epoch 80/100\n",
      " - 0s - loss: 0.0140 - val_loss: 0.0464\n",
      "Epoch 81/100\n",
      " - 0s - loss: 0.0139 - val_loss: 0.0461\n",
      "Epoch 82/100\n",
      " - 0s - loss: 0.0139 - val_loss: 0.0458\n",
      "Epoch 83/100\n",
      " - 0s - loss: 0.0138 - val_loss: 0.0457\n",
      "Epoch 84/100\n",
      " - 0s - loss: 0.0137 - val_loss: 0.0457\n",
      "Epoch 85/100\n",
      " - 0s - loss: 0.0137 - val_loss: 0.0454\n",
      "Epoch 86/100\n",
      " - 0s - loss: 0.0136 - val_loss: 0.0453\n",
      "Epoch 87/100\n",
      " - 0s - loss: 0.0135 - val_loss: 0.0449\n",
      "Epoch 88/100\n",
      " - 0s - loss: 0.0134 - val_loss: 0.0450\n",
      "Epoch 89/100\n",
      " - 0s - loss: 0.0134 - val_loss: 0.0447\n",
      "Epoch 90/100\n",
      " - 0s - loss: 0.0133 - val_loss: 0.0449\n",
      "Epoch 91/100\n",
      " - 0s - loss: 0.0132 - val_loss: 0.0452\n",
      "Epoch 92/100\n",
      " - 0s - loss: 0.0132 - val_loss: 0.0449\n",
      "Epoch 93/100\n",
      " - 0s - loss: 0.0131 - val_loss: 0.0444\n",
      "Epoch 94/100\n",
      " - 0s - loss: 0.0130 - val_loss: 0.0439\n",
      "Epoch 95/100\n",
      " - 0s - loss: 0.0129 - val_loss: 0.0438\n",
      "Epoch 96/100\n",
      " - 0s - loss: 0.0129 - val_loss: 0.0434\n",
      "Epoch 97/100\n",
      " - 0s - loss: 0.0128 - val_loss: 0.0436\n",
      "Epoch 98/100\n",
      " - 0s - loss: 0.0127 - val_loss: 0.0440\n",
      "Epoch 99/100\n",
      " - 0s - loss: 0.0126 - val_loss: 0.0432\n",
      "Epoch 100/100\n",
      " - 0s - loss: 0.0126 - val_loss: 0.0433\n"
     ]
    }
   ],
   "source": [
    "history = otokodlayici.fit(\n",
    "    X,\n",
    "    X,\n",
    "    epochs = 100,\n",
    "    batch_size = 16,\n",
    "    verbose = 2,\n",
    "    validation_split = 0.2\n",
    ")"
   ]
  },
  {
   "cell_type": "code",
   "execution_count": 20,
   "id": "6e3d3c9e",
   "metadata": {},
   "outputs": [
    {
     "data": {
      "image/png": "[encoded data removed]",
      "text/plain": [
       "<Figure size 432x288 with 1 Axes>"
      ]
     },
     "metadata": {
      "needs_background": "light"
     },
     "output_type": "display_data"
    }
   ],
   "source": [
    "plt.plot(history.history[\"loss\"], \"--\")\n",
    "plt.plot(history.history[\"val_loss\"])\n",
    "plt.title(\"Otokodlayıcı modelde eğitim hatası\")\n",
    "plt.ylabel(\"Hatalar\")\n",
    "plt.xlabel(\"Devir Sayısı\")\n",
    "plt.legend([\"Eğitim Hatası\", \"Doğrulama Hatası\"], loc = \"upper right\")\n",
    "plt.show()"
   ]
  },
  {
   "cell_type": "code",
   "execution_count": 21,
   "id": "8df685ff",
   "metadata": {},
   "outputs": [
    {
     "data": {
      "image/png": "[encoded data removed]",
      "text/plain": [
       "<Figure size 432x288 with 1 Axes>"
      ]
     },
     "metadata": {
      "needs_background": "light"
     },
     "output_type": "display_data"
    }
   ],
   "source": [
    "tahminler = otokodlayici.predict(X)\n",
    "mse = np.mean(np.power(X - tahminler, 2), axis = 1)\n",
    "\n",
    "#Reconstruction (yeniden yapılandırma) hata grafiği\n",
    "plt.plot(mse, linewidth = 0, label = \"Eğitim\", marker = '.')\n",
    "plt.title(\"Yeniden yapılandırma hataları\")\n",
    "plt.ylabel(\"mse\")\n",
    "plt.xlabel(\"Gözlemler\")\n",
    "plt.show()"
   ]
  },
  {
   "cell_type": "code",
   "execution_count": 22,
   "id": "3a5eaa39",
   "metadata": {},
   "outputs": [
    {
     "name": "stdout",
     "output_type": "stream",
     "text": [
      "\n",
      " Eşik değeri giriniz : \n",
      "\n",
      "0.11\n"
     ]
    }
   ],
   "source": [
    "print(\"\\n Eşik değeri giriniz : \\n\")\n",
    "esik = float(input())"
   ]
  },
  {
   "cell_type": "code",
   "execution_count": 23,
   "id": "ddf69e3e",
   "metadata": {},
   "outputs": [
    {
     "data": {
      "image/png": "[encoded data removed]",
      "text/plain": [
       "<Figure size 432x288 with 1 Axes>"
      ]
     },
     "metadata": {
      "needs_background": "light"
     },
     "output_type": "display_data"
    }
   ],
   "source": [
    "plt.plot(mse, linewidth = 0, label = \"Eğitim\", marker = \".\")\n",
    "plt.ylabel(\"mse\")\n",
    "plt.xlabel(\"Gözlemler\")\n",
    "plt.axhline(y = esik, color = \"r\")\n",
    "plt.show()"
   ]
  },
  {
   "cell_type": "code",
   "execution_count": 24,
   "id": "b4d467ca",
   "metadata": {},
   "outputs": [
    {
     "name": "stdout",
     "output_type": "stream",
     "text": [
      "Anormal değerlerin sayısı: (3, 4)\n"
     ]
    }
   ],
   "source": [
    "anormal = pd.DataFrame(data[mse > esik])\n",
    "print(\"Anormal değerlerin sayısı:\", anormal.shape)"
   ]
  },
  {
   "cell_type": "code",
   "execution_count": 25,
   "id": "d3eff525",
   "metadata": {},
   "outputs": [
    {
     "name": "stdout",
     "output_type": "stream",
     "text": [
      "Anormal değerler: \n",
      "      Age_of_patient  year_of_operation  positive_axillary_nodes  \\\n",
      "62               43                 58                       52   \n",
      "174              54                 67                       46   \n",
      "305              83                 58                        2   \n",
      "\n",
      "     Survival_status  \n",
      "62                 2  \n",
      "174                1  \n",
      "305                2  \n"
     ]
    }
   ],
   "source": [
    "print(\"Anormal değerler: \\n\", anormal)"
   ]
  },
  {
   "cell_type": "code",
   "execution_count": 26,
   "id": "b7a804e1",
   "metadata": {},
   "outputs": [
    {
     "name": "stdout",
     "output_type": "stream",
     "text": [
      "Önceki veri : (306, 3)\n",
      "Yeni veri : (303, 4)\n"
     ]
    }
   ],
   "source": [
    "anormal_yok = pd.DataFrame(data[mse <= esik])\n",
    "print(\"Önceki veri :\", X.shape)\n",
    "\n",
    "print(\"Yeni veri :\", anormal_yok.shape)"
   ]
  },
  {
   "cell_type": "code",
   "execution_count": 27,
   "id": "69f0afe8",
   "metadata": {},
   "outputs": [],
   "source": [
    "cikis = pd.DataFrame(anormal_yok)\n",
    "cikis.to_csv(\"mydata/en_iyi_vb_grubumun_haberman_projesi.csv\", index = False)"
   ]
  },
  {
   "cell_type": "code",
   "execution_count": null,
   "id": "d907972c",
   "metadata": {},
   "outputs": [],
   "source": []
  }
 ],
 "metadata": {
  "kernelspec": {
   "display_name": "Python 3",
   "language": "python",
   "name": "python3"
  },
  "language_info": {
   "codemirror_mode": {
    "name": "ipython",
    "version": 3
   },
   "file_extension": ".py",
   "mimetype": "text/x-python",
   "name": "python",
   "nbconvert_exporter": "python",
   "pygments_lexer": "ipython3",
   "version": "3.6.13"
  }
 },
 "nbformat": 4,
 "nbformat_minor": 5
}
